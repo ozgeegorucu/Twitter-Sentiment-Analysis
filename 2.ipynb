{
 "cells": [
  {
   "cell_type": "code",
   "execution_count": 0,
   "metadata": {
    "application/vnd.databricks.v1+cell": {
     "cellMetadata": {},
     "inputWidgets": {},
     "nuid": "ed6d0eac-ce65-4c47-983a-103614e21572",
     "showTitle": false,
     "title": ""
    }
   },
   "outputs": [
    {
     "data": {
      "text/plain": [
       "Session created\n"
      ]
     },
     "metadata": {
      "application/vnd.databricks.v1+output": {
       "addedWidgets": {},
       "arguments": {},
       "data": "Session created\n",
       "datasetInfos": [],
       "metadata": {},
       "removedWidgets": [],
       "type": "ansi"
      }
     },
     "output_type": "display_data"
    }
   ],
   "source": [
    "from pyspark.sql import SparkSession\n",
    "spark = SparkSession \\\n",
    "        .builder \\\n",
    "        .appName('Twitter Sentiment Analysis') \\\n",
    "        .getOrCreate()\n",
    "print('Session created')\n",
    "\n",
    "sc = spark.sparkContext"
   ]
  },
  {
   "cell_type": "code",
   "execution_count": 0,
   "metadata": {
    "application/vnd.databricks.v1+cell": {
     "cellMetadata": {},
     "inputWidgets": {},
     "nuid": "b1d78127-159d-4cab-89b2-c700d75b8b6a",
     "showTitle": false,
     "title": ""
    }
   },
   "outputs": [
    {
     "data": {
      "text/plain": [
       "Out[2]: 4459365"
      ]
     },
     "metadata": {
      "application/vnd.databricks.v1+output": {
       "addedWidgets": {},
       "arguments": {},
       "data": "Out[2]: 4459365",
       "datasetInfos": [],
       "metadata": {},
       "removedWidgets": [],
       "type": "ansi"
      }
     },
     "output_type": "display_data"
    }
   ],
   "source": [
    "tweets = spark.read.option('header',False).csv('/mnt/my_bucket/weclouddata/thanksgiving_ozge.csv')\n",
    "# cache the dataframe for faster iteration\n",
    "tweets.cache() \n",
    "\n",
    "# run the count action to materialize the cache\n",
    "tweets.count()"
   ]
  },
  {
   "cell_type": "code",
   "execution_count": 0,
   "metadata": {
    "application/vnd.databricks.v1+cell": {
     "cellMetadata": {},
     "inputWidgets": {},
     "nuid": "2dd460ab-e2e3-4603-aafc-f31a530bf33a",
     "showTitle": false,
     "title": ""
    }
   },
   "outputs": [],
   "source": [
    "from pyspark.sql.types import StructType, StructField, StringType\n",
    "\n",
    "schema = StructType([\n",
    "    StructField('id', StringType(), True),\n",
    "    StructField('name', StringType(), True),\n",
    "    StructField('username', StringType(), True),\n",
    "    StructField('tweet', StringType(), True),\n",
    "    StructField('followers_count', StringType(), True),\n",
    "    StructField('location', StringType(), True), \n",
    "    StructField('geo', StringType(), True),\n",
    "    StructField('created_at', StringType(), True)\n",
    "])"
   ]
  },
  {
   "cell_type": "code",
   "execution_count": 0,
   "metadata": {
    "application/vnd.databricks.v1+cell": {
     "cellMetadata": {},
     "inputWidgets": {},
     "nuid": "315bd33a-eb86-474d-b863-38f6733681f2",
     "showTitle": false,
     "title": ""
    }
   },
   "outputs": [],
   "source": [
    "file = \"/mnt/my_bucket/weclouddata/thanksgiving_ozge.csv\"\n",
    "tweets_2 = (spark.read                   # The DataFrameReader\n",
    "  .option('header', 'false')   # Ignore line #1 - it's a header\n",
    "  .schema(schema)          # Use the specified schema\n",
    "  .csv(file)               # Creates a DataFrame from CSV after reading in the file\n",
    ")"
   ]
  },
  {
   "cell_type": "code",
   "execution_count": 0,
   "metadata": {
    "application/vnd.databricks.v1+cell": {
     "cellMetadata": {},
     "inputWidgets": {},
     "nuid": "f0dab58f-a0ca-456d-abe9-ebb00e4145e6",
     "showTitle": false,
     "title": ""
    }
   },
   "outputs": [
    {
     "data": {
      "text/plain": [
       "Out[5]: DataFrame[id: string, name: string, username: string, tweet: string, followers_count: string, location: string, geo: string, created_at: string]"
      ]
     },
     "metadata": {
      "application/vnd.databricks.v1+output": {
       "addedWidgets": {},
       "arguments": {},
       "data": "Out[5]: DataFrame[id: string, name: string, username: string, tweet: string, followers_count: string, location: string, geo: string, created_at: string]",
       "datasetInfos": [],
       "metadata": {},
       "removedWidgets": [],
       "type": "ansi"
      }
     },
     "output_type": "display_data"
    }
   ],
   "source": [
    "tweets_2.cache()"
   ]
  },
  {
   "cell_type": "code",
   "execution_count": 0,
   "metadata": {
    "application/vnd.databricks.v1+cell": {
     "cellMetadata": {},
     "inputWidgets": {},
     "nuid": "37a2c9fe-f189-4d24-817f-d6461257aa02",
     "showTitle": false,
     "title": ""
    }
   },
   "outputs": [
    {
     "data": {
      "text/html": [
       "<style scoped>\n",
       "  .table-result-container {\n",
       "    max-height: 300px;\n",
       "    overflow: auto;\n",
       "  }\n",
       "  table, th, td {\n",
       "    border: 1px solid black;\n",
       "    border-collapse: collapse;\n",
       "  }\n",
       "  th, td {\n",
       "    padding: 5px;\n",
       "  }\n",
       "  th {\n",
       "    text-align: left;\n",
       "  }\n",
       "</style><div class='table-result-container'><table class='table-result'><thead style='background-color: white'><tr><th>id</th><th>name</th><th>username</th><th>tweet</th><th>followers_count</th><th>location</th><th>geo</th><th>created_at</th></tr></thead><tbody><tr><td>1595849188629446657</td><td>Truth</td><td>enchantedtruth</td><td>repmtg i ve been vaccinated x s i ve gotten a flu vax also i ve never been sick some side effects from the sho</td><td>188</td><td>None</td><td>None</td><td>Thu Nov 24 18:37:50 +0000 2022</td></tr><tr><td>1595849188595552257</td><td>Purple Monkey in a Submarine a.k.a. Ray Ray</td><td>aduron</td><td>ajtourville elonmusk karaswisher can t you do something more productive on thanksgiving besides mocking people</td><td>442</td><td>San Jose CA</td><td>None</td><td>Thu Nov 24 18:37:50 +0000 2022</td></tr><tr><td>1595849188763308032</td><td>porn</td><td>Porndaddy1827</td><td>rt hungjockgavin happy thanksgiving sluts</td><td>132</td><td>None</td><td>None</td><td>Thu Nov 24 18:37:50 +0000 2022</td></tr><tr><td>1595849188847198208</td><td>Soy Martin Martinez 🇲🇽🇯🇴🎸🇨🇳🇨🇺🇷🇺🇸🇾</td><td>Chano19521</td><td>rt paulsorrentino yo aoc kids in cages wish you a happy thanksgiving</td><td>1726</td><td>Playas de Rosarito, Baja Calif</td><td>None</td><td>Thu Nov 24 18:37:50 +0000 2022</td></tr><tr><td>1595849188859944960</td><td>Enemy Of The State</td><td>TheRealBLee30</td><td>rt nba_newyork happy thanksgiving be thankful your knicks have improved</td><td>790</td><td>Universe City, 212..Wheelz Up</td><td>None</td><td>Thu Nov 24 18:37:50 +0000 2022</td></tr><tr><td>1595849188226506755</td><td>Mike H2O..</td><td>MiguelH05358319</td><td>dbacks happy thanksgiving</td><td>603</td><td>Phoenix, AZ</td><td>None</td><td>Thu Nov 24 18:37:50 +0000 2022</td></tr><tr><td>1595849189002461186</td><td>moshi's_BlackBeard</td><td>MoshiBlackbeard</td><td>rt playcodnews happy thanksgiving</td><td>255</td><td>None</td><td>None</td><td>Thu Nov 24 18:37:50 +0000 2022</td></tr><tr><td>1595849189032103936</td><td>Kathy Dove</td><td>movie_gal_10</td><td>rt mikef titletownusa happy thanksgiving james and all the cool music kids</td><td>5025</td><td>Las Vegas, NV</td><td>None</td><td>Thu Nov 24 18:37:50 +0000 2022</td></tr><tr><td>1595849189010849795</td><td>William mcsher</td><td>McsheeWilliam</td><td>rt kingsleycortes remember the native americans this thanksgiving</td><td>356</td><td>None</td><td>None</td><td>Thu Nov 24 18:37:50 +0000 2022</td></tr><tr><td>1595849188411064323</td><td>LordofScarlett</td><td>Scarlettismine</td><td>letstalkvampi may i please offer you my man letstalkvampi some cake this thanksgiving</td><td>39</td><td>None</td><td>None</td><td>Thu Nov 24 18:37:50 +0000 2022</td></tr><tr><td>1595849188977287170</td><td>Gold an America First operative 🇺🇸</td><td>MagaGoldHat1</td><td>rt amerikangirlll happy thanksgiving to all my twitter most beautiful patriots thankful for elonmusk who had the cojones to stand</td><td>1098</td><td>Florida, USA</td><td>None</td><td>Thu Nov 24 18:37:50 +0000 2022</td></tr><tr><td>1595849189048590336</td><td>MJ</td><td>MJ_77ers</td><td>happy thanksgiving first thanksgiving snl via youtube</td><td>9</td><td>America</td><td>None</td><td>Thu Nov 24 18:37:50 +0000 2022</td></tr><tr><td>1595849189090824192</td><td>YoungAssOldNigg</td><td>y_a_o_n</td><td>marion da barbarian ripmarionbarber nygvsdal dc l happy thanksgiving</td><td>18</td><td>New Jersey, USA</td><td>None</td><td>Thu Nov 24 18:37:50 +0000 2022</td></tr><tr><td>1595849189262774272</td><td>DannyC.</td><td>steelpen487</td><td>rt realjameswoods happy thanksgiving</td><td>1223</td><td>Rochester, NY.</td><td>None</td><td>Thu Nov 24 18:37:50 +0000 2022</td></tr><tr><td>1595849189183082496</td><td>jakob</td><td>saltyspruce</td><td>can t wait for a fun home movie to be made so it can join the thanksgiving film canon</td><td>442</td><td>he/him | 23</td><td>None</td><td>Thu Nov 24 18:37:50 +0000 2022</td></tr><tr><td>1595849189199839232</td><td>franny</td><td>maculvein</td><td>dad is so real for that cause i almost walked out of the theater at the same point</td><td>373</td><td>Denver, CO</td><td>None</td><td>Thu Nov 24 18:37:50 +0000 2022</td></tr><tr><td>1595849189279223810</td><td>Lening Rivera</td><td>rivera_lening</td><td>happy thanksgiving</td><td>44</td><td>None</td><td>None</td><td>Thu Nov 24 18:37:50 +0000 2022</td></tr><tr><td>1595849189384151040</td><td>God’s Favourite 👸🏾🇬🇭🇬🇧🇺🇸💕</td><td>misunders2ed</td><td>need to kill off my pain with some fufu amp abenkwan happy thanksgiving to my americans</td><td>100</td><td>London, England</td><td>None</td><td>Thu Nov 24 18:37:50 +0000 2022</td></tr><tr><td>1595849189446983686</td><td>Jay Hunter</td><td>extremely_jaded</td><td>ashleigh_rpg aww happy thanksgiving ash i m thankful to have worked alongside you too</td><td>640</td><td>Melbourne, Victoria</td><td>None</td><td>Thu Nov 24 18:37:50 +0000 2022</td></tr><tr><td>1595849189572878336</td><td>Mary Laurence</td><td>Marlaur963</td><td>gaybe_miller michaeljknowles folkslinger haha you re hilarious thanks for the laugh happy thanksgiving</td><td>0</td><td>None</td><td>None</td><td>Thu Nov 24 18:37:50 +0000 2022</td></tr><tr><td>1595849189795176448</td><td>Paul Morrison 🏴󠁧󠁢󠁳󠁣󠁴󠁿🇺🇦</td><td>paul__morrison_</td><td>nathaliejacoby coolresistercat happy thanksgiving nathalie</td><td>624</td><td>Scotland, United Kingdom</td><td>None</td><td>Thu Nov 24 18:37:50 +0000 2022</td></tr><tr><td>1595849188868345862</td><td>🏈TitansFanatic🏈</td><td>titanfan8</td><td>flashback to thanksgiving as the tennessee titans defeated the detroit lions both</td><td>1681</td><td>Tennessee🇺🇸</td><td>None</td><td>Thu Nov 24 18:37:50 +0000 2022</td></tr><tr><td>1595849189774213120</td><td>GBI (Jay) (parody)</td><td>GreatBigIdiot</td><td>need the scott stapp cowboys</td><td>7859</td><td>None</td><td>None</td><td>Thu Nov 24 18:37:50 +0000 2022</td></tr><tr><td>1595849190021955584</td><td>Joshua Millet</td><td>jaysstreet</td><td>rt tlschwerz oh this week of thanksgiving i couldn t be more thankful to have a platform to share opinions write and interact you all</td><td>232</td><td>Spokane Washington</td><td>None</td><td>Thu Nov 24 18:37:51 +0000 2022</td></tr><tr><td>1595849189946179584</td><td>snoopyone</td><td>snoopyone</td><td>rt mcmsports wishing all war hawks a wonderful thanksgiving holiday alacumba</td><td>1063</td><td>El Paso, TX</td><td>None</td><td>Thu Nov 24 18:37:50 +0000 2022</td></tr><tr><td>1595849189967204356</td><td>Lisa Barr</td><td>bar65719103</td><td>jeremyrenner jeremyrenner happy thanksgiving to you jeremy and ava</td><td>31</td><td>None</td><td>None</td><td>Thu Nov 24 18:37:50 +0000 2022</td></tr><tr><td>1595849190101647360</td><td>Robert Del Owens</td><td>robertowens255</td><td>rt gonintendotweet check out the pikachu amp eevee balloon at the macy s thanksgiving day parade</td><td>1543</td><td>Lantana Fl 33462</td><td>None</td><td>Thu Nov 24 18:37:51 +0000 2022</td></tr><tr><td>1595849190105821185</td><td>cat meme god🐈‍⬛</td><td>samantha__0392</td><td>rt cowboycats happy thanksgiving</td><td>198</td><td>Neighbor of  @ssamantha_a_</td><td>None</td><td>Thu Nov 24 18:37:51 +0000 2022</td></tr><tr><td>1595849190235832320</td><td>Barbra Oconnor</td><td>BarbraO72381401</td><td>rt nickadamsinusa happy thanksgiving extra special one for me as it is my very first as an american citizen be grateful enjoy and</td><td>160</td><td>Falmouth Kentucky</td><td>None</td><td>Thu Nov 24 18:37:51 +0000 2022</td></tr><tr><td>1595849190214705163</td><td>kevinl.eth</td><td>klabianco</td><td>rt ferntheleopard happy thanksgiving all here s a short story written for today about a turkey that fern meets</td><td>166</td><td>*verse</td><td>None</td><td>Thu Nov 24 18:37:51 +0000 2022</td></tr><tr><td>1595849190332018693</td><td>Jack.🔪</td><td>antiSOLEcial</td><td>rt veronasfilms happy thanksgiving from wednesday addams as she drags tf outta this holiday</td><td>847</td><td>Los Angeles, CA</td><td>None</td><td>Thu Nov 24 18:37:51 +0000 2022</td></tr><tr><td>1595849190416220160</td><td>TCoop252</td><td>CooperOshae</td><td>rt matthew_paras taylor heinicke is ready for thanksgiving</td><td>340</td><td>None</td><td>None</td><td>Thu Nov 24 18:37:51 +0000 2022</td></tr><tr><td>1595849189841604608</td><td>Bryan Wilson ⭐️⭐️⭐️ QB</td><td>qb3wilson</td><td>happy thanksgiving thank you dartmouthftbl landanyount coachdaft bteevans welcome hewoods</td><td>1146</td><td>Eastvale, CA</td><td>None</td><td>Thu Nov 24 18:37:50 +0000 2022</td></tr><tr><td>1595849190491713536</td><td>Walterjblanco</td><td>Walterjblanco7</td><td>rt propsdotcash a thanksgiving giveaway of to enter tell us which nfl player will have the longest reception tomorrow ho</td><td>75</td><td>None</td><td>None</td><td>Thu Nov 24 18:37:51 +0000 2022</td></tr><tr><td>1595849190302797826</td><td>StarWarsLegend</td><td>_StarWarsLegend</td><td>happy thanksgiving everyone</td><td>0</td><td>None</td><td>None</td><td>Thu Nov 24 18:37:51 +0000 2022</td></tr><tr><td>1595849190495715328</td><td>SiteSeer🔞</td><td>Sitesseer</td><td>rt merzb w happy thanksgiving</td><td>28</td><td>None</td><td>None</td><td>Thu Nov 24 18:37:51 +0000 2022</td></tr><tr><td>1595849190776918018</td><td>PolitiChess</td><td>PolitiChess</td><td>rt alx less than a week ago i wasn t allowed on this platform and was told i was banned for life two years ago without any specific rea</td><td>15</td><td>FEMA Region 4 (IV)</td><td>None</td><td>Thu Nov 24 18:37:51 +0000 2022</td></tr><tr><td>1595849190705438722</td><td>Mr. Shiny Teeth</td><td>KngNate_</td><td>rt ballislife kyrie i don t particularly celebrate thanksgiving but anybody getting together with their families blessings to all you</td><td>1681</td><td>Raleigh, NC</td><td>None</td><td>Thu Nov 24 18:37:51 +0000 2022</td></tr><tr><td>1595849190936125447</td><td>Heather Mills</td><td>NewsieHeather</td><td>lenconnell thank you len happy thanksgiving enjoy the time with your parents</td><td>6893</td><td>Las Vegas, NV</td><td>None</td><td>Thu Nov 24 18:37:51 +0000 2022</td></tr><tr><td>1595849191015817225</td><td>nani 🧘🏽‍♀️</td><td>nalaniparedes_</td><td>rt damnjiggaa thanksgiving is so depressing when you have a broken family</td><td>143</td><td>United States</td><td>None</td><td>Thu Nov 24 18:37:51 +0000 2022</td></tr><tr><td>1595849190915117060</td><td>♱ ᐱᑐԻլ ♱</td><td>LikeRez12</td><td>rt rexchapman macy s thanksgiving day parade wow the master s of the universe</td><td>22820</td><td>None</td><td>None</td><td>Thu Nov 24 18:37:51 +0000 2022</td></tr><tr><td>1595849191082938370</td><td>dr pax, MD</td><td>paxthedog</td><td>yourdadvice an intern i m assuming isn t too happy about working on thanksgiving</td><td>2527</td><td>no idea</td><td>None</td><td>Thu Nov 24 18:37:51 +0000 2022</td></tr><tr><td>1595849191141490688</td><td>bhartwork</td><td>bhartwork1</td><td>jonnajarian elonmusk aoc this is great jon happy thanksgiving to you and the fam love watching you and your</td><td>32</td><td>Palm Desert, CA</td><td>None</td><td>Thu Nov 24 18:37:51 +0000 2022</td></tr><tr><td>1595849191036796929</td><td>Gerrad Carson</td><td>GerradCarson</td><td>killakenzee happy thanksgiving</td><td>84</td><td>None</td><td>None</td><td>Thu Nov 24 18:37:51 +0000 2022</td></tr><tr><td>1595849191145832448</td><td>Manderson</td><td>swimmanderson</td><td>sharksnsports happy thanksgiving brother</td><td>33</td><td>None</td><td>None</td><td>Thu Nov 24 18:37:51 +0000 2022</td></tr><tr><td>1595849191292817409</td><td>Snobby Tortoise</td><td>ooooo_weee</td><td>rt billsbestbet thanksgiving freebie quick like rt go go go gamblingtwitter</td><td>655</td><td>Queens, NY</td><td>None</td><td>Thu Nov 24 18:37:51 +0000 2022</td></tr><tr><td>1595849190831161347</td><td>Mae North</td><td>MaeNorth13</td><td>rt jlusrey love this picture thanks</td><td>7174</td><td>Up North</td><td>None</td><td>Thu Nov 24 18:37:51 +0000 2022</td></tr><tr><td>1595849191263182851</td><td>Blade brown</td><td>Mrbrandonburkes</td><td>rt joytaylortalks have a great thanksgiving everyone speakonfs</td><td>2895</td><td>greensboro,nc</td><td>None</td><td>Thu Nov 24 18:37:51 +0000 2022</td></tr><tr><td>1595849191317999616</td><td>麻美ゆぅま7</td><td>HEAVENSBELL07</td><td>rt dccheerleaders they re back it s official this thanksgiving we are performing the salvationarmyus redkettlekickoff</td><td>85</td><td>None</td><td>None</td><td>Thu Nov 24 18:37:51 +0000 2022</td></tr><tr><td>1595849191242153984</td><td>bmac_in_Florida</td><td>bmac_in_Florida</td><td>what he said thanksgivingday</td><td>1591</td><td>Florida, USA</td><td>None</td><td>Thu Nov 24 18:37:51 +0000 2022</td></tr><tr><td>1595849192806678535</td><td>Gregory Lathan</td><td>lathang87</td><td>rt elonmusk have a great thanksgiving</td><td>10</td><td>None</td><td>None</td><td>Thu Nov 24 18:37:51 +0000 2022</td></tr><tr><td>1595849192819380225</td><td>Seble Tekleselasie</td><td>STekleselasie</td><td>rt michaelwrub drop your cardano address below and make sure you re following don t ask why p s happy thanksgiving</td><td>113</td><td>None</td><td>None</td><td>Thu Nov 24 18:37:51 +0000 2022</td></tr><tr><td>1595849192764760066</td><td>cornertyper</td><td>cornertyper1</td><td>my friends are asking me to hang out with them today i m like bro it s thanksgiving</td><td>10</td><td>None</td><td>None</td><td>Thu Nov 24 18:37:51 +0000 2022</td></tr><tr><td>1595849192966012928</td><td>AzrullAzmiy🇵🇸🇪🇸</td><td>azrullazmi</td><td>rt zachbraff in case this is my last post on here happy thanksgiving from my family to yours</td><td>3832</td><td>Terengganu - Toxicity</td><td>None</td><td>Thu Nov 24 18:37:51 +0000 2022</td></tr><tr><td>1595849193004105730</td><td>xionnie | is seeing oneus</td><td>beauty_xion</td><td>rt ericnamofficial happy thanksgiving yall</td><td>43</td><td>they/them</td><td>None</td><td>Thu Nov 24 18:37:51 +0000 2022</td></tr><tr><td>1595849193301495808</td><td>Teresa De Leon</td><td>teresadeleon527</td><td>rt nisd happy thanksgiving we are thankful for our nisdfamily</td><td>246</td><td>None</td><td>None</td><td>Thu Nov 24 18:37:51 +0000 2022</td></tr><tr><td>1595849193360306176</td><td>Michael Carbonaro</td><td>carbonaro</td><td>rt dailyikura pennjillette and carbonaro thank you and the entire crew for an amazing tgiving eve experience for our kiddo asher beaut</td><td>51666</td><td>Earth? wait... yeah earth.</td><td>None</td><td>Thu Nov 24 18:37:51 +0000 2022</td></tr><tr><td>1595849193310093317</td><td>✨nes✨</td><td>tinkernes</td><td>rt puppernelson thankful for beaches friends borgers and you happy thanksgiving</td><td>41</td><td>BLM</td><td>None</td><td>Thu Nov 24 18:37:51 +0000 2022</td></tr><tr><td>1595849193339453440</td><td>.</td><td>B_McKay1</td><td>rt coachlyonscvfb tradition like no other great thanksgiving practice followed by a great thanksgiving team meal cvfamily</td><td>227</td><td>None</td><td>None</td><td>Thu Nov 24 18:37:51 +0000 2022</td></tr><tr><td>1595849193473691649</td><td>Reilly</td><td>Reillyskater96</td><td>rt midwestern_ope the sides of a midwest thanksgiving</td><td>246</td><td>None</td><td>None</td><td>Thu Nov 24 18:37:51 +0000 2022</td></tr><tr><td>1595849193490464768</td><td>Michael Kuzara</td><td>kuzara_mike</td><td>rt olivetbaseball happy thanksgiving from our family to yours we re grateful for the past current amp future comets in our program rol</td><td>107</td><td>Canton, Mi</td><td>None</td><td>Thu Nov 24 18:37:51 +0000 2022</td></tr><tr><td>1595849193519779840</td><td>Girth Nowitskii</td><td>PhreshGTM</td><td>ya niggas dirty</td><td>1231</td><td>LowKey</td><td>None</td><td>Thu Nov 24 18:37:51 +0000 2022</td></tr><tr><td>1595849193700360192</td><td>Tanya Lynn 🌻🇺🇦</td><td>groovyhippie4u</td><td>rt asgoeswisconsin happy thanksgiving wisconsin may you bask in the glory of the rest of the country eating our cranberries today</td><td>3094</td><td>Fitzwalkerstan, Wi</td><td>None</td><td>Thu Nov 24 18:37:51 +0000 2022</td></tr><tr><td>1595849193587101697</td><td>Brian Nicholas Buono</td><td>BrianNicholasB3</td><td>as far great as well said happy cheers thanksgiving to all the american as loves their s neighbors amen along</td><td>222</td><td>Lincoln In Placer County In CA</td><td>None</td><td>Thu Nov 24 18:37:51 +0000 2022</td></tr><tr><td>1595849193616478209</td><td>Connor⚡️</td><td>ConnorKanous</td><td>this thanksgiving today we ll it ll be something that s for sure</td><td>104</td><td>Grand Blanc, MI</td><td>None</td><td>Thu Nov 24 18:37:51 +0000 2022</td></tr><tr><td>1595849193842954240</td><td>DebbieV64</td><td>dalesfan1</td><td>rt jellyroll any of the homies in the city need somewhere to eat drink and smoke for thanksgiving holler at me</td><td>310</td><td>Small Town in Mi 49227</td><td>None</td><td>Thu Nov 24 18:37:51 +0000 2022</td></tr><tr><td>1595849193842937856</td><td>🌻Thursday’s Child - (@🏠)🌻</td><td>alice4u2010</td><td>rt barackobama wishing everyone a happy thanksgiving as we celebrate let s give thanks for all the blessings in our lives and give back</td><td>3918</td><td>Susanville, CA</td><td>None</td><td>Thu Nov 24 18:37:51 +0000 2022</td></tr><tr><td>1595849193851039745</td><td>Adakah✍️</td><td>m4sih_Adaka18</td><td>rt jennifermills thanksgiving giveaway sorry for the late post all you have to do is rt comment what you re thankful for an</td><td>16</td><td>Vietnam</td><td>None</td><td>Thu Nov 24 18:37:51 +0000 2022</td></tr><tr><td>1595849193817395200</td><td>Rey Rey</td><td>ReyReyBe</td><td>rt chancebelloise happy thanksgiving everyone</td><td>302</td><td>None</td><td>None</td><td>Thu Nov 24 18:37:51 +0000 2022</td></tr><tr><td>1595849193809014784</td><td>ExMo posts on Reddit</td><td>ExmormonReddit</td><td>happy thanksgiving gt</td><td>3149</td><td>Kolob</td><td>None</td><td>Thu Nov 24 18:37:51 +0000 2022</td></tr><tr><td>1595849193922654208</td><td>Irene Ralph</td><td>LIreneRalph</td><td>rt gabrielleydon thanksgiving special our good friends at castaways_gg have given me free castaways genesis character wl spots</td><td>6</td><td>01010101</td><td>None</td><td>Thu Nov 24 18:37:51 +0000 2022</td></tr><tr><td>1595849194073632768</td><td>Eric</td><td>tweetsareduuumb</td><td>augustagolfgirl happy thanksgiving mf</td><td>3</td><td>Washington state</td><td>None</td><td>Thu Nov 24 18:37:51 +0000 2022</td></tr><tr><td>1595849194035724289</td><td>Kyle Backer</td><td>kbizzle4588</td><td>rt kintel happy thanksgiving to whoever is celebrating today what y all grateful for</td><td>255</td><td>None</td><td>None</td><td>Thu Nov 24 18:37:51 +0000 2022</td></tr><tr><td>1595849194224467969</td><td>Azul</td><td>ThisIsSteveAzul</td><td>rt strongislandusa happy thanksgiving to everyone</td><td>26</td><td>None</td><td>None</td><td>Thu Nov 24 18:37:52 +0000 2022</td></tr><tr><td>1595849194459332609</td><td>Love Quinn Goldberg😘</td><td>Chunkionnaaaa</td><td>ouuuuu i can t fucking wait</td><td>137</td><td>ESHAWAY 💙</td><td>None</td><td>Thu Nov 24 18:37:52 +0000 2022</td></tr><tr><td>1595849194379542528</td><td>President of Wednesday</td><td>Thepanthergodd</td><td>let us not forget the racist origins of thanksgiving let s think of all the native americans who s lives were toke</td><td>303</td><td>He/They • 16 🖤🖤🖤</td><td>None</td><td>Thu Nov 24 18:37:52 +0000 2022</td></tr><tr><td>1595849194698608640</td><td>Freaknique_tha_God</td><td>Freaknique_God</td><td>rt thickassdaphne gobble gobble make yall way over to my nlyfans link in bio for my thanksgiving sale happening right now only</td><td>287</td><td>None</td><td>None</td><td>Thu Nov 24 18:37:52 +0000 2022</td></tr><tr><td>1595849194694234117</td><td>KrystalHigginsStyle</td><td>HigginsStyle</td><td>contributing a healthy vegan dish for thanksgiving this year watch no one touch it</td><td>18</td><td>NYC</td><td>None</td><td>Thu Nov 24 18:37:52 +0000 2022</td></tr><tr><td>1595849194698309638</td><td>Annie Llewellyn</td><td>Winglle20</td><td>rt cbedforddc pastors amp priests soldiers amp settlers strong amp sickly young amp old a few were rich but most were poor the kind who d ge</td><td>644</td><td>None</td><td>None</td><td>Thu Nov 24 18:37:52 +0000 2022</td></tr><tr><td>1595849194803265536</td><td>Hub_Mitcheru</td><td>Hub_Mitcheru</td><td>mikemcfarlandva happy thanksgiving as well</td><td>191</td><td>Hub Island</td><td>None</td><td>Thu Nov 24 18:37:52 +0000 2022</td></tr><tr><td>1595849194664755201</td><td>Draw/Noodle</td><td>Doodlen0odle</td><td>rt thecartooncrave happy thanksgiving</td><td>248</td><td>Atlanta, GA</td><td>None</td><td>Thu Nov 24 18:37:52 +0000 2022</td></tr><tr><td>1595849194870562817</td><td>R Luke</td><td>R_Luke_1908</td><td>thereidout joyannreid happy thanksgiving thank you rush limbaugh for gifting america the real story of thanksg</td><td>77</td><td>Chesapeake, VA</td><td>None</td><td>Thu Nov 24 18:37:52 +0000 2022</td></tr><tr><td>1595849194929111041</td><td>Guillermo Guerrero</td><td>atreidesduncan1</td><td>rt diamondandsilk happy thanksgiving hope your day is full of love peace joy and happiness</td><td>43</td><td>Indianapolis, IN</td><td>None</td><td>Thu Nov 24 18:37:52 +0000 2022</td></tr><tr><td>1595849194476019716</td><td>OxSebastian (💙,🧡)</td><td>OxSebastianG</td><td>may you find joy in abundance this happy season of thanksgiving all best crypto fam thankszkpassgiving</td><td>42</td><td>Polska</td><td>None</td><td>Thu Nov 24 18:37:52 +0000 2022</td></tr><tr><td>1595849195038072835</td><td>Badr Gharbaoui</td><td>gharbaoui_badr</td><td>rt dismaidenart happy thanksgiving from the chainsaw man ladies chainsawman chainsawmanfanart</td><td>3</td><td>None</td><td>None</td><td>Thu Nov 24 18:37:52 +0000 2022</td></tr><tr><td>1595849195126411264</td><td>Brenda Morales</td><td>moralesb23</td><td>rt officialblueytv okay here we go it s almost time for bluey to take the skies at the macy s thanksgiving day parade blueyballo</td><td>1</td><td>None</td><td>None</td><td>Thu Nov 24 18:37:52 +0000 2022</td></tr><tr><td>1595849194589274112</td><td>Elvis A. Stephan</td><td>ElvisStephan</td><td>happy thanksgiving</td><td>124</td><td>United States</td><td>None</td><td>Thu Nov 24 18:37:52 +0000 2022</td></tr><tr><td>1595849195121950726</td><td>Juug Knight</td><td>LetsGo_Ugo</td><td>rt a_luvyx and am</td><td>2848</td><td>ATLANTA</td><td>None</td><td>Thu Nov 24 18:37:52 +0000 2022</td></tr><tr><td>1595849193788444673</td><td>James</td><td>Jamesmarrney</td><td>metapcs ill do u one better ill ruin thanksgiving with just one action that will probably get me murdered</td><td>7</td><td>None</td><td>None</td><td>Thu Nov 24 18:37:51 +0000 2022</td></tr><tr><td>1595849195239374852</td><td>skrimp</td><td>LilGabaGhoul</td><td>today i thought the past tense version of the word cream was crame happy thanksgiving everyone</td><td>253</td><td>Minneapolis</td><td>None</td><td>Thu Nov 24 18:37:52 +0000 2022</td></tr><tr><td>1595849195012988929</td><td>avery hamel</td><td>avcoleham</td><td>hope everyone was able to start their thanksgiving with some heart attack inducing kuhoops</td><td>936</td><td>she/her • bos/den sports</td><td>None</td><td>Thu Nov 24 18:37:52 +0000 2022</td></tr><tr><td>1595849195285798912</td><td>Sylze Chu</td><td>sylzechu</td><td>rt nakios_ have a happy thanksgiving everyone</td><td>10</td><td>Seattle, WA</td><td>None</td><td>Thu Nov 24 18:37:52 +0000 2022</td></tr><tr><td>1595849195231100928</td><td>Chad Anderson™ 🇺🇦</td><td>Chad_Anderson_1</td><td>awesome</td><td>498</td><td>None</td><td>None</td><td>Thu Nov 24 18:37:52 +0000 2022</td></tr><tr><td>1595849195482910721</td><td>DemonNekoGamer</td><td>MixedDemonCat</td><td>rt pokemonszn happy thanksgiving</td><td>148</td><td>None</td><td>None</td><td>Thu Nov 24 18:37:52 +0000 2022</td></tr><tr><td>1595849195537461248</td><td>ᕲᓰᗩᘉᘿᑢᒪᗩᓰᖇᘿ🙏🌝♋🦀🐅🐙🌠🧧🍀🦋⟠🧲💰🌞 #Jenus</td><td>Dianeclaire14</td><td>rt tqsully bnb giveaway happy thanksgiving giving away bnb to people that retweet this tweet and follow me pick</td><td>1229</td><td>Legazpi City, Bicol Region</td><td>None</td><td>Thu Nov 24 18:37:52 +0000 2022</td></tr><tr><td>1595849195491033093</td><td>jp</td><td>notafanofJack</td><td>rt bubinvest i d like to thank sce for another thanksgiving full of the threat of controlled power outages for mid day and thanks for n</td><td>30</td><td>None</td><td>None</td><td>Thu Nov 24 18:37:52 +0000 2022</td></tr><tr><td>1595849195369406464</td><td>LowcountrySC</td><td>Lowcountry6SC</td><td>amen</td><td>4284</td><td>SC</td><td>None</td><td>Thu Nov 24 18:37:52 +0000 2022</td></tr><tr><td>1595849195390468099</td><td>Robin Gubson</td><td>rbnkaye99</td><td>rt abrahamhamadeh last year thanksgiving looked a lot different on my deployment overseas miles from home good to be back in ariz</td><td>2619</td><td>None</td><td>None</td><td>Thu Nov 24 18:37:52 +0000 2022</td></tr><tr><td>1595849192014217216</td><td>Barry Chou</td><td>BarryChou_</td><td>years ago today nickelback performed during the unitedway nfl thanksgiving halftimeshow in detroit with th</td><td>1081</td><td>British Columbia</td><td>None</td><td>Thu Nov 24 18:37:51 +0000 2022</td></tr><tr><td>1595849195616960514</td><td>Guerrero Cama</td><td>guerrero_cama</td><td>rachaelcavalli good day happy thanksgiving for you beautiful woman stuffing that turkey</td><td>40</td><td>México</td><td>None</td><td>Thu Nov 24 18:37:52 +0000 2022</td></tr><tr><td>1595849197047414784</td><td>👑 Mrs. Bozzie</td><td>MrsBozzie</td><td>rt danychasez happy thanksgiving everyone wishing you a day full of love fun and food with your loved ones nsync jcchasez iamc</td><td>578</td><td>None</td><td>None</td><td>Thu Nov 24 18:37:52 +0000 2022</td></tr><tr><td>1595849197093556225</td><td>Mrs.N_TeachLoveInspire</td><td>MrsNuble2020</td><td>marcuslemonis happy thanksgiving</td><td>1146</td><td>None</td><td>None</td><td>Thu Nov 24 18:37:52 +0000 2022</td></tr><tr><td>1595849196996804614</td><td>Laurybonjovi</td><td>laurybonjovi</td><td>rt bonjovi happy thanksgiving from ours to yours we re forever thankful for the people around us this past year and for all of your cons</td><td>372</td><td>Buenos Aires, Argentina</td><td>None</td><td>Thu Nov 24 18:37:52 +0000 2022</td></tr><tr><td>1595849197261135873</td><td>Gràcia Vegan (💙,🧡) 🛸.lens (🌸, 🌿) (📽️, 🌿)</td><td>Graciavegan</td><td>rt layer xyz what are you grateful for this thanksgiving let us know below show your gratitude in our holiday quest and mint a speci</td><td>97</td><td>None</td><td>None</td><td>Thu Nov 24 18:37:52 +0000 2022</td></tr><tr><td>1595849197084987400</td><td>progression</td><td>Olawuyi03297076</td><td>rt starboybidenky happy thanksgiving mlle</td><td>429</td><td>New York, NY</td><td>None</td><td>Thu Nov 24 18:37:52 +0000 2022</td></tr><tr><td>1595849197307465729</td><td>Robert</td><td>XSuperhero</td><td>rt potus from the biden family to all of yours happy thanksgiving this holiday we celebrate all that brings us together grounded in</td><td>8099</td><td>None</td><td>None</td><td>Thu Nov 24 18:37:52 +0000 2022</td></tr><tr><td>1595849197265330184</td><td>Gary Smith Jr</td><td>g_smith493</td><td>rykerzc happy thanksgiving</td><td>239</td><td>Katy, TX</td><td>None</td><td>Thu Nov 24 18:37:52 +0000 2022</td></tr><tr><td>1595849197252743169</td><td>KennyShootsThe3!🥋</td><td>vadasy_kenny</td><td>rt alabamambb alabama vs michigan state on thanksgiving rolltide bluecollarbasketball</td><td>1844</td><td>Harvest, AL</td><td>None</td><td>Thu Nov 24 18:37:52 +0000 2022</td></tr><tr><td>1595849197156286464</td><td>Bear Waifu Audios</td><td>azmariaxelloss</td><td>peta out here threatening people with a good time</td><td>674</td><td>Missouri</td><td>None</td><td>Thu Nov 24 18:37:52 +0000 2022</td></tr><tr><td>1595849197143863297</td><td>It’s Motzai Shabbos Live!</td><td>mtz_shabos_live</td><td>the hodu lashem would show up at thanksgiving meals just before carving time reminding everyone that millions of t</td><td>34</td><td>None</td><td>None</td><td>Thu Nov 24 18:37:52 +0000 2022</td></tr><tr><td>1595849197424705543</td><td>🇺🇸🍩 JULIE DONUTS 🍩🇺🇸</td><td>JulieSnark</td><td>rt marklevinshow joy reid screwed up head case who s hate for our fabulous country knows no limits</td><td>17874</td><td>Snarky, pro donut eater.</td><td>None</td><td>Thu Nov 24 18:37:52 +0000 2022</td></tr><tr><td>1595849196879372289</td><td>Slapzy</td><td>WydSlapzy</td><td>fw my thanksgiving eats</td><td>2055</td><td>Tj Kirbyz</td><td>None</td><td>Thu Nov 24 18:37:52 +0000 2022</td></tr><tr><td>1595849197235978241</td><td>T.H. Huxley</td><td>THHuxley1</td><td>freedomrecon theone stevemi goodymas scribeintheink toakencross requiredlogic autocorrect _</td><td>166</td><td>None</td><td>None</td><td>Thu Nov 24 18:37:52 +0000 2022</td></tr><tr><td>1595849197630066695</td><td>This page intentionally left blank.</td><td>excuser12</td><td>caputostephanie happy thanksgiving enjoy your day</td><td>488</td><td>Nevada, USA</td><td>None</td><td>Thu Nov 24 18:37:52 +0000 2022</td></tr><tr><td>1595849197571297283</td><td>MaryAnn W. Williams</td><td>maryannwilliams</td><td>rt vp from our family to yours happy thanksgiving</td><td>1400</td><td>Northern California</td><td>None</td><td>Thu Nov 24 18:37:52 +0000 2022</td></tr><tr><td>1595849197714038785</td><td>SAFEMOON POSITIVITY MALIK</td><td>Malikfmuda</td><td>rt sammich alright our final k txs winner k ice congratulations but wait my friends thought why not throw in a lil surprise</td><td>2026</td><td>Alkmaar, Nederland</td><td>None</td><td>Thu Nov 24 18:37:52 +0000 2022</td></tr><tr><td>1595849197554745345</td><td>Dad Random</td><td>DadRandom70</td><td>happy thanksgiving dji avata range bitrate drop what can we expect via youtube</td><td>142</td><td>St George, UT</td><td>None</td><td>Thu Nov 24 18:37:52 +0000 2022</td></tr><tr><td>1595849197747511296</td><td>Brendan</td><td>brendanbrn63</td><td>elonmusk happy thanksgiving todays not a day for politics everyone out that down go eat with your family and enjoy the day</td><td>0</td><td>Colorado Springs, CO</td><td>None</td><td>Thu Nov 24 18:37:52 +0000 2022</td></tr><tr><td>1595849197873504257</td><td>DANK WILLIAM$🎰</td><td>yungmisdemean0r</td><td>happy thanksgiving i m about to take an edible with my girlfriend and smoke with my favorite uncle</td><td>5940</td><td>MURDAWORTH4EVA</td><td>None</td><td>Thu Nov 24 18:37:52 +0000 2022</td></tr><tr><td>1595849197927993346</td><td>Ricardo</td><td>rjorgecarneiro</td><td>rt tim_cook happy thanksgiving there s much to be grateful for today thank you to our team at apple all the developers that make amaz</td><td>95</td><td>Oporto, Portugal</td><td>None</td><td>Thu Nov 24 18:37:52 +0000 2022</td></tr><tr><td>1595849198062440448</td><td>Hog of Doggerland</td><td>DORFpatrol</td><td>rt potatoesogrady love watching chicago s low rent thanksgiving parade on tv the only character balloon was felix the cat who hasn t be</td><td>170</td><td>Chicago</td><td>None</td><td>Thu Nov 24 18:37:52 +0000 2022</td></tr><tr><td>1595849198033076224</td><td>🔞♠️Forced Whitey ♠️🔞</td><td>OwneDoomer</td><td>rt bbcdaily_ good morning happy thanksgiving to all my american followers i am grateful for bbc and bbc only</td><td>3401</td><td>Argentina</td><td>None</td><td>Thu Nov 24 18:37:52 +0000 2022</td></tr><tr><td>1595849198087598080</td><td>Debbie Marvin</td><td>starbuxrun71</td><td>happy thanksgiving everyone be safe out there hugs n love</td><td>303</td><td>United States</td><td>None</td><td>Thu Nov 24 18:37:52 +0000 2022</td></tr><tr><td>1595849198120812544</td><td>ShikaTV | #______ Shika | DeTox Shika</td><td>RealShikaTV</td><td>rt zvibehd happy thanksgiving everyone</td><td>1601</td><td>Sacramento, CA</td><td>None</td><td>Thu Nov 24 18:37:52 +0000 2022</td></tr><tr><td>1595849198200651776</td><td>Biancaaaa</td><td>bianca__454</td><td>happy thanksgiving thankful for all of you all</td><td>60</td><td>None</td><td>None</td><td>Thu Nov 24 18:37:52 +0000 2022</td></tr><tr><td>1595849198414761984</td><td>ChrisGraves133</td><td>CGraves133</td><td>rt gunthereagleman good morning and happy thanksgiving to everyone who knows trump won pennsylvania trump won wisconsin trump wo</td><td>1194</td><td>None</td><td>None</td><td>Thu Nov 24 18:37:53 +0000 2022</td></tr><tr><td>1595849198003716096</td><td>Claire 🐝</td><td>isolinearchip_</td><td>rt dannyderaney happy thanksgiving to isabella jerhigan and to isabella jerhigan only</td><td>1522</td><td>DC</td><td>None</td><td>Thu Nov 24 18:37:52 +0000 2022</td></tr><tr><td>1595849198137638920</td><td>Bonita</td><td>blazesponyexpr1</td><td>rt cidelson a reminder every thanksgiving we should never forget the real history of this continent</td><td>692</td><td>None</td><td>None</td><td>Thu Nov 24 18:37:52 +0000 2022</td></tr><tr><td>1595849198439653376</td><td>Shirley Unger Barton</td><td>Shirleyaub6381</td><td>hodldogenotdebt yes happy thanksgiving love this</td><td>183</td><td>Stephens City, VA</td><td>None</td><td>Thu Nov 24 18:37:53 +0000 2022</td></tr><tr><td>1595849198456274944</td><td>KOLDNews</td><td>KOLDNews</td><td>rt tucson_police from our family to yours happy thanksgiving we hope you enjoy your day with family and friends to our first res</td><td>93259</td><td>Tucson, AZ</td><td>None</td><td>Thu Nov 24 18:37:53 +0000 2022</td></tr><tr><td>1595849198582235136</td><td>Winona_bonikles</td><td>Colt_be_Bricked</td><td>rt prisonpolicy we ve pulled together some of the false claims about crime and incarceration you re most likely to hear at the thanksgiv</td><td>4</td><td>None</td><td>None</td><td>Thu Nov 24 18:37:53 +0000 2022</td></tr><tr><td>1595849198565527552</td><td>ᥫ᭡</td><td>ashie777</td><td>rt popculture s the gossip girl thanksgiving episode where everyone got exposed while whatcha say by jason derulo is playing that s h</td><td>649</td><td>24 | 🇵🇷🇲🇦</td><td>None</td><td>Thu Nov 24 18:37:53 +0000 2022</td></tr><tr><td>1595849198632636418</td><td>Kathleen Iannone RPh(👁-uh-known)</td><td>KathleenIannone</td><td>rt commplacegr happy thanksgiving to all please remember those who are not able to be with the ones they love this year no matter th</td><td>468</td><td>rochester, ny</td><td>None</td><td>Thu Nov 24 18:37:53 +0000 2022</td></tr><tr><td>1595849198741901312</td><td>crispy</td><td>itscrispylol</td><td>jidsquaranta best thanksgiving food</td><td>368</td><td>crispy#6996</td><td>None</td><td>Thu Nov 24 18:37:53 +0000 2022</td></tr><tr><td>1595849198649446403</td><td>TheSessionTV</td><td>melg_thesession</td><td>rt hulu abbottelementary characters as thanksgiving dishes a</td><td>1469</td><td>Miami, FL</td><td>None</td><td>Thu Nov 24 18:37:53 +0000 2022</td></tr><tr><td>1595849198821412866</td><td>Jeanette Meehan</td><td>JeanetteMeehan9</td><td>wishing you well on this thanksgiving day</td><td>70</td><td>None</td><td>None</td><td>Thu Nov 24 18:37:53 +0000 2022</td></tr><tr><td>1595849198871904256</td><td>Jo</td><td>mommabear_jo</td><td>potus happy thanksgiving to you and your family mr president i am thankful for all your hard work this year keep</td><td>4</td><td>Alachua, FL</td><td>None</td><td>Thu Nov 24 18:37:53 +0000 2022</td></tr><tr><td>1595849198926237701</td><td>shAQUILLE TERRELL</td><td>sh_terrell</td><td>rt barackobama one of my favorite white house traditions was telling thanksgiving jokes which at least i thought were funny here s a</td><td>0</td><td>None</td><td>None</td><td>Thu Nov 24 18:37:53 +0000 2022</td></tr><tr><td>1595849198892621825</td><td>Angela</td><td>Starry_Eyes68</td><td>robertirvine happy thanksgiving chef</td><td>691</td><td>Florida</td><td>None</td><td>Thu Nov 24 18:37:53 +0000 2022</td></tr><tr><td>1595849199136174086</td><td>Crypto Steve</td><td>TechBoiSteve</td><td>rt zackvoell ftx exploded two weeks ago sbf is having thanksgiving dinner in a penthouse with his family the nyt will interview him</td><td>33</td><td>None</td><td>None</td><td>Thu Nov 24 18:37:53 +0000 2022</td></tr><tr><td>1595849199018549248</td><td>Coach Kade Bell</td><td>Kb1Raw</td><td>rt catamountsfb from our family to yours happy thanksgiving lote beachampion htg</td><td>16745</td><td>Cullowhee, NC</td><td>None</td><td>Thu Nov 24 18:37:53 +0000 2022</td></tr><tr><td>1595849198486040576</td><td>Positive Coconuts</td><td>posi_coconuts</td><td>i m wearing this to dinner tonight thursday thursdaymotivation thursdaymorning thongthursday thanksgiving</td><td>25</td><td>Wild, Wild West</td><td>None</td><td>Thu Nov 24 18:37:53 +0000 2022</td></tr><tr><td>1595849199047757825</td><td>Degen Dave</td><td>degendavedegen</td><td>the dallas cowboys not covering on thanksgiving</td><td>1013</td><td>None</td><td>None</td><td>Thu Nov 24 18:37:53 +0000 2022</td></tr><tr><td>1595849198619893760</td><td>pwnteam</td><td>pwnteam</td><td>aaron rodgers playing football in the yard with his family on thanksgiving</td><td>2198</td><td>None</td><td>None</td><td>Thu Nov 24 18:37:53 +0000 2022</td></tr><tr><td>1595849199291015168</td><td>Manish (💙,🧡).lens 🏰</td><td>Manish_One1</td><td>rt layer xyz what are you grateful for this thanksgiving let us know below show your gratitude in our holiday quest and mint a speci</td><td>55</td><td>Bengaluru, India</td><td>None</td><td>Thu Nov 24 18:37:53 +0000 2022</td></tr><tr><td>1595849199312060419</td><td>caca 🍃</td><td>cacatuaua</td><td>rt afewsausages in celebration of thanksgiving i m giving away this top abductingco nft from my personal collection to enter</td><td>662</td><td>San Marino</td><td>None</td><td>Thu Nov 24 18:37:53 +0000 2022</td></tr><tr><td>1595849199228272651</td><td>Mr. Ryszard</td><td>TeleMacster</td><td>rt realjameswoods happy thanksgiving</td><td>5</td><td>USA</td><td>None</td><td>Thu Nov 24 18:37:53 +0000 2022</td></tr><tr><td>1595849199383416837</td><td>FuckingDumbass</td><td>RandomGenericU1</td><td>rt mesoplush blah blah [insert thanksgiving pun here] in all seriousness i wish u all a good thanksgiving day and eat well</td><td>89</td><td>None</td><td>None</td><td>Thu Nov 24 18:37:53 +0000 2022</td></tr><tr><td>1595849199421370368</td><td>Wilson Wilson</td><td>euboid</td><td>rt dagorenouf thanksgiving is the most brutal day for a startup founder</td><td>5957</td><td>MRR 🟩🟩🟩🟩🟩🟩🟩🟩🟨⬜ $1K</td><td>None</td><td>Thu Nov 24 18:37:53 +0000 2022</td></tr><tr><td>1595849199299530757</td><td>Flimsy Fantasies ~ COMMISSIONS CLOSED</td><td>flimsyfantasies</td><td>rt thekrattbros happy thanksgiving to all you creature adventurers out there today we are giving thanks to all the amazing creatur</td><td>195</td><td>United States</td><td>None</td><td>Thu Nov 24 18:37:53 +0000 2022</td></tr><tr><td>1595849201237491712</td><td>Justin Bronsman</td><td>JustinBman12</td><td>rt flapanthers making a difference one family at a time we teamed up with harvest drive this thanksgiving season to purchase package</td><td>1115</td><td>None</td><td>None</td><td>Thu Nov 24 18:37:53 +0000 2022</td></tr><tr><td>1595849201354784768</td><td>Tory Lysik</td><td>tblysik</td><td>this</td><td>383</td><td>United States</td><td>None</td><td>Thu Nov 24 18:37:53 +0000 2022</td></tr><tr><td>1595849201476423683</td><td>pam harris</td><td>pamharr14199861</td><td>rt elonmusk have a great thanksgiving</td><td>259</td><td>None</td><td>None</td><td>Thu Nov 24 18:37:53 +0000 2022</td></tr><tr><td>1595849201543516161</td><td>Mary Kay Bailey (MSP to SATX)</td><td>mkbinmsp</td><td>cheycab i remember reading about you in the strib ages ago and i following you here and getting my mn family mem</td><td>95</td><td>San Antonio, TX</td><td>None</td><td>Thu Nov 24 18:37:53 +0000 2022</td></tr><tr><td>1595849201669349382</td><td>Tripotlé</td><td>Tripotle26</td><td>rt witchytwitchytv it s thanksgiving and i don t want mashed potatoes i want revenge</td><td>189</td><td>Hogsmeade</td><td>None</td><td>Thu Nov 24 18:37:53 +0000 2022</td></tr><tr><td>1595849201648533504</td><td>Bry</td><td>BryTheKidd</td><td>agreed</td><td>1539</td><td>Albuquerque, NM</td><td>None</td><td>Thu Nov 24 18:37:53 +0000 2022</td></tr><tr><td>1595849201799557120</td><td>Sam</td><td>sumosamm</td><td>rt thega nz when she s cooking thanksgiving dinner and you see that booty sticking out</td><td>1847</td><td>qc</td><td>None</td><td>Thu Nov 24 18:37:53 +0000 2022</td></tr><tr><td>1595849201875030016</td><td>elllieee!!</td><td>ehllieio</td><td>rt dvasishtha the pms are back at home for thanksgiving</td><td>170</td><td>Houston, TX</td><td>None</td><td>Thu Nov 24 18:37:53 +0000 2022</td></tr><tr><td>1595849201950285826</td><td>Austin Ahern</td><td>TailsAustin9922</td><td>chrisgronkowski happy thanksgiving chris</td><td>9552</td><td>Massachusetts, USA</td><td>None</td><td>Thu Nov 24 18:37:53 +0000 2022</td></tr><tr><td>1595849202109583360</td><td>Brit-Ta-Nay-Nay</td><td>BrittanyLovesC</td><td>will rah_here ciara happy thanksgiving</td><td>4044</td><td>Studio with ciara & missy ^_^</td><td>None</td><td>Thu Nov 24 18:37:53 +0000 2022</td></tr><tr><td>1595849201337999361</td><td>FADP</td><td>FADPorg</td><td>however you celebrate today we encourage you to take a moment to read this incredible story about humanity from</td><td>677</td><td>Florida, USA</td><td>None</td><td>Thu Nov 24 18:37:53 +0000 2022</td></tr><tr><td>1595849202214604805</td><td>graham 😵‍💫</td><td>sssnivy_</td><td>no way they got an analyst for the thanksgiving dog show</td><td>69</td><td>Arkansas, USA</td><td>None</td><td>Thu Nov 24 18:37:53 +0000 2022</td></tr><tr><td>1595849202302865408</td><td>✨</td><td>dkarinnaa</td><td>rt justinroque_ my favorite thing about thanksgiving is going home to do laundry</td><td>286</td><td>soledad • los angeles</td><td>None</td><td>Thu Nov 24 18:37:53 +0000 2022</td></tr><tr><td>1595849202327863297</td><td>Steel Wool</td><td>Deadfool_</td><td>what</td><td>422</td><td>None</td><td>None</td><td>Thu Nov 24 18:37:53 +0000 2022</td></tr><tr><td>1595849202458046465</td><td>Jim Myers</td><td>kidneystories</td><td>rt kidneypatients this thanksgiving aakp ambassador curtis warfield is grateful for his family what are you grateful for we re grat</td><td>3295</td><td>Crown Point, IN</td><td>None</td><td>Thu Nov 24 18:37:53 +0000 2022</td></tr><tr><td>1595849202428530691</td><td>GGV Omnikitsune Vixen Empress Celestia</td><td>CadenceCDWilson</td><td>rt growthslut happy thanksgiving cuties while the holiday history itself is bleak i am incredibly thankful for all of you here</td><td>876</td><td>Porter, IN</td><td>None</td><td>Thu Nov 24 18:37:53 +0000 2022</td></tr><tr><td>1595849202537472000</td><td>Eva McKenzie</td><td>EvaDomi81123081</td><td>rt karilakewarroom have a wonderful thanksgiving arizona we love you</td><td>667</td><td>None</td><td>None</td><td>Thu Nov 24 18:37:53 +0000 2022</td></tr><tr><td>1595849202537488386</td><td>Mikklo45</td><td>mikklor</td><td>thenoahsunday thankfully there will be many more opportunities for dropping nukes happy thanksgiving</td><td>4</td><td>None</td><td>None</td><td>Thu Nov 24 18:37:53 +0000 2022</td></tr><tr><td>1595849202575319042</td><td>Gamecock Basketball Only Podcast</td><td>GBO_POD</td><td>rt jacobiwright thankful for everything nothing taken for granted happy thanksgiving</td><td>135</td><td>Columbia, SC</td><td>None</td><td>Thu Nov 24 18:37:53 +0000 2022</td></tr><tr><td>1595849202545868802</td><td>𝑲𝑯𝑰𝑰🌹</td><td>shehateskhii</td><td>rt shehateskhii on thanksgiving we don t eat breakfast we starve until the food is ready</td><td>687</td><td>Atlanta, Zone 6</td><td>None</td><td>Thu Nov 24 18:37:53 +0000 2022</td></tr><tr><td>1595849201773993984</td><td>Yuriy Andriyashchuk🇺🇦</td><td>YuriyATL</td><td>flying back home to atl in a few hours coming back to visit vegas four four days again was fun now it s</td><td>9385</td><td>Atlanta, GA</td><td>None</td><td>Thu Nov 24 18:37:53 +0000 2022</td></tr><tr><td>1595849202587705344</td><td>Blackest In The Room</td><td>WholesomeBlkMan</td><td>rt tyleriam ok if this the turkey yall eating i see why one would hate thanksgiving</td><td>368</td><td>Hueco Mundo</td><td>None</td><td>Thu Nov 24 18:37:53 +0000 2022</td></tr><tr><td>1595849202680176644</td><td>Isaac Calvert</td><td>IsaacCalvertTV</td><td>doing the lord s work on thanksgiving and getting a show at the same time will truly does everything</td><td>6441</td><td>Kentucky, USA</td><td>None</td><td>Thu Nov 24 18:37:54 +0000 2022</td></tr><tr><td>1595849202709454853</td><td>Caleb</td><td>cdhorton23</td><td>rt chardonnaimami happy thanksgiving from me and my wet hair</td><td>496</td><td>Houston, TX</td><td>None</td><td>Thu Nov 24 18:37:54 +0000 2022</td></tr><tr><td>1595849201866670080</td><td>Barry S. Cohen</td><td>Barry_S_Cohen</td><td>happy thanksgiving to you and your family from lincoln private jets lincolnprivatejets</td><td>5</td><td>West Palm Beach, FL</td><td>None</td><td>Thu Nov 24 18:37:53 +0000 2022</td></tr><tr><td>1595849202843717635</td><td>Rapper</td><td>BDG0716</td><td>rt bdg happy thanksgiving i wouldn t be able to live this dream if it wasn t for the rapcrew i m super thankful to have such an ama</td><td>35911</td><td>🌊 FLØRIDA 🌊</td><td>None</td><td>Thu Nov 24 18:37:54 +0000 2022</td></tr><tr><td>1595849202940219394</td><td>Brendan Poepplein (🎂 on Monday)</td><td>BrendanPoepple1</td><td>rt amityheartfilia happy thanksgiving</td><td>440</td><td>None</td><td>None</td><td>Thu Nov 24 18:37:54 +0000 2022</td></tr><tr><td>1595849202315272195</td><td>Microsoft Designer</td><td>MSFT365Designer</td><td>wishing you all a very happy thanksgiving</td><td>3309</td><td>None</td><td>None</td><td>Thu Nov 24 18:37:53 +0000 2022</td></tr><tr><td>1595849203150094337</td><td>Stephen Berry</td><td>Stephen54110275</td><td>rt realjameswoods happy thanksgiving</td><td>42</td><td>Hillsboro, OR</td><td>None</td><td>Thu Nov 24 18:37:54 +0000 2022</td></tr><tr><td>1595849202965307393</td><td>jody</td><td>wnbagirlfriend</td><td>i misunderstood what thanksgiving stuffing is and hooked up with my cousin</td><td>25864</td><td>she/her</td><td>None</td><td>Thu Nov 24 18:37:54 +0000 2022</td></tr><tr><td>1595849202965291008</td><td>Clarence Coggins 📚🇺🇸</td><td>clarencecoggins</td><td>geraldorivera democrats tyranny of course happy thanksgiving</td><td>2122</td><td>Jersey City, NJ</td><td>None</td><td>Thu Nov 24 18:37:54 +0000 2022</td></tr><tr><td>1595849203154026497</td><td>Peanut 🥜</td><td>boberic69</td><td>zelinavegawwe happy thanksgiving my queen</td><td>142</td><td>None</td><td>None</td><td>Thu Nov 24 18:37:54 +0000 2022</td></tr><tr><td>1595849202328039425</td><td>Angela</td><td>Angela10172521</td><td>happy thanksgiving</td><td>3</td><td>Portland, OR</td><td>None</td><td>Thu Nov 24 18:37:53 +0000 2022</td></tr><tr><td>1595849203284312064</td><td>Joel.</td><td>joelscribes</td><td>rt zoeschiffer new twitter just announced it s cutting holiday pay for its remaining contractors starting this thanksgiving</td><td>674</td><td>None</td><td>None</td><td>Thu Nov 24 18:37:54 +0000 2022</td></tr><tr><td>1595849203292393472</td><td>Dianna Dull🇺🇸🍊</td><td>DullDianna</td><td>rt karilakewarroom have a wonderful thanksgiving arizona we love you</td><td>3374</td><td>None</td><td>None</td><td>Thu Nov 24 18:37:54 +0000 2022</td></tr><tr><td>1595849203376427010</td><td>Sabine Ludowigs</td><td>SLudowigs</td><td>rt barackobama wishing everyone a happy thanksgiving as we celebrate let s give thanks for all the blessings in our lives and give back</td><td>203</td><td>None</td><td>None</td><td>Thu Nov 24 18:37:54 +0000 2022</td></tr><tr><td>1595849203527610368</td><td>Ashu</td><td>AshwiniDodani</td><td>rt prateeksaraf this year has been really tough for me personally but i guess that s what life is all about today on special occasion</td><td>21794</td><td>The Universe</td><td>None</td><td>Thu Nov 24 18:37:54 +0000 2022</td></tr><tr><td>1595849203451891712</td><td>C</td><td>DMVnativeChris</td><td>rt matthew_paras taylor heinicke is ready for thanksgiving</td><td>167</td><td>Florida, USA</td><td>None</td><td>Thu Nov 24 18:37:54 +0000 2022</td></tr><tr><td>1595849203485478914</td><td>Juu🇧🇷🇧🇷🇧🇷</td><td>silksonica</td><td>rt brunomars happy thanksgiving hooligans</td><td>1129</td><td>🎶Faith in the future</td><td>None</td><td>Thu Nov 24 18:37:54 +0000 2022</td></tr><tr><td>1595849203296747520</td><td>1/ST RACING & GAMING</td><td>1st_racing</td><td>rt gulfstreampark happy thanksgiving to our fans friends and family</td><td>15319</td><td>None</td><td>None</td><td>Thu Nov 24 18:37:54 +0000 2022</td></tr><tr><td>1595849203544211457</td><td>Andre Walker</td><td>awalker2334</td><td>rt iwantmystery happy thanksgiving from dr doom</td><td>378</td><td>None</td><td>None</td><td>Thu Nov 24 18:37:54 +0000 2022</td></tr><tr><td>1595849203577659393</td><td>James D Lee</td><td>Ananasi01</td><td>rt toddnauck happy thanksgiving</td><td>754</td><td>Arlington Texas</td><td>None</td><td>Thu Nov 24 18:37:54 +0000 2022</td></tr><tr><td>1595849203649216512</td><td>Dcl.eth</td><td>moneymakerr777</td><td>rt thisiskyler happy thanksgiving</td><td>466</td><td>None</td><td>None</td><td>Thu Nov 24 18:37:54 +0000 2022</td></tr><tr><td>1595849203560972288</td><td>⚖️ Nyla</td><td>Sapphic007</td><td>rt semifreqsonic according to a post by the official sonic twitter thanksgiving is canon to the sonic the hedgehog series implying that</td><td>660</td><td>None</td><td>None</td><td>Thu Nov 24 18:37:54 +0000 2022</td></tr><tr><td>1595849203669819392</td><td>Busted Pastry</td><td>bustedpastry</td><td>rt uscpsc happy thanksgiving eve</td><td>77</td><td>None</td><td>None</td><td>Thu Nov 24 18:37:54 +0000 2022</td></tr><tr><td>1595849203674136576</td><td>Ed Garcia V.</td><td>EdVvr99</td><td>rt ufwupdates as you gather with friends and family this thanksgiving think about the farm workers who contributed to each dish tell us</td><td>10</td><td>None</td><td>None</td><td>Thu Nov 24 18:37:54 +0000 2022</td></tr><tr><td>1595849203720327169</td><td>ashley 🌸</td><td>visionembracer</td><td>rt bowens_official happy thanksgiving from the house of half black</td><td>6246</td><td>21 | 🇵🇷 | she/they</td><td>None</td><td>Thu Nov 24 18:37:54 +0000 2022</td></tr><tr><td>1595849203787366400</td><td>LilyC</td><td>LilyC26674410</td><td>rt truemyracle happy turkey day from me to you and your family thanksgiving</td><td>22</td><td>None</td><td>None</td><td>Thu Nov 24 18:37:54 +0000 2022</td></tr><tr><td>1595849203867160576</td><td>Darrell West</td><td>westdarrell1984</td><td>rt bluevirginia lindyli nails it</td><td>609</td><td>None</td><td>None</td><td>Thu Nov 24 18:37:54 +0000 2022</td></tr><tr><td>1595849204064452608</td><td>lvanna Hava</td><td>HavaLvanna</td><td>rt interestingaf thanksgiving the day barney was killed</td><td>51</td><td>Culver City, Ca , USA</td><td>None</td><td>Thu Nov 24 18:37:54 +0000 2022</td></tr><tr><td>1595849205372932096</td><td>𝐆𝐢𝐆𝐢 ★ $3 𝐎𝐅 𝐒𝐀𝐋𝐄</td><td>gimmiethatgigi</td><td>rt goddesssiut wanna stuff my holes for thanksgiving</td><td>108346</td><td>i only reply on onlyfans</td><td>None</td><td>Thu Nov 24 18:37:54 +0000 2022</td></tr><tr><td>1595849205469548545</td><td>usa share news</td><td>usasharenews</td><td>classic thanksgiving dishes ranked from best to worst</td><td>639</td><td>United States</td><td>None</td><td>Thu Nov 24 18:37:54 +0000 2022</td></tr><tr><td>1595849205662482432</td><td>chris.yeskis</td><td>yeskisc</td><td>rt drewgmackie did you know bob s burgers is the only sitcom in the history of the planet to do a bisexual themed thanksgiving episode a</td><td>249</td><td>None</td><td>None</td><td>Thu Nov 24 18:37:54 +0000 2022</td></tr><tr><td>1595849205653831682</td><td>AMA@woofers</td><td>AMAwoofers1</td><td>rt belannf as america drowns in wokeness washington s thanksgiving proclamation of should be read by every citizen</td><td>921</td><td>None</td><td>None</td><td>Thu Nov 24 18:37:54 +0000 2022</td></tr><tr><td>1595849205830283264</td><td>Max2112</td><td>Max211210</td><td>rowdy_introvert happy thanksgiving to you and your family</td><td>145</td><td>None</td><td>None</td><td>Thu Nov 24 18:37:54 +0000 2022</td></tr><tr><td>1595849205913976835</td><td>snap, crackle and pop my spine INTO DUST 🦴</td><td>Killer_toons</td><td>rt greatcheshire knives out is a thanksgiving movie because it s got a primarily brown cool toned color palette it takes place in fall</td><td>156</td><td>Noneyea</td><td>None</td><td>Thu Nov 24 18:37:54 +0000 2022</td></tr><tr><td>1595849205775585282</td><td>alice in dreamland. 🦇</td><td>venom_bitezz</td><td>rt tailschannel happy thanksgiving for our u s followers</td><td>30</td><td>battery city</td><td>None</td><td>Thu Nov 24 18:37:54 +0000 2022</td></tr><tr><td>1595849206010245125</td><td>Alston Meadows</td><td>alston_meadows</td><td>rt mnateshyamalan it is time once again all hail the thanksgiving tube</td><td>393</td><td>Tempe, AZ</td><td>None</td><td>Thu Nov 24 18:37:54 +0000 2022</td></tr><tr><td>1595849206081720321</td><td>Carolina Lugo</td><td>Carosxvelez</td><td>rt loganhenderson wishing you a happy thanksgiving with your family friends and loved ones so damn thankful for all of youz</td><td>671</td><td>CDMX</td><td>None</td><td>Thu Nov 24 18:37:54 +0000 2022</td></tr><tr><td>1595849205972606979</td><td>JC Simpson</td><td>JCSimpson11</td><td>whcos potus biden better be careful the white house chef doesn t get joe blow confused with the thanksgiving day</td><td>1</td><td>None</td><td>None</td><td>Thu Nov 24 18:37:54 +0000 2022</td></tr><tr><td>1595849205041729537</td><td>Carson Caplan</td><td>caplan_carson</td><td>thank you dartmouthftbl happy thanksgiving sixzeroacademy bteevens landanyount coachkeithclark</td><td>354</td><td>Colorado Springs, CO</td><td>None</td><td>Thu Nov 24 18:37:54 +0000 2022</td></tr><tr><td>1595849206111129602</td><td>ƘαтƝαHαт™ (^..^)ﾉ</td><td>katnahat7</td><td>macrox happy thanksgiving mac</td><td>1529</td><td>💫</td><td>None</td><td>Thu Nov 24 18:37:54 +0000 2022</td></tr><tr><td>1595849206182580224</td><td>Sofenger</td><td>slavaxlive</td><td>rt mephisto happy thanksgiving ga alert x st poker youtube vlog is out in k follow me amp twee</td><td>45</td><td>None</td><td>None</td><td>Thu Nov 24 18:37:54 +0000 2022</td></tr><tr><td>1595849204387254277</td><td>💝(hiatus)Daily Molly💝</td><td>DailyMolly_</td><td>happy thanksgiving to those who celebrate to me it s all about being with family and friends here s a daily mol</td><td>559</td><td>he/him🏳️‍⚧️</td><td>None</td><td>Thu Nov 24 18:37:54 +0000 2022</td></tr><tr><td>1595849206077411328</td><td>soph • megan day</td><td>polaroidsoph</td><td>they know i m gonna have a meltdown</td><td>1614</td><td>None</td><td>None</td><td>Thu Nov 24 18:37:54 +0000 2022</td></tr><tr><td>1595849206194847744</td><td>Marc Sotkin</td><td>marcsotkin</td><td>hope everyone has a happy and safe thanksgiving be nice to the other people at the table no matter what kind of c</td><td>596</td><td>None</td><td>None</td><td>Thu Nov 24 18:37:54 +0000 2022</td></tr><tr><td>1595849206240976897</td><td>🇵🇷Chef Jay #1 Grilla🇺🇲</td><td>ChefJayTheBear1</td><td>mikethepepsiguy lfdcigars she s purdy happy thanksgiving</td><td>968</td><td>Arizona, USA</td><td>None</td><td>Thu Nov 24 18:37:54 +0000 2022</td></tr><tr><td>1595849206308241409</td><td>DBZ – Son Gokú 🇲🇽</td><td>DBZ_SonGokv</td><td>rt toeianimation live super saiyan blue goku is flying at the th macy s thanksgiving parade happy thanksgiving everyone thanks</td><td>2</td><td>None</td><td>None</td><td>Thu Nov 24 18:37:54 +0000 2022</td></tr><tr><td>1595849206341640192</td><td>@karenaboylan@mas.to & Post.news: @karenaboylan</td><td>karenaboylan</td><td>rt jhmullany happy snowy thanksgiving from sandia park new mexico tweeps</td><td>20040</td><td>Santa Fe, NM</td><td>None</td><td>Thu Nov 24 18:37:54 +0000 2022</td></tr><tr><td>1595849206622982144</td><td>Hrisoula</td><td>MissHrisoula</td><td>rt thekatemulgrew too many people have tagged me in this or sent it to me so i feel compelled to post it happy thanksgiving to those w</td><td>3102</td><td>Boston, MA</td><td>None</td><td>Thu Nov 24 18:37:54 +0000 2022</td></tr><tr><td>1595849206450765825</td><td>Ryan FZed</td><td>RyanFZed</td><td>rt uscpsc happy thanksgiving eve</td><td>208</td><td>33 | He/Him | NY➡️Toronto</td><td>None</td><td>Thu Nov 24 18:37:54 +0000 2022</td></tr><tr><td>1595849206593462281</td><td>®yan péreż</td><td>ryguy12_</td><td>rt ciubmoss first thanksgiving cooking alone anyway phone is about to die ttyl</td><td>575</td><td>FontHill</td><td>None</td><td>Thu Nov 24 18:37:54 +0000 2022</td></tr><tr><td>1595849205662339084</td><td>🌻🇺🇸 THANK YOU FOR VOTING FOR DEMOCRACY! 🇺🇸🌻</td><td>Kaffe_Takk</td><td>notcloudyallday thank you amp happy thanksgiving to you amp yours</td><td>1626</td><td>🇺🇸🗽 A DEMOCRACY! 🗽🇺🇸</td><td>None</td><td>Thu Nov 24 18:37:54 +0000 2022</td></tr><tr><td>1595849206765391880</td><td>I 💙 BOOBIES</td><td>diablojr73</td><td>rt zanaek_ i don t give a damn bout thanksgiving</td><td>59</td><td>Houston, TX</td><td>None</td><td>Thu Nov 24 18:37:54 +0000 2022</td></tr><tr><td>1595849206798786560</td><td>Kevin Bryan</td><td>kevinbryansplac</td><td>happy thanksgiving thanksgiving thanksgivingday happythanksgiving</td><td>78</td><td>None</td><td>None</td><td>Thu Nov 24 18:37:55 +0000 2022</td></tr><tr><td>1595849206769516548</td><td>Jazz ♥</td><td>_ImWhatYouNeed</td><td>probably too early in the day to say this but i m definitely tryna show my thanksgiving gratitude to somebody son at the end of the day</td><td>258</td><td>None</td><td>None</td><td>Thu Nov 24 18:37:54 +0000 2022</td></tr><tr><td>1595849205897101315</td><td>Gamecock Men's Basketball</td><td>GamecockMBB</td><td>wishing everyone a great thanksgiving with family and friends today see y all tomorrow at p m gamecocks</td><td>72473</td><td>Columbia, SC</td><td>None</td><td>Thu Nov 24 18:37:54 +0000 2022</td></tr><tr><td>1595849203279863808</td><td>NetVoiX</td><td>netvoix</td><td>thanksgiving time to feel grateful and appreciate all the blessings netvoix team wishes you a happy thanksgivi</td><td>39</td><td>Weston, FL</td><td>None</td><td>Thu Nov 24 18:37:54 +0000 2022</td></tr><tr><td>1595849206828126208</td><td>El Jefe204</td><td>ElJefe2041</td><td>you too</td><td>30</td><td>None</td><td>None</td><td>Thu Nov 24 18:37:55 +0000 2022</td></tr><tr><td>1595849206870454274</td><td>murishani047</td><td>murishani047</td><td>as a fellow old person i will always support you lol</td><td>68</td><td>Columbia, MO</td><td>None</td><td>Thu Nov 24 18:37:55 +0000 2022</td></tr><tr><td>1595849207167954944</td><td>layla</td><td>lilyschien</td><td>rt davidlimbaugh the lord is at hand do not be anxious about anything but in everything by prayer and supplication with thanksgiving le</td><td>49</td><td>None</td><td>None</td><td>Thu Nov 24 18:37:55 +0000 2022</td></tr><tr><td>1595849206467543042</td><td>🥵AvatarIzzy🐀</td><td>AvatarIzzy</td><td>happy thanksgiving to those who celebrate i will likely be streaming later if you need a place to hang out</td><td>785</td><td>your mom</td><td>None</td><td>Thu Nov 24 18:37:54 +0000 2022</td></tr><tr><td>1595849206937554944</td><td>🇺🇸🏳️‍🌈Pauline⚛️🇺🇦💉🌻😷✊🏾#Boilermaker</td><td>PACPurdue96</td><td>rt rexchapman there is no unskilled labor happy thanksgiving thread</td><td>1710</td><td>Oregon, USA</td><td>None</td><td>Thu Nov 24 18:37:55 +0000 2022</td></tr><tr><td>1595849207180500992</td><td>Chris S</td><td>bullfeathers138</td><td>rt thisiskyler happy thanksgiving</td><td>154</td><td>San Diego, CA</td><td>None</td><td>Thu Nov 24 18:37:55 +0000 2022</td></tr><tr><td>1595849206714859520</td><td>Vero</td><td>verowiz</td><td>rt mrwilin if your family starts arguing on thanksgiving please go on live so we can all hear it</td><td>215</td><td>None</td><td>None</td><td>Thu Nov 24 18:37:54 +0000 2022</td></tr><tr><td>1595849207268532224</td><td>Ant</td><td>ZeroKirby</td><td>sophiespaghett happy thanksgiving</td><td>653</td><td>Califorina</td><td>None</td><td>Thu Nov 24 18:37:55 +0000 2022</td></tr><tr><td>1595849207180853248</td><td>Schnicolas77</td><td>schnicolas77</td><td>thankful for all you silly peeps this year has been another wild one but i couldn t have gone through it without e</td><td>20</td><td>None</td><td>None</td><td>Thu Nov 24 18:37:55 +0000 2022</td></tr><tr><td>1595849207512203264</td><td>Eleven / イレブン</td><td>irebunxy</td><td>rt vizmedia get together with your family and celebrate another year of love and gratitude this thanksgiving via black clover</td><td>514</td><td>Pro Crab Game Player</td><td>None</td><td>Thu Nov 24 18:37:55 +0000 2022</td></tr><tr><td>1595849207067336708</td><td>Tim Flood</td><td>timlflood</td><td>done i hope you have a very happy thanksgiving my friend</td><td>7202</td><td>Kentucky, USA</td><td>None</td><td>Thu Nov 24 18:37:55 +0000 2022</td></tr><tr><td>1595849207662813184</td><td>🔞Azura.Das.Kanji🔞🔜🚗👍</td><td>AzuraDasKanji</td><td>rt fluffyinnocence cubs don t forget to tell your caretakers that you re thankful for them today especially the ones who are on diaper</td><td>756</td><td>Utah, USA</td><td>None</td><td>Thu Nov 24 18:37:55 +0000 2022</td></tr><tr><td>1595849207528701953</td><td>John Leask</td><td>johnleask</td><td>amazing to watch a pfizer ad pushing vaccinations and boosters followed by a bud light ad at least one of them ha</td><td>1122</td><td>Texas, USA</td><td>None</td><td>Thu Nov 24 18:37:55 +0000 2022</td></tr><tr><td>1595849207574822914</td><td>kimberlee.eth</td><td>pasteltonesss</td><td>gm amp happy thanksgiving everyone</td><td>3341</td><td>None</td><td>None</td><td>Thu Nov 24 18:37:55 +0000 2022</td></tr><tr><td>1595849207285415937</td><td>foodgospel.org 🥘</td><td>FoodGospelORG</td><td>when did thanksgiving go from giving thanks to a gluttonous fork sport i regret n o t h i n g</td><td>353</td><td>s p a c e s h i p  EARTH 🌎</td><td>None</td><td>Thu Nov 24 18:37:55 +0000 2022</td></tr><tr><td>1595849207704870912</td><td>NASCAR Superman</td><td>NASCARSuperman</td><td>sir_loinof happy thanksgiving mr beef</td><td>7724</td><td>None</td><td>None</td><td>Thu Nov 24 18:37:55 +0000 2022</td></tr><tr><td>1595849207671234560</td><td>SQ</td><td>swaveyquis</td><td>i love u happy thanksgiving</td><td>2337</td><td>None</td><td>None</td><td>Thu Nov 24 18:37:55 +0000 2022</td></tr><tr><td>1595849207843373056</td><td>Dr Marceli K. Król</td><td>PfpEdu</td><td>rt statedept happy thanksgiving today we share gratitude for our colleagues partners allies and friends around the world</td><td>132</td><td>Warszawa, Polska</td><td>None</td><td>Thu Nov 24 18:37:55 +0000 2022</td></tr><tr><td>1595849207981776896</td><td>José Martins</td><td>snklterry</td><td>rt streetfighter happy thanksgiving take a break from the fight and spend it with your family and friends and food of course</td><td>15</td><td>Manaus-AM-Brasil</td><td>None</td><td>Thu Nov 24 18:37:55 +0000 2022</td></tr><tr><td>1595849208078413824</td><td>Michael F Ozaki MD</td><td>brontyman</td><td>rt kyrstensinema this story brings me joy every year i m so happy for year</td><td>30055</td><td>Southern California</td><td>None</td><td>Thu Nov 24 18:37:55 +0000 2022</td></tr><tr><td>1595849207373512705</td><td>Kim Sullivan Birkner</td><td>ThismyBentley</td><td>have a grateful thanksgiving</td><td>7</td><td>None</td><td>None</td><td>Thu Nov 24 18:37:55 +0000 2022</td></tr><tr><td>1595849208069775362</td><td>Nondescript Bystander 👤</td><td>redactedhuman</td><td>rt johnedeaton on this thanksgiving i m thankful for many things including this tweet</td><td>1065</td><td>United States</td><td>None</td><td>Thu Nov 24 18:37:55 +0000 2022</td></tr><tr><td>1595849209583964161</td><td>TwoThree</td><td>thatstwothree</td><td>rt inkyjohnson this is the day that the lord has made so let us rejoice and be glad in it happy thanksgiving to each of you i hope y</td><td>769</td><td>None</td><td>None</td><td>Thu Nov 24 18:37:55 +0000 2022</td></tr><tr><td>1595849209739186176</td><td>sgtspartan</td><td>sgtspartan1</td><td>rt dealvibes deals are selling quick today quick reminder that if you are interested in any deal to check out immediately more often th</td><td>143</td><td>None</td><td>None</td><td>Thu Nov 24 18:37:55 +0000 2022</td></tr><tr><td>1595849209659416576</td><td>Corey Tyson, ChFC®</td><td>NWcoreyTyson</td><td>rt wfmgstl happy thanksgiving from the wfmg family</td><td>161</td><td>St Louis, MO</td><td>None</td><td>Thu Nov 24 18:37:55 +0000 2022</td></tr><tr><td>1595849209714024448</td><td>RegenalArmourVO | Has Voice, Will Travel</td><td>RegArmVO</td><td>rt greatcheshire knives out is a thanksgiving movie because it s got a primarily brown cool toned color palette it takes place in fall</td><td>1076</td><td>Whatzittooya, USA</td><td>None</td><td>Thu Nov 24 18:37:55 +0000 2022</td></tr><tr><td>1595849209814876161</td><td>PhyllisA</td><td>phyllisa99998</td><td>rt sodakd dems this thanksgiving we are once more reminded of just how much we appreciate you our candidates volunteers voters and</td><td>328</td><td>Sioux Falls, SD</td><td>None</td><td>Thu Nov 24 18:37:55 +0000 2022</td></tr><tr><td>1595849209793634304</td><td>Karl McMillen</td><td>KarlMcmillen</td><td>rt armendarizdis it s thanksgiving and there are still states counting votes in america are we still a first world country</td><td>13</td><td>None</td><td>None</td><td>Thu Nov 24 18:37:55 +0000 2022</td></tr><tr><td>1595849209877565441</td><td>TOMORROW</td><td>jaymclovin__</td><td>rt shannonsharpeee wallo promised to take ladies on a shopping spree at target for thanksgiving but didn t know it s closed for thanks</td><td>568</td><td>None</td><td>None</td><td>Thu Nov 24 18:37:55 +0000 2022</td></tr><tr><td>1595849209856524291</td><td>Anthonyy</td><td>Clipperant1012</td><td>rt loahaddian happy thanksgiving clippernation</td><td>538</td><td>None</td><td>None</td><td>Thu Nov 24 18:37:55 +0000 2022</td></tr><tr><td>1595849209873399808</td><td>Andy P</td><td>andyp421</td><td>braydencreation happy thanksgiving</td><td>9</td><td>None</td><td>None</td><td>Thu Nov 24 18:37:55 +0000 2022</td></tr><tr><td>1595849209906749440</td><td>Mig Morales</td><td>MigMorales4</td><td>occupydemocrats happy thanksgiving</td><td>621</td><td>Anaheim, CA</td><td>None</td><td>Thu Nov 24 18:37:55 +0000 2022</td></tr><tr><td>1595849210036994050</td><td>Loose turnip</td><td>looseturnip</td><td>rt harddrivemag geno s aunt at thanksgiving keeps suggesting he apply to be in smash bros</td><td>186</td><td>United Kingdom</td><td>None</td><td>Thu Nov 24 18:37:55 +0000 2022</td></tr><tr><td>1595849210007535618</td><td>MFAM bubbie627</td><td>BUBBIE627</td><td>rt averagejoewo happy thanksgiving to everyone except the people that gas up cranberry sauce</td><td>402</td><td>Keansburg, NJ</td><td>None</td><td>Thu Nov 24 18:37:55 +0000 2022</td></tr><tr><td>1595849210045292552</td><td>Kibat Hayelom</td><td>KibatTigraweyti</td><td>rt iweti_al brothers sisters amp freedom fighter we wishing you hope joy peace good health favor amp love on this thanksgiving day w</td><td>11957</td><td>None</td><td>None</td><td>Thu Nov 24 18:37:55 +0000 2022</td></tr><tr><td>1595849210087219201</td><td>Destanee</td><td>thekidspams_01</td><td>rt notkartinbanks nobody aunties in the kitchen for thanksgiving</td><td>898</td><td>Larry Fisherman’s boat.</td><td>None</td><td>Thu Nov 24 18:37:55 +0000 2022</td></tr><tr><td>1595849210142023681</td><td>JackTokio</td><td>TurtleTokio</td><td>rt grasshopper_en happy thanksgiving from ghm to anyone out there celebrating it i couldn t think of any actual thanksgiving reference</td><td>18</td><td>At the edge of Space probably</td><td>None</td><td>Thu Nov 24 18:37:55 +0000 2022</td></tr><tr><td>1595849210171379712</td><td>Amy Young🍊🇺🇲🍊</td><td>AmyYoung113</td><td>rt mtgreenee happy thanksgiving</td><td>58</td><td>None</td><td>None</td><td>Thu Nov 24 18:37:55 +0000 2022</td></tr><tr><td>1595849210116669442</td><td>Eric Samways</td><td>eric_samways</td><td>hey check out my cool thanksgiving turkey that profile pic of mine is tint colorant floating in a gallon of</td><td>8</td><td>None</td><td>None</td><td>Thu Nov 24 18:37:55 +0000 2022</td></tr><tr><td>1595849210125258752</td><td>SoSDiablo</td><td>SoSDiablo</td><td>happy thanksgiving friends i appreciate and am thankful for all of you</td><td>1058</td><td>United States</td><td>None</td><td>Thu Nov 24 18:37:55 +0000 2022</td></tr><tr><td>1595849210313990144</td><td>almost genius.</td><td>_LetMeRap</td><td>rt ballislife kyrie i don t particularly celebrate thanksgiving but anybody getting together with their families blessings to all you</td><td>453</td><td>AmeriKKKa.</td><td>None</td><td>Thu Nov 24 18:37:55 +0000 2022</td></tr><tr><td>1595849210217177089</td><td>Britta</td><td>oxymoronassoc</td><td>shxhbwhsvsgcs the goddamn onion garlic celery i got yelled at about earlier this morning for being too loud sauting</td><td>519</td><td>California, USA</td><td>None</td><td>Thu Nov 24 18:37:55 +0000 2022</td></tr><tr><td>1595849210469154816</td><td>Jeff Todd</td><td>jefftodd1204</td><td>rt super ssports nothing says it s thanksgiving and i ve burned all the bridges with my family quite like this extravagant feast</td><td>100</td><td>None</td><td>None</td><td>Thu Nov 24 18:37:55 +0000 2022</td></tr><tr><td>1595849210443677696</td><td>Mega Swampert</td><td>MegaSwampert4</td><td>rt ruggeryv happy thanksgiving here is some meat if you hungry</td><td>80</td><td>None</td><td>None</td><td>Thu Nov 24 18:37:55 +0000 2022</td></tr><tr><td>1595849209529667584</td><td>Gregory Tillery / A Morning Cup of Grace!</td><td>GregoryTillery1</td><td>happy thanksgving happythanksgiving happythanksgiving thanksgiving holiday holidays jesus love</td><td>354</td><td>None</td><td>None</td><td>Thu Nov 24 18:37:55 +0000 2022</td></tr><tr><td>1595849210351362048</td><td>Puurrr of all trades🃏</td><td>puurrrito</td><td>rt quinobequin listen to my bro annawaon the son of tall oak weeden speak truth about what this holiday means for so many of us whatev</td><td>224</td><td>United States</td><td>None</td><td>Thu Nov 24 18:37:55 +0000 2022</td></tr><tr><td>1595849210645352448</td><td>LittleFirefly</td><td>1005_Firefly</td><td>rt usaxiaozhanxfx happy thanksgiving to all xfx enjoy the day xiaozhan</td><td>219</td><td>None</td><td>None</td><td>Thu Nov 24 18:37:55 +0000 2022</td></tr><tr><td>1595849210683068416</td><td>kellyann</td><td>Zdragonfly</td><td>rt mtgreenee happy thanksgiving</td><td>180</td><td>Connecticut, USA</td><td>None</td><td>Thu Nov 24 18:37:55 +0000 2022</td></tr><tr><td>1595849210686996486</td><td>EnergySpeakss</td><td>energyspeakss</td><td>this thanksgiving i m thankful for where i am in life all it took was a change of perspective to make it all better</td><td>92</td><td>None</td><td>None</td><td>Thu Nov 24 18:37:55 +0000 2022</td></tr><tr><td>1595849210594824194</td><td>Jessa Eliades 🇮🇹🇭🇷🇬🇷🎗</td><td>xorunnerxo</td><td>rt sopranosworld your family at thanksgiving asking why you re still single</td><td>192</td><td>None</td><td>None</td><td>Thu Nov 24 18:37:55 +0000 2022</td></tr><tr><td>1595849210825691136</td><td>the antihero riss</td><td>marissatweeting</td><td>minda it s one thing to acknowledge something isn t your fave as i m not super in love with thanksgiving food</td><td>1390</td><td>Kansas City</td><td>None</td><td>Thu Nov 24 18:37:55 +0000 2022</td></tr><tr><td>1595849210737442816</td><td>SΞAN</td><td>SeanJohn1313</td><td>happy thanksgiving</td><td>2311</td><td>Dallas, TX</td><td>None</td><td>Thu Nov 24 18:37:55 +0000 2022</td></tr><tr><td>1595849210934722560</td><td>MsD</td><td>JosephDianeDuB1</td><td>rt realdeancain happy thanksgiving all</td><td>748</td><td>Northern California</td><td>None</td><td>Thu Nov 24 18:37:55 +0000 2022</td></tr><tr><td>1595849210858971139</td><td>𝒸𝒾𝓇𝑒𝓃𝒶♛</td><td>Cirenaaaaa</td><td>rt weedthotss me high asf at thanksgiving dinner tryna act normal around my family</td><td>1098</td><td>tianna</td><td>None</td><td>Thu Nov 24 18:37:55 +0000 2022</td></tr><tr><td>1595849211006062592</td><td>lex✨</td><td>lexzeppelin_</td><td>not me having pizza rolls and coffee for breakfast at noon on thanksgiving</td><td>2650</td><td>Colorado, USA</td><td>None</td><td>Thu Nov 24 18:37:56 +0000 2022</td></tr><tr><td>1595849211072827392</td><td>Bennett</td><td>_bennettm_</td><td>rt tesla happy thanksgiving thanks to the tesla team owners and fans for helping us accelerate the world s transition to sustainable</td><td>2112</td><td>Bay Area</td><td>None</td><td>Thu Nov 24 18:37:56 +0000 2022</td></tr><tr><td>1595849211072741376</td><td>Spicoli</td><td>Roll_MeOneBitch</td><td>rt barstoolsports happy thanksgiving hit the music</td><td>413</td><td>San Tan Valley, AZ</td><td>None</td><td>Thu Nov 24 18:37:56 +0000 2022</td></tr><tr><td>1595849211131592712</td><td>Briana Resendez</td><td>resendez_briana</td><td>rt michelleobama i hope everyone has a wonderful day filled with love gratitude and a whole lot of great food from our family to yours</td><td>2964</td><td>San Antonio, TX</td><td>None</td><td>Thu Nov 24 18:37:56 +0000 2022</td></tr><tr><td>1595849211152580609</td><td>Skeeno</td><td>Local199</td><td>rt returnofthesac happy thanksgiving to big brain individuals like local and myself we got in the gym every day this week possibly</td><td>415</td><td>None</td><td>None</td><td>Thu Nov 24 18:37:56 +0000 2022</td></tr><tr><td>1595849211077136386</td><td>Ore_on_dis😶</td><td>Hoe_lar_mi</td><td>trialxtreme happy thanksgiving</td><td>471</td><td>vahalla</td><td>None</td><td>Thu Nov 24 18:37:56 +0000 2022</td></tr><tr><td>1595849211291275264</td><td>artizinil</td><td>splattershot_jr</td><td>rt erininthemorn cisgender people you have my full blessing to ruin thanksgiving for family members that make transphobic comments misg</td><td>30</td><td>Not Here</td><td>None</td><td>Thu Nov 24 18:37:56 +0000 2022</td></tr><tr><td>1595849211291074561</td><td>Jake Corbin</td><td>JakeCorbin</td><td>rt yellowjacketsfb when it s a core value it just makes sense to practice on thanksgiving goldstandard stingem</td><td>2722</td><td>None</td><td>None</td><td>Thu Nov 24 18:37:56 +0000 2022</td></tr><tr><td>1595849210720550915</td><td>Chip D’AO</td><td>chipskylarp</td><td>xraceralt xqtpie andy you simply can t bet against this guy on thanksgiving</td><td>266</td><td>Out Here</td><td>None</td><td>Thu Nov 24 18:37:55 +0000 2022</td></tr><tr><td>1595849211127504897</td><td>🥇Goldenashton.US</td><td>Goldenashtonus</td><td>thanksgiving hello everybody i hope you guys are having a great thanksgiving</td><td>1259</td><td>Fort Worth, TX</td><td>None</td><td>Thu Nov 24 18:37:56 +0000 2022</td></tr><tr><td>1595849211362394113</td><td>ML</td><td>MarylouKash</td><td>johnrich may god bless your family and especially these sweet babies as far your haters go sorry for them just</td><td>20</td><td>None</td><td>None</td><td>Thu Nov 24 18:37:56 +0000 2022</td></tr><tr><td>1595849211584475136</td><td>Robert Bueno</td><td>justlikethat95</td><td>rt drewgmackie did you know bob s burgers is the only sitcom in the history of the planet to do a bisexual themed thanksgiving episode a</td><td>305</td><td>Fullerton, CA</td><td>None</td><td>Thu Nov 24 18:37:56 +0000 2022</td></tr><tr><td>1595849211517362176</td><td>ayla</td><td>aylansmith</td><td>rt aylansmith to donate to farmworkers in gratitude for the food we have on our plates tomorrow and every other day</td><td>565</td><td>Los Angeles, CA</td><td>None</td><td>Thu Nov 24 18:37:56 +0000 2022</td></tr><tr><td>1595849211639013376</td><td>NJ🎒</td><td>NickJohnson_100</td><td>rt etanthomas they know kyrie irving doesn t celebrate thanksgiving and they know exactly why because he has explained his connection t</td><td>426</td><td>Chipotle📍</td><td>None</td><td>Thu Nov 24 18:37:56 +0000 2022</td></tr><tr><td>1595849211794587648</td><td>eunie's da buss</td><td>lusynthia_</td><td>rt streetfighter happy thanksgiving take a break from the fight and spend it with your family and friends and food of course</td><td>182</td><td>hell with various distractions</td><td>None</td><td>Thu Nov 24 18:37:56 +0000 2022</td></tr><tr><td>1595849211765051393</td><td>Prego Liv ♡︎</td><td>BlackWidowMILF</td><td>rt goddessharley happy thanksgiving show me how thankful you are harleyyqueen follow my main harleyyqueen</td><td>214413</td><td>top 0.7%</td><td>None</td><td>Thu Nov 24 18:37:56 +0000 2022</td></tr><tr><td>1595849211731484673</td><td>Halenor</td><td>Halenor65</td><td>docbrownlloyd happy thanksgiving mr lloyd</td><td>0</td><td>None</td><td>None</td><td>Thu Nov 24 18:37:56 +0000 2022</td></tr><tr><td>1595849211752357888</td><td>Jeanette Griffin</td><td>JnetteDan1001</td><td>rt elonmusk have a great thanksgiving</td><td>9</td><td>Houston, TX</td><td>None</td><td>Thu Nov 24 18:37:56 +0000 2022</td></tr><tr><td>1595849213832740867</td><td>Mike</td><td>Mike_Hartman_3</td><td>rt hurtsyivania bounty bowl thanksgiving eagles cowboys</td><td>679</td><td>South Jersey, USA</td><td>None</td><td>Thu Nov 24 18:37:56 +0000 2022</td></tr><tr><td>1595849213782507521</td><td>Pretty Little Kavin</td><td>kavin_b</td><td>rt nemanjayvr bob s burgers did the best thanksgiving turkey scene of all time</td><td>973</td><td>New York, NY</td><td>None</td><td>Thu Nov 24 18:37:56 +0000 2022</td></tr><tr><td>1595849213044314112</td><td>FrankInThaLou</td><td>FrankInThaLou</td><td>thenooner click here for today s comic humor comics funny thanksgiving</td><td>967</td><td>Saint Louis, MO</td><td>None</td><td>Thu Nov 24 18:37:56 +0000 2022</td></tr><tr><td>1595849213916901376</td><td>Dan</td><td>Valeria67773700</td><td>tnx for reward</td><td>62</td><td>Bulgaria</td><td>None</td><td>Thu Nov 24 18:37:56 +0000 2022</td></tr><tr><td>1595849213845315585</td><td>Sophie Meisel</td><td>SophieMeisel3</td><td>rt kuhoops happy thanksgiving everyone</td><td>370</td><td>South Padre Island | Austin</td><td>None</td><td>Thu Nov 24 18:37:56 +0000 2022</td></tr><tr><td>1595849213979631626</td><td>Alan Bayles</td><td>Albay3037</td><td>rt author_s_miller perfect time for a thanksgiving writerslift drop those links books music poetry blogs articles podcasts webs</td><td>6217</td><td>Northern Ireland</td><td>None</td><td>Thu Nov 24 18:37:56 +0000 2022</td></tr><tr><td>1595849213283553280</td><td>Emerald Grown Exotics</td><td>EmeraldGrow</td><td>happy thanksgiving have an amazing day from our family to yours</td><td>198</td><td>Humboldt</td><td>None</td><td>Thu Nov 24 18:37:56 +0000 2022</td></tr><tr><td>1595849214097063936</td><td>Olga Silva</td><td>OlgaSil23064005</td><td>rt netflix how wednesday addams celebrates thanksgiving</td><td>217</td><td>None</td><td>None</td><td>Thu Nov 24 18:37:56 +0000 2022</td></tr><tr><td>1595849214273400832</td><td>ruben</td><td>angelCookies209</td><td>rt sidneysummers_x happy thanksgiving have a slice of peach cobbler</td><td>128</td><td>None</td><td>None</td><td>Thu Nov 24 18:37:56 +0000 2022</td></tr><tr><td>1595849214273392640</td><td>JR</td><td>DnsJr03</td><td>rt secondjams happy thanksgiving yall</td><td>490</td><td>None</td><td>None</td><td>Thu Nov 24 18:37:56 +0000 2022</td></tr><tr><td>1595849214126424065</td><td>Aharon Bensimon</td><td>AharonBensimon</td><td>mikeerdp claykoryn howyoudrouin cartz nhl because canadian thanksgiving is nowhere close to as big as the american thanksgiving is</td><td>179</td><td>Montréal, Québec</td><td>None</td><td>Thu Nov 24 18:37:56 +0000 2022</td></tr><tr><td>1595849214076096512</td><td>Sonny Carton</td><td>scartonradio</td><td>rt breidenfehoko this is disgusting all of y all owe me a plate in my locker tomorrow extra scoop of mac love my guys happy thanksgi</td><td>3204</td><td>Miami, FL</td><td>None</td><td>Thu Nov 24 18:37:56 +0000 2022</td></tr><tr><td>1595849214319529984</td><td>Proud Citizen🇺🇸</td><td>ProudCitizen7</td><td>rt glockfordfiles happy thanksgiving</td><td>130</td><td>None</td><td>None</td><td>Thu Nov 24 18:37:56 +0000 2022</td></tr><tr><td>1595849214390853634</td><td>alazay🪅</td><td>floressalazay</td><td>happy thanksgiving thankful for all the hot girls liking my tweet</td><td>40</td><td>California, USA</td><td>None</td><td>Thu Nov 24 18:37:56 +0000 2022</td></tr><tr><td>1595849213631352832</td><td>RichieRich/Cents 🦁👑</td><td>RRcents</td><td>won this mftmkkus aidrop from superplastic thank you for the special gift on thanksgiving big shout</td><td>3036</td><td>Fort Lauderdale, FL/ NJ / NYC</td><td>None</td><td>Thu Nov 24 18:37:56 +0000 2022</td></tr><tr><td>1595849214529265664</td><td>MIZ</td><td>bdj41</td><td>danitapeda mizzoufootball happy thanksgiving danita</td><td>168</td><td>Argyle, TX</td><td>None</td><td>Thu Nov 24 18:37:56 +0000 2022</td></tr><tr><td>1595849214562533378</td><td>Ray</td><td>RayBarbone1313r</td><td>rt protectthefaith happy thanksgiving to all my friends in the usa may you soon be free of the biden tyranny</td><td>34</td><td>New York, USA</td><td>None</td><td>Thu Nov 24 18:37:56 +0000 2022</td></tr><tr><td>1595849214533271552</td><td>Villain Era Begins... now.✌🏾</td><td>cypheroftyr</td><td>rt kingscowhiskey winning thanksgiving a tutorial</td><td>48662</td><td>Chicago, IL</td><td>None</td><td>Thu Nov 24 18:37:56 +0000 2022</td></tr><tr><td>1595849214617178114</td><td>Patty Querry</td><td>QuerryPatty</td><td>judgejeanine happy thanksgiving to you</td><td>18</td><td>None</td><td>None</td><td>Thu Nov 24 18:37:56 +0000 2022</td></tr><tr><td>1595849214600290306</td><td>奉仕</td><td>ItstheRoc112</td><td>rt pbsimpulse house of half black is wild lmaoooo</td><td>1350</td><td>Your mother's Chocha</td><td>None</td><td>Thu Nov 24 18:37:56 +0000 2022</td></tr><tr><td>1595849214927732736</td><td>Jem</td><td>jemthebread</td><td>rt robuxboss thanksgiving giveaway picking random followers each winner gets robux giftcard must be following to join tag a</td><td>25</td><td>Discord: Jem#8522</td><td>None</td><td>Thu Nov 24 18:37:56 +0000 2022</td></tr><tr><td>1595849214562557953</td><td>JenKovalov.eth💎 #CHECKMATE 👑♟</td><td>jenkovalov</td><td>floridagoldrea happy thanksgiving larena</td><td>14091</td><td>Grand Rapids, MI</td><td>None</td><td>Thu Nov 24 18:37:56 +0000 2022</td></tr><tr><td>1595849215003049985</td><td>Yuumi 💦(Face On OF)</td><td>MissYuuumi</td><td>rt jayhexxx do you wanna play with me while my family is over for thanksgiving dm me for off sessions right now</td><td>186374</td><td>➪➪➪</td><td>None</td><td>Thu Nov 24 18:37:56 +0000 2022</td></tr><tr><td>1595849215087112193</td><td>mosaic</td><td>tomah04855386</td><td>rt barstoolsports happy thanksgiving</td><td>37</td><td>None</td><td>None</td><td>Thu Nov 24 18:37:56 +0000 2022</td></tr><tr><td>1595849215095472129</td><td>Quasia🤸🏾</td><td>Quasiaaaa_</td><td>rt braylon y all dressing up for thanksgiving</td><td>863</td><td>Work</td><td>None</td><td>Thu Nov 24 18:37:56 +0000 2022</td></tr><tr><td>1595849215024201728</td><td>God Emperor Dingle</td><td>TheDirtyDingle</td><td>mage_leader happy thanksgiving mage hope you re having a good one sir</td><td>50</td><td>None</td><td>None</td><td>Thu Nov 24 18:37:56 +0000 2022</td></tr><tr><td>1595849215196160000</td><td>Big Warble</td><td>BigWarble</td><td>rt greatm sfm happy thanksgiving everyone i m not cool enough to have anything to do today so instead how about you share and promote y</td><td>7</td><td>None</td><td>None</td><td>Thu Nov 24 18:37:57 +0000 2022</td></tr><tr><td>1595849214499627016</td><td>MG</td><td>damuamir</td><td>happy thanksgiving i m thankful to be able to live my truth transisbeautiful tmoc ftm transman</td><td>556</td><td>None</td><td>None</td><td>Thu Nov 24 18:37:56 +0000 2022</td></tr><tr><td>1595849214482841606</td><td>Eimhear Ó Dálaigh</td><td>OEimhear</td><td>happy thanksgiving to all my friends and family in the usa big hugs and kisses from ireland</td><td>10433</td><td>Dublin City, Ireland</td><td>None</td><td>Thu Nov 24 18:37:56 +0000 2022</td></tr><tr><td>1595849215275859970</td><td>Mansi💜 ⁷afobangfo💙 👨‍🚀 Indigo (semi-ia) ✨🌸</td><td>dalyoratannies</td><td>rt spotify our favorite thanksgiving side dish that has the juice spotifywrapped</td><td>309</td><td>Bangtan's Heart</td><td>None</td><td>Thu Nov 24 18:37:57 +0000 2022</td></tr><tr><td>1595849215267155968</td><td>thailynn💄</td><td>baptizedinroses</td><td>rt sanrio thankful for friends tag a bestie thanksgiving</td><td>84</td><td>♓︎☼⋄♍︎☾⋄ ♋︎↑</td><td>None</td><td>Thu Nov 24 18:37:57 +0000 2022</td></tr><tr><td>1595849215024005123</td><td>BG Joe E. Ramirez, Jr. '79, USA (Ret.)</td><td>AggieVPRamirez</td><td>best wishes to all for a happy thanksgiving may your day be filled with blessings today and every day happy tha</td><td>755</td><td>Texas A&M University</td><td>None</td><td>Thu Nov 24 18:37:56 +0000 2022</td></tr><tr><td>1595849215292350466</td><td>keeping advent fast fr this time какюс 🍞 🍷🌹</td><td>dsaorthocaucus</td><td>rtaylor doing a mini thanksgiving for just my fam tomorrow gonna be tofurky mexican street corn balsamic g</td><td>1399</td><td>None</td><td>None</td><td>Thu Nov 24 18:37:57 +0000 2022</td></tr><tr><td>1595849215527174144</td><td>.kuwabailey//G.U.</td><td>pelicantpark</td><td>i love how there s pok mon and dragon ball floats at the thanksgiving parade every year you know american icons pikachu and goku</td><td>1421</td><td>Mac Anu/Los Angeles</td><td>None</td><td>Thu Nov 24 18:37:57 +0000 2022</td></tr><tr><td>1595849215598526468</td><td>shaq</td><td>shaq_tonio</td><td>rt firsttake stephenasmith s top five thanksgiving games vikings defeat cowboys dolphins defeat cowboys eag</td><td>23</td><td>None</td><td>None</td><td>Thu Nov 24 18:37:57 +0000 2022</td></tr><tr><td>1595849214495723520</td><td>@frances , BeauArlen, SoldierBoy, Dean Winchester</td><td>frances35752595</td><td>nina ty so much nina happy thanksgiving to you as well</td><td>580</td><td>None</td><td>None</td><td>Thu Nov 24 18:37:56 +0000 2022</td></tr><tr><td>1595849215682678785</td><td>Unveiled Philly</td><td>Unveiled76</td><td>rt potus may god bless america s service members and their families this thanksgiving and always</td><td>3761</td><td>Philadelphia, PA</td><td>None</td><td>Thu Nov 24 18:37:57 +0000 2022</td></tr><tr><td>1595849215619764224</td><td>D.K. Uzoukwu</td><td>DKuzNY</td><td>okay this year s thanksgiving might have some of that rock in it cuz what</td><td>1470</td><td>West Hollywood, Los Angeles</td><td>None</td><td>Thu Nov 24 18:37:57 +0000 2022</td></tr><tr><td>1595849215732850690</td><td>Kat</td><td>Katywantsyou</td><td>loving all the thanksgiving scents going on in the house right now</td><td>1439</td><td>Massachusetts, USA</td><td>None</td><td>Thu Nov 24 18:37:57 +0000 2022</td></tr><tr><td>1595849215577653248</td><td>Crow Waffle</td><td>Crowwaffle</td><td>rt foxfeather happy thanksgiving from our flock to yours i know this is a super tumultuous time right now i m so thankful to you and</td><td>125</td><td>The void</td><td>None</td><td>Thu Nov 24 18:37:57 +0000 2022</td></tr><tr><td>1595849215657254913</td><td>Drain “The Cock” Johnson</td><td>BurgessBoston</td><td>rt xrmbrownx happy thanksgiving to all hope youre all sniffing and making pp</td><td>191</td><td>None</td><td>None</td><td>Thu Nov 24 18:37:57 +0000 2022</td></tr><tr><td>1595849215821086720</td><td>Cynthia 🌺</td><td>cynthiaann22</td><td>amen</td><td>244</td><td>None</td><td>None</td><td>Thu Nov 24 18:37:57 +0000 2022</td></tr><tr><td>1595849215795761153</td><td>Ashley is PRO-Choice ☮️ ✨♥️🌱🌏🥁🌈🕶🐝🌊✨</td><td>KuckelmanAshley</td><td>rt resistersis a thanksgiving for you to enjoy</td><td>46595</td><td>Des Moines, IA (Ankeny)</td><td>None</td><td>Thu Nov 24 18:37:57 +0000 2022</td></tr><tr><td>1595849215913390080</td><td>O.Shutt</td><td>O_Shutt7</td><td>rt rap happy thanksgiving</td><td>64</td><td>None</td><td>None</td><td>Thu Nov 24 18:37:57 +0000 2022</td></tr><tr><td>1595849215913197575</td><td>3:16</td><td>GetLoussss</td><td>for thanksgiving track suit comfy gt gt gt gt gt casual</td><td>245</td><td>Chicago, IL</td><td>None</td><td>Thu Nov 24 18:37:57 +0000 2022</td></tr><tr><td>1595849215875469315</td><td>KnoF</td><td>knowles_florida</td><td>cliftonaduncan same to you happy thanksgiving</td><td>7</td><td>None</td><td>None</td><td>Thu Nov 24 18:37:57 +0000 2022</td></tr><tr><td>1595849215749640193</td><td>Danny’s Hot (And Not-So-Hot) Takes</td><td>DanGuy96</td><td>rt artdben happy thanksgiving and if you aren t american eat something delicious</td><td>1643</td><td>Louisiana</td><td>None</td><td>Thu Nov 24 18:37:57 +0000 2022</td></tr><tr><td>1595849215904808965</td><td>X</td><td>sweatyweathrman</td><td>every thanksgiving revolves around me trying to give my siblings a good and varied taste in media and every year i</td><td>150</td><td>The Rat Nest in your House</td><td>None</td><td>Thu Nov 24 18:37:57 +0000 2022</td></tr><tr><td>1595849216030658566</td><td>Dante Guarneri</td><td>danteguarneri</td><td>how did they not rig the schedule to have usa play on thanksgiving</td><td>492</td><td>Los Angeles, CA</td><td>None</td><td>Thu Nov 24 18:37:57 +0000 2022</td></tr><tr><td>1595849216131477504</td><td>Brian J Flanagan</td><td>bjflanagan</td><td>rt paultx happy thanksgiving folks</td><td>8499</td><td>Far Periphery</td><td>None</td><td>Thu Nov 24 18:37:57 +0000 2022</td></tr><tr><td>1595849217934647296</td><td>Wrestling Fans Incite Podcast</td><td>WFIncitePodcast</td><td>rt realchrissays happy thanksgiving to all who are observing today may your day be a day of only positive family interactions i m perso</td><td>1538</td><td>Clearfield, UT</td><td>None</td><td>Thu Nov 24 18:37:57 +0000 2022</td></tr><tr><td>1595849217964220417</td><td>Ron</td><td>RonNoelJr1</td><td>itzzzmad hey hey happy thanksgiving to you and your family we are thankful for family and friends</td><td>29</td><td>None</td><td>None</td><td>Thu Nov 24 18:37:57 +0000 2022</td></tr><tr><td>1595849217968316418</td><td>girl who cat</td><td>katielowercase</td><td>rt passtheyaoi happy transgendered thanksgiving make sure to be giving to the transgendereds in your life</td><td>174</td><td>@kqct@quiet.horse, cohost/kqct</td><td>None</td><td>Thu Nov 24 18:37:57 +0000 2022</td></tr><tr><td>1595849218006081537</td><td>JD</td><td>gogettertrey</td><td>only black mfs</td><td>100</td><td>Houston, TX</td><td>None</td><td>Thu Nov 24 18:37:57 +0000 2022</td></tr><tr><td>1595849218224279554</td><td>Kevchup</td><td>kevnlam</td><td>rt pokemon what we re thankful for eevee pikachu and you hope you enjoyed the macys thanksgiving day parade trainers macy</td><td>56</td><td>Florida</td><td>None</td><td>Thu Nov 24 18:37:57 +0000 2022</td></tr><tr><td>1595849218312527874</td><td>Homo01000</td><td>homo01000</td><td>rt andrewdelta happy thanksgiving who wants to get stuffed</td><td>423</td><td>None</td><td>None</td><td>Thu Nov 24 18:37:57 +0000 2022</td></tr><tr><td>1595849217477468160</td><td>Melon Usk (nonpareilody)</td><td>sin_nombro</td><td>happy thanksgiving from the city of st francis</td><td>241</td><td>None</td><td>None</td><td>Thu Nov 24 18:37:57 +0000 2022</td></tr><tr><td>1595849218261909504</td><td>Now. Not now. Now.</td><td>sammypants2000</td><td>is this not cannibalism</td><td>40</td><td>Up yours!</td><td>None</td><td>Thu Nov 24 18:37:57 +0000 2022</td></tr><tr><td>1595849218295414784</td><td>Kevin_Kimball</td><td>KimballinDad_3</td><td>happy thanksgiving to all of the callistothegame family more week</td><td>526</td><td>Danville, CA</td><td>None</td><td>Thu Nov 24 18:37:57 +0000 2022</td></tr><tr><td>1595849218106617858</td><td>Marcus Jones Enthusiastic 6-4</td><td>_justinknapp16</td><td>happy thanksgiving everyone hope everyone has a great day with friends and family go pats</td><td>38</td><td>Washington, USA</td><td>None</td><td>Thu Nov 24 18:37:57 +0000 2022</td></tr><tr><td>1595849217570123777</td><td>Ronald McDonald House Charities of Idaho</td><td>RMHIdaho</td><td>from all of us at ronald mcdonald house charities of idaho to you happy thanksgiving rmhcidaho</td><td>2247</td><td>Boise, Idaho</td><td>None</td><td>Thu Nov 24 18:37:57 +0000 2022</td></tr><tr><td>1595849217557274629</td><td>BingetownTV Pod 🎬🍿</td><td>bingetowntv</td><td>happy thanksgiving to all who celebrate from us at bingetown we are so thankful for all of our listeners and eve</td><td>1427</td><td>Bingetown</td><td>None</td><td>Thu Nov 24 18:37:57 +0000 2022</td></tr><tr><td>1595849218521956358</td><td>Jason Zok</td><td>jason_zok</td><td>rt czok thank you for the thanksgiving wishes always thankful happy thanksgiving petersndsu ndsufootball</td><td>4</td><td>None</td><td>None</td><td>Thu Nov 24 18:37:57 +0000 2022</td></tr><tr><td>1595849218635321350</td><td>Bark54</td><td>kemling_becky</td><td>rt rolandfortexas i am grateful to share thanksgiving with my wife and our beautiful daughters but today there are families in uvald</td><td>736</td><td>None</td><td>None</td><td>Thu Nov 24 18:37:57 +0000 2022</td></tr><tr><td>1595849218719387648</td><td>richard ferraina</td><td>RFerraina29</td><td>rt dl_thehunt happy thanksgiving from our family to yours</td><td>282</td><td>None</td><td>None</td><td>Thu Nov 24 18:37:57 +0000 2022</td></tr><tr><td>1595849218693939203</td><td>Bishop</td><td>Nole1617</td><td>dobrienatl happy thanksgiving and thank you for all you do</td><td>90</td><td>None</td><td>None</td><td>Thu Nov 24 18:37:57 +0000 2022</td></tr><tr><td>1595849218744369152</td><td>Salvador Mondragon</td><td>sal_mondragon</td><td>rt willscharf happy thanksgiving no human counsel hath devised nor hath any mortal hand worked out these great things they are the g</td><td>43</td><td>None</td><td>None</td><td>Thu Nov 24 18:37:57 +0000 2022</td></tr><tr><td>1595849219008770050</td><td>Greg</td><td>gwiss</td><td>rt internethippo people on this app pausing their usual unpleasantness to say happy thanksgiving that s how you know they re not truly d</td><td>14042</td><td>Colorado, USA</td><td>None</td><td>Thu Nov 24 18:37:57 +0000 2022</td></tr><tr><td>1595849218060591105</td><td>Ebontis</td><td>Ebontis</td><td>happy thanksgiving if you don t have an iceshakerbottle and some advancedgg this is a great way to pick one up a</td><td>4167</td><td>Dallas, TX</td><td>None</td><td>Thu Nov 24 18:37:57 +0000 2022</td></tr><tr><td>1595849218891055106</td><td>lex</td><td>strvmin</td><td>rt earthydoll yall dont get tired of acting like black people have thanksgiving gatherings to be like yasss i love colonialism</td><td>1546</td><td>joons crib</td><td>None</td><td>Thu Nov 24 18:37:57 +0000 2022</td></tr><tr><td>1595849218295472131</td><td>Bristo (0.9% OF)</td><td>Hungodey</td><td>happy thanksgiving sub to enjoy this cock</td><td>29117</td><td>Los Angeles, CA</td><td>None</td><td>Thu Nov 24 18:37:57 +0000 2022</td></tr><tr><td>1595849219000115206</td><td>Sora ※ || semi-ia</td><td>sorakh_13</td><td>nariscyno happy thanksgiving to u too even we don t celebrate it here</td><td>706</td><td>he/him 22 ita/eng</td><td>None</td><td>Thu Nov 24 18:37:57 +0000 2022</td></tr><tr><td>1595849219080065025</td><td>Bill</td><td>goatee63</td><td>rt holocaustmuseum holocaust survivors rae goldfarb and her mother dina celebrated their first thanksgiving a week after arriving in th</td><td>91</td><td>San Diego</td><td>None</td><td>Thu Nov 24 18:37:57 +0000 2022</td></tr><tr><td>1595849219159756800</td><td>Desire5000</td><td>desire5000</td><td>rt xabbyrossx it s almost thanksgiving and no one has stuffed me someone fix that please</td><td>425322</td><td>Atlanta</td><td>None</td><td>Thu Nov 24 18:37:57 +0000 2022</td></tr><tr><td>1595849217699880962</td><td>Whiting Bands</td><td>WhitingBands</td><td>happy thanksgiving from the band and choir pictures from last nights game and bandsgiving we had a great group of</td><td>223</td><td>Whiting, Indiana</td><td>None</td><td>Thu Nov 24 18:37:57 +0000 2022</td></tr><tr><td>1595849219205730306</td><td>Sad Boy</td><td>rmhooks_94</td><td>rt thefestiveowl on repeat today happy thanksgiving</td><td>1316</td><td>Metro Detroit Michigan, USA</td><td>None</td><td>Thu Nov 24 18:37:57 +0000 2022</td></tr><tr><td>1595849219004301315</td><td>Chris</td><td>OmgChrisDuke</td><td>happy thanksgiving everyone i don t wait for special days or anything to show everyone my love but i love all my f</td><td>172</td><td>the blue room</td><td>None</td><td>Thu Nov 24 18:37:57 +0000 2022</td></tr><tr><td>1595849219402698752</td><td>Marsha</td><td>Whippenz</td><td>daviddavidlaure david thanks so very much for sharing happy thanksgiving marsha</td><td>67308</td><td>San Francisco/East Bay Hills</td><td>None</td><td>Thu Nov 24 18:37:58 +0000 2022</td></tr><tr><td>1595849219490840582</td><td>Taylor Gunner | Top 0.08%💕</td><td>ItsTaylorGunner</td><td>angelmistress happy thanksgiving</td><td>91472</td><td>Southern California</td><td>None</td><td>Thu Nov 24 18:37:58 +0000 2022</td></tr><tr><td>1595849219621150720</td><td>Queen Kuuipo</td><td>KuuipoQueen</td><td>rt arwensharpreads year happy thanksgiving friendsgiving love life pc great community audio asmr female mug full of hugs</td><td>101</td><td>None</td><td>None</td><td>Thu Nov 24 18:37:58 +0000 2022</td></tr><tr><td>1595849219595964416</td><td>Jemarqus Mckenzie</td><td>JemarqusM</td><td>zelinavegawwe happy thanksgiving love to hear that</td><td>9</td><td>None</td><td>None</td><td>Thu Nov 24 18:37:58 +0000 2022</td></tr><tr><td>1595849219734229001</td><td>Orbros</td><td>DrOrbros</td><td>rt az_brittney yrs ago on t day i was so hungry bc i spent all my money on drugs my mom ended up bringing me some leftovers i ll nev</td><td>1689</td><td>None</td><td>None</td><td>Thu Nov 24 18:37:58 +0000 2022</td></tr><tr><td>1595849219549630466</td><td>Gia Marcelletti</td><td>Gia_Sumetra</td><td>happy thanksgiving thanksgiving mixedkids thai japanese italian irish</td><td>18</td><td>New Jersey, USA</td><td>None</td><td>Thu Nov 24 18:37:58 +0000 2022</td></tr><tr><td>1595849218836791297</td><td>AbodA</td><td>abodeble</td><td>happy thanksgiving and to all a good soup</td><td>1</td><td>None</td><td>None</td><td>Thu Nov 24 18:37:57 +0000 2022</td></tr><tr><td>1595849219797319681</td><td>shriya🌹×͜× PROUD OF LOUIS</td><td>cliffordmebf</td><td>rt goidenaffairs happy thanksgiving from niall horan</td><td>4741</td><td>im on the roof</td><td>None</td><td>Thu Nov 24 18:37:58 +0000 2022</td></tr><tr><td>1595849219818004480</td><td>Prego Liv ♡︎</td><td>BlackWidowMILF</td><td>rt harleyyqueen happy thanksgiving show me how thankful you are how bad do you wish you were stuffing me harleyyqueen ht</td><td>214413</td><td>top 0.7%</td><td>None</td><td>Thu Nov 24 18:37:58 +0000 2022</td></tr><tr><td>1595849219767955456</td><td>BAWS MAKA</td><td>bossmackalini1</td><td>lira_galore_ happy thanksgiving</td><td>319</td><td>UNITED STATES</td><td>None</td><td>Thu Nov 24 18:37:58 +0000 2022</td></tr><tr><td>1595849219893776384</td><td>NJ Gallegos loves Costco 🎃🥧</td><td>DrSpooky_ER</td><td>wesleymenard happy thanksgiving love you my friend</td><td>15026</td><td>None</td><td>None</td><td>Thu Nov 24 18:37:58 +0000 2022</td></tr><tr><td>1595849218861801472</td><td>shooter mcgavin</td><td>gavin__cole</td><td>happy thanksgiving skol</td><td>561</td><td>None</td><td>None</td><td>Thu Nov 24 18:37:57 +0000 2022</td></tr><tr><td>1595849219822456832</td><td>Seasonal Affective Drafting</td><td>draftsaredaft</td><td>the lack of testing and approval columns is appalling</td><td>85</td><td>None</td><td>None</td><td>Thu Nov 24 18:37:58 +0000 2022</td></tr><tr><td>1595849219939917824</td><td>💜Indigoᴮᴱ⁷RM💜</td><td>mehsaw</td><td>rt lorettab happy thanksgiving bts_twt amp army family i love you all myuniverse</td><td>439</td><td>In d 💜 of my BEMOJIKEN'S</td><td>None</td><td>Thu Nov 24 18:37:58 +0000 2022</td></tr><tr><td>1595849219872813057</td><td>Viiru The Cat & Kismet ☮️🇺🇦</td><td>kissanelamaa</td><td>gibsonthekitty happy thanksgiving for you i don t think dad even remembers it s the thanksgiving he hasn t real</td><td>7066</td><td>Finland</td><td>None</td><td>Thu Nov 24 18:37:58 +0000 2022</td></tr><tr><td>1595849219889561600</td><td>basamyousif</td><td>basamyousif</td><td>rt tesla happy thanksgiving thanks to the tesla team owners and fans for helping us accelerate the world s transition to sustainable</td><td>25</td><td>None</td><td>None</td><td>Thu Nov 24 18:37:58 +0000 2022</td></tr><tr><td>1595849219931357185</td><td>The Wrestling Clan</td><td>TheWrestleClan</td><td>rt _andreweverett happy thanksgiving</td><td>1148</td><td>None</td><td>None</td><td>Thu Nov 24 18:37:58 +0000 2022</td></tr><tr><td>1595849219939926016</td><td>louis benardo</td><td>alydar09</td><td>paulacweston happy thanksgiving hang in</td><td>106</td><td>Upstate,ny</td><td>None</td><td>Thu Nov 24 18:37:58 +0000 2022</td></tr><tr><td>1595849220019347458</td><td>Noah</td><td>U_AlreadyNoah</td><td>rt madflavor happy thanksgiving you savages much love to your families</td><td>660</td><td>Chicago, IL</td><td>None</td><td>Thu Nov 24 18:37:58 +0000 2022</td></tr><tr><td>1595849219990069258</td><td>c00chie mane 💞</td><td>kennessy_milan</td><td>rt realmainfeeling thanksgiving be trash now cause grandmas be ain t enough pain in that mac amp cheese</td><td>1129</td><td>NY</td><td>None</td><td>Thu Nov 24 18:37:58 +0000 2022</td></tr><tr><td>1595849220082106369</td><td>Colonel Kurtz</td><td>EHess67</td><td>rt realdailywire libs eating thanksgiving dinner like</td><td>72</td><td>None</td><td>None</td><td>Thu Nov 24 18:37:58 +0000 2022</td></tr><tr><td>1595849220094820354</td><td>Mrs.Joanne M. Fortier</td><td>FortierMrs</td><td>keep up soon your turn remember me i m cheerleader for you my love of michigan doll your my choice now</td><td>622</td><td>United States</td><td>None</td><td>Thu Nov 24 18:37:58 +0000 2022</td></tr><tr><td>1595849220187074565</td><td>Christene</td><td>pilottierney</td><td>rt waynedupreeshow a holiday message from joe thanksgiving</td><td>582</td><td>None</td><td>None</td><td>Thu Nov 24 18:37:58 +0000 2022</td></tr><tr><td>1595849222162628609</td><td>Wyatt Gunner</td><td>WyattGunner3</td><td>rt bennyjohnson the joyless succubus left reminds you that thanksgiving is actually bad ok such unhappy freaks could you imagine ha</td><td>15</td><td>None</td><td>None</td><td>Thu Nov 24 18:37:58 +0000 2022</td></tr><tr><td>1595849221936394240</td><td>𝕭𝖎𝖌 𝕶𝖊𝖓𝖓𝖞</td><td>BigKennyGaming</td><td>happy thanksgiving whos ready for some amazing ham stuffing turkey and black friday sales make sure you t</td><td>1024</td><td>Stockton, CA</td><td>None</td><td>Thu Nov 24 18:37:58 +0000 2022</td></tr><tr><td>1595849222255169537</td><td>Franko🛸</td><td>NotoriousSMB</td><td>rt yahoosportsnfl stefon diggs made this the best thanksgiving ever for this young fan via nfl</td><td>298</td><td>Van City C-Town</td><td>None</td><td>Thu Nov 24 18:37:58 +0000 2022</td></tr><tr><td>1595849222204850176</td><td>hawk 🪶 staunch ch. 139 apologist</td><td>parasiticyeager</td><td>rt dailyalucardcv happy thanksgiving adrianalucardtepes alucard castlevanianetflix castlevania</td><td>992</td><td>None</td><td>None</td><td>Thu Nov 24 18:37:58 +0000 2022</td></tr><tr><td>1595849222263230464</td><td>Rod Brooks</td><td>rodbrooks_qh</td><td>sportsanthony she bout to hit y all with the edward fortyhands happy thanksgiving brother</td><td>1916</td><td>None</td><td>None</td><td>Thu Nov 24 18:37:58 +0000 2022</td></tr><tr><td>1595849222208868356</td><td>🔥ChefDom👨🏻‍🍳</td><td>11ChefDom</td><td>saints i gotchu and i still hadn t forgot about that griot bro i bought me a new crock pot the other da</td><td>134</td><td>Space</td><td>None</td><td>Thu Nov 24 18:37:58 +0000 2022</td></tr><tr><td>1595849222301306880</td><td>Dr. Ben Winston</td><td>BUSA_Winston</td><td>rt fischerbusa happy thanksgiving from the department of commerce we are thankful for business owners the rising economy and our amazi</td><td>1</td><td>None</td><td>None</td><td>Thu Nov 24 18:37:58 +0000 2022</td></tr><tr><td>1595849222393561088</td><td>Anja Schmidt</td><td>AnjaSch50549695</td><td>michelleobama barackobama happy thanksgiving to you and your family</td><td>177</td><td>None</td><td>None</td><td>Thu Nov 24 18:37:58 +0000 2022</td></tr><tr><td>1595849222489784321</td><td>James R. Thompson</td><td>JamesRThompson2</td><td>rt jingles ronfilipkowski jamesrthompson happy thanksgiving to everyone except the gop traitors and seditionists go back to russi</td><td>16095</td><td>Las Vegas, NV. From Phoenix</td><td>None</td><td>Thu Nov 24 18:37:58 +0000 2022</td></tr><tr><td>1595849222506545152</td><td>Stacey Platt</td><td>BG_Swimmer</td><td>rt zionsvillegolf happy thanksgiving to all our eagle golf families we are truly blessed with great players parents and coaches p</td><td>114</td><td>Carmel, IN</td><td>None</td><td>Thu Nov 24 18:37:58 +0000 2022</td></tr><tr><td>1595849222577954817</td><td>SD</td><td>StupiDucker</td><td>rt michaelvogel i m proud to report that i made all these rolls for thanksgiving dinner for the family with a solid reduction in fl</td><td>3962</td><td>U.S.A.</td><td>None</td><td>Thu Nov 24 18:37:58 +0000 2022</td></tr><tr><td>1595849222792048640</td><td>lori p</td><td>Callmecheekau</td><td>rt kelleyashbypaul rand and i wish you an abundant thanksgiving filled with family friends and feasting we are blessed and grateful to</td><td>4</td><td>None</td><td>None</td><td>Thu Nov 24 18:37:58 +0000 2022</td></tr><tr><td>1595849222904954882</td><td>Catal Hadid</td><td>catulmija</td><td>rt popculture s the gossip girl thanksgiving episode where everyone got exposed while whatcha say by jason derulo is playing that s h</td><td>341</td><td>None</td><td>None</td><td>Thu Nov 24 18:37:58 +0000 2022</td></tr><tr><td>1595849222888521728</td><td>Lex🐘</td><td>alexiimonet</td><td>maybe i would care more about thanksgiving if my granny was here everybody dressing nasty and i m not in the mood</td><td>540</td><td>Sc: Lexiipretty</td><td>None</td><td>Thu Nov 24 18:37:58 +0000 2022</td></tr><tr><td>1595849222976286721</td><td>iris ✵</td><td>decayediris</td><td>cloviscringe im p decent just nervous for thanksgiving</td><td>116</td><td>✮bmi 16.1 | cw 91 lbs/41 kgs✮</td><td>None</td><td>Thu Nov 24 18:37:58 +0000 2022</td></tr><tr><td>1595849223009976322</td><td>Avisai Giron</td><td>GironAvisai</td><td>rt iamderrickyoung thanksgiving giveaway sorry for the late post all you have to do is follow me retweet like the post then</td><td>86</td><td>Venezuela</td><td>None</td><td>Thu Nov 24 18:37:58 +0000 2022</td></tr><tr><td>1595849223051874305</td><td>𝕮𝖍𝖆𝖘𝖊 💎</td><td>PacersWRLD</td><td>rt nscgriffin happy thanksgiving everyone i am doing a dollar gift card of your choice giveaway to enter follow like rt com</td><td>1437</td><td>None</td><td>None</td><td>Thu Nov 24 18:37:58 +0000 2022</td></tr><tr><td>1595849222179495939</td><td>Kevin M</td><td>BayouPhilosophy</td><td>happy thanksgiving from km and june the dog dogsoftwittter neworleans</td><td>9109</td><td>New Orleans, Louisiana</td><td>None</td><td>Thu Nov 24 18:37:58 +0000 2022</td></tr><tr><td>1595849222997397507</td><td>augh</td><td>aughreal</td><td>rt nonbatnary m thankful for you and i had a great turkey day hope you did too hope you a te plenty of turkey hope you had plenty of s</td><td>678</td><td>b: kindly_gator p: dook_spook</td><td>None</td><td>Thu Nov 24 18:37:58 +0000 2022</td></tr><tr><td>1595849223165050882</td><td>my penis shaft is strong like the oaktree</td><td>ohdontdothattt</td><td>rt patriciaheaton a little laugh for you tweatons ahead of the holiday everybodylovesraymond thanksgiving debrabarone</td><td>661</td><td>None</td><td>None</td><td>Thu Nov 24 18:37:58 +0000 2022</td></tr><tr><td>1595849222166904836</td><td>John Brown</td><td>JohnBro71037942</td><td>happy thanksgiving to all my fellow miracle miramonroexxx fans we all love you mira let her know</td><td>46</td><td>United States</td><td>None</td><td>Thu Nov 24 18:37:58 +0000 2022</td></tr><tr><td>1595849223005691908</td><td>Grandma Cookie 🍪</td><td>MhamoCookie</td><td>rt alroker so much to be thankful for on the thanksgiving day leaving the hospital and home for thanksgivingdinner</td><td>3908</td><td>None</td><td>None</td><td>Thu Nov 24 18:37:58 +0000 2022</td></tr><tr><td>1595849223123116033</td><td>Leonard Grunstein</td><td>LenGrunstein</td><td>rt lengrunstein honestreporting bluegreenberg gil_hoffman happy thanksgiving it is a very special day in our family when we all came</td><td>7161</td><td>New Jersey</td><td>None</td><td>Thu Nov 24 18:37:58 +0000 2022</td></tr><tr><td>1595849223148290051</td><td>michele Ann</td><td>sigh56</td><td>today is my b day its of the most beautiful day s i have been given in yrs sky usually looks like dirty dis</td><td>4291</td><td>New York</td><td>None</td><td>Thu Nov 24 18:37:58 +0000 2022</td></tr><tr><td>1595849222007709697</td><td>🪐.</td><td>itsrealpinkk</td><td>happy thanksgiving</td><td>2490</td><td>None</td><td>None</td><td>Thu Nov 24 18:37:58 +0000 2022</td></tr><tr><td>1595849223232454656</td><td>nelson arellano</td><td>nelsonarellano</td><td>thanksgiving is not your holiday bitch shut up i m getting pay to drink and eat</td><td>316</td><td>Brooklyn, NY</td><td>None</td><td>Thu Nov 24 18:37:58 +0000 2022</td></tr><tr><td>1595849223404228611</td><td>👀👀</td><td>Lee90kb</td><td>rt xxxconrad stuff me for thanksgiving me i taste better</td><td>84</td><td>Florida</td><td>None</td><td>Thu Nov 24 18:37:58 +0000 2022</td></tr><tr><td>1595849223450370049</td><td>Zeynep/ fan account</td><td>lorensedittr</td><td>rt iamlorengray happy thanksgiving my lovelies i m so thankful for you every single day forever be safe eat well amp enjoy today with you</td><td>37</td><td>None</td><td>None</td><td>Thu Nov 24 18:37:58 +0000 2022</td></tr><tr><td>1595849223416983552</td><td>Bob Moore</td><td>BobMooreNews</td><td>rt r_andradefranco first thanksgiving on what s now the us happened just north of rio grande in san elizario texas in spanish c</td><td>37774</td><td>El Paso, TX</td><td>None</td><td>Thu Nov 24 18:37:58 +0000 2022</td></tr><tr><td>1595849223479914496</td><td>BigPissFag</td><td>Mandrinker</td><td>happy u s thanksgiving to those who celebrate spare a thought for those who have to work today stay safe and eat sensibly lol sirs</td><td>4981</td><td>Spokane, WA</td><td>None</td><td>Thu Nov 24 18:37:58 +0000 2022</td></tr><tr><td>1595849223517487109</td><td>Coach G</td><td>CoachGroneqb</td><td>rt wgranchfootball happy thanksgiving to all of our families past and present enjoy the day</td><td>1447</td><td>Wesley Chapel, FL</td><td>None</td><td>Thu Nov 24 18:37:58 +0000 2022</td></tr><tr><td>1595849223626715136</td><td>Fresno State Creative Writing</td><td>FresnoStateMFA</td><td>rt poetsorg the forest is its own thanksgiving david st john thanksgiving</td><td>1952</td><td>Fresno, CA</td><td>None</td><td>Thu Nov 24 18:37:59 +0000 2022</td></tr><tr><td>1595849223643484160</td><td>joshua leclair</td><td>joshualeclair1</td><td>happy thanksgiving long beach airport lgbairport</td><td>29</td><td>San Diego</td><td>None</td><td>Thu Nov 24 18:37:59 +0000 2022</td></tr><tr><td>1595849223714791424</td><td>J🥺</td><td>jackyquirarte</td><td>rt barackobama one of my favorite white house traditions was telling thanksgiving jokes which at least i thought were funny here s a</td><td>2</td><td>None</td><td>None</td><td>Thu Nov 24 18:37:59 +0000 2022</td></tr><tr><td>1595849223773233152</td><td>Goldie (taylors version) LA 8/3</td><td>snailnamedgrape</td><td>rt netflix how wednesday addams celebrates thanksgiving</td><td>305</td><td>Any/all | minor</td><td>None</td><td>Thu Nov 24 18:37:59 +0000 2022</td></tr><tr><td>1595849222489866242</td><td>Michelle Moore</td><td>wabi_sabi</td><td>happy thanksgiving beautiful day grateful for abundant blessings and laughing as always at my wonderful husband</td><td>1153</td><td>DC & RVA, but GA is Home</td><td>None</td><td>Thu Nov 24 18:37:58 +0000 2022</td></tr><tr><td>1595849223815462912</td><td>merry mae</td><td>CreamforConcern</td><td>rt weedlord_boner we re going back in time to the first thanksgiving to get soggy cat off the menu</td><td>97</td><td>None</td><td>None</td><td>Thu Nov 24 18:37:59 +0000 2022</td></tr><tr><td>1595849223869984768</td><td>The Naked HodLer 1:1 🛡⚔⚜</td><td>Delaroche0</td><td>ppmctweets happy thanksgiving pp amp fam</td><td>1860</td><td>Antarctica</td><td>None</td><td>Thu Nov 24 18:37:59 +0000 2022</td></tr><tr><td>1595849223878184961</td><td>TruthDaddyNYC #EraseTrump 🇺🇦</td><td>truthdaddynyc</td><td>rt frankfigliuzzi not today let s give it a rest happy thanksgiving</td><td>139</td><td>Brooklyn, NY</td><td>None</td><td>Thu Nov 24 18:37:59 +0000 2022</td></tr><tr><td>1595849223899168768</td><td>JMM</td><td>JMM4256</td><td>rt michaeljknowles pov you are that uncle</td><td>19</td><td>Texas, USA</td><td>None</td><td>Thu Nov 24 18:37:59 +0000 2022</td></tr><tr><td>1595849224058728449</td><td>Kizzy 🦇🔊🍼🚨</td><td>kizzy070</td><td>rt layer xyz what are you grateful for this thanksgiving let us know below show your gratitude in our holiday quest and mint a speci</td><td>285</td><td>Nigeria</td><td>None</td><td>Thu Nov 24 18:37:59 +0000 2022</td></tr><tr><td>1595849224016510977</td><td>Panacea</td><td>GrossSauce</td><td>door dash ads are funny the only thanksgiving with fam you need is your doordash driver</td><td>307</td><td>Austin, TX</td><td>None</td><td>Thu Nov 24 18:37:59 +0000 2022</td></tr><tr><td>1595849224133828613</td><td>Vicky 🌊</td><td>SDISBEAUTIFUL1</td><td>andreas happy thanksgiving andrea</td><td>7944</td><td>San Diego, CA</td><td>None</td><td>Thu Nov 24 18:37:59 +0000 2022</td></tr><tr><td>1595849224083673089</td><td>Dennis Lynn Rima</td><td>Calrima</td><td>_melly_boo happy thanksgiving lil boo thanks for always being considerate</td><td>49</td><td>None</td><td>None</td><td>Thu Nov 24 18:37:59 +0000 2022</td></tr><tr><td>1595849224108785667</td><td>azu 🏠</td><td>hestmptress</td><td>rt harry_styles i m incredibly thankful for so much this year i hope everyone is staying safe and being good to each other happy thanks</td><td>412</td><td>she/her</td><td>None</td><td>Thu Nov 24 18:37:59 +0000 2022</td></tr><tr><td>1595849224234496000</td><td>🇺🇸Leonard 😇Vega🇺🇸</td><td>vega_leonard</td><td>rt taylorwane happy thanksgiving</td><td>406</td><td>Pico Rivera, CA</td><td>None</td><td>Thu Nov 24 18:37:59 +0000 2022</td></tr><tr><td>1595849224209457152</td><td>grace</td><td>srryabouturego</td><td>rt mrwilin if your family starts arguing on thanksgiving please go on live so we can all hear it</td><td>101</td><td>None</td><td>None</td><td>Thu Nov 24 18:37:59 +0000 2022</td></tr><tr><td>1595849224217837569</td><td>Katie B</td><td>goudabest</td><td>rt getbentsaggy happy thanksgiving xox</td><td>25</td><td>PA by way of WV</td><td>None</td><td>Thu Nov 24 18:37:59 +0000 2022</td></tr><tr><td>1595849224276484096</td><td>Juvenile Johnny</td><td>T1DJohnny</td><td>aviatorslv happy thanksgiving</td><td>1264</td><td>None</td><td>None</td><td>Thu Nov 24 18:37:59 +0000 2022</td></tr><tr><td>1595849224330977282</td><td>KEEPEMDRY</td><td>keepemdry</td><td>rt kylekulinski happy thanksgiving to all and a very happy bday to the lovely amp brilliant krystalball thanks for putting up with me</td><td>20</td><td>Chicago | CDMX</td><td>None</td><td>Thu Nov 24 18:37:59 +0000 2022</td></tr><tr><td>1595849226378153985</td><td>jo xoce martix</td><td>jo_martix</td><td>rt nikkibenz happy thanksgiving i won t cook but i ll clean</td><td>615</td><td>None</td><td>None</td><td>Thu Nov 24 18:37:59 +0000 2022</td></tr><tr><td>1595849226432675840</td><td>LucaTheAstronaut/wizard KOZMONAUTS MINTING LIVE 🚀</td><td>lucatheastrona1</td><td>rt kpleezee collazopitt youtube craigklee rogertriminio damienmilliby charles_s_bar richard kleekaieth ditto fam klee</td><td>8278</td><td>Exzidia</td><td>None</td><td>Thu Nov 24 18:37:59 +0000 2022</td></tr><tr><td>1595849223945474049</td><td>TheRealPotatoIAS</td><td>TheRPotatoIAS</td><td>happy thanksgiving guys enjoy your day and do something to bless others today enjoy your day and be sure to smile</td><td>5</td><td>Florida</td><td>None</td><td>Thu Nov 24 18:37:59 +0000 2022</td></tr><tr><td>1595849225723691009</td><td>CrazyRedReploid</td><td>CrazyRedReploid</td><td>happy thanksgiving everyone</td><td>545</td><td>None</td><td>None</td><td>Thu Nov 24 18:37:59 +0000 2022</td></tr><tr><td>1595849226432438277</td><td>SLJ</td><td>SLJ07940986</td><td>rt diamondnflad a nflallday thanksgiving premium pack giveaway like and retweet this post follow diamondnflad amp nflallday</td><td>13</td><td>None</td><td>None</td><td>Thu Nov 24 18:37:59 +0000 2022</td></tr><tr><td>1595849226470170624</td><td>✝️Rambling Rose</td><td>RubyCha29</td><td>ezraefrat happy thanksgiving</td><td>947</td><td>None</td><td>None</td><td>Thu Nov 24 18:37:59 +0000 2022</td></tr><tr><td>1595849226474336256</td><td>Pakitacabeza</td><td>Pakitacabeza5</td><td>rt damien_x_ this thanksgiving i m thankful for all these sexy men making my trip to brazil so incredibly special</td><td>265</td><td>None</td><td>None</td><td>Thu Nov 24 18:37:59 +0000 2022</td></tr><tr><td>1595849226507919361</td><td>Victor Ocean</td><td>VictorOcean2</td><td>rt peterobi it was an immense pleasure to personally attend bishop paulinus ezeokafor s th birthday and thanksgiving in awka po</td><td>3957</td><td>None</td><td>None</td><td>Thu Nov 24 18:37:59 +0000 2022</td></tr><tr><td>1595849226679885826</td><td>mOmO LbrD #zkRock🪨 (💙,🧡)🛸🌘0614.stark</td><td>mOmO_LbrD</td><td>rt layer xyz what are you grateful for this thanksgiving let us know below show your gratitude in our holiday quest and mint a speci</td><td>49</td><td>None</td><td>None</td><td>Thu Nov 24 18:37:59 +0000 2022</td></tr><tr><td>1595849226491232259</td><td>σf 🎥😈 яσуαℓмfнιgниєѕѕ</td><td>RoyalMfHighness</td><td>thanksgiving special enter royals playhouse for access to exclusive pictures and videos</td><td>113</td><td>United States</td><td>None</td><td>Thu Nov 24 18:37:59 +0000 2022</td></tr><tr><td>1595849226726133761</td><td>Tyler</td><td>_Tyler_Holcombe</td><td>americanriot_ happy thanksgiving man</td><td>23</td><td>None</td><td>None</td><td>Thu Nov 24 18:37:59 +0000 2022</td></tr><tr><td>1595849226663170053</td><td>LorellYan</td><td>LorellYan1900</td><td>rt barackobama wishing everyone a happy thanksgiving as we celebrate let s give thanks for all the blessings in our lives and give back</td><td>3649</td><td>None</td><td>None</td><td>Thu Nov 24 18:37:59 +0000 2022</td></tr><tr><td>1595849226684190722</td><td>Mac Anderson</td><td>Macormick_</td><td>rt mlb_memes walking back into the kitchen to get my th plate of thanksgiving food</td><td>218</td><td>Houston, TX</td><td>None</td><td>Thu Nov 24 18:37:59 +0000 2022</td></tr><tr><td>1595849226747056132</td><td>Freon Musk</td><td>8trip_</td><td>rt ufwupdates as you gather with friends and family this thanksgiving think about the farm workers who contributed to each dish tell us</td><td>264</td><td>he/him</td><td>None</td><td>Thu Nov 24 18:37:59 +0000 2022</td></tr><tr><td>1595849226776244224</td><td>KOLDNews</td><td>KOLDNews</td><td>rt gvfdpio from our family to yours happy thanksgiving day</td><td>93259</td><td>Tucson, AZ</td><td>None</td><td>Thu Nov 24 18:37:59 +0000 2022</td></tr><tr><td>1595849226918952963</td><td>UTA ROEMMERMANN</td><td>roemmermann</td><td>p_bischetti tres cher pat happy thanksgiving to you too in strasbourg enjoy your moments of beauty and peace</td><td>1650</td><td>NORTHERN GERMANY</td><td>None</td><td>Thu Nov 24 18:37:59 +0000 2022</td></tr><tr><td>1595849226797326339</td><td>ellie 🐄</td><td>elliedemmy</td><td>best part of thanksgiving</td><td>279</td><td>17</td><td>None</td><td>Thu Nov 24 18:37:59 +0000 2022</td></tr><tr><td>1595849226847911936</td><td>Landa</td><td>thegreatlapanda</td><td>rt thetonychimel happy thanksgiving to everyone enjoy the day maybe even order a cameo chimeo</td><td>204</td><td>None</td><td>None</td><td>Thu Nov 24 18:37:59 +0000 2022</td></tr><tr><td>1595849226965159940</td><td>Gwen Stevenson</td><td>GwenSte54880039</td><td>rt stephen me betty and my amazing son who now owns the world the day before thanksgiving ehhhh ten years ago don t hold me</td><td>320</td><td>Baton Rouge, LA</td><td>None</td><td>Thu Nov 24 18:37:59 +0000 2022</td></tr><tr><td>1595849227019730945</td><td>Leah Cheshier</td><td>LeahCheshier</td><td>rt jimfree grateful this thanksgiving for our artemis team every single person who made artemis i s launch a success those working r</td><td>23359</td><td>Houston, TX</td><td>None</td><td>Thu Nov 24 18:37:59 +0000 2022</td></tr><tr><td>1595849226398978052</td><td>let’s go brandon (ball)</td><td>ball_wire</td><td>happy thanksgiving freaks</td><td>256</td><td>Chicago / Boston</td><td>None</td><td>Thu Nov 24 18:37:59 +0000 2022</td></tr><tr><td>1595849227082633221</td><td>MIKE JAMZ</td><td>djmikejamz</td><td>why tf do the lions get thanksgiving every year</td><td>251</td><td>Chicago, IL</td><td>None</td><td>Thu Nov 24 18:37:59 +0000 2022</td></tr><tr><td>1595849227099324417</td><td>Pewter & Red 24/7</td><td>PewterRed24_7</td><td>jskeet espnfantasy i m saying espnfantasy bout to start a bunch of unnecessary problems on thanksgiving</td><td>11</td><td>Tampa, FL</td><td>None</td><td>Thu Nov 24 18:37:59 +0000 2022</td></tr><tr><td>1595849226398867462</td><td>uni</td><td>dmaorgs</td><td>if peopke dont stop saying happy thanksgiving to me im going to d</td><td>172</td><td>doll it pup ghost idol</td><td>null</td><td>null</td></tr><tr><td>white tme perisex 15</td><td>null</td><td>null</td><td>null</td><td>null</td><td>null</td><td>null</td><td>null</td></tr><tr><td>transneutral lesbian</td><td>null</td><td>null</td><td>null</td><td>null</td><td>null</td><td>null</td><td>null</td></tr><tr><td>adhdtistic did syshost</td><td>None</td><td>Thu Nov 24 18:37:59 +0000 2022</td><td>null</td><td>null</td><td>null</td><td>null</td><td>null</td></tr><tr><td>1595849227191873536</td><td>Flywheel | 00069.eth</td><td>flywheelfund</td><td>jpegprez happy thanksgiving</td><td>10221</td><td>None</td><td>None</td><td>Thu Nov 24 18:37:59 +0000 2022</td></tr><tr><td>1595849227346796544</td><td>Will you go to lunch</td><td>catcha_22</td><td>rt zaleskiluke joe biden is your president donald trump is a filthy lying traitor happy thanksgiving</td><td>533</td><td>Florence, Tuscany</td><td>None</td><td>Thu Nov 24 18:37:59 +0000 2022</td></tr><tr><td>1595849227350990855</td><td>Princess Price</td><td>BrendaP47936640</td><td>rt barackobama one of my favorite white house traditions was telling thanksgiving jokes which at least i thought were funny here s a</td><td>13</td><td>None</td><td>None</td><td>Thu Nov 24 18:37:59 +0000 2022</td></tr><tr><td>1595849227334131714</td><td>Indian_Artwork</td><td>conquistador_k</td><td>s meone_u_know hoping for a miracle on thanksgiving presenting first blackfriday sale on nft nfts are availa</td><td>58</td><td>New Delhi, India</td><td>None</td><td>Thu Nov 24 18:37:59 +0000 2022</td></tr><tr><td>1595849227539996672</td><td>I drink and I sew things 🍷✨</td><td>Perkunavis</td><td>rt getbentsaggy happy thanksgiving xox</td><td>451</td><td>None</td><td>None</td><td>Thu Nov 24 18:37:59 +0000 2022</td></tr><tr><td>1595849227652956160</td><td>Kim Salpietra</td><td>KASalpi</td><td>rt elonmusk have a great thanksgiving</td><td>17</td><td>None</td><td>None</td><td>Thu Nov 24 18:37:59 +0000 2022</td></tr><tr><td>1595849227766226952</td><td>XZ</td><td>XZdrafts</td><td>xchrispatrick happy thanksgiving</td><td>49</td><td>Forever</td><td>None</td><td>Thu Nov 24 18:38:00 +0000 2022</td></tr><tr><td>1595849227825029120</td><td>Liam</td><td>LiamHawksfan</td><td>rt nscgriffin happy thanksgiving everyone i am doing a dollar gift card of your choice giveaway to enter follow like rt com</td><td>1325</td><td>None</td><td>None</td><td>Thu Nov 24 18:38:00 +0000 2022</td></tr><tr><td>1595849228034756610</td><td>Bearxican</td><td>noclue2994</td><td>rt habibimoee happy thanksgiving loves</td><td>147</td><td>CDMX</td><td>None</td><td>Thu Nov 24 18:38:00 +0000 2022</td></tr><tr><td>1595849228152197120</td><td>OnePieceFan</td><td>OnePiec34601152</td><td>rt _srpelo_ i was watching the mokey s thanksgiving episode and i forgot how insanely dumb it is i miss making mokey</td><td>2</td><td>None</td><td>None</td><td>Thu Nov 24 18:38:00 +0000 2022</td></tr><tr><td>1595849228215255040</td><td>Kerisz</td><td>Kerisz1</td><td>rt nzxt happy thanksgiving from nzxt reply with for a chance to win a goodie box stuffed with plenty of surprises</td><td>2</td><td>None</td><td>None</td><td>Thu Nov 24 18:38:00 +0000 2022</td></tr><tr><td>1595849228143714308</td><td>🇺🇸 ULTRA MAGA Shane 🇺🇸</td><td>coondog420</td><td>rt immeme happy thanksgiving</td><td>287</td><td>Kentucky, USA</td><td>None</td><td>Thu Nov 24 18:38:00 +0000 2022</td></tr><tr><td>1595849228370481152</td><td>Crystal4Kamala - Proud Democrat</td><td>crystal4obama</td><td>rt thenatldogshow happy thanksgiving today s the day catch the national dog show on nbc from pm pm</td><td>4640</td><td>Internet</td><td>None</td><td>Thu Nov 24 18:38:00 +0000 2022</td></tr><tr><td>1595849228298997762</td><td>Scott Casey Gale</td><td>DunkinDonutsNo1</td><td>rt governorva my message on this thanksgiving day</td><td>831</td><td>McHenry, IL</td><td>None</td><td>Thu Nov 24 18:38:00 +0000 2022</td></tr><tr><td>1595849228215001096</td><td>BLACK LIVES MATTER!!🌹🚀</td><td>GoldenBoiDeeja</td><td>luxxtheeicon jakedmika liketems i m not saying anything else because you said what my last point was going to be</td><td>322</td><td>Bella Noche</td><td>None</td><td>Thu Nov 24 18:38:00 +0000 2022</td></tr><tr><td>1595849228508594176</td><td>Skylar Baker-Jordan</td><td>SkylarJordan</td><td>rt ukinchicago a lot has changed in the years since the mayflower but one thing remains the same we re thankful for the frien</td><td>6449</td><td>Johnson City, TN</td><td>None</td><td>Thu Nov 24 18:38:00 +0000 2022</td></tr><tr><td>1595849228529856512</td><td>$harty</td><td>SkylerOmg</td><td>thanksgiving is just government mandated family time</td><td>331</td><td>International house of pain</td><td>None</td><td>Thu Nov 24 18:38:00 +0000 2022</td></tr><tr><td>1595849228622123013</td><td>Hope 🙏❤️</td><td>TigrayYordi</td><td>rt milash_weldu_ brothers sisters amp freedom fighter we wishing you hope joy peace good health favor amp love on this thanksgiving</td><td>928</td><td>None</td><td>None</td><td>Thu Nov 24 18:38:00 +0000 2022</td></tr><tr><td>1595849228492079105</td><td>👑King Slaya⚔️</td><td>TruuGawd</td><td>kyrie a better man than me</td><td>1112</td><td>BBU Alum 😈</td><td>None</td><td>Thu Nov 24 18:38:00 +0000 2022</td></tr><tr><td>1595849228496130049</td><td>Laurice</td><td>badgalreecy</td><td>as a brit i have thanksgiving fomo</td><td>189</td><td>None</td><td>None</td><td>Thu Nov 24 18:38:00 +0000 2022</td></tr><tr><td>1595849228554829830</td><td>nico !</td><td>retroswifties</td><td>to spread positivity on the timeline tag people you re grateful for this thanksgiving lt</td><td>789</td><td>she/they</td><td>None</td><td>Thu Nov 24 18:38:00 +0000 2022</td></tr><tr><td>1595849227237838849</td><td>Saint Viator Athletics 🦁</td><td>ViatorAthletics</td><td>happy thanksgiving from viatorathletics we are blessed for your support amp mentorship of our student athletes thro</td><td>3042</td><td>Arlington Heights, IL</td><td>None</td><td>Thu Nov 24 18:37:59 +0000 2022</td></tr><tr><td>1595849228768743425</td><td>PvtRyan</td><td>PvtRyan312</td><td>betrugg happy thanksgiving</td><td>302</td><td>New York, NY</td><td>None</td><td>Thu Nov 24 18:38:00 +0000 2022</td></tr><tr><td>1595849228768620544</td><td>Mighty</td><td>M1GHTIESTS</td><td>happy thanksgiving</td><td>4</td><td>Somewhere</td><td>None</td><td>Thu Nov 24 18:38:00 +0000 2022</td></tr><tr><td>1595849228789592064</td><td>Real Salt Lake</td><td>realsaltlake</td><td>tis the season of giving to celebrate thanksgiving we joined thanksgivingsh to deliver meals to families in the slc area</td><td>168222</td><td>America First Field</td><td>None</td><td>Thu Nov 24 18:38:00 +0000 2022</td></tr><tr><td>1595849228869423104</td><td>ABBEY MET PARX</td><td>GL00MB0YSEAS0N</td><td>rt discussingfilm the wimpy kid and grogu balloons at macy s thanksgiving parade via wimpykid</td><td>3711</td><td>Any Pronouns 19</td><td>None</td><td>Thu Nov 24 18:38:00 +0000 2022</td></tr><tr><td>1595849230840922112</td><td>Eric B. Fuller</td><td>EricBFuller</td><td>rt realjameswoods happy thanksgiving</td><td>5283</td><td>San Diego, CA</td><td>None</td><td>Thu Nov 24 18:38:00 +0000 2022</td></tr><tr><td>1595849230731464705</td><td>ワールドニュース of ビジネス/株式/FX/仮想通貨</td><td>money_and_biz_</td><td>[bloomberg] this thanksgiving it might be wise to avoid talk of crypto</td><td>462</td><td>None</td><td>None</td><td>Thu Nov 24 18:38:00 +0000 2022</td></tr><tr><td>1595849230660210689</td><td>Gary Stevenson</td><td>mrdowntown805</td><td>rt michaeljknowles pov you are that uncle</td><td>3</td><td>Paso Robles, CA</td><td>None</td><td>Thu Nov 24 18:38:00 +0000 2022</td></tr><tr><td>1595849230429884417</td><td>OnchainShufflers | Public Mint LIVE</td><td>ShufflersNFT</td><td>gm and happy holiday what s the best match with thanksgiving dinner the fifaworldcup might be a good choi</td><td>5245</td><td>Metaverse</td><td>None</td><td>Thu Nov 24 18:38:00 +0000 2022</td></tr><tr><td>1595849230979039234</td><td>M H aus A</td><td>greizer</td><td>rt adamtotscomix this comic has made its way to right wing accounts so of course i m being inundated with comments like this also gettin</td><td>268</td><td>Germany</td><td>None</td><td>Thu Nov 24 18:38:00 +0000 2022</td></tr><tr><td>1595849230878445568</td><td>Ujjal BD 007</td><td>ujjalbd0</td><td>done one of the best project all task complete moshiurbnb arifhos shakibbd imrulkoyes</td><td>183</td><td>Khamis Mushait, Kingdom of Sau</td><td>None</td><td>Thu Nov 24 18:38:00 +0000 2022</td></tr><tr><td>1595849231243350017</td><td>GleeshyyySlickAss🧘🏾‍♂️👹</td><td>RealGleeshyyy</td><td>rt vada_fly they prolly in my mentions upset in my mentions go to hell on thanksgiving</td><td>603</td><td>None</td><td>None</td><td>Thu Nov 24 18:38:00 +0000 2022</td></tr><tr><td>1595849231184674816</td><td>Tyran</td><td>Tyran71092637</td><td>itssjustp happy thanksgiving</td><td>553</td><td>Texas, USA</td><td>None</td><td>Thu Nov 24 18:38:00 +0000 2022</td></tr><tr><td>1595849231125708804</td><td>Mar Vista Voice</td><td>marvistavoice</td><td>rt acekatana no tv feature for all the groups who do this every day when the cameras aren t rolling tho</td><td>1535</td><td>Mar Vista, Los Angeles</td><td>None</td><td>Thu Nov 24 18:38:00 +0000 2022</td></tr><tr><td>1595849231407140864</td><td>Chip Vescio</td><td>ChipVescio</td><td>rt catturd can t wait to dig into thanksgiving dinner tomorrow in joe biden s america</td><td>1023</td><td>None</td><td>None</td><td>Thu Nov 24 18:38:00 +0000 2022</td></tr><tr><td>1595849231419555840</td><td>Jan Batten ✍️ 🇺🇦 🌻</td><td>janjan2892</td><td>rt victorshi i know this platform can often feel dark amp toxic amp scary but i ll always be grateful for all of you your support your</td><td>2185</td><td>None</td><td>None</td><td>Thu Nov 24 18:38:00 +0000 2022</td></tr><tr><td>1595849231511977984</td><td>James Carter</td><td>BIGGUCCIJOHNNY</td><td>rt madi_thebaddie hell is so hot</td><td>1526</td><td>None</td><td>None</td><td>Thu Nov 24 18:38:00 +0000 2022</td></tr><tr><td>1595849230572478465</td><td>Elizabeth O'Neal 💖 Heart of the Family</td><td>eliz_oneal</td><td>wishing you a very happy thanksgiving may your day be filled with family blessings and gratitude thanksgiving</td><td>4729</td><td>Santa Barbara</td><td>None</td><td>Thu Nov 24 18:38:00 +0000 2022</td></tr><tr><td>1595849231524368385</td><td>Gordy_Kegs</td><td>gordy_kegs</td><td>darthiefabulous happy thanksgiving wishing you a speedy recovery</td><td>1672</td><td>None</td><td>None</td><td>Thu Nov 24 18:38:00 +0000 2022</td></tr><tr><td>1595849231633330178</td><td>Oh Hi Mark</td><td>ColoradosMark</td><td>rt drsimonegold i am thankful to be living in a constitutional republic may god bless america on this thanksgiving day</td><td>810</td><td>Colorado, USA</td><td>None</td><td>Thu Nov 24 18:38:00 +0000 2022</td></tr><tr><td>1595849231570534400</td><td>Aileen</td><td>aileentotheleft</td><td>when you have no thanksgiving plans so you fall into a black hole of online black friday sales someone stop me</td><td>547</td><td>Orange County, CA</td><td>None</td><td>Thu Nov 24 18:38:00 +0000 2022</td></tr><tr><td>1595849231746666496</td><td>NWACHUKWU UCHECHUKWU</td><td>GUNMONK</td><td>happy thanksgiving friends bon appetit</td><td>9708</td><td>Lagos</td><td>None</td><td>Thu Nov 24 18:38:00 +0000 2022</td></tr><tr><td>1595849232077840384</td><td>JimBurke21</td><td>J9164366533</td><td>rt kaleegood happy thanksgiving everyone</td><td>1648</td><td>Newport Beach, CA</td><td>None</td><td>Thu Nov 24 18:38:01 +0000 2022</td></tr><tr><td>1595849232015101952</td><td>stanjross 🩺</td><td>stanjross</td><td>rt champsanders happy thanksgiving y all what s three mandatory things on y all s plate</td><td>1408</td><td>Ada, OK</td><td>None</td><td>Thu Nov 24 18:38:01 +0000 2022</td></tr><tr><td>1595849232015151104</td><td>Im Deb</td><td>_Lynnnnnnnnnn</td><td>you can t expect nothing else from a norf nigga</td><td>596</td><td>Philly</td><td>None</td><td>Thu Nov 24 18:38:01 +0000 2022</td></tr><tr><td>1595849232157736960</td><td>Alana.K.Asby</td><td>Alana_K_Asby</td><td>standing at prayer with the family remembering my mother seeing my son help his little brother read his portio</td><td>54</td><td>Midwest America</td><td>None</td><td>Thu Nov 24 18:38:01 +0000 2022</td></tr><tr><td>1595849232216358916</td><td>BOMBIMAN #UCRM</td><td>DUBLADORSHINEE2</td><td>rt _srpelo_ i was watching the mokey s thanksgiving episode and i forgot how insanely dumb it is i miss making mokey</td><td>645</td><td>canalzito de fandub merda ai</td><td>None</td><td>Thu Nov 24 18:38:01 +0000 2022</td></tr><tr><td>1595849231163871232</td><td>Dear God</td><td>DearGodPosts</td><td>happy thanksgiving everyone</td><td>185</td><td>None</td><td>None</td><td>Thu Nov 24 18:38:00 +0000 2022</td></tr><tr><td>1595849232350695424</td><td>pushpulljlm</td><td>pushandpulljlm</td><td>rt omgno trump i wish everyone a happy thanksgiving however you clebrate wherever you are amp regardless of who you re with it s a wond</td><td>1713</td><td>North Carolina, USA</td><td>None</td><td>Thu Nov 24 18:38:01 +0000 2022</td></tr><tr><td>1595849232443133954</td><td>Rene Reyes</td><td>Jaksonic5678</td><td>rt _srpelo_ i was watching the mokey s thanksgiving episode and i forgot how insanely dumb it is i miss making mokey</td><td>731</td><td>California, USA</td><td>None</td><td>Thu Nov 24 18:38:01 +0000 2022</td></tr><tr><td>1595849232442859522</td><td>17DISH</td><td>17DISH</td><td>rt hillaryclinton wishing you and yours a happy and delicious thanksgiving</td><td>7132</td><td>None</td><td>None</td><td>Thu Nov 24 18:38:01 +0000 2022</td></tr><tr><td>1595849232434479106</td><td>T.</td><td>SavannaGirlXO</td><td>donaldjtrumpjr it s thanksgiving no one wants to see this crap on their timeline miserable</td><td>98</td><td>None</td><td>None</td><td>Thu Nov 24 18:38:01 +0000 2022</td></tr><tr><td>1595849232417800197</td><td>Mike</td><td>mschaefer164</td><td>rt h omelonsugar happy thanksgiving who s giving me a stuffing</td><td>1832</td><td>None</td><td>None</td><td>Thu Nov 24 18:38:01 +0000 2022</td></tr><tr><td>1595849232551927809</td><td>The Robert Morrison</td><td>rs_morrison</td><td>zo happer pca mashed potatoes and apple crisp</td><td>754</td><td>Rock Hill, SC</td><td>None</td><td>Thu Nov 24 18:38:01 +0000 2022</td></tr><tr><td>1595849232619114498</td><td>Ambitious_Dream_904</td><td>lildrejohnson</td><td>rt ballislife kyrie i don t particularly celebrate thanksgiving but anybody getting together with their families blessings to all you</td><td>908</td><td>None</td><td>None</td><td>Thu Nov 24 18:38:01 +0000 2022</td></tr><tr><td>1595849232854179842</td><td>Charlie26</td><td>CharlieCo26</td><td>blumczynska happy thanksgiving</td><td>186</td><td>Winnipeg, Manitoba Canada</td><td>None</td><td>Thu Nov 24 18:38:01 +0000 2022</td></tr><tr><td>1595849232988127232</td><td>AnDaghdha</td><td>TuathDeEriu</td><td>rt willockhammemes what is killary cooking for thanksgiving</td><td>15</td><td>Ireland</td><td>None</td><td>Thu Nov 24 18:38:01 +0000 2022</td></tr><tr><td>1595849232526761987</td><td>AdelArcticWolf</td><td>AdelArcticWolf</td><td>foxmarley happy thanksgiving marley let s play a thanksgiving game</td><td>19</td><td>Canada</td><td>None</td><td>Thu Nov 24 18:38:01 +0000 2022</td></tr><tr><td>1595849233072066560</td><td>Kaitlyn Kilgour</td><td>kaitlyn_kilgour</td><td>happy american thanksgiving to all my american friends hope you get to spend time with loved ones</td><td>733</td><td>Listowel, Ont</td><td>None</td><td>Thu Nov 24 18:38:01 +0000 2022</td></tr><tr><td>1595849232136957952</td><td>Anna H</td><td>annalouise79</td><td>scott_olson happy thanksgiving scott</td><td>1711</td><td>A town called Malice</td><td>None</td><td>Thu Nov 24 18:38:01 +0000 2022</td></tr><tr><td>1595849233239867392</td><td>Kevin 😵‍💫</td><td>kevsveryown</td><td>rt famousdex happy thanksgiving y all be safe an enjoy yourself with your family</td><td>1360</td><td>Nashville, TN</td><td>None</td><td>Thu Nov 24 18:38:01 +0000 2022</td></tr><tr><td>1595849232623104000</td><td>Mark Connolly</td><td>MarkCon62681586</td><td>cher happy thanksgiving</td><td>17</td><td>None</td><td>None</td><td>Thu Nov 24 18:38:01 +0000 2022</td></tr><tr><td>1595849233248174081</td><td>Hᴇᴀᴠᴇɴʟʏ Dᴇᴍᴏɴ</td><td>HimStillOvaThr</td><td>rt nfl stefondiggs brought this buffalobills fan on the field to have a catch with him best thanksgiving ever bufvsdet</td><td>858</td><td>Louisiana</td><td>None</td><td>Thu Nov 24 18:38:01 +0000 2022</td></tr><tr><td>1595849233176969284</td><td>JJ</td><td>Johnny_dramaPA</td><td>mintybets happy thanksgiving minty</td><td>400</td><td>Ocean City, NJ</td><td>None</td><td>Thu Nov 24 18:38:01 +0000 2022</td></tr><tr><td>1595849233248272384</td><td>(((Tom Adams))) 💙 👇🏿⚡⚡👇🏿</td><td>TomAdam42241521</td><td>rt govrondesantis caseydesantis and i wish everyone a happy thanksgiving every floridian should take a moment today to give thanks for</td><td>55</td><td>Some Where, This Awesome PLACE</td><td>None</td><td>Thu Nov 24 18:38:01 +0000 2022</td></tr><tr><td>1595849232417947648</td><td>Lisa</td><td>Alisa661162051</td><td>happy thanksgiving to all of you thanks to our parents taught me sincerity and courtesy thanks to my uncle it w</td><td>28</td><td>Los Angeles, USA.</td><td>None</td><td>Thu Nov 24 18:38:01 +0000 2022</td></tr><tr><td>1595849233520795649</td><td>@Jim_Swarts</td><td>JimSwarts1001</td><td>rt realjameswoods happy thanksgiving</td><td>21</td><td>Manhattan, KS</td><td>None</td><td>Thu Nov 24 18:38:01 +0000 2022</td></tr><tr><td>1595849233650835460</td><td>Larry Valo</td><td>diggerdog99</td><td>rt teampelosi as americans cherish our thanksgiving blessings and express our gratitude for one another i say to all of you thank you</td><td>471</td><td>None</td><td>None</td><td>Thu Nov 24 18:38:01 +0000 2022</td></tr><tr><td>1595849232543813632</td><td>Inland Northwest Group</td><td>509homes</td><td>happy thanksgiving from the inland nw group we re thankful for our clients who choose us for their real estate n</td><td>25</td><td>Washington, USA</td><td>None</td><td>Thu Nov 24 18:38:01 +0000 2022</td></tr><tr><td>1595849233781125120</td><td>juan summit 🫡</td><td>passionfru1ty</td><td>it feels amazing not waking up hungover on thanksgiving</td><td>2136</td><td>Austin, TX</td><td>None</td><td>Thu Nov 24 18:38:01 +0000 2022</td></tr><tr><td>1595849233961472000</td><td>nativetweet</td><td>N8TVTweet</td><td>rt barstoolsports happy thanksgiving</td><td>111</td><td>Alberta Canada</td><td>None</td><td>Thu Nov 24 18:38:01 +0000 2022</td></tr><tr><td>1595849233743101953</td><td>The Carolina Faithful</td><td>cockyfaithful</td><td>would you rather be around your high class family or low class family at thanksgiving</td><td>2114</td><td>South Carolina, USA</td><td>None</td><td>Thu Nov 24 18:38:01 +0000 2022</td></tr><tr><td>1595849232832921601</td><td>GlxyVrtx</td><td>GlxyVrtx</td><td>happy thanksgiving to you all very thankful to all my friends you know who you are i apologize for not communica</td><td>330</td><td>None</td><td>None</td><td>Thu Nov 24 18:38:01 +0000 2022</td></tr><tr><td>1595849234045026304</td><td>Ken Wilmesherr</td><td>KenWilmesherr1</td><td>coachdougbrady god bless you and your family happy thanksgiving coach</td><td>1547</td><td>None</td><td>None</td><td>Thu Nov 24 18:38:01 +0000 2022</td></tr><tr><td>1595849232774475776</td><td>The Boulevard of Chicago</td><td>blvdofchicago</td><td>happy thanksgiving from all of us at the boulevard</td><td>35</td><td>Chicago, IL</td><td>None</td><td>Thu Nov 24 18:38:01 +0000 2022</td></tr><tr><td>1595849234842255360</td><td>KY</td><td>Freyth180</td><td>rt barackobama one of my favorite white house traditions was telling thanksgiving jokes which at least i thought were funny here s a</td><td>38</td><td>None</td><td>None</td><td>Thu Nov 24 18:38:01 +0000 2022</td></tr><tr><td>1595849234665725953</td><td>JoeyBK The 1st🇵🇷🇿🇦🗽</td><td>JoeyD_718</td><td>rt etanthomas they know kyrie irving doesn t celebrate thanksgiving and they know exactly why because he has explained his connection t</td><td>112</td><td>Los Angeles, CA / Brooklyn, NY</td><td>None</td><td>Thu Nov 24 18:38:01 +0000 2022</td></tr><tr><td>1595849234816827395</td><td>Volodymyr Stefak</td><td>StefakVolodymyr</td><td>rt anyatrades this is what happens if you eat too much turkey please don t make the same mistake happy thanksgiving</td><td>9</td><td>None</td><td>None</td><td>Thu Nov 24 18:38:01 +0000 2022</td></tr><tr><td>1595849234774986759</td><td>blump </td><td>blumpgood</td><td>for thanksgiving i m thankful for bobby kevin and ofc jalen wilson</td><td>6047</td><td>None</td><td>None</td><td>Thu Nov 24 18:38:01 +0000 2022</td></tr><tr><td>1595849234959536131</td><td>Aaron | Bevo</td><td>soIitarydreams</td><td>rt longhornnetwork what s your favorite thanksgiving tradition and why is it watching justin tucker s game winning fg against the aggies</td><td>12</td><td>Texas</td><td>None</td><td>Thu Nov 24 18:38:01 +0000 2022</td></tr><tr><td>1595849234946965509</td><td>Roll 🏳️‍⚧️ 🆖</td><td>numbdropbc</td><td>rt _srpelo_ i was watching the mokey s thanksgiving episode and i forgot how insanely dumb it is i miss making mokey</td><td>56</td><td>Break City</td><td>None</td><td>Thu Nov 24 18:38:01 +0000 2022</td></tr><tr><td>1595849235026640896</td><td>Arcturus Brandir Hawkins</td><td>DeltaHawkins22</td><td>saltyalyx the people of twitter knew what they wanted for thanksgiving</td><td>2</td><td>None</td><td>None</td><td>Thu Nov 24 18:38:01 +0000 2022</td></tr><tr><td>1595849235181756425</td><td>joker | onlyfans is $3!!!</td><td>TricxJoker</td><td>rt tiffanybabe happy thanksgiving</td><td>42487</td><td>United Kingdom</td><td>None</td><td>Thu Nov 24 18:38:01 +0000 2022</td></tr><tr><td>1595849234804252672</td><td>Oliveto</td><td>MooreOliveto</td><td>happy thanksgiving from all of us at moore oliveto mooreoliveto happythanksgiving givethanks turkeyday</td><td>114</td><td>Moore, OK</td><td>None</td><td>Thu Nov 24 18:38:01 +0000 2022</td></tr><tr><td>1595849235345379330</td><td>emilie IS SEEING TAYLOR ON TOUR</td><td>loveherronn</td><td>rt loganhenderson wishing you a happy thanksgiving with your family friends and loved ones so damn thankful for all of youz</td><td>557</td><td>Frederick, MD</td><td>None</td><td>Thu Nov 24 18:38:01 +0000 2022</td></tr><tr><td>1595849235211386880</td><td>Crawdaddy</td><td>Crawdad76268324</td><td>rt sak_shoes what it s a holiday happy thanksgiving everyone</td><td>809</td><td>Yeah nice try Stalker!</td><td>None</td><td>Thu Nov 24 18:38:01 +0000 2022</td></tr><tr><td>1595849235387121664</td><td>Aleister Ejazi</td><td>ejazi_aleister</td><td>rt drspooky_er happy thanksgiving i m thankful for lots of things especially my twitter fam my wife and boys and shots of jason momoa</td><td>34</td><td>None</td><td>None</td><td>Thu Nov 24 18:38:01 +0000 2022</td></tr><tr><td>1595849234993274881</td><td>HannaC</td><td>HannaC40703604</td><td>thanksgiving cooking vibes</td><td>0</td><td>USA/Canada</td><td>None</td><td>Thu Nov 24 18:38:01 +0000 2022</td></tr><tr><td>1595849235512975361</td><td>DrrDenise</td><td>DrrDenise</td><td>rt bosnerdley happy thanksgiving thank you rush limbaugh for gifting america the real story of thanksgiving which had been lost to hi</td><td>1577</td><td>None</td><td>None</td><td>Thu Nov 24 18:38:01 +0000 2022</td></tr><tr><td>1595849232119906304</td><td>Smash This Podcast</td><td>SmashThisPod</td><td>happy thanksgiving all blackfridaydeals a great time to get some stp merch save in the stp shop includ</td><td>1976</td><td>Wisconsin, USA</td><td>None</td><td>Thu Nov 24 18:38:01 +0000 2022</td></tr><tr><td>1595849235471155201</td><td>cena 🧀</td><td>cena_ok</td><td>happy thanksgiving everyone let s all eat some good food watch football and just enjoy the day</td><td>89</td><td>None</td><td>None</td><td>Thu Nov 24 18:38:01 +0000 2022</td></tr><tr><td>1595849235781791745</td><td>thailynn💄</td><td>baptizedinroses</td><td>rt popculture s the gossip girl thanksgiving episode where everyone got exposed while whatcha say by jason derulo is playing that s h</td><td>84</td><td>♓︎☼⋄♍︎☾⋄ ♋︎↑</td><td>None</td><td>Thu Nov 24 18:38:01 +0000 2022</td></tr><tr><td>1595849235630620674</td><td>Ghayas Muhammad</td><td>GhayasM73</td><td>rt independent lemurs enjoy thanksgiving feast at chicago zoo</td><td>1144</td><td>Karachi, Pakistan</td><td>None</td><td>Thu Nov 24 18:38:01 +0000 2022</td></tr><tr><td>1595849235710320645</td><td>Dar</td><td>OnlyUtd</td><td>rt davemcnamee me at thanksgiving dinner explaining to my gfs family who hasbullah is</td><td>0</td><td>None</td><td>None</td><td>Thu Nov 24 18:38:01 +0000 2022</td></tr><tr><td>1595849235769032707</td><td>Angel River</td><td>biomanzilla</td><td>rt mrt on this thanksgiving day i am blessed grateful and thankful that s why i am so happy to be a blessing to others jesus said it</td><td>45</td><td>Fun City</td><td>None</td><td>Thu Nov 24 18:38:01 +0000 2022</td></tr><tr><td>1595849235882479618</td><td>CanD</td><td>Sweet_Can_D</td><td>rt _srpelo_ i was watching the mokey s thanksgiving episode and i forgot how insanely dumb it is i miss making mokey</td><td>256</td><td>None</td><td>None</td><td>Thu Nov 24 18:38:01 +0000 2022</td></tr><tr><td>1595849235873808386</td><td>Julie ♡</td><td>toloveLfromVine</td><td>rt hellokitty happy thanksgiving tag someone you re thankful for</td><td>512</td><td>New York, NY</td><td>None</td><td>Thu Nov 24 18:38:01 +0000 2022</td></tr><tr><td>1595849235853103104</td><td>Mike Hampton</td><td>MikeHam32590868</td><td>carrolltontxpd i just want to say to all happy thanksgiving carrollton please be safe do not drink and drive</td><td>12</td><td>None</td><td>None</td><td>Thu Nov 24 18:38:01 +0000 2022</td></tr><tr><td>1595849235794219010</td><td>The Wild And Wondeful World Of Jerry Glanville</td><td>JasonWVanBuren</td><td>baseballchickie happy thanksgiving</td><td>590</td><td>Cleveland, TN</td><td>None</td><td>Thu Nov 24 18:38:01 +0000 2022</td></tr><tr><td>1595849235991494656</td><td>❄️ ThePublicAccount ❄️</td><td>naegi__love</td><td>rt etikamemories happy thanksgiving</td><td>213</td><td>they / bi</td><td>None</td><td>Thu Nov 24 18:38:01 +0000 2022</td></tr><tr><td>1595849235957780487</td><td>penchantζ</td><td>penchantzz</td><td>happy thanksgiving and happy holidays everyone</td><td>1351</td><td>None</td><td>None</td><td>Thu Nov 24 18:38:01 +0000 2022</td></tr><tr><td>1595849236020695047</td><td>UCHE</td><td>NBA_1908</td><td>rt peterobi it was an immense pleasure to personally attend bishop paulinus ezeokafor s th birthday and thanksgiving in awka po</td><td>657</td><td>Worldwide 🌍</td><td>None</td><td>Thu Nov 24 18:38:01 +0000 2022</td></tr><tr><td>1595849236175650816</td><td>Petra Meyer 😺🌎🇺🇸 🇬🇧 🇩🇪 🇺🇦✝️✡️</td><td>petrameyerx</td><td>rpsagainsttrump pumpkin for thanksgiving apple for the rest of the year</td><td>1750</td><td>None</td><td>None</td><td>Thu Nov 24 18:38:02 +0000 2022</td></tr><tr><td>1595849235169165313</td><td>Commerce Σigmas🤘🏾</td><td>Commerce_Sigmas</td><td>we wish everyone a happy thanksgiving pbs gomab tamuc</td><td>1758</td><td>Texas A&M University-Commerce</td><td>None</td><td>Thu Nov 24 18:38:01 +0000 2022</td></tr><tr><td>1595849236167495681</td><td>Mia 🖤</td><td>sincerelymiac</td><td>bringing my granny home for thanksgiving grateful for her everyday</td><td>96</td><td>None</td><td>None</td><td>Thu Nov 24 18:38:02 +0000 2022</td></tr><tr><td>1595849236268158977</td><td>Rational Thinker ~</td><td>Rational119</td><td>wonyuge yummy happy thanksgiving to you amp yours</td><td>407</td><td>None</td><td>None</td><td>Thu Nov 24 18:38:02 +0000 2022</td></tr><tr><td>1595849236033290241</td><td>Kenny</td><td>kenny_too_many</td><td>happy thanksgiving to you and yours</td><td>831</td><td>Rhode Island, USA</td><td>None</td><td>Thu Nov 24 18:38:01 +0000 2022</td></tr><tr><td>1595849236255543297</td><td>Dantheman79</td><td>DannybarH1</td><td>rt locolizardz happy thanksgiving to all web hbar and loco americans</td><td>117</td><td>None</td><td>None</td><td>Thu Nov 24 18:38:02 +0000 2022</td></tr><tr><td>1595849236410560513</td><td>DPGDevourer</td><td>butler_devante</td><td>rt mercanthonytv thanksgiving this year is starting with a flight to miami i like the way this is going hyped for art basel coming u</td><td>590</td><td>None</td><td>None</td><td>Thu Nov 24 18:38:02 +0000 2022</td></tr><tr><td>1595849236381409280</td><td>Alexandre F</td><td>alexandre2927</td><td>rt speakerpelosi from my family to yours happy thanksgiving</td><td>1553</td><td>Paris, France</td><td>None</td><td>Thu Nov 24 18:38:02 +0000 2022</td></tr><tr><td>1595849236423262208</td><td>Jack Walker</td><td>JackWal81682040</td><td>rt coachqgray happy thanksgiving today isn t just about the food and deserts it s about giving thanks for what god has given us the abi</td><td>98</td><td>None</td><td>None</td><td>Thu Nov 24 18:38:02 +0000 2022</td></tr><tr><td>1595849236435931138</td><td>Nolo</td><td>Nolonra</td><td>whatchagot say lol i feel ya i am cooking for thanksgiving and got side tracked with rm i am like shit how do i</td><td>4</td><td>None</td><td>None</td><td>Thu Nov 24 18:38:02 +0000 2022</td></tr><tr><td>1595849236565970945</td><td>emily (cold 🍁👩‍❤️‍💋‍👩🏳️‍⚧️)</td><td>sportswithem</td><td>living in louisiana and being on twitter has made me more skeptical of how thanksgiving is going to go</td><td>249</td><td>Baton Rouge, LA</td><td>None</td><td>Thu Nov 24 18:38:02 +0000 2022</td></tr><tr><td>1595849236679204864</td><td>pet</td><td>shybear1005</td><td>rt mistressmolly a thanksgiving flash</td><td>1023</td><td>Florida</td><td>None</td><td>Thu Nov 24 18:38:02 +0000 2022</td></tr><tr><td>1595849236737916928</td><td>Ben Owen 🇺🇸</td><td>hrkbenowen</td><td>rt hrkbenowen what s your favorite pie on thanksgiving</td><td>174565</td><td>None</td><td>None</td><td>Thu Nov 24 18:38:02 +0000 2022</td></tr><tr><td>1595849236586930178</td><td>cade</td><td>sir_cade</td><td>operation turnkey turkey was a success nd year if not cooking a thing at thanksgiving catered is the move</td><td>1142</td><td>Newnan, GA</td><td>None</td><td>Thu Nov 24 18:38:02 +0000 2022</td></tr><tr><td>1595849236914270208</td><td>Blumenauer's Bowtie</td><td>BlumiesBowtie</td><td>happy thanksgiving i have a puppy chow with one ingredient increased just for you</td><td>82</td><td>None</td><td>None</td><td>Thu Nov 24 18:38:02 +0000 2022</td></tr><tr><td>1595849236826193920</td><td>ً</td><td>heartsantidote</td><td>aaron tveit u will always be famous</td><td>4857</td><td>20 they</td><td>None</td><td>Thu Nov 24 18:38:02 +0000 2022</td></tr><tr><td>1595849237090082816</td><td>Avirati</td><td>Avirati_</td><td>rt sadiabts happy thanksgiving to all i m thankful for bts for these precious men who brings comfort and such joy to my life grat</td><td>32</td><td>Boraland</td><td>None</td><td>Thu Nov 24 18:38:02 +0000 2022</td></tr><tr><td>1595849237174312960</td><td>Érick d'Orion</td><td>ErickDorion</td><td>rt normalcomposers b la bart k chugging a beer with his family happy thanksgiving</td><td>257</td><td>Montréal, Québec</td><td>None</td><td>Thu Nov 24 18:38:02 +0000 2022</td></tr><tr><td>1595849237106925570</td><td>DASEFACE 🎭</td><td>backflipDase</td><td>have a blessed thanksgiving everyone</td><td>601</td><td>SOMEWHERE</td><td>None</td><td>Thu Nov 24 18:38:02 +0000 2022</td></tr><tr><td>1595849237018775552</td><td>francisco</td><td>novafucks</td><td>rt chixtape thanksgiving was a success</td><td>437</td><td>LA</td><td>None</td><td>Thu Nov 24 18:38:02 +0000 2022</td></tr><tr><td>1595849237308252161</td><td>Jason Bourne CIA</td><td>bourne_cia</td><td>mettechr happy thanksgiving mette</td><td>2789</td><td>Behind you.</td><td>None</td><td>Thu Nov 24 18:38:02 +0000 2022</td></tr><tr><td>1595849237186678784</td><td>Tibou</td><td>Tibou33969029</td><td>in truth massacres disease amp american indian tribal politics are what shaped the pilgrim</td><td>4249</td><td>None</td><td>None</td><td>Thu Nov 24 18:38:02 +0000 2022</td></tr><tr><td>1595849237262176256</td><td>Dans Hat</td><td>dans_hat</td><td>rt yesimhotinthis my family personally does not celebrate thanksgiving but we do take advantage of sale turkeys and time off to get toge</td><td>263</td><td>None</td><td>None</td><td>Thu Nov 24 18:38:02 +0000 2022</td></tr><tr><td>1595849238994636800</td><td>Lewd Group \\ 🟡 /</td><td>lewdgr0up</td><td>i m gonna be offline for a loong time because of thanksgiving so yeah</td><td>117</td><td>Everywhere</td><td>None</td><td>Thu Nov 24 18:38:02 +0000 2022</td></tr><tr><td>1595849239053348864</td><td>LittleFirefly</td><td>1005_Firefly</td><td>rt hokukiss usaxiaozhanxfx thank you usaxiaozhanxfx happy thanksgiving to everyone so much to be grateful for especially our famil</td><td>219</td><td>None</td><td>None</td><td>Thu Nov 24 18:38:02 +0000 2022</td></tr><tr><td>1595849238986084355</td><td>✨ Selenerrrs_MUA 🌒🤍</td><td>omg_selenaa</td><td>rt thahumorguy me on thanksgiving when my family starts asking me about my love life career and future</td><td>577</td><td>None</td><td>None</td><td>Thu Nov 24 18:38:02 +0000 2022</td></tr><tr><td>1595849239313121281</td><td>Vasia 💜♌️</td><td>klaxo</td><td>rt kekerawasf tomorrow is thanksgiving next is christmas then a whole new year these months are really flying by i pray b</td><td>68</td><td>Toronto, Ontario</td><td>None</td><td>Thu Nov 24 18:38:02 +0000 2022</td></tr><tr><td>1595849239279566849</td><td>Guerdy Jean Louis</td><td>jeanlouisguerdy</td><td>happy thanksgiving to all be safe and enjoy to the fullest</td><td>11</td><td>New York, USA</td><td>None</td><td>Thu Nov 24 18:38:02 +0000 2022</td></tr><tr><td>1595849239346585601</td><td>Cory Michelman</td><td>CoryMichelman</td><td>coachdmcconnell happy thanksgiving coach</td><td>216</td><td>None</td><td>None</td><td>Thu Nov 24 18:38:02 +0000 2022</td></tr><tr><td>1595849239489564673</td><td>April Shorty</td><td>April_Shorty_</td><td>rt deb happy thanksgiving i m thankful for philately friends from around the globe thanksgiving</td><td>879</td><td>USA</td><td>None</td><td>Thu Nov 24 18:38:02 +0000 2022</td></tr><tr><td>1595849239413792777</td><td>The Smith Factor</td><td>KeithSmith14590</td><td>graphiteone happy thanksgiving to the graphite one team</td><td>328</td><td>New York, USA</td><td>None</td><td>Thu Nov 24 18:38:02 +0000 2022</td></tr><tr><td>1595849239220846595</td><td>Jeff Is In Texas</td><td>JeffIsInTexas</td><td>my sisters place has directv who has blocked the local fox affiliate because negotiations so we may not be about t</td><td>1135</td><td>The Crap Part of Texas</td><td>None</td><td>Thu Nov 24 18:38:02 +0000 2022</td></tr><tr><td>1595849239325818885</td><td>Richard McGee 🇺🇸🇺🇦</td><td>Richard01368677</td><td>rt senmarkkelly today i hope everyone is able to gather with their loved ones there are many things to be grateful for and it s a great</td><td>293</td><td>St Louis, MO</td><td>None</td><td>Thu Nov 24 18:38:02 +0000 2022</td></tr><tr><td>1595849239468425222</td><td>C McTel</td><td>SMctel</td><td>rt travistritt happy thanksgiving i hope you all enjoy the holiday and get to spend it with family and friends</td><td>448</td><td>None</td><td>None</td><td>Thu Nov 24 18:38:02 +0000 2022</td></tr><tr><td>1595849239623774208</td><td>FederviehFanatic</td><td>DDietz13</td><td>rt zachbraff in case this is my last post on here happy thanksgiving from my family to yours</td><td>29</td><td>None</td><td>None</td><td>Thu Nov 24 18:38:02 +0000 2022</td></tr><tr><td>1595849239011422209</td><td>Stefan Hajdukovich</td><td>smhajduke</td><td>happy thanksgiving</td><td>10</td><td>None</td><td>None</td><td>Thu Nov 24 18:38:02 +0000 2022</td></tr><tr><td>1595849239489290246</td><td>emilie IS SEEING TAYLOR ON TOUR</td><td>loveherronn</td><td>rt ebenofficial happy thanksgiving everyone can t explain how thankful i am for all of you and the blessings you ve added to my life</td><td>557</td><td>Frederick, MD</td><td>None</td><td>Thu Nov 24 18:38:02 +0000 2022</td></tr><tr><td>1595849239019814913</td><td>Ethan</td><td>EthanSVG</td><td>susannahoffs happy thanksgiving to you and your family</td><td>1232</td><td>None</td><td>None</td><td>Thu Nov 24 18:38:02 +0000 2022</td></tr><tr><td>1595849239657070593</td><td>Sanders Ekanepi</td><td>ekanepi</td><td>lynn have an absolutely wonderful and happy thanksgiving</td><td>79</td><td>None</td><td>None</td><td>Thu Nov 24 18:38:02 +0000 2022</td></tr><tr><td>1595849239707504641</td><td>Raymonde</td><td>RaymondeWinkle3</td><td>rt militarycooi happy thanksgiving to all who serve we are grateful for all that you do</td><td>220</td><td>None</td><td>None</td><td>Thu Nov 24 18:38:02 +0000 2022</td></tr><tr><td>1595849239854202882</td><td>DrVegapunk.eth (💙,🧡) |Gladiator XVIII ∞</td><td>sotirakisoeo</td><td>rt buddabearsnft happy thanksgiving to all the budda ful bears who celebrate turkey day get that extra plate ready make sure there s</td><td>905</td><td>None</td><td>None</td><td>Thu Nov 24 18:38:02 +0000 2022</td></tr><tr><td>1595849239849947136</td><td>Mary 💙</td><td>SweetMaryBecky</td><td>rt joncoopertweets what s your favorite thanksgiving pie</td><td>8602</td><td>None</td><td>None</td><td>Thu Nov 24 18:38:02 +0000 2022</td></tr><tr><td>1595849239766106117</td><td>🇺🇸❤️Follow back Patriots ✨💙🇺🇸🗽</td><td>MakeupByOne</td><td>these are the states where thanksgiving dinner will be most and least expensive this year</td><td>3374</td><td>USA</td><td>None</td><td>Thu Nov 24 18:38:02 +0000 2022</td></tr><tr><td>1595849239829020672</td><td>DeeD</td><td>Doree1414</td><td>rt antman i can t wait till friday so i can read all the tweets from liberals who had a meltdown over celebrating thanksgiving</td><td>181</td><td>None</td><td>None</td><td>Thu Nov 24 18:38:02 +0000 2022</td></tr><tr><td>1595849240085172224</td><td>natalie smith</td><td>smogger1</td><td>rt officialjaskoyt happy thanksgiving i m thankful for this amazing community and all the times we ve spent together thank you for a</td><td>100</td><td>Liverpool</td><td>None</td><td>Thu Nov 24 18:38:02 +0000 2022</td></tr><tr><td>1595849240126816256</td><td>Rabu Alejandro</td><td>OliverReino</td><td>rt rauwalejandro happy thanksgiving hombre del a o with gqmexico gqmagazine</td><td>7403</td><td>Barcelona, España</td><td>None</td><td>Thu Nov 24 18:38:02 +0000 2022</td></tr><tr><td>1595849240298881024</td><td>Cryptodifra</td><td>ikoflank89</td><td>rt naten thankful to be in kas and chng on this thanksgiving</td><td>69</td><td>None</td><td>None</td><td>Thu Nov 24 18:38:02 +0000 2022</td></tr><tr><td>1595849240261050370</td><td>Yung Reznov.</td><td>Its_gio25</td><td>rt madflavor happy thanksgiving you savages much love to your families</td><td>1189</td><td>Houston, TX</td><td>None</td><td>Thu Nov 24 18:38:02 +0000 2022</td></tr><tr><td>1595849240378773504</td><td>Nickster48</td><td>Nickster482</td><td>rt thewatchful ne may not be a full thanksgiving feast but still its has turkey lol a nice turkey and briee sandwich with some baked pot</td><td>1020</td><td>Edmonton, Alberta</td><td>None</td><td>Thu Nov 24 18:38:03 +0000 2022</td></tr><tr><td>1595849240214994944</td><td>Raquel Garcia</td><td>RaquelGarcia182</td><td>thank you happy thanksgiving blessings to you and your beautiful family</td><td>237</td><td>None</td><td>None</td><td>Thu Nov 24 18:38:02 +0000 2022</td></tr><tr><td>1595849240453971976</td><td>TOPDROPS</td><td>nbatopdrops</td><td>rt nflallday happy thanksgiving from all of us at nflallday icymi we re giving you a chance to win signed footballs from rsherma</td><td>1658</td><td>None</td><td>None</td><td>Thu Nov 24 18:38:03 +0000 2022</td></tr><tr><td>1595849240596684803</td><td>Destiny</td><td>_destriv</td><td>lmfao working on thanksgiving is giving me lonely vibes this is so stupid</td><td>941</td><td>Massachusetts, USA</td><td>None</td><td>Thu Nov 24 18:38:03 +0000 2022</td></tr><tr><td>1595849240659791872</td><td>Brenda Schein🦖</td><td>Brenda_Schein</td><td>rt malachaisfate in honor of thanksgiving i m bringing this iconic mon el scene back onto your timelines</td><td>90</td><td>Gramado, Brasil</td><td>None</td><td>Thu Nov 24 18:38:03 +0000 2022</td></tr><tr><td>1595849240861085696</td><td>Scream of The Butterfly</td><td>odetomedusa</td><td>rt yyyetii odetomedusa still needing help if you can spare anything today especially if you have the means to help please do this is</td><td>14252</td><td>through the emptiness</td><td>None</td><td>Thu Nov 24 18:38:03 +0000 2022</td></tr><tr><td>1595849240848338952</td><td>c</td><td>iloveyouxoxs</td><td>rt popculture s the gossip girl thanksgiving episode where everyone got exposed while whatcha say by jason derulo is playing that s h</td><td>339</td><td>✈️</td><td>None</td><td>Thu Nov 24 18:38:03 +0000 2022</td></tr><tr><td>1595849240886099968</td><td>Ed Garcia V.</td><td>EdVvr99</td><td>rt vp from our family to yours happy thanksgiving</td><td>10</td><td>None</td><td>None</td><td>Thu Nov 24 18:38:03 +0000 2022</td></tr><tr><td>1595849240944812034</td><td>Epiphany 👩‍🚀</td><td>Epiphan97646595</td><td>katchtaebear happy thanksgiving</td><td>227</td><td>None</td><td>None</td><td>Thu Nov 24 18:38:03 +0000 2022</td></tr><tr><td>1595849241142128641</td><td>Mr Miyagi</td><td>WhoDatMiyagi</td><td>itslyonking happy thanksgiving brotha enjoy the refuel day</td><td>1472</td><td>Cardboard Box</td><td>None</td><td>Thu Nov 24 18:38:03 +0000 2022</td></tr><tr><td>1595849241011920896</td><td>ghost of arden</td><td>ardenossium</td><td>charliejuststop pulling out the envy video essay at the thanksgiving table</td><td>785</td><td>@edenseraphim</td><td>None</td><td>Thu Nov 24 18:38:03 +0000 2022</td></tr><tr><td>1595849239577460736</td><td>OpTic Lunchbox</td><td>Lunchbox</td><td>happy thanksgiving everyone this year im thankful for my family friends and the greenwall and for thanksgivi</td><td>49896</td><td>Illinois</td><td>None</td><td>Thu Nov 24 18:38:02 +0000 2022</td></tr><tr><td>1595849240127082496</td><td>Steve Sullivan</td><td>sully7777</td><td>old is tackling thanksgiving like it s baz and ranchino are in columbia hog reports at pm and pm on</td><td>37419</td><td>arkansas</td><td>None</td><td>Thu Nov 24 18:38:02 +0000 2022</td></tr><tr><td>1595849241288933376</td><td>David Swiss</td><td>DSwizzleDude</td><td>rt stevenbeschloss i am grateful for all the good people here the caring people the people who yearn to make the world a better place</td><td>11</td><td>None</td><td>None</td><td>Thu Nov 24 18:38:03 +0000 2022</td></tr><tr><td>1595849240428814339</td><td>AllanD</td><td>PapaAtsuover</td><td>life can be so tough but there s always something to be thankful for happy thanksgiving everyone</td><td>6218</td><td>None</td><td>None</td><td>Thu Nov 24 18:38:03 +0000 2022</td></tr><tr><td>1595849241129373696</td><td>🎀 ULTINEET 🔜 Install 2022</td><td>ultineet</td><td>happy thanksgiving to all my moots who celebrate it yay</td><td>6570</td><td>Finland</td><td>None</td><td>Thu Nov 24 18:38:03 +0000 2022</td></tr><tr><td>1595849241225748480</td><td>jess</td><td>jessahjoestar</td><td>rt pokemon what we re thankful for eevee pikachu and you hope you enjoyed the macys thanksgiving day parade trainers macy</td><td>2</td><td>None</td><td>None</td><td>Thu Nov 24 18:38:03 +0000 2022</td></tr><tr><td>1595849241183899648</td><td>William Ceballos</td><td>William33619200</td><td>wonderful actress</td><td>2519</td><td>None</td><td>None</td><td>Thu Nov 24 18:38:03 +0000 2022</td></tr><tr><td>1595849240831459328</td><td>Beth S.</td><td>ilovemygirls04</td><td>therealeveplumb happy thanksgiving to you and your family</td><td>978</td><td>Michigan, USA</td><td>None</td><td>Thu Nov 24 18:38:03 +0000 2022</td></tr><tr><td>1595849241431543808</td><td>'Docta D' Daryl Johnson</td><td>ThaRealDoctaD</td><td>rt aewliquid happy thanksgiving to all my amazing peeps i m so thankful that everything that has happened this year so many changes and</td><td>903</td><td>Maryland, USA</td><td>None</td><td>Thu Nov 24 18:38:03 +0000 2022</td></tr><tr><td>1595849241288736772</td><td>Kiernan McClelland</td><td>canuckonaut</td><td>happy thursday to all the space policy wonks down south</td><td>95</td><td>Ottawa, Canada</td><td>None</td><td>Thu Nov 24 18:38:03 +0000 2022</td></tr><tr><td>1595849241527783431</td><td>CameronF305</td><td>CameronF305</td><td>thankful for you all thankful to be alive happy thanksgiving everyone</td><td>495</td><td>www.cameronf305.com</td><td>None</td><td>Thu Nov 24 18:38:03 +0000 2022</td></tr><tr><td>1595849241271975941</td><td>Auroner</td><td>Usuario83426382</td><td>rt brfootball thanksgiving day switzerland vs cameroon uruguay vs south korea portugal vs ghana brazil vs serbia let s eat</td><td>8</td><td>None</td><td>None</td><td>Thu Nov 24 18:38:03 +0000 2022</td></tr><tr><td>1595849241590730753</td><td>Hottakes</td><td>hottakesmitch</td><td>trying to ruin my thanksgiving at</td><td>27</td><td>None</td><td>None</td><td>Thu Nov 24 18:38:03 +0000 2022</td></tr><tr><td>1595849241662033920</td><td>أبورؤس عبدالكاشف 🇯🇴🇰🇼🇶🇦🇸🇦🇾🇪🇦🇪🇧🇭🇴🇲</td><td>Aburooslibya</td><td>rt tesla happy thanksgiving thanks to the tesla team owners and fans for helping us accelerate the world s transition to sustainable</td><td>1163</td><td>Murree, Pakistan  🇵🇰</td><td>None</td><td>Thu Nov 24 18:38:03 +0000 2022</td></tr><tr><td>1595849243259985922</td><td>Democracy, not fascism.</td><td>thecitizeNY</td><td>rt dashdobrofsky only in america does tucker carlson get to celebrate thanksgiving in his mansion after he spent the last year hawking me</td><td>3830</td><td>New York City</td><td>None</td><td>Thu Nov 24 18:38:03 +0000 2022</td></tr><tr><td>1595849243121668096</td><td>Mos</td><td>mosballin</td><td>still streaming come say happy thanksgiving</td><td>24519</td><td>Cairo, Egypt</td><td>None</td><td>Thu Nov 24 18:38:03 +0000 2022</td></tr><tr><td>1595849243306196995</td><td>KPÒMO MARKET.</td><td>KpomoM</td><td>rt peterobi it was an immense pleasure to personally attend bishop paulinus ezeokafor s th birthday and thanksgiving in awka po</td><td>721</td><td>None</td><td>None</td><td>Thu Nov 24 18:38:03 +0000 2022</td></tr><tr><td>1595849243356696576</td><td>Robyn Bean</td><td>robynlbn</td><td>laurenboebert you are out in so that brings me the most happiness of all on this day of thanksgiving</td><td>208</td><td>Portland, Oregon</td><td>None</td><td>Thu Nov 24 18:38:03 +0000 2022</td></tr><tr><td>1595849242538840066</td><td>Notneeow</td><td>jeffreywebb1221</td><td>karmenkiiz happy thanksgiving karmen glad to have you as a friend</td><td>477</td><td>Bourbon Co., KY</td><td>None</td><td>Thu Nov 24 18:38:03 +0000 2022</td></tr><tr><td>1595849243289427971</td><td>Scott Goode</td><td>ScottGo69899995</td><td>rt txtoezz happy thanksgiving thankful for all of you</td><td>654</td><td>None</td><td>None</td><td>Thu Nov 24 18:38:03 +0000 2022</td></tr><tr><td>1595849243432030208</td><td>adélaïde motte</td><td>adelaidemotte15</td><td>lots to be grateful for this year happy thanksgiving to all</td><td>18</td><td>mamaroneck NY</td><td>None</td><td>Thu Nov 24 18:38:03 +0000 2022</td></tr><tr><td>1595849243558023168</td><td>Kristina Katzen</td><td>ktawakatzen</td><td>claudialily happy thanksgiving</td><td>922</td><td>Washington, USA</td><td>None</td><td>Thu Nov 24 18:38:03 +0000 2022</td></tr><tr><td>1595849243339669507</td><td>DSpazz</td><td>DevinSpann</td><td>rt x_hems happy turkey day everyone please enjoy the following senior byufootball players as thanksgiving dishes a thread</td><td>666</td><td>Utah</td><td>None</td><td>Thu Nov 24 18:38:03 +0000 2022</td></tr><tr><td>1595849243545190400</td><td>OLEИA🍭</td><td>01olena_</td><td>rt rauwalejandro happy thanksgiving hombre del a o with gqmexico gqmagazine</td><td>480</td><td>None</td><td>None</td><td>Thu Nov 24 18:38:03 +0000 2022</td></tr><tr><td>1595849243666825217</td><td>WAGMI Bot</td><td>bbugs_WAGMI_bot</td><td>rt rxzeberry gm happy thanksgiving really glad to be here and to have met so many amazing people in the space let s be sure to help</td><td>220</td><td>None</td><td>None</td><td>Thu Nov 24 18:38:03 +0000 2022</td></tr><tr><td>1595849243557859328</td><td>Jubei95</td><td>Jubei9595</td><td>kimmumewtv happy thanksgiving kimmie</td><td>11</td><td>None</td><td>None</td><td>Thu Nov 24 18:38:03 +0000 2022</td></tr><tr><td>1595849243713044484</td><td>mau</td><td>mgarciaxd</td><td>rt themuppets from our family to yours wishing you a happy thanksgiving with bellies full of food homes full of friends and family and</td><td>380</td><td>San Antonio, TX</td><td>None</td><td>Thu Nov 24 18:38:03 +0000 2022</td></tr><tr><td>1595849243713060865</td><td>🕸</td><td>isaiahweb_</td><td>rt xxxtentacion for those of you that get to spend this thanksgiving with your family or friends appreciate them while you can life onl</td><td>144</td><td>dtx</td><td>None</td><td>Thu Nov 24 18:38:03 +0000 2022</td></tr><tr><td>1595849243771949056</td><td>cat caterson</td><td>2tweetnot2tweet</td><td>generalbrnovich it s not a good thanksgiving for all those in arizona that had their votes lost i m guessing t</td><td>11</td><td>None</td><td>None</td><td>Thu Nov 24 18:38:03 +0000 2022</td></tr><tr><td>1595849244036022273</td><td>ℓαу 🍁</td><td>geezlais</td><td>a hallmark classic</td><td>2602</td><td>All Up In Your Mind</td><td>None</td><td>Thu Nov 24 18:38:03 +0000 2022</td></tr><tr><td>1595849244136640512</td><td>𝒮𝒾𝓁𝓁𝓎 ℬ𝒾𝓁𝓁𝓎</td><td>sunflowersluut</td><td>rt sunflowersluut mamamelonz happy thanksgiving from my tiddies</td><td>2706</td><td>Far Far Away</td><td>None</td><td>Thu Nov 24 18:38:03 +0000 2022</td></tr><tr><td>1595849244010758147</td><td>Bishop Chatard Trojan Horse</td><td>BCHSTrojanHorse</td><td>let s go trojans only more days until the state championships trojanfamily trojanpride letsgo letsride</td><td>134</td><td>Indianapolis, IN</td><td>None</td><td>Thu Nov 24 18:38:03 +0000 2022</td></tr><tr><td>1595849244224913409</td><td>MallocTpoc</td><td>MallocTpoc</td><td>ksorbs thank you happy thanksgiving to you too</td><td>10</td><td>Florida, USA</td><td>None</td><td>Thu Nov 24 18:38:03 +0000 2022</td></tr><tr><td>1595849243243253764</td><td>☁️🫧Tara🫧☁️</td><td>XLittleTeaX</td><td>happy thanksgiving from my puppy babies olive and pickles</td><td>1101</td><td>She/her</td><td>None</td><td>Thu Nov 24 18:38:03 +0000 2022</td></tr><tr><td>1595849244241526786</td><td>jakob</td><td>saltyspruce</td><td>telephone wire is a thanksgiving song</td><td>442</td><td>he/him | 23</td><td>None</td><td>Thu Nov 24 18:38:03 +0000 2022</td></tr><tr><td>1595849244467830784</td><td>Alex Leong</td><td>AlexFunko1982</td><td>rt originalfunko happy thanksgiving what are you thankful for today funko thanksgiving</td><td>155</td><td>Singapore</td><td>None</td><td>Thu Nov 24 18:38:03 +0000 2022</td></tr><tr><td>1595849243457355776</td><td>𝔽𝕠𝕣𝕥𝕚𝕤𝕤𝕚𝕞𝕠𝕟𝕒</td><td>Fortissimona</td><td>happy thanksgiving from my first wedgewaddle roc</td><td>1103</td><td>Rochester, NY</td><td>None</td><td>Thu Nov 24 18:38:03 +0000 2022</td></tr><tr><td>1595849244568682497</td><td>USAMom</td><td>KerriAr23197523</td><td>rt drsimonegold i am thankful to be living in a constitutional republic may god bless america on this thanksgiving day</td><td>27</td><td>Florida, USA</td><td>None</td><td>Thu Nov 24 18:38:04 +0000 2022</td></tr><tr><td>1595849244560490496</td><td>Megan Bottazzi</td><td>BottazziMegan</td><td>omg ghost face is ready for pie thanksgiving ghostface pumpkinpie readyforthanksgiving loveit</td><td>10</td><td>None</td><td>None</td><td>Thu Nov 24 18:38:04 +0000 2022</td></tr><tr><td>1595849244702920705</td><td>٩٨٤.eth | greendiamond.eth</td><td>ARIKEBULART</td><td>rt ministerofnfts sbf stole over a billion dollars from over a million people and is still able to celebrate thanksgiving with his family</td><td>1861</td><td>EARTH</td><td>None</td><td>Thu Nov 24 18:38:04 +0000 2022</td></tr><tr><td>1595849244694704129</td><td>2/10 🤘🏽💙❕</td><td>dee__ski</td><td>they put that in there</td><td>941</td><td>Cleveland, OH</td><td>None</td><td>Thu Nov 24 18:38:04 +0000 2022</td></tr><tr><td>1595849244837044225</td><td>The Tupelo Flash</td><td>The_TupeloFlash</td><td>iambarninghard ur kinda of cute too for a scumbag happy thanksgiving</td><td>274</td><td>None</td><td>None</td><td>Thu Nov 24 18:38:04 +0000 2022</td></tr><tr><td>1595849244790906886</td><td>Bizzi</td><td>bizzimomma2</td><td>rt cary_elwes have a blessed thanksgiving this holiday please consider giving generously to these non profits who help native americans</td><td>2320</td><td>Detroit, Michigan</td><td>None</td><td>Thu Nov 24 18:38:04 +0000 2022</td></tr><tr><td>1595849244996505601</td><td>Mrandell (💙,🧡)</td><td>Mrandell7</td><td>rt layer xyz what are you grateful for this thanksgiving let us know below show your gratitude in our holiday quest and mint a speci</td><td>91</td><td>None</td><td>None</td><td>Thu Nov 24 18:38:04 +0000 2022</td></tr><tr><td>1595849244723875840</td><td>democrat no more 🍊</td><td>WalkFromDems</td><td>pnjaban happy thanksgiving</td><td>4582</td><td>USA</td><td>None</td><td>Thu Nov 24 18:38:04 +0000 2022</td></tr><tr><td>1595849245403537408</td><td>CaramelMochaFrappé</td><td>____uhhh__Kyra</td><td>cooking thanksgiving dinner is hard i just worked a hour shift</td><td>779</td><td>Maryland, USA</td><td>None</td><td>Thu Nov 24 18:38:04 +0000 2022</td></tr><tr><td>1595849244292026368</td><td>molly graham</td><td>MGraham340</td><td>happy thanksgiving cant wait to eat all of the delicious stuffing</td><td>490</td><td>Bethel, AK</td><td>None</td><td>Thu Nov 24 18:38:03 +0000 2022</td></tr><tr><td>1595849245168377859</td><td>🌵☀️⚫️🔺🟡⚪️☀️🌵</td><td>DangerBonesA</td><td>ejeancarroll fritsv happy thanksgiving</td><td>5049</td><td>Phoenix, AZ</td><td>None</td><td>Thu Nov 24 18:38:04 +0000 2022</td></tr><tr><td>1595849245394886656</td><td>harlz</td><td>harlzautry</td><td>showed up to thanksgiving so high that i m a cartoon character</td><td>153</td><td>Hate city</td><td>None</td><td>Thu Nov 24 18:38:04 +0000 2022</td></tr><tr><td>1595849245411938304</td><td>🌿Nikki B✨AMELIA DAY💙💋</td><td>mrs_sniper9904</td><td>rt cary_elwes have a blessed thanksgiving this holiday please consider giving generously to these non profits who help native americans</td><td>611</td><td>28 : minors dni</td><td>None</td><td>Thu Nov 24 18:38:04 +0000 2022</td></tr><tr><td>1595849245352935427</td><td>Steph Strad Justify Arro Jack C Melvie Mary Baaeed</td><td>stephqjustified</td><td>browch happy thanksgiving</td><td>892</td><td>Lexington, KY</td><td>None</td><td>Thu Nov 24 18:38:04 +0000 2022</td></tr><tr><td>1595849245353025543</td><td>Lena Caruso #Hanian</td><td>montanaisthebes</td><td>rt paultx just saw the coca cola thanksgiving commercial and had to step outside so the family couldn t see me cry well done coca co</td><td>9300</td><td>None</td><td>None</td><td>Thu Nov 24 18:38:04 +0000 2022</td></tr><tr><td>1595849245566722048</td><td>nftschangedme</td><td>dloading25_8</td><td>rt weedthotss me high asf at thanksgiving dinner tryna act normal around my family</td><td>259</td><td>None</td><td>None</td><td>Thu Nov 24 18:38:04 +0000 2022</td></tr><tr><td>1595849245898072065</td><td>Neilson Argueta</td><td>argueta_neilson</td><td>rt barackobama wishing everyone a happy thanksgiving as we celebrate let s give thanks for all the blessings in our lives and give back</td><td>39</td><td>None</td><td>None</td><td>Thu Nov 24 18:38:04 +0000 2022</td></tr><tr><td>1595849245797584896</td><td>🔞Saveydro🔞</td><td>SaveydroMDP</td><td>rt saveydromdp this is the thanksgiving liberals want</td><td>781</td><td>USA</td><td>None</td><td>Thu Nov 24 18:38:04 +0000 2022</td></tr><tr><td>1595849245961388032</td><td>hair eater</td><td>schizoidfujo</td><td>rt hyponogomy cookin up for thanksgiving</td><td>612</td><td>19 any/all prns name is gee</td><td>None</td><td>Thu Nov 24 18:38:04 +0000 2022</td></tr><tr><td>1595849245902442498</td><td>B</td><td>hoohg_</td><td>rt weedthotss me high asf at thanksgiving dinner tryna act normal around my family</td><td>133</td><td>The 305</td><td>None</td><td>Thu Nov 24 18:38:04 +0000 2022</td></tr><tr><td>1595849245973565441</td><td>The Silent Hill Collector</td><td>SH_Collection82</td><td>rt chemi_ro happy thanksgiving guys</td><td>6076</td><td>Silent Hill</td><td>None</td><td>Thu Nov 24 18:38:04 +0000 2022</td></tr><tr><td>1595849246003331073</td><td>Mello🌑</td><td>Mellolilo__</td><td>rt cowboycats happy thanksgiving</td><td>297</td><td>👁</td><td>None</td><td>Thu Nov 24 18:38:04 +0000 2022</td></tr><tr><td>1595849246150135808</td><td>Sun Tzu</td><td>GG_SunTzu</td><td>rt drdisrespect happy thanksgiving champs i pitched am to elon this morning while flying on my private jet i ll keep you updated</td><td>610</td><td>None</td><td>None</td><td>Thu Nov 24 18:38:04 +0000 2022</td></tr><tr><td>1595849246086938630</td><td>Lex</td><td>Lex_Talley</td><td>thank god i m free this year to spend this time with my family last year i was eating ramen for thanksgiving dinn</td><td>633</td><td>My world</td><td>None</td><td>Thu Nov 24 18:38:04 +0000 2022</td></tr><tr><td>1595849246258991109</td><td>🔞🇨🇵 DJ MARTIN's 🇨🇵🔞</td><td>DJPewwe82</td><td>rt damien_x_ this thanksgiving i m thankful for all these sexy men making my trip to brazil so incredibly special</td><td>310</td><td>Midi-Pyrénées, France</td><td>None</td><td>Thu Nov 24 18:38:04 +0000 2022</td></tr><tr><td>1595849246070407168</td><td>WCSPropertySolutions</td><td>WCSPropertySoln</td><td>here s a short message from our ceo maurice sims for thanksgiving day happy thanksgiving day to everybody from wc</td><td>32</td><td>Colorado, USA</td><td>None</td><td>Thu Nov 24 18:38:04 +0000 2022</td></tr><tr><td>1595849246082830340</td><td>Ruth</td><td>RecRuth</td><td>rt caslernoel imagine being the richest man in the world and spending your day trying to f ck with people on twitter because you think it</td><td>399</td><td>None</td><td>None</td><td>Thu Nov 24 18:38:04 +0000 2022</td></tr><tr><td>1595849247362289664</td><td>Yung Tunechi</td><td>YungTunechiYT</td><td>rt lj_era happy thanksgiving to everyone and their love ones btw</td><td>294</td><td>Tennessee, USA</td><td>None</td><td>Thu Nov 24 18:38:04 +0000 2022</td></tr><tr><td>1595849247332737028</td><td>Diosdado Pasamonte</td><td>dpasamonte</td><td>ampbcrp happy thanksgiving</td><td>1366</td><td>San Antonio, TX</td><td>None</td><td>Thu Nov 24 18:38:04 +0000 2022</td></tr><tr><td>1595849247433302018</td><td>mr non fungible</td><td>mrnonplungable</td><td>primpker happy thanksgiving</td><td>818</td><td>Dont understand the question</td><td>None</td><td>Thu Nov 24 18:38:04 +0000 2022</td></tr><tr><td>1595849247554826240</td><td>paolaxyvette</td><td>paolaxyvette</td><td>rt thahumorguy me on thanksgiving when my family starts asking me about my love life career and future</td><td>16</td><td>Valley center, CA</td><td>None</td><td>Thu Nov 24 18:38:04 +0000 2022</td></tr><tr><td>1595849247592783877</td><td>“The Buns Of Steel” J Fowler</td><td>JBuns31</td><td>buns fact the buns does not celebrate thanksgiving</td><td>924</td><td>The Steel Factory</td><td>None</td><td>Thu Nov 24 18:38:04 +0000 2022</td></tr><tr><td>1595849247714381826</td><td>Donnie 👑</td><td>ThereIsNoTop</td><td>rt basedlinkie happy thanksgiving to the whole apepe fam enjoy your time with those you love rareapepeyc rayc zayc thanksgiving r</td><td>4114</td><td>Pond</td><td>None</td><td>Thu Nov 24 18:38:04 +0000 2022</td></tr><tr><td>1595849247890591746</td><td>Denise Kitzen</td><td>DeniseKitzen</td><td>halleberry happy thanksgiving</td><td>42</td><td>None</td><td>None</td><td>Thu Nov 24 18:38:04 +0000 2022</td></tr><tr><td>1595849248142393344</td><td>Nick Perbix for MVP (7-5-1)</td><td>Starstruck9186</td><td>rt inside_the_rink nhl jersey giveaway alert this thanksgiving we re so thankful we re going to give one of you something for free an</td><td>345</td><td>Florida, USA</td><td>None</td><td>Thu Nov 24 18:38:04 +0000 2022</td></tr><tr><td>1595849245445300227</td><td>Whitney</td><td>Wwhitneyterrell</td><td>macys thanksgiving day parade</td><td>0</td><td>None</td><td>None</td><td>Thu Nov 24 18:38:04 +0000 2022</td></tr><tr><td>1595849248171782144</td><td>zoe 🦋</td><td>seaofstone</td><td>rt samueldeats happy thanksgiving may your wall turkey be juicy and recover your health castlevania</td><td>65</td><td>🇵🇭</td><td>None</td><td>Thu Nov 24 18:38:04 +0000 2022</td></tr><tr><td>1595849247618134016</td><td>Sage 👩‍🍳• (fan acct)</td><td>chahun_nfia</td><td>happy thanksgiving if you celebrate it in any way eat good foods and remember the day lt</td><td>44</td><td>None</td><td>None</td><td>Thu Nov 24 18:38:04 +0000 2022</td></tr><tr><td>1595849248335171586</td><td>Tianna⚰🦇🐈‍⬛</td><td>Skellingbones</td><td>rt themuppets from our family to yours wishing you a happy thanksgiving with bellies full of food homes full of friends and family and</td><td>17</td><td>None</td><td>None</td><td>Thu Nov 24 18:38:04 +0000 2022</td></tr><tr><td>1595849248536502275</td><td>Rocio Miranda 🌻🇺🇦</td><td>rocmir1</td><td>rt nytimes the story of the first thanksgiving as most americans have been taught is not exactly accurate</td><td>1279</td><td>None</td><td>None</td><td>Thu Nov 24 18:38:04 +0000 2022</td></tr><tr><td>1595849248670908417</td><td>Anime Day</td><td>AnimeDay10</td><td>rt zolafullmovie watch detroit lions vs buffalo bills live stream tv channel online footballnfllive lions vs bill</td><td>1</td><td>None</td><td>None</td><td>Thu Nov 24 18:38:04 +0000 2022</td></tr><tr><td>1595849248654127105</td><td>Danielle Blocks Bigots</td><td>DanielleGembala</td><td>rt nkjemisin kindle daily deal for thanksgiving</td><td>1680</td><td>None</td><td>None</td><td>Thu Nov 24 18:38:04 +0000 2022</td></tr><tr><td>1595849248737673216</td><td>Zhavia (they/them)</td><td>CXRPSE_BXNNY</td><td>witchybeez thanksgiving miracle wooooottttt</td><td>85</td><td>None</td><td>None</td><td>Thu Nov 24 18:38:05 +0000 2022</td></tr><tr><td>1595849248024977408</td><td>SwaglessT-Boy🐀</td><td>das_uberchicken</td><td>happy thanksgiving more like happy thanks taking be sure to stuff your bottoms okay boys</td><td>236</td><td>Los Angeles, CA</td><td>None</td><td>Thu Nov 24 18:38:04 +0000 2022</td></tr><tr><td>1595849248863551491</td><td>Zey</td><td>ZeTeamZ</td><td>rt ace laura_ mil_vet wenmama kjeffpalmer lauria patrioteddv flight faith petriot delictum jagsg ps</td><td>7388</td><td>None</td><td>None</td><td>Thu Nov 24 18:38:05 +0000 2022</td></tr><tr><td>1595849248943538176</td><td>Faby d'Isigny</td><td>faby71</td><td>rt bunnycartoons happy thanksgiving thanksgiving turkey cartoon comic gaycartoon humour artist</td><td>372</td><td>Strasbourg</td><td>None</td><td>Thu Nov 24 18:38:05 +0000 2022</td></tr><tr><td>1595849248863559680</td><td>jack brancatelli 🐀</td><td>jackbranca</td><td>rt barackobama one of my favorite white house traditions was telling thanksgiving jokes which at least i thought were funny here s a</td><td>1911</td><td>butthole of the world</td><td>None</td><td>Thu Nov 24 18:38:05 +0000 2022</td></tr><tr><td>1595849248947724288</td><td>@heatherhoney18</td><td>Heather39977321</td><td>dawnpieper happy thanksgiving</td><td>615</td><td>Gorham, ME</td><td>None</td><td>Thu Nov 24 18:38:05 +0000 2022</td></tr><tr><td>1595849248674746374</td><td>Fox Trending</td><td>foxtrendingcom</td><td>turkey giveaway today near me free food thanksgiving dinner handed out on south side of chicago in dixmoor</td><td>10</td><td>LA, California</td><td>None</td><td>Thu Nov 24 18:38:04 +0000 2022</td></tr><tr><td>1595849248947720192</td><td>NJ🎒</td><td>NickJohnson_100</td><td>rt ballislife kyrie i don t particularly celebrate thanksgiving but anybody getting together with their families blessings to all you</td><td>426</td><td>Chipotle📍</td><td>None</td><td>Thu Nov 24 18:38:05 +0000 2022</td></tr><tr><td>1595849248884621312</td><td>lea</td><td>nenezuku</td><td>happy thanksgiving</td><td>281</td><td>they</td><td>None</td><td>Thu Nov 24 18:38:05 +0000 2022</td></tr><tr><td>1595849248322584578</td><td>ander</td><td>andrmillr</td><td>happy thanksgiving i am thankful for myself</td><td>91</td><td>liv.t</td><td>None</td><td>Thu Nov 24 18:38:04 +0000 2022</td></tr><tr><td>1595849248922341376</td><td>Broadway Joe</td><td>Joe_Martin13</td><td>rt kendrickperkins just knocked down my first thanksgiving plate got about more to go don t judge me and carry the hell on</td><td>1489</td><td>New Jersey Nets</td><td>None</td><td>Thu Nov 24 18:38:05 +0000 2022</td></tr><tr><td>1595849249027235842</td><td>Kenya Robinson (Lana Reign's Bestest Minion)</td><td>KenyaTheMinion</td><td>rt neilbelieves the godfather there s nothing like watching my favorite family movie on thanksgiving</td><td>133</td><td>North Carolina, USA</td><td>None</td><td>Thu Nov 24 18:38:05 +0000 2022</td></tr><tr><td>1595849248993583104</td><td>Willie 🇺🇸</td><td>LivingWillie</td><td>rt alfranken me and the grandkids and our annual thanksgiving screening of judgement at nuremberg</td><td>25164</td><td>Nashville, TN</td><td>None</td><td>Thu Nov 24 18:38:05 +0000 2022</td></tr><tr><td>1595849249027137540</td><td>Heretic King</td><td>HereticKGaming</td><td>i hope you all have a happy thanksgiving and i will see you all tomorrow</td><td>588</td><td>None</td><td>None</td><td>Thu Nov 24 18:38:05 +0000 2022</td></tr><tr><td>1595849248997711872</td><td>mr. not okay</td><td>sh_tasin</td><td>rt makeemsayuuuuh feels like thanksgiving because that s some amazing stuffing alexistaex</td><td>19</td><td>Bangladesh</td><td>None</td><td>Thu Nov 24 18:38:05 +0000 2022</td></tr><tr><td>1595849249111298048</td><td>Renae Adams</td><td>RenaeAd69310486</td><td>rt shirlm happy thanksgiving leo terrell and yes the greatest country on earth for sure i m proud to call myself an ame</td><td>605</td><td>None</td><td>None</td><td>Thu Nov 24 18:38:05 +0000 2022</td></tr><tr><td>1595849249287462916</td><td>ScottyMcShotty</td><td>ScottyMcShotty</td><td>rt scott_malin lucia celebrates thanksgiving</td><td>230</td><td>None</td><td>None</td><td>Thu Nov 24 18:38:05 +0000 2022</td></tr><tr><td>1595849248918175747</td><td>variableoning</td><td>Brady33696389</td><td>happy thanksgiving everyone i m thankful for all my twitter mutuals heh and my playstation</td><td>6</td><td>Popeyes</td><td>None</td><td>Thu Nov 24 18:38:05 +0000 2022</td></tr><tr><td>1595849249383747584</td><td>Wellington Pereira Pereira</td><td>Welling53905808</td><td>rt badmillyoniaa happy thanksgiving come eat</td><td>9</td><td>None</td><td>None</td><td>Thu Nov 24 18:38:05 +0000 2022</td></tr><tr><td>1595849249266204674</td><td>Lisa Bowden</td><td>LisaBow09179485</td><td>blackvaultcom dod_aaro thank u john happy thanksgiving</td><td>1358</td><td>None</td><td>None</td><td>Thu Nov 24 18:38:05 +0000 2022</td></tr><tr><td>1595849249350090755</td><td>Smyles</td><td>duke_smyles</td><td>rt weedthotss me high asf at thanksgiving dinner tryna act normal around my family</td><td>2177</td><td>South Coast</td><td>None</td><td>Thu Nov 24 18:38:05 +0000 2022</td></tr><tr><td>1595849249509580801</td><td>Natsumi 💪🏼</td><td>TheHomeRunWoman</td><td>rt samueldeats happy thanksgiving may your wall turkey be juicy and recover your health castlevania</td><td>55</td><td>Sumida-ku, Tokyo</td><td>None</td><td>Thu Nov 24 18:38:05 +0000 2022</td></tr><tr><td>1595849249484591104</td><td>ILOVEMYBOYFRIENDDD</td><td>ilyilyilyc</td><td>omg i want to have a little thanksgiving with just us two and then we make a bunch of tiny dishes bc its just for us d</td><td>0</td><td>None</td><td>None</td><td>Thu Nov 24 18:38:05 +0000 2022</td></tr><tr><td>1595849249635569664</td><td>Rita_0314</td><td>Sato_2001_</td><td>rt alban_knox happy thanksgiving</td><td>15</td><td>台灣</td><td>None</td><td>Thu Nov 24 18:38:05 +0000 2022</td></tr><tr><td>1595849249530552320</td><td>#Fishing for Equality!!! ✊🏾🎣🐟</td><td>Dalocoengineer</td><td>rt marla_vous i look at today as an opportunity to be w friends amp family and to acknowledge the things for which i am grateful howeve</td><td>5855</td><td>U.S.A</td><td>None</td><td>Thu Nov 24 18:38:05 +0000 2022</td></tr><tr><td>1595849249643708416</td><td>depressed Cavs fan</td><td>jaynmotion</td><td>rt bleacherreport you tryna set me up no matter what i answer i give social media gonna clown me so no comment zion williamson re</td><td>24</td><td>None</td><td>None</td><td>Thu Nov 24 18:38:05 +0000 2022</td></tr><tr><td>1595849249689767937</td><td>Rosa Bell</td><td>Lyzbeth125</td><td>rt joshshapiropa as you join with family and friends this thanksgiving know how grateful my family and i are for you happy thanksgivin</td><td>144</td><td>None</td><td>None</td><td>Thu Nov 24 18:38:05 +0000 2022</td></tr><tr><td>1595849249765625856</td><td>Héctor Iván Bernal Montalvo</td><td>bernal_montalvo</td><td>rt miamichaelaj happy thanksgiving im here for desert</td><td>86</td><td>None</td><td>None</td><td>Thu Nov 24 18:38:05 +0000 2022</td></tr><tr><td>1595849247760736256</td><td>brassavalanche</td><td>brassavalanche</td><td>happy thanksgiving from all of us at brass avalanche our gratitude today is thinking about the thousands of skiers</td><td>35</td><td>None</td><td>None</td><td>Thu Nov 24 18:38:04 +0000 2022</td></tr><tr><td>1595849249815658496</td><td>Jordan Gauna</td><td>JordanGaunaaa</td><td>rd year in a row of waking up with a hangover on thanksgiving does that make it tradition</td><td>102</td><td>Texas, USA</td><td>None</td><td>Thu Nov 24 18:38:05 +0000 2022</td></tr><tr><td>1595849249966944257</td><td>Ghayas Muhammad</td><td>GhayasM73</td><td>rt tmz this thanksgiving tmz is thankful for these viral moments</td><td>1144</td><td>Karachi, Pakistan</td><td>None</td><td>Thu Nov 24 18:38:05 +0000 2022</td></tr><tr><td>1595849249857617930</td><td>Yazzar</td><td>Yazzar11</td><td>rt weedthotss me high asf at thanksgiving dinner tryna act normal around my family</td><td>23</td><td>None</td><td>None</td><td>Thu Nov 24 18:38:05 +0000 2022</td></tr><tr><td>1595849249949978624</td><td>Charlie</td><td>chuckd81977</td><td>avanetr happy thanksgiving to you too sweetheart i hope you have a wonderful day</td><td>109</td><td>Kingsland, GA</td><td>None</td><td>Thu Nov 24 18:38:05 +0000 2022</td></tr><tr><td>1595849249983696896</td><td>JuanHUNDRED</td><td>dreamchasers1_</td><td>wait whaaaaaaa lmao</td><td>544</td><td>Long Beach, CA</td><td>None</td><td>Thu Nov 24 18:38:05 +0000 2022</td></tr><tr><td>1595849250294099968</td><td>✨✨Ellie✨✨</td><td>EllieRN7371</td><td>pnjaban happy thanksgiving harmeet</td><td>637</td><td>None</td><td>None</td><td>Thu Nov 24 18:38:05 +0000 2022</td></tr><tr><td>1595849251644669952</td><td>Michael Vogel</td><td>MichaelVogel1</td><td>rt mcdadstuff friendly reminder to just go ahead and put that tums bottle out on the thanksgiving table</td><td>1571</td><td>Brooklyn Park, MN</td><td>None</td><td>Thu Nov 24 18:38:05 +0000 2022</td></tr><tr><td>1595849250834980867</td><td>bailey</td><td>wisco_hippie</td><td>the best kind of thanksgiving</td><td>35</td><td>Wisconsin</td><td>None</td><td>Thu Nov 24 18:38:05 +0000 2022</td></tr><tr><td>1595849251631685632</td><td>Roxana Sato</td><td>RoxanaSato</td><td>rt joncoopertweets happy thanksgiving to everyone except kari lake</td><td>1752</td><td>Toronto, Canada</td><td>None</td><td>Thu Nov 24 18:38:05 +0000 2022</td></tr><tr><td>1595849251661168640</td><td>Matt Howell</td><td>Howell1_4</td><td>rt nfl_memes there was nothing better than john madden on thanksgiving</td><td>256</td><td>Albion, NY</td><td>None</td><td>Thu Nov 24 18:38:05 +0000 2022</td></tr><tr><td>1595849251892125697</td><td>Mandalorian Patriot</td><td>SpartanPatriot2</td><td>rt bidensfinechina keithmalinak happy thanksgiving bud</td><td>237</td><td>None</td><td>None</td><td>Thu Nov 24 18:38:05 +0000 2022</td></tr><tr><td>1595849251955027968</td><td>DB</td><td>Lona1islandgirl</td><td>rt oprahdaily happy thanksgiving from our family to yours</td><td>217</td><td>None</td><td>None</td><td>Thu Nov 24 18:38:05 +0000 2022</td></tr><tr><td>1595849251895971840</td><td>Professor Plum</td><td>professorplum_</td><td>starting off thanksgiving strong by dancing in my kitchen listening to you re on your own kid on repeat</td><td>213</td><td>Los Angeles, CA</td><td>None</td><td>Thu Nov 24 18:38:05 +0000 2022</td></tr><tr><td>1595849251976007680</td><td>𝑷𝐎𝐂𝐇𝐈𝐓𝐀 .</td><td>WOOFDEVIL</td><td>for real that would be awesome then we could like share but only a little</td><td>94</td><td>mdni .</td><td>None</td><td>Thu Nov 24 18:38:05 +0000 2022</td></tr><tr><td>1595849252080873473</td><td>Tony Fabris</td><td>TFabris</td><td>rt ask_aubry happy thanksgiving and remember to forget the marijuana</td><td>519</td><td>Seattle, Washington</td><td>None</td><td>Thu Nov 24 18:38:05 +0000 2022</td></tr><tr><td>1595849251476889600</td><td>Nancy Nieves</td><td>maya3n_n</td><td>ancientaliens happy thanksgiving ancientaliens</td><td>267</td><td>Caracas -Venezuela</td><td>None</td><td>Thu Nov 24 18:38:05 +0000 2022</td></tr><tr><td>1595849252131201024</td><td>shahbaz khan</td><td>ShazKhan87</td><td>rt polkacity the polkacity team wishes everyone a very happy thanksgiving polkacity turkey polc metaverse crypto nft metachai</td><td>59</td><td>Global</td><td>None</td><td>Thu Nov 24 18:38:05 +0000 2022</td></tr><tr><td>1595849252181536770</td><td>YTTTV_Arrow_WaterishTiger41 #AnimationIsFilm</td><td>JoshFortnite8</td><td>rt goldballs happy thanksgiving cheers to all the free birds fans the movie where two turkeys go back in time to the first thanksgiv</td><td>1042</td><td>🇨🇦Twitch: WaterishTiger41</td><td>None</td><td>Thu Nov 24 18:38:05 +0000 2022</td></tr><tr><td>1595849252236058625</td><td>TaShawn N. Matthews</td><td>TaShawnMatthews</td><td>wayforward the river city girls enjoying their thanksgiving this year</td><td>388</td><td>Virginia, USA</td><td>None</td><td>Thu Nov 24 18:38:05 +0000 2022</td></tr><tr><td>1595849252235886594</td><td>Soph Isherwood</td><td>SophIsherwood</td><td>rt uscpsc happy thanksgiving eve</td><td>354</td><td>England, United Kingdom</td><td>None</td><td>Thu Nov 24 18:38:05 +0000 2022</td></tr><tr><td>1595849252462272513</td><td>Cass</td><td>cassaaanovaa</td><td>rt mrwilin if your family starts arguing on thanksgiving please go on live so we can all hear it</td><td>398</td><td>NYC</td><td>None</td><td>Thu Nov 24 18:38:05 +0000 2022</td></tr><tr><td>1595849251908730882</td><td>Tricia Johnsen</td><td>TriciaJohnsen</td><td>pitcher yes</td><td>13</td><td>None</td><td>None</td><td>Thu Nov 24 18:38:05 +0000 2022</td></tr><tr><td>1595849252479066112</td><td>Skip Cook 🇷🇺</td><td>Data_Coach</td><td>rt alexbruesewitz this thanksgiving i am not thankful for rino mitch mcconnell mitch mcconnell blew senate races in az amp nv to help get</td><td>156</td><td>Tulsa, Billings, Maumelle, AR</td><td>None</td><td>Thu Nov 24 18:38:05 +0000 2022</td></tr><tr><td>1595849252315566086</td><td>The Tap Room at 1617</td><td>1617taproom</td><td>happy thanksgiving from your friends at taproom itsfluid</td><td>18</td><td>None</td><td>None</td><td>Thu Nov 24 18:38:05 +0000 2022</td></tr><tr><td>1595849251925344256</td><td>St. Louis Park ShowPlace ICON</td><td>ICONMinneapolis</td><td>thankful for our showplaceicon theatre amp kitchen teams and guests tell us how are you spending the holiday let</td><td>132</td><td>St. Louis Park, MN</td><td>None</td><td>Thu Nov 24 18:38:05 +0000 2022</td></tr><tr><td>1595849252378447877</td><td>True</td><td>true_thingss</td><td>rt joytoywarhammer have a happy and healthy thanksgiving warhammercommunity warhammer k</td><td>19</td><td>None</td><td>None</td><td>Thu Nov 24 18:38:05 +0000 2022</td></tr><tr><td>1595849252575612933</td><td>Kara Dawne Zemel - she/her</td><td>karazattack</td><td>rt ndncollective we remind our indigenous relatives that today our traditional values of ceremony gratitude and deep relationships to f</td><td>199</td><td>Where the streets have no name</td><td>None</td><td>Thu Nov 24 18:38:05 +0000 2022</td></tr><tr><td>1595849252617715712</td><td>m1racl ◉-◉¬</td><td>m1racl_eth</td><td>rt justfivelines happy thanksgiving fam let the five lines black friday sweep begin any l purchased on secondary in the next d</td><td>1974</td><td>where the jpgs are</td><td>None</td><td>Thu Nov 24 18:38:05 +0000 2022</td></tr><tr><td>1595849252814594048</td><td>Mick</td><td>micklvscambs</td><td>rt macfarlanenews happy thanksgiving from all of us</td><td>84</td><td>Cambridge</td><td>None</td><td>Thu Nov 24 18:38:05 +0000 2022</td></tr><tr><td>1595849252885991424</td><td>Apollo</td><td>criticalview84</td><td>rt basednewdadsoon dance like no one is watching sing like no one is listening love like you ve never been hurt and fuck like a goddam</td><td>232</td><td>None</td><td>None</td><td>Thu Nov 24 18:38:05 +0000 2022</td></tr><tr><td>1595849252814610433</td><td>Jo</td><td>jo_as_in_joke</td><td>rt liv_agar this user s stock price has gone down in the last days</td><td>30</td><td>None</td><td>None</td><td>Thu Nov 24 18:38:05 +0000 2022</td></tr><tr><td>1595849253041147904</td><td>Angela Chammas</td><td>angela_chammas</td><td>rt reverendwarnock happy thanksgiving folks wishing you a wonderful time with your family and friends</td><td>917</td><td>Chicago Area</td><td>None</td><td>Thu Nov 24 18:38:06 +0000 2022</td></tr><tr><td>1595849253095514114</td><td>77KEYG7N💌🏰</td><td>77keyg7n</td><td>i am thankful for everyone in my life everyday is thanksgiving</td><td>457</td><td>bi 16 she/they/he</td><td>None</td><td>Thu Nov 24 18:38:06 +0000 2022</td></tr><tr><td>1595849253183623168</td><td>Let Spirit Guide You through this UpSiDeDOwN wOrLd</td><td>ChrisBellucci58</td><td>brianroemmele best wishes and a very happy thanksgiving to you sir</td><td>1313</td><td>Someplace safe I hope</td><td>None</td><td>Thu Nov 24 18:38:06 +0000 2022</td></tr><tr><td>1595849252831625216</td><td>Guadalupe Alvarado Sanchez Ponce</td><td>LupeSPonce3</td><td>jim_jordan like i tweeted gopleader once you stop voting against potus s agenda to help all the american peop</td><td>1442</td><td>United States</td><td>None</td><td>Thu Nov 24 18:38:05 +0000 2022</td></tr><tr><td>1595849252714221569</td><td>India Currents</td><td>IndiaCurrents</td><td>india currents wishes you and your loved ones a very happy thanksgiving holiday</td><td>1683</td><td>California</td><td>None</td><td>Thu Nov 24 18:38:05 +0000 2022</td></tr><tr><td>1595849252760059904</td><td>A.wordsmith</td><td>Awordsmith</td><td>happy thanksgiving from a wordsmith to you happyholidays</td><td>1046</td><td>Portland, Oregon</td><td>None</td><td>Thu Nov 24 18:38:05 +0000 2022</td></tr><tr><td>1595849253410471936</td><td>WeStillLoveEtikaIn2020s</td><td>MicMec24</td><td>rt jamalhinton to answer all your questions yes thanksgiving year is planned out see you guys thursday</td><td>76</td><td>The Infinite Tsukuyomi</td><td>None</td><td>Thu Nov 24 18:38:06 +0000 2022</td></tr><tr><td>1595849253255262208</td><td>Greg Brian</td><td>Gregoriancant</td><td>that s thanksgiving in a nutshell or pie tin thank you for all you ve done and it s been more than a little uns</td><td>782</td><td>Oregon, USA</td><td>None</td><td>Thu Nov 24 18:38:06 +0000 2022</td></tr><tr><td>1595849253309521921</td><td>The Midster😎🏈🏀📲</td><td>Middie_Parker</td><td>rt nfl_memes there was nothing better than john madden on thanksgiving</td><td>122</td><td>None</td><td>None</td><td>Thu Nov 24 18:38:06 +0000 2022</td></tr><tr><td>1595849252630036486</td><td>LifeSkills, Inc.</td><td>LifeSkillsInc1</td><td>whether you choose to spend today with family friends or indulging in self care we wish you a very happy thanksgi</td><td>980</td><td>Bowling Green, KY</td><td>None</td><td>Thu Nov 24 18:38:05 +0000 2022</td></tr><tr><td>1595849253414477824</td><td>Lee Horton</td><td>_Lee_H</td><td>happy thanksgiving to you yes you even you</td><td>1133</td><td>Lewiston-Auburn, Maine</td><td>None</td><td>Thu Nov 24 18:38:06 +0000 2022</td></tr><tr><td>1595849253439537153</td><td>Cherilyn Young 💙💛</td><td>cherilyntx</td><td>rt mnateshyamalan it is time once again all hail the thanksgiving tube</td><td>4283</td><td>Austin & Pflugerville, Texas</td><td>None</td><td>Thu Nov 24 18:38:06 +0000 2022</td></tr><tr><td>1595849252940513289</td><td>Visuals by Impulse</td><td>VBI</td><td>happy thanksgiving from your friends at vbi</td><td>75154</td><td>Everywhere 🌏</td><td>None</td><td>Thu Nov 24 18:38:06 +0000 2022</td></tr><tr><td>1595849252629991424</td><td>Bowling Green Works</td><td>bgkyworks</td><td>happy thanksgiving we re sending warm wishes of gratitude and joy as we embrace the holiday season</td><td>244</td><td>Bowling Green, KY</td><td>None</td><td>Thu Nov 24 18:38:05 +0000 2022</td></tr><tr><td>1595849253636964352</td><td>God of Muzz: Ragnarok</td><td>The_muzz1</td><td>rt neebsofficial thanks for coming out to our stream last week as a reminder no stream today have a wonderful thanksgiving doodle</td><td>1079</td><td>None</td><td>None</td><td>Thu Nov 24 18:38:06 +0000 2022</td></tr><tr><td>1595849252017963009</td><td>jay !🫂💞</td><td>Mr_B4gg_4_B1t3h</td><td>thanksgiving media</td><td>519</td><td>Houston, TX</td><td>None</td><td>Thu Nov 24 18:38:05 +0000 2022</td></tr><tr><td>1595849253687296000</td><td>NFTsBreezy🥃</td><td>NFTsBreezy</td><td>rt theuncannyclub happy thanksgiving happy thanksgiving to all those who celebrate much love from the uncanny family stayuncanny</td><td>38821</td><td>United States</td><td>None</td><td>Thu Nov 24 18:38:06 +0000 2022</td></tr><tr><td>1595849253674307584</td><td>seximation</td><td>seximation_com</td><td>rt creamnadia happy thanksgiving everyone</td><td>324</td><td>None</td><td>None</td><td>Thu Nov 24 18:38:06 +0000 2022</td></tr><tr><td>1595849253699686404</td><td>EJM</td><td>DerLeblosAutor</td><td>rt ciubmoss first thanksgiving cooking alone anyway phone is about to die ttyl</td><td>39</td><td>Massachusetts, USA</td><td>None</td><td>Thu Nov 24 18:38:06 +0000 2022</td></tr><tr><td>1595849253272031232</td><td>Bendix Arena</td><td>BendixArena</td><td>today we re grateful for handheld gaming happy thanksgiving from us at bendix</td><td>566</td><td>South Bend, Indiana</td><td>None</td><td>Thu Nov 24 18:38:06 +0000 2022</td></tr><tr><td>1595849253876039680</td><td>Brainiac</td><td>maushte_</td><td>rt weedthotss me high asf at thanksgiving dinner tryna act normal around my family</td><td>1176</td><td>Kenya</td><td>None</td><td>Thu Nov 24 18:38:06 +0000 2022</td></tr><tr><td>1595849254064513024</td><td>🎄 haw yee</td><td>AquaBllu3</td><td>rt shadesokami for this thanksgiving here are the group pictures for my st anniversary in the fandom alongside those who were real</td><td>340</td><td>None</td><td>None</td><td>Thu Nov 24 18:38:06 +0000 2022</td></tr><tr><td>1595849254240944128</td><td>elly</td><td>haikuinspring</td><td>rt sandibachom santa honestly there s nothing like the macy s thanksgiving day parade happy thanksgiving everybody except for elon</td><td>110</td><td>None</td><td>None</td><td>Thu Nov 24 18:38:06 +0000 2022</td></tr><tr><td>1595849253909315587</td><td>Jo-Ann Dillenschneider</td><td>JoAnnDillensch2</td><td>abbottcampaign you should just say happy thanksgiving and not blame the president of the united states it s global</td><td>9</td><td>None</td><td>None</td><td>Thu Nov 24 18:38:06 +0000 2022</td></tr><tr><td>1595849254324834304</td><td>Channel 10.29 | 🍰 B-Day 10/29 🍰</td><td>realdealdemtv</td><td>rt discussingfilm the wimpy kid and grogu balloons at macy s thanksgiving parade via wimpykid</td><td>166</td><td>He/Him DEMOLGIA HQ 🏳️‍🌈</td><td>None</td><td>Thu Nov 24 18:38:06 +0000 2022</td></tr><tr><td>1595849255792828418</td><td>#1 Kawhi fan</td><td>HerbertEnjoyer</td><td>cmon</td><td>12</td><td>None</td><td>None</td><td>Thu Nov 24 18:38:06 +0000 2022</td></tr><tr><td>1595849255758897157</td><td>MoneyMakingJay</td><td>_Jay_dela</td><td>threw down my warm up plate of tamales i m already in full thanksgiving form</td><td>188</td><td>Las Vegas, NV</td><td>None</td><td>Thu Nov 24 18:38:06 +0000 2022</td></tr><tr><td>1595849255788371968</td><td>John</td><td>FPScuf</td><td>ssymtex happy thanksgiving jordan</td><td>322</td><td>Livin' Lowkey</td><td>None</td><td>Thu Nov 24 18:38:06 +0000 2022</td></tr><tr><td>1595849255847182339</td><td>Zak King</td><td>DesertKinger6</td><td>rt super ssports nothing says it s thanksgiving and i ve burned all the bridges with my family quite like this extravagant feast</td><td>67</td><td>None</td><td>None</td><td>Thu Nov 24 18:38:06 +0000 2022</td></tr><tr><td>1595849255310094336</td><td>Rez_Lizard</td><td>Rez_Lizard</td><td>happy thanksgiving america</td><td>5514</td><td>SENM</td><td>None</td><td>Thu Nov 24 18:38:06 +0000 2022</td></tr><tr><td>1595849256044462080</td><td>BurstofKay</td><td>BurstofKay</td><td>austinnalluh burstofkay happy thanksgiving</td><td>45</td><td>Tacoma, WA</td><td>None</td><td>Thu Nov 24 18:38:06 +0000 2022</td></tr><tr><td>1595849255759273984</td><td>virna rodriguez</td><td>virnashamari</td><td>happy thanksgiving to everyone greatfulandblessed thanksgiving familyof creatingmemories connecticut</td><td>27</td><td>florida</td><td>None</td><td>Thu Nov 24 18:38:06 +0000 2022</td></tr><tr><td>1595849256010539008</td><td>Sikubis</td><td>Sikubis2</td><td>rt bnbchain a happy thanksgiving to our bnb fam with a thriving ecosystem and a dedicated community that continues to build web w</td><td>489</td><td>None</td><td>None</td><td>Thu Nov 24 18:38:06 +0000 2022</td></tr><tr><td>1595849255914176513</td><td>kat₀ in shambles</td><td>m6xey</td><td>yea bc then i could buy myself tickets</td><td>3085</td><td>she / her , 17</td><td>None</td><td>Thu Nov 24 18:38:06 +0000 2022</td></tr><tr><td>1595849256077852675</td><td>Dev</td><td>somechumpmark</td><td>rt womenswrestli happy thanksgiving besties</td><td>52</td><td>None</td><td>None</td><td>Thu Nov 24 18:38:06 +0000 2022</td></tr><tr><td>1595849256081956864</td><td>Dr. Matthias Beier</td><td>MatthiasBeier</td><td>revdrbowen happy thanksgiving</td><td>4516</td><td>Indiana, USA</td><td>None</td><td>Thu Nov 24 18:38:06 +0000 2022</td></tr><tr><td>1595849256102944768</td><td>mars🌟</td><td>starrymars__</td><td>thanksgiving is literally the most triggering time of the year</td><td>267</td><td>South Carolina, USA</td><td>None</td><td>Thu Nov 24 18:38:06 +0000 2022</td></tr><tr><td>1595849256128204800</td><td>Gay Encarnacao</td><td>EncarnacaoGay</td><td>rt tudordixon happy thanksgiving what a year we ve had i am so thankful for all of you you gave me the opportunity to be a voice for s</td><td>215</td><td>None</td><td>None</td><td>Thu Nov 24 18:38:06 +0000 2022</td></tr><tr><td>1595849256430350336</td><td>she’s such a fucking lady.</td><td>malwher</td><td>rt leo repro anti capitalism is essential for decolonization because i hear people object to eliminating thanksgiving because they need t</td><td>492</td><td>Atlanta, Atlanta</td><td>None</td><td>Thu Nov 24 18:38:06 +0000 2022</td></tr><tr><td>1595849256501653504</td><td>James Woollard</td><td>BritVoxUS</td><td>thanksgiving for introverts be like we have guests coming over today for me</td><td>1862</td><td>Seattle, WA</td><td>None</td><td>Thu Nov 24 18:38:06 +0000 2022</td></tr><tr><td>1595849256489082880</td><td>Nate</td><td>Nate65660535</td><td>angryjoeshow happy thanksgiving to you</td><td>60</td><td>None</td><td>None</td><td>Thu Nov 24 18:38:06 +0000 2022</td></tr><tr><td>1595849256727896067</td><td>specter the unchained</td><td>laurentinatxt</td><td>happy thanksgiving revs up chainsaw get in the oven</td><td>520</td><td>ya mum's house</td><td>None</td><td>Thu Nov 24 18:38:06 +0000 2022</td></tr><tr><td>1595849256690122759</td><td>Kwende Madu</td><td>suprabuddha</td><td>rt coco_anise happy thanksgiving</td><td>833</td><td>Russellville Al</td><td>None</td><td>Thu Nov 24 18:38:06 +0000 2022</td></tr><tr><td>1595849256774107139</td><td>Lakeisha</td><td>KekeAnxiety</td><td>rt nluch lea michele opening the macys thanksgiving day parade singing don t rain on my parade is the glee reference i didn t know i ne</td><td>10</td><td>None</td><td>None</td><td>Thu Nov 24 18:38:06 +0000 2022</td></tr><tr><td>1595849256870502400</td><td>Max Dk 🇫🇷🇺🇦🇪🇺</td><td>DekeyzerMax</td><td>rt gerashchenko_en i think after our victory we will also have a thanksgiving day in ukraine a special day of gratitude to all our alli</td><td>18</td><td>None</td><td>None</td><td>Thu Nov 24 18:38:06 +0000 2022</td></tr><tr><td>1595849256845262849</td><td>Alma Lucia</td><td>almaluc1a</td><td>rt whotfisjovana only thing i m serving this thanksgiving is cunt</td><td>63</td><td>None</td><td>None</td><td>Thu Nov 24 18:38:06 +0000 2022</td></tr><tr><td>1595849257000792065</td><td>Kaitlyn</td><td>kaitlynxomarie</td><td>rt nictothemarie babe wake up there s a football game at the jonas brothers thanksgiving concert</td><td>266</td><td>None</td><td>None</td><td>Thu Nov 24 18:38:06 +0000 2022</td></tr><tr><td>1595849256983732230</td><td>Sonicgamercd</td><td>ForestDave16</td><td>zoehobz happy thanksgiving zoe</td><td>507</td><td>Berthierville, Québec</td><td>None</td><td>Thu Nov 24 18:38:06 +0000 2022</td></tr><tr><td>1595849257030144001</td><td>K.O 🇹🇹🇺🇸</td><td>NYTRO1690</td><td>rt johnkruk happy thanksgiving to all the wwe superstars for keeping me entertained this off season</td><td>320</td><td>Suplex County , Brookyn ny</td><td>None</td><td>Thu Nov 24 18:38:06 +0000 2022</td></tr><tr><td>1595849257021489152</td><td>Matt Wilson</td><td>mattwilson145</td><td>rt hellyvalentine happy thanksgiving thank you for all your support time for presents let s collect and for one mo</td><td>173</td><td>None</td><td>None</td><td>Thu Nov 24 18:38:06 +0000 2022</td></tr><tr><td>1595849256711208964</td><td>kydabadde$t💰</td><td>kydabadde</td><td>rt damnjiggaa thanksgiving is so depressing when you have a broken family</td><td>18</td><td>None</td><td>None</td><td>Thu Nov 24 18:38:06 +0000 2022</td></tr><tr><td>1595849255641837568</td><td>J3ANN3-MARI3 🐾</td><td>NHCountryGal</td><td>happy thanksgiving grateful for what i do have brokeceliacthanksgiving</td><td>833</td><td>New Hampshire, USA</td><td>None</td><td>Thu Nov 24 18:38:06 +0000 2022</td></tr><tr><td>1595849257101266948</td><td>Dan</td><td>DriveMeMild</td><td>rt adamcarollashow happy thanksgiving friends we love you and are so thankful to have you</td><td>622</td><td>My area code begins with a 7</td><td>None</td><td>Thu Nov 24 18:38:06 +0000 2022</td></tr><tr><td>1595849257126354946</td><td>Protect Ourselves</td><td>ProtectOurselv</td><td>happy thanksgiving everyone remember your traditions hold them dear and stay vigilant thankgod thanksgiving turkey americanpride</td><td>0</td><td>Washington, DC</td><td>None</td><td>Thu Nov 24 18:38:07 +0000 2022</td></tr><tr><td>1595849256937611264</td><td>Wayne Jacobs</td><td>waynejacobs777</td><td>happy thanksgiving to all my american friends</td><td>3633</td><td>London (UK)</td><td>None</td><td>Thu Nov 24 18:38:06 +0000 2022</td></tr><tr><td>1595849257319555072</td><td>Trrlwd 🔞</td><td>trrlwd</td><td>rt coubalty instead of turkey for thanksgiving how about some</td><td>530</td><td>None</td><td>None</td><td>Thu Nov 24 18:38:07 +0000 2022</td></tr><tr><td>1595849257256460290</td><td>#1 Hurts Fan</td><td>Anthony60957284</td><td>rt ronfilipkowski presidential candidate donald trump s thanksgiving message to america as of pm est</td><td>1180</td><td>Dacula, GA</td><td>None</td><td>Thu Nov 24 18:38:07 +0000 2022</td></tr><tr><td>1595849257294368769</td><td>You can’t order democracy like it’s instacart</td><td>GregProops</td><td>antjcm happy thanksgiving</td><td>150296</td><td>#BidenHarris2020</td><td>None</td><td>Thu Nov 24 18:38:07 +0000 2022</td></tr><tr><td>1595849257453494272</td><td>F.N.F SHAYYY🖕🏿🤪👐🏽</td><td>ShaylahMarie__</td><td>rt mixedmjj so many things to be thankful for happy thanksgiving</td><td>1052</td><td>Indiana, USA</td><td>None</td><td>Thu Nov 24 18:38:07 +0000 2022</td></tr><tr><td>1595849256962760704</td><td>Yoohoo #WitchFromMercury</td><td>AlanDraculla</td><td>rt yuumei_art happy thanksgiving may all your food swim right into your mouth like these taiyaki</td><td>110</td><td>Celeste Mountain</td><td>None</td><td>Thu Nov 24 18:38:06 +0000 2022</td></tr><tr><td>1595849257461977091</td><td>Steph Strad Justify Arro Jack C Melvie Mary Baaeed</td><td>stephqjustified</td><td>rt browch i don t think she s ever fully forgiven me for this one gt happy thanksgiving gopoego voodoomamajuju</td><td>892</td><td>Lexington, KY</td><td>None</td><td>Thu Nov 24 18:38:07 +0000 2022</td></tr><tr><td>1595849257256460291</td><td>Foodie( 44 POTUS & FLOTUS 4 ever)</td><td>samartini10</td><td>rt kennymack happy thanksgiving and as we do every year a psa leave that recipe you saw on food network at home</td><td>976</td><td>None</td><td>None</td><td>Thu Nov 24 18:38:07 +0000 2022</td></tr><tr><td>1595849257617354757</td><td>tay</td><td>taylorxdani</td><td>rt mrwilin if your family starts arguing on thanksgiving please go on live so we can all hear it</td><td>493</td><td>None</td><td>None</td><td>Thu Nov 24 18:38:07 +0000 2022</td></tr><tr><td>1595849257516498951</td><td>Joe Blake</td><td>jbalt63</td><td>turkey</td><td>1866</td><td>None</td><td>None</td><td>Thu Nov 24 18:38:07 +0000 2022</td></tr><tr><td>1595849257357131777</td><td>StreetLeague72</td><td>StreetLeague72</td><td>happy thanksgiving just wanna shoutout those im thankful for i don t know where i would be without you people i</td><td>283</td><td>Arizona</td><td>None</td><td>Thu Nov 24 18:38:07 +0000 2022</td></tr><tr><td>1595849257478934528</td><td>Janine Hook, J.D. #HandMarkedPaperBallots</td><td>janinelhook</td><td>i m sorry you were left out by your family that s not a good feeling but it s not you it s them you are a spec</td><td>1933</td><td>Vancouver/Ridgefield WA</td><td>None</td><td>Thu Nov 24 18:38:07 +0000 2022</td></tr><tr><td>1595849257764151296</td><td>Kae</td><td>Krunkanomics</td><td>happy thanksgiving y all i m grateful for twitter</td><td>1019</td><td>...</td><td>None</td><td>Thu Nov 24 18:38:07 +0000 2022</td></tr><tr><td>1595849257856425984</td><td>patriot</td><td>patriot58455027</td><td>rt tesla happy thanksgiving thanks to the tesla team owners and fans for helping us accelerate the world s transition to sustainable</td><td>22</td><td>None</td><td>None</td><td>Thu Nov 24 18:38:07 +0000 2022</td></tr><tr><td>1595849257390854145</td><td>haley</td><td>mockingjaays</td><td>happy thanksgiving i am thankful for this</td><td>7373</td><td>she/her • 21</td><td>None</td><td>Thu Nov 24 18:38:07 +0000 2022</td></tr><tr><td>1595849257927716865</td><td>Meg🕊</td><td>MegsAnEgg</td><td>pregaming thanksgiving w cody and noels podcast lol</td><td>1400</td><td>Ohio, USA</td><td>None</td><td>Thu Nov 24 18:38:07 +0000 2022</td></tr><tr><td>1595849257982070790</td><td>Jose🥶🇩🇴</td><td>youngslink</td><td>rt kburton_ happy thanksgiving to whoever make the mac and cheese today</td><td>40</td><td>Pluto</td><td>None</td><td>Thu Nov 24 18:38:07 +0000 2022</td></tr><tr><td>1595849258078535689</td><td>Bad Bwe Bobby</td><td>Bobby_Bukowski</td><td>rt israel for all of you who are stressed about making thanksgiving dinner consider yourselves lucky we do it every friday night hap</td><td>112</td><td>Across The Pond</td><td>None</td><td>Thu Nov 24 18:38:07 +0000 2022</td></tr><tr><td>1595849258191978498</td><td>Ted Emery</td><td>Ted_Emery2</td><td>joncoopertweets yes i hope everyone has a happy thanksgiving</td><td>15</td><td>None</td><td>None</td><td>Thu Nov 24 18:38:07 +0000 2022</td></tr><tr><td>1595849258292461570</td><td>Debbie</td><td>DebraMoutray</td><td>rt funder if an election denier was at your thanksgiving would you confront them with the fact trump lost i would</td><td>455</td><td>None</td><td>None</td><td>Thu Nov 24 18:38:07 +0000 2022</td></tr><tr><td>1595849258485551104</td><td>NIP SIRAK</td><td>NipSirak</td><td>happy thanksgiving thankful for everything and i hope everyone has a blessed day</td><td>161</td><td>I don't even know</td><td>None</td><td>Thu Nov 24 18:38:07 +0000 2022</td></tr><tr><td>1595849259890659328</td><td>Andrew 🇺🇦🕊️</td><td>PastaGut</td><td>rt diebytheblade imagine leaving tage thompson off this graphic couldn t be me</td><td>697</td><td>Rochester, NY</td><td>None</td><td>Thu Nov 24 18:38:07 +0000 2022</td></tr><tr><td>1595849259819089921</td><td>Hitman</td><td>Hitman_CLT</td><td>happy thanksgiving coach grateful to have you at depaul godemons</td><td>3212</td><td>Charlotte, NC</td><td>None</td><td>Thu Nov 24 18:38:07 +0000 2022</td></tr><tr><td>1595849259240550400</td><td>#CherRocks🌈🥰💙👄#SawyerFrdrxrocks. BOY GEORGE👄</td><td>_WILLIAMCHER</td><td>cher happy thanksgiving cher and fam</td><td>17235</td><td>Kentucky, USA</td><td>None</td><td>Thu Nov 24 18:38:07 +0000 2022</td></tr><tr><td>1595849259903078400</td><td>Bun</td><td>SadoBunni</td><td>rt rico_and_lyrik ass looking like a thanksgiving meal who wanna a serving st first people get to watch me get stuffed like a t</td><td>3906</td><td>None</td><td>None</td><td>Thu Nov 24 18:38:07 +0000 2022</td></tr><tr><td>1595849259970084864</td><td>iggy</td><td>iggy_234</td><td>rt chiefs thankful for our chiefs family happy thanksgiving chiefs kingdom</td><td>36</td><td>None</td><td>None</td><td>Thu Nov 24 18:38:07 +0000 2022</td></tr><tr><td>1595849260083314693</td><td>KroNos The Great™</td><td>KronostheGreat_</td><td>rt stacymagagirl happy thanksgiving you turkeys</td><td>1274</td><td>United States🇺🇲</td><td>None</td><td>Thu Nov 24 18:38:07 +0000 2022</td></tr><tr><td>1595849259508801537</td><td>CedaCash</td><td>CedaCash</td><td>i walk in the kitchen grab some quick bites then zip out the way thankful thanksgiving thanksgivingday kang</td><td>27574</td><td>Brooklyn, NY</td><td>None</td><td>Thu Nov 24 18:38:07 +0000 2022</td></tr><tr><td>1595849260196859905</td><td>DEELSEE</td><td>DEELSEE1</td><td>rt chefjoseandres tbt to november one of my favorite thanksgiving visits to colbertlateshow even though stephenathome and i had</td><td>73</td><td>None</td><td>None</td><td>Thu Nov 24 18:38:07 +0000 2022</td></tr><tr><td>1595849260066643968</td><td>Bekki S Bearheart</td><td>BekkiSBearheart</td><td>rt occupydemocrats happy thanksgiving retweet if you re thankful that joe biden is president instead of donald trump</td><td>92</td><td>Ithaca, NY</td><td>None</td><td>Thu Nov 24 18:38:07 +0000 2022</td></tr><tr><td>1595849260141973504</td><td>R A ' R A U W 🥷</td><td>Frank2ble_r11</td><td>rt rauwalejandro happy thanksgiving hombre del a o with gqmexico gqmagazine</td><td>313</td><td>Monterrey, Nuevo León</td><td>None</td><td>Thu Nov 24 18:38:07 +0000 2022</td></tr><tr><td>1595849260146348038</td><td>Prophet Of Truth.</td><td>ProphetOfTruth0</td><td>rt calebsdume those people don t know he s about to eat them please someone tell them oh my god</td><td>190</td><td>high charity</td><td>None</td><td>Thu Nov 24 18:38:07 +0000 2022</td></tr><tr><td>1595849260246900736</td><td>Side Hoe #3</td><td>moregayinside</td><td>rt boobiesonfire happy thanksgiving i am thankful for the scab on my head</td><td>56</td><td>None</td><td>None</td><td>Thu Nov 24 18:38:07 +0000 2022</td></tr><tr><td>1595849260368506881</td><td>ShikaTV | #______ Shika | DeTox Shika</td><td>RealShikaTV</td><td>rt fucksmitty happy thanksgiving thankful for all the friends amp connections i ve made on here you guys are the real mvps</td><td>1601</td><td>Sacramento, CA</td><td>None</td><td>Thu Nov 24 18:38:07 +0000 2022</td></tr><tr><td>1595849259190030343</td><td>Sir. Silk Shekels</td><td>__Macksimum</td><td>thanksgiving things</td><td>383</td><td>NJ</td><td>None</td><td>Thu Nov 24 18:38:07 +0000 2022</td></tr><tr><td>1595849260477579266</td><td>Javvy Bing 🇵🇷 🌊🏄🤌🏽</td><td>javvybing27</td><td>rt etanthomas ballislife they know kyrie irving doesn t celebrate thanksgiving and they know exactly why because he has explained his</td><td>239</td><td>San Juan, PR</td><td>None</td><td>Thu Nov 24 18:38:07 +0000 2022</td></tr><tr><td>1595849260158914564</td><td>AL</td><td>al_0403</td><td>happy thanksgiving y all thankful for every fucking thing that i have rn</td><td>799</td><td>Illinois, USA</td><td>None</td><td>Thu Nov 24 18:38:07 +0000 2022</td></tr><tr><td>1595849260540592128</td><td>Almes Bridges</td><td>AlmesBridges</td><td>rt occupydemocrats happy thanksgiving retweet if you re thankful that joe biden is president instead of donald trump</td><td>0</td><td>None</td><td>None</td><td>Thu Nov 24 18:38:07 +0000 2022</td></tr><tr><td>1595849260548952064</td><td>Gold_EryThanG.sol™️ #DogeClub #PAYC #RAYC $SAMO</td><td>FlipLowTheMotto</td><td>rt dogeclub_nft a special greeting of thanksgiving time to express our sincere appreciation for your support and company happythanksgi</td><td>2442</td><td>In Your Head, Rent Free</td><td>None</td><td>Thu Nov 24 18:38:07 +0000 2022</td></tr><tr><td>1595849260590940161</td><td>Yaw_Gent</td><td>dtee_89</td><td>rt joycemeyer father help me to realize that thanksgiving is more than just a day on the calendar i am grateful for all you have done i</td><td>1108</td><td>None</td><td>None</td><td>Thu Nov 24 18:38:07 +0000 2022</td></tr><tr><td>1595849260716937216</td><td>lucy 🌮</td><td>loopyy_____</td><td>rt txnaughtynurse happy thanksgiving having a discount on my spicy site all weekend long</td><td>354129</td><td>Top 2.2%</td><td>None</td><td>Thu Nov 24 18:38:07 +0000 2022</td></tr><tr><td>1595849260783865856</td><td>Daniel Curtsinger</td><td>Curty1973</td><td>rt vjplatinum time to share the love i m going to giveaway cards to lucky winners on black friday process is simple follow rt a</td><td>39</td><td>Bayfield, Co</td><td>None</td><td>Thu Nov 24 18:38:07 +0000 2022</td></tr><tr><td>1595849260691558400</td><td>Matty</td><td>matty444d</td><td>rt realjameswoods happy thanksgiving</td><td>40</td><td>Birkenhead, England</td><td>None</td><td>Thu Nov 24 18:38:07 +0000 2022</td></tr><tr><td>1595849260267966467</td><td>Rank One Sport</td><td>rank1sport</td><td>thank you to all of our amazing rank one family whether you re a student coach parent director trainer or that</td><td>842</td><td>Addison, TX</td><td>None</td><td>Thu Nov 24 18:38:07 +0000 2022</td></tr><tr><td>1595849260842778624</td><td>Sparkplug Football</td><td>SparkplugFB</td><td>rt adedamola_ajani thank you for the thanksgiving greetings martin_miami_hc coachkoehler coachjpatton</td><td>1135</td><td>Speedway, Indiana</td><td>None</td><td>Thu Nov 24 18:38:07 +0000 2022</td></tr><tr><td>1595849260703981568</td><td>jmendoza333</td><td>jmendoza33311</td><td>short legs are not attractive not ur fault ur barely over feet but long legs with curves are super attractive</td><td>3</td><td>None</td><td>None</td><td>Thu Nov 24 18:38:07 +0000 2022</td></tr><tr><td>1595849260884701184</td><td>Ashley is PRO-Choice ☮️ ✨♥️🌱🌏🥁🌈🕶🐝🌊✨</td><td>KuckelmanAshley</td><td>rt maura_resister good morning wishing you all a happy thanksgiving</td><td>46599</td><td>Des Moines, IA (Ankeny)</td><td>None</td><td>Thu Nov 24 18:38:07 +0000 2022</td></tr><tr><td>1595849260805017600</td><td>Dr. Harry Hypotenuse</td><td>DrHarryHypot</td><td>rt paulrudnickny on thanksgiving let s remember the slaughter of so much innocent polyester in the name of republican casual wear</td><td>717</td><td>New York, USA</td><td>None</td><td>Thu Nov 24 18:38:07 +0000 2022</td></tr><tr><td>1595849260846747648</td><td>Andres A. Aguilar </td><td>Andres_hoez15</td><td>for thanksgiving i hope my family doesnt ask me about my life just pass the tequila bottle</td><td>192</td><td>None</td><td>None</td><td>Thu Nov 24 18:38:07 +0000 2022</td></tr><tr><td>1595849260741922822</td><td>strange in proportion</td><td>DietrichKelley</td><td>rt vintagefantasy_ happy thanksgiving turkey whores</td><td>234</td><td>Pittsburgh, PA</td><td>None</td><td>Thu Nov 24 18:38:07 +0000 2022</td></tr><tr><td>1595849260330897408</td><td>Rob McMullen</td><td>mcmulle1</td><td>rt grizzlygisela while we don t celebrate thanksgiving in the netherlands i d like to express my gratitude to the families of missing lo</td><td>1667</td><td>Aurora, MN</td><td>None</td><td>Thu Nov 24 18:38:07 +0000 2022</td></tr><tr><td>1595849260100116480</td><td>Likula04</td><td>cu44272876</td><td>rt toeianimation live super saiyan blue goku is flying at the th macy s thanksgiving parade happy thanksgiving everyone thanks</td><td>110</td><td>None</td><td>None</td><td>Thu Nov 24 18:38:07 +0000 2022</td></tr><tr><td>1595849261110812672</td><td>Ben Jackson 🦃🌽✝️🏈</td><td>BenAGoodLife</td><td>rt angelblancoarts the thanksgiving parade is coming and there s the balloons with a few familiar faces benagoodlife lukethekang</td><td>762</td><td>California, USA</td><td>None</td><td>Thu Nov 24 18:38:07 +0000 2022</td></tr><tr><td>1595849261178294272</td><td>ava</td><td>ava__23</td><td>rt popculture s the gossip girl thanksgiving episode where everyone got exposed while whatcha say by jason derulo is playing that s h</td><td>124</td><td>None</td><td>None</td><td>Thu Nov 24 18:38:07 +0000 2022</td></tr><tr><td>1595849260985098241</td><td>Craig Rozniecki</td><td>CraigRozniecki</td><td>it just wouldn t be thanksgiving without herschel walker talking about erections and tony romo drawing them</td><td>124573</td><td>Columbus, OH</td><td>None</td><td>Thu Nov 24 18:38:07 +0000 2022</td></tr><tr><td>1595849260938952709</td><td>Revel</td><td>Revel7272Daniel</td><td>rt babygravy democracy is the government handing out sheets of official regime talking points to crush dissent at family gatherings</td><td>4069</td><td>None</td><td>None</td><td>Thu Nov 24 18:38:07 +0000 2022</td></tr><tr><td>1595849261165547521</td><td>Viesta</td><td>ViestaFlorida</td><td>rt karilakewarroom have a wonderful thanksgiving arizona we love you</td><td>1525</td><td>Florida, USA</td><td>None</td><td>Thu Nov 24 18:38:07 +0000 2022</td></tr><tr><td>1595849261219921920</td><td>SuzyQ.🌻💙🌊</td><td>suzyqjordan</td><td>rt tg wishing you and your family a happy thanksgiving grateful to all of you for your kindness your humor and your friendship</td><td>4331</td><td>PNW</td><td>None</td><td>Thu Nov 24 18:38:07 +0000 2022</td></tr><tr><td>1595849261144481795</td><td>Gumbo Aficionado</td><td>RayThachosen1</td><td>charmingcharlay bruh i woke up with it on my mind like coffee and pie me please i really thought my family was t</td><td>1955</td><td>Ain't N.O. tellin</td><td>None</td><td>Thu Nov 24 18:38:07 +0000 2022</td></tr><tr><td>1595849261211652097</td><td>Kurt Schlichter</td><td>KurtSchlichter</td><td>doommonger</td><td>455154</td><td>Manhattan Beach CA</td><td>None</td><td>Thu Nov 24 18:38:07 +0000 2022</td></tr><tr><td>1595849261547151362</td><td>Mark Kuru Herdzik</td><td>TalismanKuru</td><td>rt mcu_direct happy thanksgiving</td><td>23</td><td>United Kingdom</td><td>None</td><td>Thu Nov 24 18:38:08 +0000 2022</td></tr><tr><td>1595849261555634178</td><td>Beast Guy</td><td>Gweencer</td><td>you can t arrest me it s thanksgiving</td><td>92</td><td>Europe</td><td>None</td><td>Thu Nov 24 18:38:08 +0000 2022</td></tr><tr><td>1595849261366870017</td><td>BushWick Bill ⭐️🌙</td><td>MaadEthnic</td><td>look at y all tryna piss people off</td><td>647</td><td>In The Mix</td><td>None</td><td>Thu Nov 24 18:38:08 +0000 2022</td></tr><tr><td>1595849261299957760</td><td>Alaturka News</td><td>alaturkanews</td><td>what to expect for the last minute thanksgiving travel rush gma</td><td>205</td><td>Los Angeles, CA</td><td>None</td><td>Thu Nov 24 18:38:07 +0000 2022</td></tr><tr><td>1595849261761318912</td><td>Nolan Broderick</td><td>Fwsamorah</td><td>rt luhifootball from the crusader football family to yours we wish you a safe and happy thanksgiving we appreciate all the amazing sup</td><td>13</td><td>Uniondale, NY</td><td>None</td><td>Thu Nov 24 18:38:08 +0000 2022</td></tr><tr><td>1595849261689626624</td><td>AZBubba</td><td>azbubba2004</td><td>rt azcardinals what food do you wish was served at thanksgiving seatgeek x cardscam</td><td>37</td><td>None</td><td>None</td><td>Thu Nov 24 18:38:08 +0000 2022</td></tr><tr><td>1595849261719191552</td><td>MP</td><td>MP03173771</td><td>rt herschelwalker wishing everyone a happy and blessed thanksgiving</td><td>71</td><td>None</td><td>None</td><td>Thu Nov 24 18:38:08 +0000 2022</td></tr><tr><td>1595849261929095169</td><td>Barbara (just me and the cats!)</td><td>norwest</td><td>rt snotzthecat happy thanksgiving</td><td>378</td><td>Los Angeles</td><td>None</td><td>Thu Nov 24 18:38:08 +0000 2022</td></tr><tr><td>1595849261895356418</td><td>Douglas Diamond</td><td>DougDiamond71</td><td>rt pnjaban every thanksgiving i m thankful my parents brought me amp my brother to america for a free life i m also thankful that clients</td><td>31</td><td>San Antonio, TX</td><td>None</td><td>Thu Nov 24 18:38:08 +0000 2022</td></tr><tr><td>1595849261861818369</td><td>Waiting On Walker</td><td>scho525</td><td>rt sharpfootball nothing today will top this thanksgiving moment</td><td>418</td><td>Colonie, NY</td><td>None</td><td>Thu Nov 24 18:38:08 +0000 2022</td></tr><tr><td>1595849261979422720</td><td>Devin Owen</td><td>dohorrorfan95</td><td>rt terrifierfilm happy thanksgiving to everyone celebrating today dinner is served terrifier style</td><td>12</td><td>None</td><td>None</td><td>Thu Nov 24 18:38:08 +0000 2022</td></tr><tr><td>1595849264214822912</td><td>Neeraj Batra</td><td>NeerajB23867326</td><td>senschumer thanks mr schumer wishing you and your family a happy thanksgiving have a fabulous day</td><td>100</td><td>None</td><td>None</td><td>Thu Nov 24 18:38:08 +0000 2022</td></tr><tr><td>1595849264231481344</td><td>Ashton</td><td>ashton2yummy</td><td>rt javy ier happy thanksgiving anyone wanna feast on this latino bi teen nsfw rt rt happythanksgiving</td><td>801</td><td>Texas, USA</td><td>None</td><td>Thu Nov 24 18:38:08 +0000 2022</td></tr><tr><td>1595849263380062210</td><td>daisyface flow</td><td>daisyfaceflow</td><td>happy thanksgiving travel notice</td><td>138</td><td>Boston, MA</td><td>None</td><td>Thu Nov 24 18:38:08 +0000 2022</td></tr><tr><td>1595849264256671744</td><td>Andre Walker</td><td>awalker2334</td><td>happy thanksgiving</td><td>378</td><td>None</td><td>None</td><td>Thu Nov 24 18:38:08 +0000 2022</td></tr><tr><td>1595849264302899200</td><td>krista</td><td>keyocean</td><td>rt ufwupdates there would be no thanksgiving feast without farmworkers we re thankful to the consumers who are mindful of the hands that</td><td>1674</td><td>Colorado, USA</td><td>None</td><td>Thu Nov 24 18:38:08 +0000 2022</td></tr><tr><td>1595849264516648961</td><td>andrea IS SEEING TAYLOR JULY 15🌙💫⭐️</td><td>andreasversion</td><td>rt damnjiggaa thanksgiving is so depressing when you have a broken family</td><td>726</td><td>None</td><td>None</td><td>Thu Nov 24 18:38:08 +0000 2022</td></tr><tr><td>1595849261383663616</td><td>Chris Burnette 🏆</td><td>BernieDawg</td><td>a lot riding on momma s gravy gettin thicker quicker we starving thanksgiving</td><td>2689</td><td>Georgia, USA</td><td>None</td><td>Thu Nov 24 18:38:08 +0000 2022</td></tr><tr><td>1595849264546156544</td><td>Chief Vera Bumpers</td><td>bumpers_v</td><td>artacevedo chief happy thanksgiving to you and family</td><td>796</td><td>None</td><td>None</td><td>Thu Nov 24 18:38:08 +0000 2022</td></tr><tr><td>1595849264650981379</td><td>Lovely</td><td>LovelyNeonPanda</td><td>rt yuumei_art happy thanksgiving may all your food swim right into your mouth like these taiyaki</td><td>145</td><td>New Jersey</td><td>None</td><td>Thu Nov 24 18:38:08 +0000 2022</td></tr><tr><td>1595849264676020224</td><td>Godozer</td><td>JayGoDozer</td><td>rt lebatardshow happy thanksgiving</td><td>43</td><td>None</td><td>None</td><td>Thu Nov 24 18:38:08 +0000 2022</td></tr><tr><td>1595849264487284737</td><td>lily.network/@millenomi — cohost.org/millenomi</td><td>millenomi</td><td>rt quinobequin listen to my bro annawaon the son of tall oak weeden speak truth about what this holiday means for so many of us whatev</td><td>229</td><td>None</td><td>None</td><td>Thu Nov 24 18:38:08 +0000 2022</td></tr><tr><td>1595849264818978816</td><td>ChesterHayes 🎄🎁❄️</td><td>Spencersmate28</td><td>rt damienthelion_ my perfect thanksgiving feast is goldeyboiad s tasty butt you can tell just how much i love eating it by how hard i</td><td>162</td><td>None</td><td>None</td><td>Thu Nov 24 18:38:08 +0000 2022</td></tr><tr><td>1595849264697049090</td><td>SEVANNA KOI</td><td>sevannakoi_</td><td>my fav part of thanksgiving is going to all my ppls houses and then having a plate for me</td><td>981</td><td>htx</td><td>None</td><td>Thu Nov 24 18:38:08 +0000 2022</td></tr><tr><td>1595849264323764228</td><td>Truthoverdishonesty</td><td>Nigelj08223326</td><td>rt nigelj thanksgiving in a world with so much negativity look around there s much to be thankful for through the eyes of chil</td><td>681</td><td>None</td><td>None</td><td>Thu Nov 24 18:38:08 +0000 2022</td></tr><tr><td>1595849264835567616</td><td>💚🍃J420N 🍃💚</td><td>JasonKi13810697</td><td>rt mommasboymushu it feels like sunday but it s thanksgivingday happy thanksgiving twitter family there are many things to be than</td><td>475</td><td>None</td><td>None</td><td>Thu Nov 24 18:38:08 +0000 2022</td></tr><tr><td>1595849264928030720</td><td>KnightInRustyArmor</td><td>KnightInRustyOR</td><td>happy thanksgiving to all of you especially q and mrs q we love you both dearly and lift you up constantly</td><td>6</td><td>None</td><td>None</td><td>Thu Nov 24 18:38:08 +0000 2022</td></tr><tr><td>1595849264990912512</td><td>CABBAC 🎮🎬🖥️</td><td>OfficialCABBAC</td><td>happy thanksgiving to everyone in america i m thankful that americans have a day where they can be thankful</td><td>252</td><td>In Limbo</td><td>None</td><td>Thu Nov 24 18:38:08 +0000 2022</td></tr><tr><td>1595849265066250240</td><td>Chase</td><td>ch4seeeee</td><td>rt juneinmonaco gobble gobble gobblin up this dick of off for thanksgiving thankful for you guys</td><td>60</td><td>None</td><td>None</td><td>Thu Nov 24 18:38:08 +0000 2022</td></tr><tr><td>1595849265183870977</td><td>Victor</td><td>Vic14011</td><td>rt occupydemocrats happy thanksgiving retweet if you re thankful that joe biden is president instead of donald trump</td><td>33</td><td>None</td><td>None</td><td>Thu Nov 24 18:38:08 +0000 2022</td></tr><tr><td>1595849265133355009</td><td>Jamie Doke 💙💙💙💙</td><td>RusssellJamie</td><td>nebraskangooner happy thanksgiving thanks for the chance</td><td>1089</td><td>Summerville, SC</td><td>None</td><td>Thu Nov 24 18:38:08 +0000 2022</td></tr><tr><td>1595849265066147842</td><td>NAY</td><td>naydanielsss</td><td>rt _d pop somebody said sharp ass greens</td><td>177</td><td>None</td><td>None</td><td>Thu Nov 24 18:38:08 +0000 2022</td></tr><tr><td>1595849263745056772</td><td>IndianMeteorSociety</td><td>indian_meteor</td><td>tony_battista gvstarshockey tastytrade solid congrats to vinny great way to start thanksgiving</td><td>131</td><td>Caddo Gap, AR</td><td>None</td><td>Thu Nov 24 18:38:08 +0000 2022</td></tr><tr><td>1595849265175314436</td><td>Ceelow.eth</td><td>Hustle_loz</td><td>alienfrens happy thanksgiving</td><td>2198</td><td>The Metaverse</td><td>None</td><td>Thu Nov 24 18:38:08 +0000 2022</td></tr><tr><td>1595849265330675712</td><td>fiscer🇮🇱🇮🇱🇺🇸🇺🇸</td><td>Mac25650119</td><td>rt papitrumpo happy thanksgiving thankyou</td><td>1633</td><td>neverland</td><td>None</td><td>Thu Nov 24 18:38:08 +0000 2022</td></tr><tr><td>1595849265230016512</td><td>Northwest Guilford Football</td><td>nwestfootball</td><td>happy thanksgiving wishing you all a wonderful thanksgiving day spent with family and friends your vikings</td><td>1984</td><td>Greensboro, NC</td><td>{'type': 'Point', 'coordinates': [36.154335, -79.95298]}</td><td>Thu Nov 24 18:38:08 +0000 2022</td></tr><tr><td>1595849265573683200</td><td>Will Shouse</td><td>authrill24</td><td>rt asburyeagles happy thanksgiving chronicles give thanks to the lord for he is good his faithful love endures forever ht</td><td>2474</td><td>Wilmore, KY</td><td>None</td><td>Thu Nov 24 18:38:09 +0000 2022</td></tr><tr><td>1595849265737338882</td><td>Y T F R E E 💸💣🏧</td><td>ATM_YOUNGTIM</td><td>rt kendrickperkins just knocked down my first thanksgiving plate got about more to go don t judge me and carry the hell on</td><td>521</td><td>Tookie World</td><td>None</td><td>Thu Nov 24 18:38:09 +0000 2022</td></tr><tr><td>1595849265468694528</td><td>MizukiArts 🌙 (Stream Hiatus)</td><td>mizuki_shinobi4</td><td>heyo heyo happy thanksgiving everyone</td><td>418</td><td>Inglewood, CA</td><td>None</td><td>Thu Nov 24 18:38:08 +0000 2022</td></tr><tr><td>1595849265808449537</td><td>CANnibal Quadfather 🏳️‍🌈</td><td>MatthwDayton</td><td>i hope on this thanksgiving day you are thankful for final fantasy</td><td>23337</td><td>tikotk: cannibal127</td><td>None</td><td>Thu Nov 24 18:38:09 +0000 2022</td></tr><tr><td>1595849265435365376</td><td>Senostar 🦕</td><td>senostarcrypto</td><td>champtgram happy thanksgiving</td><td>478</td><td>St Petersburg, FL</td><td>None</td><td>Thu Nov 24 18:38:08 +0000 2022</td></tr><tr><td>1595849265280319489</td><td>NFT Secure Title</td><td>nftsecuretitle</td><td>this thanksgiving remember to be thankful for your home giving you a sense of security and comfort every time you</td><td>3</td><td>None</td><td>None</td><td>Thu Nov 24 18:38:08 +0000 2022</td></tr><tr><td>1595849265988919296</td><td>Logans Place 🕊⚖💫</td><td>Logans_Place2B</td><td>mlma beautiful photo happy thanksgiving</td><td>532</td><td>Inner Space.</td><td>None</td><td>Thu Nov 24 18:38:09 +0000 2022</td></tr><tr><td>1595849265506668548</td><td>Warren Allen Toyer III</td><td>_therealillness</td><td>brawlerreal happy thanksgiving</td><td>73</td><td>East Hemet, CA</td><td>None</td><td>Thu Nov 24 18:38:08 +0000 2022</td></tr><tr><td>1595849266211295236</td><td>prof.cakes</td><td>CakesProf</td><td>filledwithurine my cousins came in after a walk talking about thst and i thought they were naming the indians at the first thanksgiving</td><td>6</td><td>None</td><td>None</td><td>Thu Nov 24 18:38:09 +0000 2022</td></tr><tr><td>1595849266328928257</td><td>mek’des/መቅደስ 🖤</td><td>mekdesehaile</td><td>rt ufwupdates as you shop and prepare your thanksgiving meals we d like you to know a little more about the work behind the ingredients</td><td>830</td><td>Los Angeles, CA</td><td>None</td><td>Thu Nov 24 18:38:09 +0000 2022</td></tr><tr><td>1595849266211467264</td><td>Gabriella</td><td>gaabycpm12</td><td>mi novio celebrando thanksgiving i m grateful for have this big tits</td><td>163</td><td>None</td><td>None</td><td>Thu Nov 24 18:38:09 +0000 2022</td></tr><tr><td>1595849265318092802</td><td>Mr. Mustard #SainTrain (CEO of Peanut Butter)</td><td>hildasthighs</td><td>the virgin thanksgiving turkey vs the chad thanksgiving kielbasa</td><td>885</td><td>Sterling Heights, MI</td><td>None</td><td>Thu Nov 24 18:38:08 +0000 2022</td></tr><tr><td>1595849266471522305</td><td>Jason McHuff</td><td>rosecitytransit</td><td>rt lostoregon a couple of options for a thanksgiving meal in at the red lion motor inn or the thunderbird motor inn back when prin</td><td>682</td><td>Portland, Oregon</td><td>None</td><td>Thu Nov 24 18:38:09 +0000 2022</td></tr><tr><td>1595849266429313025</td><td>Bulldog Bulletin</td><td>BHSBulletin348</td><td>rt usd from all us at baldwin usd have a happy thanksgiving baldwinbuilt</td><td>184</td><td>Baldwin City, KS</td><td>None</td><td>Thu Nov 24 18:38:09 +0000 2022</td></tr><tr><td>1595849266072780805</td><td>Valeria Rios</td><td>Vare90967747</td><td>happy thanksgiving hernando_ms</td><td>0</td><td>El Paso, TX</td><td>None</td><td>Thu Nov 24 18:38:09 +0000 2022</td></tr><tr><td>1595849266555232256</td><td>Erik ❄️ 🦃</td><td>TheRoyaleMedia</td><td>rt rhainonme happy thanksgiving</td><td>232</td><td>New York</td><td>None</td><td>Thu Nov 24 18:38:09 +0000 2022</td></tr><tr><td>1595849266601562112</td><td>Mystical Kvng</td><td>KvngMystical</td><td>rt deesonastey happy thanksgiving sale</td><td>418</td><td>None</td><td>None</td><td>Thu Nov 24 18:38:09 +0000 2022</td></tr><tr><td>1595849266563616771</td><td>Vampireknight</td><td>vampireknight</td><td>rt nypost thanksgiving day fire at bronx apartment claims two lives</td><td>1084</td><td>Buckeye, AZ</td><td>None</td><td>Thu Nov 24 18:38:09 +0000 2022</td></tr><tr><td>1595849266601263111</td><td>Jacquaniese</td><td>_missjaye</td><td>so many of us are contributing real dishes to this year s thanksgiving i love that for us</td><td>1699</td><td>Atlanta, GA</td><td>None</td><td>Thu Nov 24 18:38:09 +0000 2022</td></tr><tr><td>1595849266634727425</td><td>@parnell424milano 🌠3💔🦈💙🌠🇺🇸</td><td>parnell424mila3</td><td>rt venicechamber happy thanksgiving from all of us at the venice chamber of commerce we are grateful for our community members local bu</td><td>159</td><td>Santa Monica, CA 🎸</td><td>None</td><td>Thu Nov 24 18:38:09 +0000 2022</td></tr><tr><td>1595849266672680963</td><td>Sassy Ass Cindy</td><td>CindyKendrick11</td><td>happy thanksgiving to you too</td><td>120215</td><td>None</td><td>None</td><td>Thu Nov 24 18:38:09 +0000 2022</td></tr><tr><td>1595849266807058432</td><td>Ranandit Chanda</td><td>ranandit</td><td>rt sakuraverse_fun thanksgiving rewards sakuraverse brings you thanksgiving rewards come and let s accelerate the world s tra</td><td>139</td><td>700084</td><td>None</td><td>Thu Nov 24 18:38:09 +0000 2022</td></tr><tr><td>1595849266718806016</td><td>calif6native☀️🌈✡️😷💙💛🏳️‍⚧️</td><td>calif6native</td><td>rt rtruszkowski yes yes i m wearing this shirt to do my last minute thanksgiving shopping it s not nearly as offensive as seeing fello</td><td>366</td><td>Proud Native Californian</td><td>None</td><td>Thu Nov 24 18:38:09 +0000 2022</td></tr><tr><td>1595849266978775043</td><td>Chrissy Mo 💕</td><td>Chrissy_Mo</td><td>happy birthday amp thanksgiving coolasdq</td><td>1593</td><td>None</td><td>None</td><td>Thu Nov 24 18:38:09 +0000 2022</td></tr><tr><td>1595849267088093184</td><td>brian</td><td>BatyHOF</td><td>rt kendrickperkins just knocked down my first thanksgiving plate got about more to go don t judge me and carry the hell on</td><td>816</td><td>None</td><td>None</td><td>Thu Nov 24 18:38:09 +0000 2022</td></tr><tr><td>1595849268279087111</td><td>vjlyons</td><td>vjlyons</td><td>mahorstman happy thanksgiving mark and to your family and the mt team</td><td>21</td><td>Outside of Philadelphia, PA</td><td>None</td><td>Thu Nov 24 18:38:09 +0000 2022</td></tr><tr><td>1595849268258021377</td><td>skulltrot</td><td>skulltrot</td><td>why are my sisters making me watch jersey shore on thanksgiving</td><td>723</td><td>they/them | 18</td><td>None</td><td>Thu Nov 24 18:38:09 +0000 2022</td></tr><tr><td>1595849268429959168</td><td>Lonnie Bass</td><td>LonnieBass17</td><td>rt tesla happy thanksgiving thanks to the tesla team owners and fans for helping us accelerate the world s transition to sustainable</td><td>1</td><td>None</td><td>None</td><td>Thu Nov 24 18:38:09 +0000 2022</td></tr><tr><td>1595849268308459520</td><td>Alpen Apriandi</td><td>AlpenApriandi</td><td>rt sakuraverse_fun thanksgiving rewards sakuraverse brings you thanksgiving rewards come and let s accelerate the world s tra</td><td>91</td><td>None</td><td>None</td><td>Thu Nov 24 18:38:09 +0000 2022</td></tr><tr><td>1595849268493000706</td><td>Laura Lormand Guinn</td><td>lel1973</td><td>rt elonmusk have a great thanksgiving</td><td>47</td><td>None</td><td>None</td><td>Thu Nov 24 18:38:09 +0000 2022</td></tr><tr><td>1595849268400881664</td><td>🌿🔎Kyubey74🔎🌿</td><td>Kyubeykat74</td><td>rt coubalty instead of turkey for thanksgiving how about some</td><td>20</td><td>None</td><td>None</td><td>Thu Nov 24 18:38:09 +0000 2022</td></tr><tr><td>1595849268467847170</td><td>Piper the Mama Wolf</td><td>PipersAdventure</td><td>happy thanksgiving to all that are celebrating remember to give food time to cool a lil before smashing</td><td>1238</td><td>USA</td><td>None</td><td>Thu Nov 24 18:38:09 +0000 2022</td></tr><tr><td>1595849268471992320</td><td>Venkat Williams</td><td>Venkatwill</td><td>rt the_ironsheik happy thanksgiving to all my american fans except that piece of shit hulk hogan you can go fuck yourself forever</td><td>255</td><td>None</td><td>None</td><td>Thu Nov 24 18:38:09 +0000 2022</td></tr><tr><td>1595849267155009539</td><td>Boyah J. Farah</td><td>Boyahfarah</td><td>her voice her beauty her caring her bravery unmatched don t we need reporters to with hearts like</td><td>728</td><td>Boston</td><td>None</td><td>Thu Nov 24 18:38:09 +0000 2022</td></tr><tr><td>1595849268765806593</td><td>Dr K Ⓜ️Ⓜ️</td><td>rdknowles2010</td><td>rt alfranken me and the grandkids and our annual thanksgiving screening of judgement at nuremberg</td><td>1377</td><td>in the woods, way up north</td><td>None</td><td>Thu Nov 24 18:38:09 +0000 2022</td></tr><tr><td>1595849267071311872</td><td>amy</td><td>doodles4love</td><td>happy thanksgiving for your info life is better with a dog it is a proven fact dogs improve your wellbeing we j</td><td>40</td><td>Idaho, USA</td><td>None</td><td>Thu Nov 24 18:38:09 +0000 2022</td></tr><tr><td>1595849268996505600</td><td>pangfollow ng mga ka-follow follow</td><td>PangfollowF</td><td>rt robsmithonline i m at the grocery store guy in front of me buying a ham he s priced out and was about to put it back i decided to pu</td><td>41</td><td>None</td><td>None</td><td>Thu Nov 24 18:38:09 +0000 2022</td></tr><tr><td>1595849268866142208</td><td>LEGGOGOGO‼️</td><td>Leggotunglei</td><td>on this thanksgiving day i am deeply thankful to be an american</td><td>369</td><td>Hong Kong, HK</td><td>None</td><td>Thu Nov 24 18:38:09 +0000 2022</td></tr><tr><td>1595849268887166978</td><td>Lucky Erikpierce</td><td>erikpierce8</td><td>rt tmv_crypto thanksgiving nd giveaway of to enter like follow me rt comment tmv_crypto bitcoin liteco</td><td>50</td><td>United States</td><td>None</td><td>Thu Nov 24 18:38:09 +0000 2022</td></tr><tr><td>1595849268958416896</td><td>Brad</td><td>Bradlcp380</td><td>rt catturd good morning to everyone and happy thanksgiving</td><td>9919</td><td>Arizona</td><td>None</td><td>Thu Nov 24 18:38:09 +0000 2022</td></tr><tr><td>1595849269097148416</td><td>J Grawrock</td><td>jgrawrock</td><td>degree and sunny on thanksgiving sure why not</td><td>1162</td><td>Los Angeles, CA</td><td>None</td><td>Thu Nov 24 18:38:09 +0000 2022</td></tr><tr><td>1595849269134909441</td><td>mike</td><td>mike85447124</td><td>rt ctbecker again crazy snag and score from bobby was trying to stay off twitter on thanksgiving but i can t resist great moment for</td><td>213</td><td>None</td><td>None</td><td>Thu Nov 24 18:38:09 +0000 2022</td></tr><tr><td>1595849269122154499</td><td>El Majin Uub</td><td>elbabyle</td><td>rt spookygothloser my cousins at thanksgiving tryna tell me they about to go smoke</td><td>340</td><td>Playboy Mansion</td><td>None</td><td>Thu Nov 24 18:38:09 +0000 2022</td></tr><tr><td>1595849269285916673</td><td>Tammie Ann Creative 🎨🇺🇸🐈‍⬛📚🌶 🎮</td><td>TammieACreative</td><td>rt justin_hart years ago the first thanksgiving my th great grandfather edward doty was on the mayflower a feisty spirit got h</td><td>16986</td><td>World of Whimsy</td><td>None</td><td>Thu Nov 24 18:38:09 +0000 2022</td></tr><tr><td>1595849269080203265</td><td>John Murphy</td><td>jmurphy6691</td><td>happy thanksgiving to all wrhs students and staff</td><td>47</td><td>None</td><td>None</td><td>Thu Nov 24 18:38:09 +0000 2022</td></tr><tr><td>1595849269226897409</td><td>Charlie.ε ♛👑☻</td><td>0xcharliee</td><td>everything_sol mfers who aint also thankful on thanksgiving</td><td>1007</td><td>Metaverse</td><td>None</td><td>Thu Nov 24 18:38:09 +0000 2022</td></tr><tr><td>1595849269319462912</td><td>Marz🐉</td><td>LotuszWater</td><td>rt dustinpoirier yall soft bruh happy thanksgiving</td><td>51</td><td>Astro</td><td>None</td><td>Thu Nov 24 18:38:09 +0000 2022</td></tr><tr><td>1595849269214339075</td><td>Amalur</td><td>Amalur60229896</td><td>rt potus from the biden family to all of yours happy thanksgiving this holiday we celebrate all that brings us together grounded in</td><td>654</td><td>None</td><td>None</td><td>Thu Nov 24 18:38:09 +0000 2022</td></tr><tr><td>1595849269294301185</td><td>Xavier</td><td>XavierRegia22</td><td>rt realjameswoods happy thanksgiving</td><td>195</td><td>USA 🇺🇸</td><td>None</td><td>Thu Nov 24 18:38:09 +0000 2022</td></tr><tr><td>1595849267691884552</td><td>Aleigha</td><td>aleighagazer1</td><td>vikings kevoc happy thanksgiving everyone enjoy today go vikings u guys got this vikings r so that s s</td><td>58</td><td>Omaha, NE</td><td>None</td><td>Thu Nov 24 18:38:09 +0000 2022</td></tr><tr><td>1595849269445099523</td><td>Daniel</td><td>Daniel06896559</td><td>synthionmusic happy thanksgiving synthion</td><td>72</td><td>Caguas, Puerto Rico</td><td>None</td><td>Thu Nov 24 18:38:09 +0000 2022</td></tr><tr><td>1595849269415759874</td><td>ZURGPOSTING 😈👽🤖(gritsandbrits)</td><td>GritsandB</td><td>rt powerrangersday macy s thanksgiving parade powerrangers</td><td>290</td><td>None</td><td>None</td><td>Thu Nov 24 18:38:09 +0000 2022</td></tr><tr><td>1595849269096976390</td><td>Jason PARODY ACCOUNT</td><td>BBCStudJason</td><td>spending thanksgiving with my wife moongurl_parody</td><td>98</td><td>None</td><td>None</td><td>Thu Nov 24 18:38:09 +0000 2022</td></tr><tr><td>1595849269067628544</td><td>Jovanni 🇵🇷</td><td>jovanniii_</td><td>rt cameronwolfe what an awesome moment for this kid and dope for stefon taking time out of his pregame workout to make a family s holida</td><td>360</td><td>Hawaii, USA</td><td>None</td><td>Thu Nov 24 18:38:09 +0000 2022</td></tr><tr><td>1595849269138833412</td><td>Josh Randall</td><td>JR1242005</td><td>rt johnnyrandle happy thanksgiving y all let s go skol vikings nfllegacy</td><td>2</td><td>None</td><td>None</td><td>Thu Nov 24 18:38:09 +0000 2022</td></tr><tr><td>1595849269495349248</td><td>correct in the coincidental way</td><td>gregorysomethin</td><td>this is the funniest thing i ve seen all week</td><td>803</td><td>I get it in Ohio</td><td>None</td><td>Thu Nov 24 18:38:09 +0000 2022</td></tr><tr><td>1595849269600215043</td><td>Galactika | A Legend Never Dies 🎗</td><td>TheNerdTrooper</td><td>rt kaijunewsoutlet happy thanksgiving everyone</td><td>17</td><td>TECHNOBLADE NEVER DIES</td><td>None</td><td>Thu Nov 24 18:38:09 +0000 2022</td></tr><tr><td>1595849269818593280</td><td>Jeff Michaud </td><td>cometaj2</td><td>rt zubymusic happy thanksgiving to my american friends and followers</td><td>1494</td><td>None</td><td>None</td><td>Thu Nov 24 18:38:10 +0000 2022</td></tr><tr><td>1595849269440925697</td><td>David Brzezon</td><td>DaveBrz</td><td>crackerbarrel is full menu or limited thanksgiving meals only today eating in</td><td>128</td><td>None</td><td>None</td><td>Thu Nov 24 18:38:09 +0000 2022</td></tr><tr><td>1595849269772226560</td><td>Conor</td><td>ConorTargaryen</td><td>rt alexiaraye thanksgiving ootd first time posting this yep</td><td>155</td><td>Fruit Cove, FL</td><td>None</td><td>Thu Nov 24 18:38:10 +0000 2022</td></tr><tr><td>1595849269793235007</td><td>MFAM bubbie627</td><td>BUBBIE627</td><td>rt timthetatman happy thanksgiving from our family to yours god bless y all</td><td>402</td><td>Keansburg, NJ</td><td>None</td><td>Thu Nov 24 18:38:10 +0000 2022</td></tr><tr><td>1595849269638041600</td><td>BlueCheese (Failed NNN)</td><td>TwoBlue4Cheeses</td><td>rt akfamilyhome happy thanksgiving</td><td>67</td><td>None</td><td>None</td><td>Thu Nov 24 18:38:09 +0000 2022</td></tr><tr><td>1595849269793144832</td><td>sak pasé?</td><td>motinhas_</td><td>rt dbshype goku takes the flight at macy s thanksgiving day parade in nyc</td><td>50</td><td>Lisboa, Portugal</td><td>None</td><td>Thu Nov 24 18:38:10 +0000 2022</td></tr><tr><td>1595849269885472769</td><td>IsaacMLdev</td><td>IsaacMlDev</td><td>rt alexxubyte thanksgiving giveaway signed books vol vol free passes to the online course contains content of vol vol</td><td>20</td><td>None</td><td>None</td><td>Thu Nov 24 18:38:10 +0000 2022</td></tr><tr><td>1595849269860245505</td><td>Rixe</td><td>jomadafacka</td><td>it s mad early big dog</td><td>78</td><td>None</td><td>None</td><td>Thu Nov 24 18:38:10 +0000 2022</td></tr><tr><td>1595849269856051203</td><td>Michael Karp</td><td>d8d8_</td><td>clandestine_om and the happiest of thanksgiving to you one of the most entertaining twitterers on here</td><td>1681</td><td>Greenwich Village NY</td><td>None</td><td>Thu Nov 24 18:38:10 +0000 2022</td></tr><tr><td>1595849269759582213</td><td>Flavio</td><td>Flavio29241431</td><td>rt papitrumpo happy thanksgiving thankyou</td><td>145</td><td>None</td><td>None</td><td>Thu Nov 24 18:38:10 +0000 2022</td></tr><tr><td>1595849270082424832</td><td>American Mexican</td><td>ChicanosforMAGA</td><td>rt realjameswoods happy thanksgiving</td><td>35</td><td>Yuma, AZ</td><td>None</td><td>Thu Nov 24 18:38:10 +0000 2022</td></tr><tr><td>1595849270154113024</td><td>andrew ☆</td><td>awhaeri</td><td>rt calsuccubus the restriction after thanksgiving boutta go crazy</td><td>192</td><td>༺ 48.5 kgs 180 cm  ༘ 16 ࿐˚⁎⋆</td><td>None</td><td>Thu Nov 24 18:38:10 +0000 2022</td></tr><tr><td>1595849270371950595</td><td>Liyah</td><td>thereeLiyahgooo</td><td>rt mixedmjj so many things to be thankful for happy thanksgiving</td><td>1372</td><td>None</td><td>None</td><td>Thu Nov 24 18:38:10 +0000 2022</td></tr><tr><td>1595849270195798016</td><td>Cod</td><td>CoddMas</td><td>happy thanksgiving family</td><td>2414</td><td>Hoboken, NJ</td><td>None</td><td>Thu Nov 24 18:38:10 +0000 2022</td></tr><tr><td>1595849269650546688</td><td>Ounces</td><td>ouncesmi</td><td>happy thanksgiving from the the ounces family we would like to give thanks to everybody who has supported us this</td><td>29</td><td>Sturgis, Michigan</td><td>None</td><td>Thu Nov 24 18:38:09 +0000 2022</td></tr></tbody></table>Showing the first 1000 rows.</div>"
      ]
     },
     "metadata": {
      "application/vnd.databricks.v1+output": {
       "addedWidgets": {},
       "aggData": [],
       "aggError": "",
       "aggOverflow": false,
       "aggSchema": [],
       "aggSeriesLimitReached": false,
       "aggType": "",
       "arguments": {},
       "columnCustomDisplayInfos": {},
       "data": [
        [
         "1595849188629446657",
         "Truth",
         "enchantedtruth",
         "repmtg i ve been vaccinated x s i ve gotten a flu vax also i ve never been sick some side effects from the sho",
         "188",
         "None",
         "None",
         "Thu Nov 24 18:37:50 +0000 2022"
        ],
        [
         "1595849188595552257",
         "Purple Monkey in a Submarine a.k.a. Ray Ray",
         "aduron",
         "ajtourville elonmusk karaswisher can t you do something more productive on thanksgiving besides mocking people",
         "442",
         "San Jose CA",
         "None",
         "Thu Nov 24 18:37:50 +0000 2022"
        ],
        [
         "1595849188763308032",
         "porn",
         "Porndaddy1827",
         "rt hungjockgavin happy thanksgiving sluts",
         "132",
         "None",
         "None",
         "Thu Nov 24 18:37:50 +0000 2022"
        ],
        [
         "1595849188847198208",
         "Soy Martin Martinez 🇲🇽🇯🇴🎸🇨🇳🇨🇺🇷🇺🇸🇾",
         "Chano19521",
         "rt paulsorrentino yo aoc kids in cages wish you a happy thanksgiving",
         "1726",
         "Playas de Rosarito, Baja Calif",
         "None",
         "Thu Nov 24 18:37:50 +0000 2022"
        ],
        [
         "1595849188859944960",
         "Enemy Of The State",
         "TheRealBLee30",
         "rt nba_newyork happy thanksgiving be thankful your knicks have improved",
         "790",
         "Universe City, 212..Wheelz Up",
         "None",
         "Thu Nov 24 18:37:50 +0000 2022"
        ],
        [
         "1595849188226506755",
         "Mike H2O..",
         "MiguelH05358319",
         "dbacks happy thanksgiving",
         "603",
         "Phoenix, AZ",
         "None",
         "Thu Nov 24 18:37:50 +0000 2022"
        ],
        [
         "1595849189002461186",
         "moshi's_BlackBeard",
         "MoshiBlackbeard",
         "rt playcodnews happy thanksgiving",
         "255",
         "None",
         "None",
         "Thu Nov 24 18:37:50 +0000 2022"
        ],
        [
         "1595849189032103936",
         "Kathy Dove",
         "movie_gal_10",
         "rt mikef titletownusa happy thanksgiving james and all the cool music kids",
         "5025",
         "Las Vegas, NV",
         "None",
         "Thu Nov 24 18:37:50 +0000 2022"
        ],
        [
         "1595849189010849795",
         "William mcsher",
         "McsheeWilliam",
         "rt kingsleycortes remember the native americans this thanksgiving",
         "356",
         "None",
         "None",
         "Thu Nov 24 18:37:50 +0000 2022"
        ],
        [
         "1595849188411064323",
         "LordofScarlett",
         "Scarlettismine",
         "letstalkvampi may i please offer you my man letstalkvampi some cake this thanksgiving",
         "39",
         "None",
         "None",
         "Thu Nov 24 18:37:50 +0000 2022"
        ],
        [
         "1595849188977287170",
         "Gold an America First operative 🇺🇸",
         "MagaGoldHat1",
         "rt amerikangirlll happy thanksgiving to all my twitter most beautiful patriots thankful for elonmusk who had the cojones to stand",
         "1098",
         "Florida, USA",
         "None",
         "Thu Nov 24 18:37:50 +0000 2022"
        ],
        [
         "1595849189048590336",
         "MJ",
         "MJ_77ers",
         "happy thanksgiving first thanksgiving snl via youtube",
         "9",
         "America",
         "None",
         "Thu Nov 24 18:37:50 +0000 2022"
        ],
        [
         "1595849189090824192",
         "YoungAssOldNigg",
         "y_a_o_n",
         "marion da barbarian ripmarionbarber nygvsdal dc l happy thanksgiving",
         "18",
         "New Jersey, USA",
         "None",
         "Thu Nov 24 18:37:50 +0000 2022"
        ],
        [
         "1595849189262774272",
         "DannyC.",
         "steelpen487",
         "rt realjameswoods happy thanksgiving",
         "1223",
         "Rochester, NY.",
         "None",
         "Thu Nov 24 18:37:50 +0000 2022"
        ],
        [
         "1595849189183082496",
         "jakob",
         "saltyspruce",
         "can t wait for a fun home movie to be made so it can join the thanksgiving film canon",
         "442",
         "he/him | 23",
         "None",
         "Thu Nov 24 18:37:50 +0000 2022"
        ],
        [
         "1595849189199839232",
         "franny",
         "maculvein",
         "dad is so real for that cause i almost walked out of the theater at the same point",
         "373",
         "Denver, CO",
         "None",
         "Thu Nov 24 18:37:50 +0000 2022"
        ],
        [
         "1595849189279223810",
         "Lening Rivera",
         "rivera_lening",
         "happy thanksgiving",
         "44",
         "None",
         "None",
         "Thu Nov 24 18:37:50 +0000 2022"
        ],
        [
         "1595849189384151040",
         "God’s Favourite 👸🏾🇬🇭🇬🇧🇺🇸💕",
         "misunders2ed",
         "need to kill off my pain with some fufu amp abenkwan happy thanksgiving to my americans",
         "100",
         "London, England",
         "None",
         "Thu Nov 24 18:37:50 +0000 2022"
        ],
        [
         "1595849189446983686",
         "Jay Hunter",
         "extremely_jaded",
         "ashleigh_rpg aww happy thanksgiving ash i m thankful to have worked alongside you too",
         "640",
         "Melbourne, Victoria",
         "None",
         "Thu Nov 24 18:37:50 +0000 2022"
        ],
        [
         "1595849189572878336",
         "Mary Laurence",
         "Marlaur963",
         "gaybe_miller michaeljknowles folkslinger haha you re hilarious thanks for the laugh happy thanksgiving",
         "0",
         "None",
         "None",
         "Thu Nov 24 18:37:50 +0000 2022"
        ],
        [
         "1595849189795176448",
         "Paul Morrison 🏴󠁧󠁢󠁳󠁣󠁴󠁿🇺🇦",
         "paul__morrison_",
         "nathaliejacoby coolresistercat happy thanksgiving nathalie",
         "624",
         "Scotland, United Kingdom",
         "None",
         "Thu Nov 24 18:37:50 +0000 2022"
        ],
        [
         "1595849188868345862",
         "🏈TitansFanatic🏈",
         "titanfan8",
         "flashback to thanksgiving as the tennessee titans defeated the detroit lions both",
         "1681",
         "Tennessee🇺🇸",
         "None",
         "Thu Nov 24 18:37:50 +0000 2022"
        ],
        [
         "1595849189774213120",
         "GBI (Jay) (parody)",
         "GreatBigIdiot",
         "need the scott stapp cowboys",
         "7859",
         "None",
         "None",
         "Thu Nov 24 18:37:50 +0000 2022"
        ],
        [
         "1595849190021955584",
         "Joshua Millet",
         "jaysstreet",
         "rt tlschwerz oh this week of thanksgiving i couldn t be more thankful to have a platform to share opinions write and interact you all",
         "232",
         "Spokane Washington",
         "None",
         "Thu Nov 24 18:37:51 +0000 2022"
        ],
        [
         "1595849189946179584",
         "snoopyone",
         "snoopyone",
         "rt mcmsports wishing all war hawks a wonderful thanksgiving holiday alacumba",
         "1063",
         "El Paso, TX",
         "None",
         "Thu Nov 24 18:37:50 +0000 2022"
        ],
        [
         "1595849189967204356",
         "Lisa Barr",
         "bar65719103",
         "jeremyrenner jeremyrenner happy thanksgiving to you jeremy and ava",
         "31",
         "None",
         "None",
         "Thu Nov 24 18:37:50 +0000 2022"
        ],
        [
         "1595849190101647360",
         "Robert Del Owens",
         "robertowens255",
         "rt gonintendotweet check out the pikachu amp eevee balloon at the macy s thanksgiving day parade",
         "1543",
         "Lantana Fl 33462",
         "None",
         "Thu Nov 24 18:37:51 +0000 2022"
        ],
        [
         "1595849190105821185",
         "cat meme god🐈‍⬛",
         "samantha__0392",
         "rt cowboycats happy thanksgiving",
         "198",
         "Neighbor of  @ssamantha_a_",
         "None",
         "Thu Nov 24 18:37:51 +0000 2022"
        ],
        [
         "1595849190235832320",
         "Barbra Oconnor",
         "BarbraO72381401",
         "rt nickadamsinusa happy thanksgiving extra special one for me as it is my very first as an american citizen be grateful enjoy and",
         "160",
         "Falmouth Kentucky",
         "None",
         "Thu Nov 24 18:37:51 +0000 2022"
        ],
        [
         "1595849190214705163",
         "kevinl.eth",
         "klabianco",
         "rt ferntheleopard happy thanksgiving all here s a short story written for today about a turkey that fern meets",
         "166",
         "*verse",
         "None",
         "Thu Nov 24 18:37:51 +0000 2022"
        ],
        [
         "1595849190332018693",
         "Jack.🔪",
         "antiSOLEcial",
         "rt veronasfilms happy thanksgiving from wednesday addams as she drags tf outta this holiday",
         "847",
         "Los Angeles, CA",
         "None",
         "Thu Nov 24 18:37:51 +0000 2022"
        ],
        [
         "1595849190416220160",
         "TCoop252",
         "CooperOshae",
         "rt matthew_paras taylor heinicke is ready for thanksgiving",
         "340",
         "None",
         "None",
         "Thu Nov 24 18:37:51 +0000 2022"
        ],
        [
         "1595849189841604608",
         "Bryan Wilson ⭐️⭐️⭐️ QB",
         "qb3wilson",
         "happy thanksgiving thank you dartmouthftbl landanyount coachdaft bteevans welcome hewoods",
         "1146",
         "Eastvale, CA",
         "None",
         "Thu Nov 24 18:37:50 +0000 2022"
        ],
        [
         "1595849190491713536",
         "Walterjblanco",
         "Walterjblanco7",
         "rt propsdotcash a thanksgiving giveaway of to enter tell us which nfl player will have the longest reception tomorrow ho",
         "75",
         "None",
         "None",
         "Thu Nov 24 18:37:51 +0000 2022"
        ],
        [
         "1595849190302797826",
         "StarWarsLegend",
         "_StarWarsLegend",
         "happy thanksgiving everyone",
         "0",
         "None",
         "None",
         "Thu Nov 24 18:37:51 +0000 2022"
        ],
        [
         "1595849190495715328",
         "SiteSeer🔞",
         "Sitesseer",
         "rt merzb w happy thanksgiving",
         "28",
         "None",
         "None",
         "Thu Nov 24 18:37:51 +0000 2022"
        ],
        [
         "1595849190776918018",
         "PolitiChess",
         "PolitiChess",
         "rt alx less than a week ago i wasn t allowed on this platform and was told i was banned for life two years ago without any specific rea",
         "15",
         "FEMA Region 4 (IV)",
         "None",
         "Thu Nov 24 18:37:51 +0000 2022"
        ],
        [
         "1595849190705438722",
         "Mr. Shiny Teeth",
         "KngNate_",
         "rt ballislife kyrie i don t particularly celebrate thanksgiving but anybody getting together with their families blessings to all you",
         "1681",
         "Raleigh, NC",
         "None",
         "Thu Nov 24 18:37:51 +0000 2022"
        ],
        [
         "1595849190936125447",
         "Heather Mills",
         "NewsieHeather",
         "lenconnell thank you len happy thanksgiving enjoy the time with your parents",
         "6893",
         "Las Vegas, NV",
         "None",
         "Thu Nov 24 18:37:51 +0000 2022"
        ],
        [
         "1595849191015817225",
         "nani 🧘🏽‍♀️",
         "nalaniparedes_",
         "rt damnjiggaa thanksgiving is so depressing when you have a broken family",
         "143",
         "United States",
         "None",
         "Thu Nov 24 18:37:51 +0000 2022"
        ],
        [
         "1595849190915117060",
         "♱ ᐱᑐԻլ ♱",
         "LikeRez12",
         "rt rexchapman macy s thanksgiving day parade wow the master s of the universe",
         "22820",
         "None",
         "None",
         "Thu Nov 24 18:37:51 +0000 2022"
        ],
        [
         "1595849191082938370",
         "dr pax, MD",
         "paxthedog",
         "yourdadvice an intern i m assuming isn t too happy about working on thanksgiving",
         "2527",
         "no idea",
         "None",
         "Thu Nov 24 18:37:51 +0000 2022"
        ],
        [
         "1595849191141490688",
         "bhartwork",
         "bhartwork1",
         "jonnajarian elonmusk aoc this is great jon happy thanksgiving to you and the fam love watching you and your",
         "32",
         "Palm Desert, CA",
         "None",
         "Thu Nov 24 18:37:51 +0000 2022"
        ],
        [
         "1595849191036796929",
         "Gerrad Carson",
         "GerradCarson",
         "killakenzee happy thanksgiving",
         "84",
         "None",
         "None",
         "Thu Nov 24 18:37:51 +0000 2022"
        ],
        [
         "1595849191145832448",
         "Manderson",
         "swimmanderson",
         "sharksnsports happy thanksgiving brother",
         "33",
         "None",
         "None",
         "Thu Nov 24 18:37:51 +0000 2022"
        ],
        [
         "1595849191292817409",
         "Snobby Tortoise",
         "ooooo_weee",
         "rt billsbestbet thanksgiving freebie quick like rt go go go gamblingtwitter",
         "655",
         "Queens, NY",
         "None",
         "Thu Nov 24 18:37:51 +0000 2022"
        ],
        [
         "1595849190831161347",
         "Mae North",
         "MaeNorth13",
         "rt jlusrey love this picture thanks",
         "7174",
         "Up North",
         "None",
         "Thu Nov 24 18:37:51 +0000 2022"
        ],
        [
         "1595849191263182851",
         "Blade brown",
         "Mrbrandonburkes",
         "rt joytaylortalks have a great thanksgiving everyone speakonfs",
         "2895",
         "greensboro,nc",
         "None",
         "Thu Nov 24 18:37:51 +0000 2022"
        ],
        [
         "1595849191317999616",
         "麻美ゆぅま7",
         "HEAVENSBELL07",
         "rt dccheerleaders they re back it s official this thanksgiving we are performing the salvationarmyus redkettlekickoff",
         "85",
         "None",
         "None",
         "Thu Nov 24 18:37:51 +0000 2022"
        ],
        [
         "1595849191242153984",
         "bmac_in_Florida",
         "bmac_in_Florida",
         "what he said thanksgivingday",
         "1591",
         "Florida, USA",
         "None",
         "Thu Nov 24 18:37:51 +0000 2022"
        ],
        [
         "1595849192806678535",
         "Gregory Lathan",
         "lathang87",
         "rt elonmusk have a great thanksgiving",
         "10",
         "None",
         "None",
         "Thu Nov 24 18:37:51 +0000 2022"
        ],
        [
         "1595849192819380225",
         "Seble Tekleselasie",
         "STekleselasie",
         "rt michaelwrub drop your cardano address below and make sure you re following don t ask why p s happy thanksgiving",
         "113",
         "None",
         "None",
         "Thu Nov 24 18:37:51 +0000 2022"
        ],
        [
         "1595849192764760066",
         "cornertyper",
         "cornertyper1",
         "my friends are asking me to hang out with them today i m like bro it s thanksgiving",
         "10",
         "None",
         "None",
         "Thu Nov 24 18:37:51 +0000 2022"
        ],
        [
         "1595849192966012928",
         "AzrullAzmiy🇵🇸🇪🇸",
         "azrullazmi",
         "rt zachbraff in case this is my last post on here happy thanksgiving from my family to yours",
         "3832",
         "Terengganu - Toxicity",
         "None",
         "Thu Nov 24 18:37:51 +0000 2022"
        ],
        [
         "1595849193004105730",
         "xionnie | is seeing oneus",
         "beauty_xion",
         "rt ericnamofficial happy thanksgiving yall",
         "43",
         "they/them",
         "None",
         "Thu Nov 24 18:37:51 +0000 2022"
        ],
        [
         "1595849193301495808",
         "Teresa De Leon",
         "teresadeleon527",
         "rt nisd happy thanksgiving we are thankful for our nisdfamily",
         "246",
         "None",
         "None",
         "Thu Nov 24 18:37:51 +0000 2022"
        ],
        [
         "1595849193360306176",
         "Michael Carbonaro",
         "carbonaro",
         "rt dailyikura pennjillette and carbonaro thank you and the entire crew for an amazing tgiving eve experience for our kiddo asher beaut",
         "51666",
         "Earth? wait... yeah earth.",
         "None",
         "Thu Nov 24 18:37:51 +0000 2022"
        ],
        [
         "1595849193310093317",
         "✨nes✨",
         "tinkernes",
         "rt puppernelson thankful for beaches friends borgers and you happy thanksgiving",
         "41",
         "BLM",
         "None",
         "Thu Nov 24 18:37:51 +0000 2022"
        ],
        [
         "1595849193339453440",
         ".",
         "B_McKay1",
         "rt coachlyonscvfb tradition like no other great thanksgiving practice followed by a great thanksgiving team meal cvfamily",
         "227",
         "None",
         "None",
         "Thu Nov 24 18:37:51 +0000 2022"
        ],
        [
         "1595849193473691649",
         "Reilly",
         "Reillyskater96",
         "rt midwestern_ope the sides of a midwest thanksgiving",
         "246",
         "None",
         "None",
         "Thu Nov 24 18:37:51 +0000 2022"
        ],
        [
         "1595849193490464768",
         "Michael Kuzara",
         "kuzara_mike",
         "rt olivetbaseball happy thanksgiving from our family to yours we re grateful for the past current amp future comets in our program rol",
         "107",
         "Canton, Mi",
         "None",
         "Thu Nov 24 18:37:51 +0000 2022"
        ],
        [
         "1595849193519779840",
         "Girth Nowitskii",
         "PhreshGTM",
         "ya niggas dirty",
         "1231",
         "LowKey",
         "None",
         "Thu Nov 24 18:37:51 +0000 2022"
        ],
        [
         "1595849193700360192",
         "Tanya Lynn 🌻🇺🇦",
         "groovyhippie4u",
         "rt asgoeswisconsin happy thanksgiving wisconsin may you bask in the glory of the rest of the country eating our cranberries today",
         "3094",
         "Fitzwalkerstan, Wi",
         "None",
         "Thu Nov 24 18:37:51 +0000 2022"
        ],
        [
         "1595849193587101697",
         "Brian Nicholas Buono",
         "BrianNicholasB3",
         "as far great as well said happy cheers thanksgiving to all the american as loves their s neighbors amen along",
         "222",
         "Lincoln In Placer County In CA",
         "None",
         "Thu Nov 24 18:37:51 +0000 2022"
        ],
        [
         "1595849193616478209",
         "Connor⚡️",
         "ConnorKanous",
         "this thanksgiving today we ll it ll be something that s for sure",
         "104",
         "Grand Blanc, MI",
         "None",
         "Thu Nov 24 18:37:51 +0000 2022"
        ],
        [
         "1595849193842954240",
         "DebbieV64",
         "dalesfan1",
         "rt jellyroll any of the homies in the city need somewhere to eat drink and smoke for thanksgiving holler at me",
         "310",
         "Small Town in Mi 49227",
         "None",
         "Thu Nov 24 18:37:51 +0000 2022"
        ],
        [
         "1595849193842937856",
         "🌻Thursday’s Child - (@🏠)🌻",
         "alice4u2010",
         "rt barackobama wishing everyone a happy thanksgiving as we celebrate let s give thanks for all the blessings in our lives and give back",
         "3918",
         "Susanville, CA",
         "None",
         "Thu Nov 24 18:37:51 +0000 2022"
        ],
        [
         "1595849193851039745",
         "Adakah✍️",
         "m4sih_Adaka18",
         "rt jennifermills thanksgiving giveaway sorry for the late post all you have to do is rt comment what you re thankful for an",
         "16",
         "Vietnam",
         "None",
         "Thu Nov 24 18:37:51 +0000 2022"
        ],
        [
         "1595849193817395200",
         "Rey Rey",
         "ReyReyBe",
         "rt chancebelloise happy thanksgiving everyone",
         "302",
         "None",
         "None",
         "Thu Nov 24 18:37:51 +0000 2022"
        ],
        [
         "1595849193809014784",
         "ExMo posts on Reddit",
         "ExmormonReddit",
         "happy thanksgiving gt",
         "3149",
         "Kolob",
         "None",
         "Thu Nov 24 18:37:51 +0000 2022"
        ],
        [
         "1595849193922654208",
         "Irene Ralph",
         "LIreneRalph",
         "rt gabrielleydon thanksgiving special our good friends at castaways_gg have given me free castaways genesis character wl spots",
         "6",
         "01010101",
         "None",
         "Thu Nov 24 18:37:51 +0000 2022"
        ],
        [
         "1595849194073632768",
         "Eric",
         "tweetsareduuumb",
         "augustagolfgirl happy thanksgiving mf",
         "3",
         "Washington state",
         "None",
         "Thu Nov 24 18:37:51 +0000 2022"
        ],
        [
         "1595849194035724289",
         "Kyle Backer",
         "kbizzle4588",
         "rt kintel happy thanksgiving to whoever is celebrating today what y all grateful for",
         "255",
         "None",
         "None",
         "Thu Nov 24 18:37:51 +0000 2022"
        ],
        [
         "1595849194224467969",
         "Azul",
         "ThisIsSteveAzul",
         "rt strongislandusa happy thanksgiving to everyone",
         "26",
         "None",
         "None",
         "Thu Nov 24 18:37:52 +0000 2022"
        ],
        [
         "1595849194459332609",
         "Love Quinn Goldberg😘",
         "Chunkionnaaaa",
         "ouuuuu i can t fucking wait",
         "137",
         "ESHAWAY 💙",
         "None",
         "Thu Nov 24 18:37:52 +0000 2022"
        ],
        [
         "1595849194379542528",
         "President of Wednesday",
         "Thepanthergodd",
         "let us not forget the racist origins of thanksgiving let s think of all the native americans who s lives were toke",
         "303",
         "He/They • 16 🖤🖤🖤",
         "None",
         "Thu Nov 24 18:37:52 +0000 2022"
        ],
        [
         "1595849194698608640",
         "Freaknique_tha_God",
         "Freaknique_God",
         "rt thickassdaphne gobble gobble make yall way over to my nlyfans link in bio for my thanksgiving sale happening right now only",
         "287",
         "None",
         "None",
         "Thu Nov 24 18:37:52 +0000 2022"
        ],
        [
         "1595849194694234117",
         "KrystalHigginsStyle",
         "HigginsStyle",
         "contributing a healthy vegan dish for thanksgiving this year watch no one touch it",
         "18",
         "NYC",
         "None",
         "Thu Nov 24 18:37:52 +0000 2022"
        ],
        [
         "1595849194698309638",
         "Annie Llewellyn",
         "Winglle20",
         "rt cbedforddc pastors amp priests soldiers amp settlers strong amp sickly young amp old a few were rich but most were poor the kind who d ge",
         "644",
         "None",
         "None",
         "Thu Nov 24 18:37:52 +0000 2022"
        ],
        [
         "1595849194803265536",
         "Hub_Mitcheru",
         "Hub_Mitcheru",
         "mikemcfarlandva happy thanksgiving as well",
         "191",
         "Hub Island",
         "None",
         "Thu Nov 24 18:37:52 +0000 2022"
        ],
        [
         "1595849194664755201",
         "Draw/Noodle",
         "Doodlen0odle",
         "rt thecartooncrave happy thanksgiving",
         "248",
         "Atlanta, GA",
         "None",
         "Thu Nov 24 18:37:52 +0000 2022"
        ],
        [
         "1595849194870562817",
         "R Luke",
         "R_Luke_1908",
         "thereidout joyannreid happy thanksgiving thank you rush limbaugh for gifting america the real story of thanksg",
         "77",
         "Chesapeake, VA",
         "None",
         "Thu Nov 24 18:37:52 +0000 2022"
        ],
        [
         "1595849194929111041",
         "Guillermo Guerrero",
         "atreidesduncan1",
         "rt diamondandsilk happy thanksgiving hope your day is full of love peace joy and happiness",
         "43",
         "Indianapolis, IN",
         "None",
         "Thu Nov 24 18:37:52 +0000 2022"
        ],
        [
         "1595849194476019716",
         "OxSebastian (💙,🧡)",
         "OxSebastianG",
         "may you find joy in abundance this happy season of thanksgiving all best crypto fam thankszkpassgiving",
         "42",
         "Polska",
         "None",
         "Thu Nov 24 18:37:52 +0000 2022"
        ],
        [
         "1595849195038072835",
         "Badr Gharbaoui",
         "gharbaoui_badr",
         "rt dismaidenart happy thanksgiving from the chainsaw man ladies chainsawman chainsawmanfanart",
         "3",
         "None",
         "None",
         "Thu Nov 24 18:37:52 +0000 2022"
        ],
        [
         "1595849195126411264",
         "Brenda Morales",
         "moralesb23",
         "rt officialblueytv okay here we go it s almost time for bluey to take the skies at the macy s thanksgiving day parade blueyballo",
         "1",
         "None",
         "None",
         "Thu Nov 24 18:37:52 +0000 2022"
        ],
        [
         "1595849194589274112",
         "Elvis A. Stephan",
         "ElvisStephan",
         "happy thanksgiving",
         "124",
         "United States",
         "None",
         "Thu Nov 24 18:37:52 +0000 2022"
        ],
        [
         "1595849195121950726",
         "Juug Knight",
         "LetsGo_Ugo",
         "rt a_luvyx and am",
         "2848",
         "ATLANTA",
         "None",
         "Thu Nov 24 18:37:52 +0000 2022"
        ],
        [
         "1595849193788444673",
         "James",
         "Jamesmarrney",
         "metapcs ill do u one better ill ruin thanksgiving with just one action that will probably get me murdered",
         "7",
         "None",
         "None",
         "Thu Nov 24 18:37:51 +0000 2022"
        ],
        [
         "1595849195239374852",
         "skrimp",
         "LilGabaGhoul",
         "today i thought the past tense version of the word cream was crame happy thanksgiving everyone",
         "253",
         "Minneapolis",
         "None",
         "Thu Nov 24 18:37:52 +0000 2022"
        ],
        [
         "1595849195012988929",
         "avery hamel",
         "avcoleham",
         "hope everyone was able to start their thanksgiving with some heart attack inducing kuhoops",
         "936",
         "she/her • bos/den sports",
         "None",
         "Thu Nov 24 18:37:52 +0000 2022"
        ],
        [
         "1595849195285798912",
         "Sylze Chu",
         "sylzechu",
         "rt nakios_ have a happy thanksgiving everyone",
         "10",
         "Seattle, WA",
         "None",
         "Thu Nov 24 18:37:52 +0000 2022"
        ],
        [
         "1595849195231100928",
         "Chad Anderson™ 🇺🇦",
         "Chad_Anderson_1",
         "awesome",
         "498",
         "None",
         "None",
         "Thu Nov 24 18:37:52 +0000 2022"
        ],
        [
         "1595849195482910721",
         "DemonNekoGamer",
         "MixedDemonCat",
         "rt pokemonszn happy thanksgiving",
         "148",
         "None",
         "None",
         "Thu Nov 24 18:37:52 +0000 2022"
        ],
        [
         "1595849195537461248",
         "ᕲᓰᗩᘉᘿᑢᒪᗩᓰᖇᘿ🙏🌝♋🦀🐅🐙🌠🧧🍀🦋⟠🧲💰🌞 #Jenus",
         "Dianeclaire14",
         "rt tqsully bnb giveaway happy thanksgiving giving away bnb to people that retweet this tweet and follow me pick",
         "1229",
         "Legazpi City, Bicol Region",
         "None",
         "Thu Nov 24 18:37:52 +0000 2022"
        ],
        [
         "1595849195491033093",
         "jp",
         "notafanofJack",
         "rt bubinvest i d like to thank sce for another thanksgiving full of the threat of controlled power outages for mid day and thanks for n",
         "30",
         "None",
         "None",
         "Thu Nov 24 18:37:52 +0000 2022"
        ],
        [
         "1595849195369406464",
         "LowcountrySC",
         "Lowcountry6SC",
         "amen",
         "4284",
         "SC",
         "None",
         "Thu Nov 24 18:37:52 +0000 2022"
        ],
        [
         "1595849195390468099",
         "Robin Gubson",
         "rbnkaye99",
         "rt abrahamhamadeh last year thanksgiving looked a lot different on my deployment overseas miles from home good to be back in ariz",
         "2619",
         "None",
         "None",
         "Thu Nov 24 18:37:52 +0000 2022"
        ],
        [
         "1595849192014217216",
         "Barry Chou",
         "BarryChou_",
         "years ago today nickelback performed during the unitedway nfl thanksgiving halftimeshow in detroit with th",
         "1081",
         "British Columbia",
         "None",
         "Thu Nov 24 18:37:51 +0000 2022"
        ],
        [
         "1595849195616960514",
         "Guerrero Cama",
         "guerrero_cama",
         "rachaelcavalli good day happy thanksgiving for you beautiful woman stuffing that turkey",
         "40",
         "México",
         "None",
         "Thu Nov 24 18:37:52 +0000 2022"
        ],
        [
         "1595849197047414784",
         "👑 Mrs. Bozzie",
         "MrsBozzie",
         "rt danychasez happy thanksgiving everyone wishing you a day full of love fun and food with your loved ones nsync jcchasez iamc",
         "578",
         "None",
         "None",
         "Thu Nov 24 18:37:52 +0000 2022"
        ],
        [
         "1595849197093556225",
         "Mrs.N_TeachLoveInspire",
         "MrsNuble2020",
         "marcuslemonis happy thanksgiving",
         "1146",
         "None",
         "None",
         "Thu Nov 24 18:37:52 +0000 2022"
        ],
        [
         "1595849196996804614",
         "Laurybonjovi",
         "laurybonjovi",
         "rt bonjovi happy thanksgiving from ours to yours we re forever thankful for the people around us this past year and for all of your cons",
         "372",
         "Buenos Aires, Argentina",
         "None",
         "Thu Nov 24 18:37:52 +0000 2022"
        ],
        [
         "1595849197261135873",
         "Gràcia Vegan (💙,🧡) 🛸.lens (🌸, 🌿) (📽️, 🌿)",
         "Graciavegan",
         "rt layer xyz what are you grateful for this thanksgiving let us know below show your gratitude in our holiday quest and mint a speci",
         "97",
         "None",
         "None",
         "Thu Nov 24 18:37:52 +0000 2022"
        ],
        [
         "1595849197084987400",
         "progression",
         "Olawuyi03297076",
         "rt starboybidenky happy thanksgiving mlle",
         "429",
         "New York, NY",
         "None",
         "Thu Nov 24 18:37:52 +0000 2022"
        ],
        [
         "1595849197307465729",
         "Robert",
         "XSuperhero",
         "rt potus from the biden family to all of yours happy thanksgiving this holiday we celebrate all that brings us together grounded in",
         "8099",
         "None",
         "None",
         "Thu Nov 24 18:37:52 +0000 2022"
        ],
        [
         "1595849197265330184",
         "Gary Smith Jr",
         "g_smith493",
         "rykerzc happy thanksgiving",
         "239",
         "Katy, TX",
         "None",
         "Thu Nov 24 18:37:52 +0000 2022"
        ],
        [
         "1595849197252743169",
         "KennyShootsThe3!🥋",
         "vadasy_kenny",
         "rt alabamambb alabama vs michigan state on thanksgiving rolltide bluecollarbasketball",
         "1844",
         "Harvest, AL",
         "None",
         "Thu Nov 24 18:37:52 +0000 2022"
        ],
        [
         "1595849197156286464",
         "Bear Waifu Audios",
         "azmariaxelloss",
         "peta out here threatening people with a good time",
         "674",
         "Missouri",
         "None",
         "Thu Nov 24 18:37:52 +0000 2022"
        ],
        [
         "1595849197143863297",
         "It’s Motzai Shabbos Live!",
         "mtz_shabos_live",
         "the hodu lashem would show up at thanksgiving meals just before carving time reminding everyone that millions of t",
         "34",
         "None",
         "None",
         "Thu Nov 24 18:37:52 +0000 2022"
        ],
        [
         "1595849197424705543",
         "🇺🇸🍩 JULIE DONUTS 🍩🇺🇸",
         "JulieSnark",
         "rt marklevinshow joy reid screwed up head case who s hate for our fabulous country knows no limits",
         "17874",
         "Snarky, pro donut eater.",
         "None",
         "Thu Nov 24 18:37:52 +0000 2022"
        ],
        [
         "1595849196879372289",
         "Slapzy",
         "WydSlapzy",
         "fw my thanksgiving eats",
         "2055",
         "Tj Kirbyz",
         "None",
         "Thu Nov 24 18:37:52 +0000 2022"
        ],
        [
         "1595849197235978241",
         "T.H. Huxley",
         "THHuxley1",
         "freedomrecon theone stevemi goodymas scribeintheink toakencross requiredlogic autocorrect _",
         "166",
         "None",
         "None",
         "Thu Nov 24 18:37:52 +0000 2022"
        ],
        [
         "1595849197630066695",
         "This page intentionally left blank.",
         "excuser12",
         "caputostephanie happy thanksgiving enjoy your day",
         "488",
         "Nevada, USA",
         "None",
         "Thu Nov 24 18:37:52 +0000 2022"
        ],
        [
         "1595849197571297283",
         "MaryAnn W. Williams",
         "maryannwilliams",
         "rt vp from our family to yours happy thanksgiving",
         "1400",
         "Northern California",
         "None",
         "Thu Nov 24 18:37:52 +0000 2022"
        ],
        [
         "1595849197714038785",
         "SAFEMOON POSITIVITY MALIK",
         "Malikfmuda",
         "rt sammich alright our final k txs winner k ice congratulations but wait my friends thought why not throw in a lil surprise",
         "2026",
         "Alkmaar, Nederland",
         "None",
         "Thu Nov 24 18:37:52 +0000 2022"
        ],
        [
         "1595849197554745345",
         "Dad Random",
         "DadRandom70",
         "happy thanksgiving dji avata range bitrate drop what can we expect via youtube",
         "142",
         "St George, UT",
         "None",
         "Thu Nov 24 18:37:52 +0000 2022"
        ],
        [
         "1595849197747511296",
         "Brendan",
         "brendanbrn63",
         "elonmusk happy thanksgiving todays not a day for politics everyone out that down go eat with your family and enjoy the day",
         "0",
         "Colorado Springs, CO",
         "None",
         "Thu Nov 24 18:37:52 +0000 2022"
        ],
        [
         "1595849197873504257",
         "DANK WILLIAM$🎰",
         "yungmisdemean0r",
         "happy thanksgiving i m about to take an edible with my girlfriend and smoke with my favorite uncle",
         "5940",
         "MURDAWORTH4EVA",
         "None",
         "Thu Nov 24 18:37:52 +0000 2022"
        ],
        [
         "1595849197927993346",
         "Ricardo",
         "rjorgecarneiro",
         "rt tim_cook happy thanksgiving there s much to be grateful for today thank you to our team at apple all the developers that make amaz",
         "95",
         "Oporto, Portugal",
         "None",
         "Thu Nov 24 18:37:52 +0000 2022"
        ],
        [
         "1595849198062440448",
         "Hog of Doggerland",
         "DORFpatrol",
         "rt potatoesogrady love watching chicago s low rent thanksgiving parade on tv the only character balloon was felix the cat who hasn t be",
         "170",
         "Chicago",
         "None",
         "Thu Nov 24 18:37:52 +0000 2022"
        ],
        [
         "1595849198033076224",
         "🔞♠️Forced Whitey ♠️🔞",
         "OwneDoomer",
         "rt bbcdaily_ good morning happy thanksgiving to all my american followers i am grateful for bbc and bbc only",
         "3401",
         "Argentina",
         "None",
         "Thu Nov 24 18:37:52 +0000 2022"
        ],
        [
         "1595849198087598080",
         "Debbie Marvin",
         "starbuxrun71",
         "happy thanksgiving everyone be safe out there hugs n love",
         "303",
         "United States",
         "None",
         "Thu Nov 24 18:37:52 +0000 2022"
        ],
        [
         "1595849198120812544",
         "ShikaTV | #______ Shika | DeTox Shika",
         "RealShikaTV",
         "rt zvibehd happy thanksgiving everyone",
         "1601",
         "Sacramento, CA",
         "None",
         "Thu Nov 24 18:37:52 +0000 2022"
        ],
        [
         "1595849198200651776",
         "Biancaaaa",
         "bianca__454",
         "happy thanksgiving thankful for all of you all",
         "60",
         "None",
         "None",
         "Thu Nov 24 18:37:52 +0000 2022"
        ],
        [
         "1595849198414761984",
         "ChrisGraves133",
         "CGraves133",
         "rt gunthereagleman good morning and happy thanksgiving to everyone who knows trump won pennsylvania trump won wisconsin trump wo",
         "1194",
         "None",
         "None",
         "Thu Nov 24 18:37:53 +0000 2022"
        ],
        [
         "1595849198003716096",
         "Claire 🐝",
         "isolinearchip_",
         "rt dannyderaney happy thanksgiving to isabella jerhigan and to isabella jerhigan only",
         "1522",
         "DC",
         "None",
         "Thu Nov 24 18:37:52 +0000 2022"
        ],
        [
         "1595849198137638920",
         "Bonita",
         "blazesponyexpr1",
         "rt cidelson a reminder every thanksgiving we should never forget the real history of this continent",
         "692",
         "None",
         "None",
         "Thu Nov 24 18:37:52 +0000 2022"
        ],
        [
         "1595849198439653376",
         "Shirley Unger Barton",
         "Shirleyaub6381",
         "hodldogenotdebt yes happy thanksgiving love this",
         "183",
         "Stephens City, VA",
         "None",
         "Thu Nov 24 18:37:53 +0000 2022"
        ],
        [
         "1595849198456274944",
         "KOLDNews",
         "KOLDNews",
         "rt tucson_police from our family to yours happy thanksgiving we hope you enjoy your day with family and friends to our first res",
         "93259",
         "Tucson, AZ",
         "None",
         "Thu Nov 24 18:37:53 +0000 2022"
        ],
        [
         "1595849198582235136",
         "Winona_bonikles",
         "Colt_be_Bricked",
         "rt prisonpolicy we ve pulled together some of the false claims about crime and incarceration you re most likely to hear at the thanksgiv",
         "4",
         "None",
         "None",
         "Thu Nov 24 18:37:53 +0000 2022"
        ],
        [
         "1595849198565527552",
         "ᥫ᭡",
         "ashie777",
         "rt popculture s the gossip girl thanksgiving episode where everyone got exposed while whatcha say by jason derulo is playing that s h",
         "649",
         "24 | 🇵🇷🇲🇦",
         "None",
         "Thu Nov 24 18:37:53 +0000 2022"
        ],
        [
         "1595849198632636418",
         "Kathleen Iannone RPh(👁-uh-known)",
         "KathleenIannone",
         "rt commplacegr happy thanksgiving to all please remember those who are not able to be with the ones they love this year no matter th",
         "468",
         "rochester, ny",
         "None",
         "Thu Nov 24 18:37:53 +0000 2022"
        ],
        [
         "1595849198741901312",
         "crispy",
         "itscrispylol",
         "jidsquaranta best thanksgiving food",
         "368",
         "crispy#6996",
         "None",
         "Thu Nov 24 18:37:53 +0000 2022"
        ],
        [
         "1595849198649446403",
         "TheSessionTV",
         "melg_thesession",
         "rt hulu abbottelementary characters as thanksgiving dishes a",
         "1469",
         "Miami, FL",
         "None",
         "Thu Nov 24 18:37:53 +0000 2022"
        ],
        [
         "1595849198821412866",
         "Jeanette Meehan",
         "JeanetteMeehan9",
         "wishing you well on this thanksgiving day",
         "70",
         "None",
         "None",
         "Thu Nov 24 18:37:53 +0000 2022"
        ],
        [
         "1595849198871904256",
         "Jo",
         "mommabear_jo",
         "potus happy thanksgiving to you and your family mr president i am thankful for all your hard work this year keep",
         "4",
         "Alachua, FL",
         "None",
         "Thu Nov 24 18:37:53 +0000 2022"
        ],
        [
         "1595849198926237701",
         "shAQUILLE TERRELL",
         "sh_terrell",
         "rt barackobama one of my favorite white house traditions was telling thanksgiving jokes which at least i thought were funny here s a",
         "0",
         "None",
         "None",
         "Thu Nov 24 18:37:53 +0000 2022"
        ],
        [
         "1595849198892621825",
         "Angela",
         "Starry_Eyes68",
         "robertirvine happy thanksgiving chef",
         "691",
         "Florida",
         "None",
         "Thu Nov 24 18:37:53 +0000 2022"
        ],
        [
         "1595849199136174086",
         "Crypto Steve",
         "TechBoiSteve",
         "rt zackvoell ftx exploded two weeks ago sbf is having thanksgiving dinner in a penthouse with his family the nyt will interview him",
         "33",
         "None",
         "None",
         "Thu Nov 24 18:37:53 +0000 2022"
        ],
        [
         "1595849199018549248",
         "Coach Kade Bell",
         "Kb1Raw",
         "rt catamountsfb from our family to yours happy thanksgiving lote beachampion htg",
         "16745",
         "Cullowhee, NC",
         "None",
         "Thu Nov 24 18:37:53 +0000 2022"
        ],
        [
         "1595849198486040576",
         "Positive Coconuts",
         "posi_coconuts",
         "i m wearing this to dinner tonight thursday thursdaymotivation thursdaymorning thongthursday thanksgiving",
         "25",
         "Wild, Wild West",
         "None",
         "Thu Nov 24 18:37:53 +0000 2022"
        ],
        [
         "1595849199047757825",
         "Degen Dave",
         "degendavedegen",
         "the dallas cowboys not covering on thanksgiving",
         "1013",
         "None",
         "None",
         "Thu Nov 24 18:37:53 +0000 2022"
        ],
        [
         "1595849198619893760",
         "pwnteam",
         "pwnteam",
         "aaron rodgers playing football in the yard with his family on thanksgiving",
         "2198",
         "None",
         "None",
         "Thu Nov 24 18:37:53 +0000 2022"
        ],
        [
         "1595849199291015168",
         "Manish (💙,🧡).lens 🏰",
         "Manish_One1",
         "rt layer xyz what are you grateful for this thanksgiving let us know below show your gratitude in our holiday quest and mint a speci",
         "55",
         "Bengaluru, India",
         "None",
         "Thu Nov 24 18:37:53 +0000 2022"
        ],
        [
         "1595849199312060419",
         "caca 🍃",
         "cacatuaua",
         "rt afewsausages in celebration of thanksgiving i m giving away this top abductingco nft from my personal collection to enter",
         "662",
         "San Marino",
         "None",
         "Thu Nov 24 18:37:53 +0000 2022"
        ],
        [
         "1595849199228272651",
         "Mr. Ryszard",
         "TeleMacster",
         "rt realjameswoods happy thanksgiving",
         "5",
         "USA",
         "None",
         "Thu Nov 24 18:37:53 +0000 2022"
        ],
        [
         "1595849199383416837",
         "FuckingDumbass",
         "RandomGenericU1",
         "rt mesoplush blah blah [insert thanksgiving pun here] in all seriousness i wish u all a good thanksgiving day and eat well",
         "89",
         "None",
         "None",
         "Thu Nov 24 18:37:53 +0000 2022"
        ],
        [
         "1595849199421370368",
         "Wilson Wilson",
         "euboid",
         "rt dagorenouf thanksgiving is the most brutal day for a startup founder",
         "5957",
         "MRR 🟩🟩🟩🟩🟩🟩🟩🟩🟨⬜ $1K",
         "None",
         "Thu Nov 24 18:37:53 +0000 2022"
        ],
        [
         "1595849199299530757",
         "Flimsy Fantasies ~ COMMISSIONS CLOSED",
         "flimsyfantasies",
         "rt thekrattbros happy thanksgiving to all you creature adventurers out there today we are giving thanks to all the amazing creatur",
         "195",
         "United States",
         "None",
         "Thu Nov 24 18:37:53 +0000 2022"
        ],
        [
         "1595849201237491712",
         "Justin Bronsman",
         "JustinBman12",
         "rt flapanthers making a difference one family at a time we teamed up with harvest drive this thanksgiving season to purchase package",
         "1115",
         "None",
         "None",
         "Thu Nov 24 18:37:53 +0000 2022"
        ],
        [
         "1595849201354784768",
         "Tory Lysik",
         "tblysik",
         "this",
         "383",
         "United States",
         "None",
         "Thu Nov 24 18:37:53 +0000 2022"
        ],
        [
         "1595849201476423683",
         "pam harris",
         "pamharr14199861",
         "rt elonmusk have a great thanksgiving",
         "259",
         "None",
         "None",
         "Thu Nov 24 18:37:53 +0000 2022"
        ],
        [
         "1595849201543516161",
         "Mary Kay Bailey (MSP to SATX)",
         "mkbinmsp",
         "cheycab i remember reading about you in the strib ages ago and i following you here and getting my mn family mem",
         "95",
         "San Antonio, TX",
         "None",
         "Thu Nov 24 18:37:53 +0000 2022"
        ],
        [
         "1595849201669349382",
         "Tripotlé",
         "Tripotle26",
         "rt witchytwitchytv it s thanksgiving and i don t want mashed potatoes i want revenge",
         "189",
         "Hogsmeade",
         "None",
         "Thu Nov 24 18:37:53 +0000 2022"
        ],
        [
         "1595849201648533504",
         "Bry",
         "BryTheKidd",
         "agreed",
         "1539",
         "Albuquerque, NM",
         "None",
         "Thu Nov 24 18:37:53 +0000 2022"
        ],
        [
         "1595849201799557120",
         "Sam",
         "sumosamm",
         "rt thega nz when she s cooking thanksgiving dinner and you see that booty sticking out",
         "1847",
         "qc",
         "None",
         "Thu Nov 24 18:37:53 +0000 2022"
        ],
        [
         "1595849201875030016",
         "elllieee!!",
         "ehllieio",
         "rt dvasishtha the pms are back at home for thanksgiving",
         "170",
         "Houston, TX",
         "None",
         "Thu Nov 24 18:37:53 +0000 2022"
        ],
        [
         "1595849201950285826",
         "Austin Ahern",
         "TailsAustin9922",
         "chrisgronkowski happy thanksgiving chris",
         "9552",
         "Massachusetts, USA",
         "None",
         "Thu Nov 24 18:37:53 +0000 2022"
        ],
        [
         "1595849202109583360",
         "Brit-Ta-Nay-Nay",
         "BrittanyLovesC",
         "will rah_here ciara happy thanksgiving",
         "4044",
         "Studio with ciara & missy ^_^",
         "None",
         "Thu Nov 24 18:37:53 +0000 2022"
        ],
        [
         "1595849201337999361",
         "FADP",
         "FADPorg",
         "however you celebrate today we encourage you to take a moment to read this incredible story about humanity from",
         "677",
         "Florida, USA",
         "None",
         "Thu Nov 24 18:37:53 +0000 2022"
        ],
        [
         "1595849202214604805",
         "graham 😵‍💫",
         "sssnivy_",
         "no way they got an analyst for the thanksgiving dog show",
         "69",
         "Arkansas, USA",
         "None",
         "Thu Nov 24 18:37:53 +0000 2022"
        ],
        [
         "1595849202302865408",
         "✨",
         "dkarinnaa",
         "rt justinroque_ my favorite thing about thanksgiving is going home to do laundry",
         "286",
         "soledad • los angeles",
         "None",
         "Thu Nov 24 18:37:53 +0000 2022"
        ],
        [
         "1595849202327863297",
         "Steel Wool",
         "Deadfool_",
         "what",
         "422",
         "None",
         "None",
         "Thu Nov 24 18:37:53 +0000 2022"
        ],
        [
         "1595849202458046465",
         "Jim Myers",
         "kidneystories",
         "rt kidneypatients this thanksgiving aakp ambassador curtis warfield is grateful for his family what are you grateful for we re grat",
         "3295",
         "Crown Point, IN",
         "None",
         "Thu Nov 24 18:37:53 +0000 2022"
        ],
        [
         "1595849202428530691",
         "GGV Omnikitsune Vixen Empress Celestia",
         "CadenceCDWilson",
         "rt growthslut happy thanksgiving cuties while the holiday history itself is bleak i am incredibly thankful for all of you here",
         "876",
         "Porter, IN",
         "None",
         "Thu Nov 24 18:37:53 +0000 2022"
        ],
        [
         "1595849202537472000",
         "Eva McKenzie",
         "EvaDomi81123081",
         "rt karilakewarroom have a wonderful thanksgiving arizona we love you",
         "667",
         "None",
         "None",
         "Thu Nov 24 18:37:53 +0000 2022"
        ],
        [
         "1595849202537488386",
         "Mikklo45",
         "mikklor",
         "thenoahsunday thankfully there will be many more opportunities for dropping nukes happy thanksgiving",
         "4",
         "None",
         "None",
         "Thu Nov 24 18:37:53 +0000 2022"
        ],
        [
         "1595849202575319042",
         "Gamecock Basketball Only Podcast",
         "GBO_POD",
         "rt jacobiwright thankful for everything nothing taken for granted happy thanksgiving",
         "135",
         "Columbia, SC",
         "None",
         "Thu Nov 24 18:37:53 +0000 2022"
        ],
        [
         "1595849202545868802",
         "𝑲𝑯𝑰𝑰🌹",
         "shehateskhii",
         "rt shehateskhii on thanksgiving we don t eat breakfast we starve until the food is ready",
         "687",
         "Atlanta, Zone 6",
         "None",
         "Thu Nov 24 18:37:53 +0000 2022"
        ],
        [
         "1595849201773993984",
         "Yuriy Andriyashchuk🇺🇦",
         "YuriyATL",
         "flying back home to atl in a few hours coming back to visit vegas four four days again was fun now it s",
         "9385",
         "Atlanta, GA",
         "None",
         "Thu Nov 24 18:37:53 +0000 2022"
        ],
        [
         "1595849202587705344",
         "Blackest In The Room",
         "WholesomeBlkMan",
         "rt tyleriam ok if this the turkey yall eating i see why one would hate thanksgiving",
         "368",
         "Hueco Mundo",
         "None",
         "Thu Nov 24 18:37:53 +0000 2022"
        ],
        [
         "1595849202680176644",
         "Isaac Calvert",
         "IsaacCalvertTV",
         "doing the lord s work on thanksgiving and getting a show at the same time will truly does everything",
         "6441",
         "Kentucky, USA",
         "None",
         "Thu Nov 24 18:37:54 +0000 2022"
        ],
        [
         "1595849202709454853",
         "Caleb",
         "cdhorton23",
         "rt chardonnaimami happy thanksgiving from me and my wet hair",
         "496",
         "Houston, TX",
         "None",
         "Thu Nov 24 18:37:54 +0000 2022"
        ],
        [
         "1595849201866670080",
         "Barry S. Cohen",
         "Barry_S_Cohen",
         "happy thanksgiving to you and your family from lincoln private jets lincolnprivatejets",
         "5",
         "West Palm Beach, FL",
         "None",
         "Thu Nov 24 18:37:53 +0000 2022"
        ],
        [
         "1595849202843717635",
         "Rapper",
         "BDG0716",
         "rt bdg happy thanksgiving i wouldn t be able to live this dream if it wasn t for the rapcrew i m super thankful to have such an ama",
         "35911",
         "🌊 FLØRIDA 🌊",
         "None",
         "Thu Nov 24 18:37:54 +0000 2022"
        ],
        [
         "1595849202940219394",
         "Brendan Poepplein (🎂 on Monday)",
         "BrendanPoepple1",
         "rt amityheartfilia happy thanksgiving",
         "440",
         "None",
         "None",
         "Thu Nov 24 18:37:54 +0000 2022"
        ],
        [
         "1595849202315272195",
         "Microsoft Designer",
         "MSFT365Designer",
         "wishing you all a very happy thanksgiving",
         "3309",
         "None",
         "None",
         "Thu Nov 24 18:37:53 +0000 2022"
        ],
        [
         "1595849203150094337",
         "Stephen Berry",
         "Stephen54110275",
         "rt realjameswoods happy thanksgiving",
         "42",
         "Hillsboro, OR",
         "None",
         "Thu Nov 24 18:37:54 +0000 2022"
        ],
        [
         "1595849202965307393",
         "jody",
         "wnbagirlfriend",
         "i misunderstood what thanksgiving stuffing is and hooked up with my cousin",
         "25864",
         "she/her",
         "None",
         "Thu Nov 24 18:37:54 +0000 2022"
        ],
        [
         "1595849202965291008",
         "Clarence Coggins 📚🇺🇸",
         "clarencecoggins",
         "geraldorivera democrats tyranny of course happy thanksgiving",
         "2122",
         "Jersey City, NJ",
         "None",
         "Thu Nov 24 18:37:54 +0000 2022"
        ],
        [
         "1595849203154026497",
         "Peanut 🥜",
         "boberic69",
         "zelinavegawwe happy thanksgiving my queen",
         "142",
         "None",
         "None",
         "Thu Nov 24 18:37:54 +0000 2022"
        ],
        [
         "1595849202328039425",
         "Angela",
         "Angela10172521",
         "happy thanksgiving",
         "3",
         "Portland, OR",
         "None",
         "Thu Nov 24 18:37:53 +0000 2022"
        ],
        [
         "1595849203284312064",
         "Joel.",
         "joelscribes",
         "rt zoeschiffer new twitter just announced it s cutting holiday pay for its remaining contractors starting this thanksgiving",
         "674",
         "None",
         "None",
         "Thu Nov 24 18:37:54 +0000 2022"
        ],
        [
         "1595849203292393472",
         "Dianna Dull🇺🇸🍊",
         "DullDianna",
         "rt karilakewarroom have a wonderful thanksgiving arizona we love you",
         "3374",
         "None",
         "None",
         "Thu Nov 24 18:37:54 +0000 2022"
        ],
        [
         "1595849203376427010",
         "Sabine Ludowigs",
         "SLudowigs",
         "rt barackobama wishing everyone a happy thanksgiving as we celebrate let s give thanks for all the blessings in our lives and give back",
         "203",
         "None",
         "None",
         "Thu Nov 24 18:37:54 +0000 2022"
        ],
        [
         "1595849203527610368",
         "Ashu",
         "AshwiniDodani",
         "rt prateeksaraf this year has been really tough for me personally but i guess that s what life is all about today on special occasion",
         "21794",
         "The Universe",
         "None",
         "Thu Nov 24 18:37:54 +0000 2022"
        ],
        [
         "1595849203451891712",
         "C",
         "DMVnativeChris",
         "rt matthew_paras taylor heinicke is ready for thanksgiving",
         "167",
         "Florida, USA",
         "None",
         "Thu Nov 24 18:37:54 +0000 2022"
        ],
        [
         "1595849203485478914",
         "Juu🇧🇷🇧🇷🇧🇷",
         "silksonica",
         "rt brunomars happy thanksgiving hooligans",
         "1129",
         "🎶Faith in the future",
         "None",
         "Thu Nov 24 18:37:54 +0000 2022"
        ],
        [
         "1595849203296747520",
         "1/ST RACING & GAMING",
         "1st_racing",
         "rt gulfstreampark happy thanksgiving to our fans friends and family",
         "15319",
         "None",
         "None",
         "Thu Nov 24 18:37:54 +0000 2022"
        ],
        [
         "1595849203544211457",
         "Andre Walker",
         "awalker2334",
         "rt iwantmystery happy thanksgiving from dr doom",
         "378",
         "None",
         "None",
         "Thu Nov 24 18:37:54 +0000 2022"
        ],
        [
         "1595849203577659393",
         "James D Lee",
         "Ananasi01",
         "rt toddnauck happy thanksgiving",
         "754",
         "Arlington Texas",
         "None",
         "Thu Nov 24 18:37:54 +0000 2022"
        ],
        [
         "1595849203649216512",
         "Dcl.eth",
         "moneymakerr777",
         "rt thisiskyler happy thanksgiving",
         "466",
         "None",
         "None",
         "Thu Nov 24 18:37:54 +0000 2022"
        ],
        [
         "1595849203560972288",
         "⚖️ Nyla",
         "Sapphic007",
         "rt semifreqsonic according to a post by the official sonic twitter thanksgiving is canon to the sonic the hedgehog series implying that",
         "660",
         "None",
         "None",
         "Thu Nov 24 18:37:54 +0000 2022"
        ],
        [
         "1595849203669819392",
         "Busted Pastry",
         "bustedpastry",
         "rt uscpsc happy thanksgiving eve",
         "77",
         "None",
         "None",
         "Thu Nov 24 18:37:54 +0000 2022"
        ],
        [
         "1595849203674136576",
         "Ed Garcia V.",
         "EdVvr99",
         "rt ufwupdates as you gather with friends and family this thanksgiving think about the farm workers who contributed to each dish tell us",
         "10",
         "None",
         "None",
         "Thu Nov 24 18:37:54 +0000 2022"
        ],
        [
         "1595849203720327169",
         "ashley 🌸",
         "visionembracer",
         "rt bowens_official happy thanksgiving from the house of half black",
         "6246",
         "21 | 🇵🇷 | she/they",
         "None",
         "Thu Nov 24 18:37:54 +0000 2022"
        ],
        [
         "1595849203787366400",
         "LilyC",
         "LilyC26674410",
         "rt truemyracle happy turkey day from me to you and your family thanksgiving",
         "22",
         "None",
         "None",
         "Thu Nov 24 18:37:54 +0000 2022"
        ],
        [
         "1595849203867160576",
         "Darrell West",
         "westdarrell1984",
         "rt bluevirginia lindyli nails it",
         "609",
         "None",
         "None",
         "Thu Nov 24 18:37:54 +0000 2022"
        ],
        [
         "1595849204064452608",
         "lvanna Hava",
         "HavaLvanna",
         "rt interestingaf thanksgiving the day barney was killed",
         "51",
         "Culver City, Ca , USA",
         "None",
         "Thu Nov 24 18:37:54 +0000 2022"
        ],
        [
         "1595849205372932096",
         "𝐆𝐢𝐆𝐢 ★ $3 𝐎𝐅 𝐒𝐀𝐋𝐄",
         "gimmiethatgigi",
         "rt goddesssiut wanna stuff my holes for thanksgiving",
         "108346",
         "i only reply on onlyfans",
         "None",
         "Thu Nov 24 18:37:54 +0000 2022"
        ],
        [
         "1595849205469548545",
         "usa share news",
         "usasharenews",
         "classic thanksgiving dishes ranked from best to worst",
         "639",
         "United States",
         "None",
         "Thu Nov 24 18:37:54 +0000 2022"
        ],
        [
         "1595849205662482432",
         "chris.yeskis",
         "yeskisc",
         "rt drewgmackie did you know bob s burgers is the only sitcom in the history of the planet to do a bisexual themed thanksgiving episode a",
         "249",
         "None",
         "None",
         "Thu Nov 24 18:37:54 +0000 2022"
        ],
        [
         "1595849205653831682",
         "AMA@woofers",
         "AMAwoofers1",
         "rt belannf as america drowns in wokeness washington s thanksgiving proclamation of should be read by every citizen",
         "921",
         "None",
         "None",
         "Thu Nov 24 18:37:54 +0000 2022"
        ],
        [
         "1595849205830283264",
         "Max2112",
         "Max211210",
         "rowdy_introvert happy thanksgiving to you and your family",
         "145",
         "None",
         "None",
         "Thu Nov 24 18:37:54 +0000 2022"
        ],
        [
         "1595849205913976835",
         "snap, crackle and pop my spine INTO DUST 🦴",
         "Killer_toons",
         "rt greatcheshire knives out is a thanksgiving movie because it s got a primarily brown cool toned color palette it takes place in fall",
         "156",
         "Noneyea",
         "None",
         "Thu Nov 24 18:37:54 +0000 2022"
        ],
        [
         "1595849205775585282",
         "alice in dreamland. 🦇",
         "venom_bitezz",
         "rt tailschannel happy thanksgiving for our u s followers",
         "30",
         "battery city",
         "None",
         "Thu Nov 24 18:37:54 +0000 2022"
        ],
        [
         "1595849206010245125",
         "Alston Meadows",
         "alston_meadows",
         "rt mnateshyamalan it is time once again all hail the thanksgiving tube",
         "393",
         "Tempe, AZ",
         "None",
         "Thu Nov 24 18:37:54 +0000 2022"
        ],
        [
         "1595849206081720321",
         "Carolina Lugo",
         "Carosxvelez",
         "rt loganhenderson wishing you a happy thanksgiving with your family friends and loved ones so damn thankful for all of youz",
         "671",
         "CDMX",
         "None",
         "Thu Nov 24 18:37:54 +0000 2022"
        ],
        [
         "1595849205972606979",
         "JC Simpson",
         "JCSimpson11",
         "whcos potus biden better be careful the white house chef doesn t get joe blow confused with the thanksgiving day",
         "1",
         "None",
         "None",
         "Thu Nov 24 18:37:54 +0000 2022"
        ],
        [
         "1595849205041729537",
         "Carson Caplan",
         "caplan_carson",
         "thank you dartmouthftbl happy thanksgiving sixzeroacademy bteevens landanyount coachkeithclark",
         "354",
         "Colorado Springs, CO",
         "None",
         "Thu Nov 24 18:37:54 +0000 2022"
        ],
        [
         "1595849206111129602",
         "ƘαтƝαHαт™ (^..^)ﾉ",
         "katnahat7",
         "macrox happy thanksgiving mac",
         "1529",
         "💫",
         "None",
         "Thu Nov 24 18:37:54 +0000 2022"
        ],
        [
         "1595849206182580224",
         "Sofenger",
         "slavaxlive",
         "rt mephisto happy thanksgiving ga alert x st poker youtube vlog is out in k follow me amp twee",
         "45",
         "None",
         "None",
         "Thu Nov 24 18:37:54 +0000 2022"
        ],
        [
         "1595849204387254277",
         "💝(hiatus)Daily Molly💝",
         "DailyMolly_",
         "happy thanksgiving to those who celebrate to me it s all about being with family and friends here s a daily mol",
         "559",
         "he/him🏳️‍⚧️",
         "None",
         "Thu Nov 24 18:37:54 +0000 2022"
        ],
        [
         "1595849206077411328",
         "soph • megan day",
         "polaroidsoph",
         "they know i m gonna have a meltdown",
         "1614",
         "None",
         "None",
         "Thu Nov 24 18:37:54 +0000 2022"
        ],
        [
         "1595849206194847744",
         "Marc Sotkin",
         "marcsotkin",
         "hope everyone has a happy and safe thanksgiving be nice to the other people at the table no matter what kind of c",
         "596",
         "None",
         "None",
         "Thu Nov 24 18:37:54 +0000 2022"
        ],
        [
         "1595849206240976897",
         "🇵🇷Chef Jay #1 Grilla🇺🇲",
         "ChefJayTheBear1",
         "mikethepepsiguy lfdcigars she s purdy happy thanksgiving",
         "968",
         "Arizona, USA",
         "None",
         "Thu Nov 24 18:37:54 +0000 2022"
        ],
        [
         "1595849206308241409",
         "DBZ – Son Gokú 🇲🇽",
         "DBZ_SonGokv",
         "rt toeianimation live super saiyan blue goku is flying at the th macy s thanksgiving parade happy thanksgiving everyone thanks",
         "2",
         "None",
         "None",
         "Thu Nov 24 18:37:54 +0000 2022"
        ],
        [
         "1595849206341640192",
         "@karenaboylan@mas.to & Post.news: @karenaboylan",
         "karenaboylan",
         "rt jhmullany happy snowy thanksgiving from sandia park new mexico tweeps",
         "20040",
         "Santa Fe, NM",
         "None",
         "Thu Nov 24 18:37:54 +0000 2022"
        ],
        [
         "1595849206622982144",
         "Hrisoula",
         "MissHrisoula",
         "rt thekatemulgrew too many people have tagged me in this or sent it to me so i feel compelled to post it happy thanksgiving to those w",
         "3102",
         "Boston, MA",
         "None",
         "Thu Nov 24 18:37:54 +0000 2022"
        ],
        [
         "1595849206450765825",
         "Ryan FZed",
         "RyanFZed",
         "rt uscpsc happy thanksgiving eve",
         "208",
         "33 | He/Him | NY➡️Toronto",
         "None",
         "Thu Nov 24 18:37:54 +0000 2022"
        ],
        [
         "1595849206593462281",
         "®yan péreż",
         "ryguy12_",
         "rt ciubmoss first thanksgiving cooking alone anyway phone is about to die ttyl",
         "575",
         "FontHill",
         "None",
         "Thu Nov 24 18:37:54 +0000 2022"
        ],
        [
         "1595849205662339084",
         "🌻🇺🇸 THANK YOU FOR VOTING FOR DEMOCRACY! 🇺🇸🌻",
         "Kaffe_Takk",
         "notcloudyallday thank you amp happy thanksgiving to you amp yours",
         "1626",
         "🇺🇸🗽 A DEMOCRACY! 🗽🇺🇸",
         "None",
         "Thu Nov 24 18:37:54 +0000 2022"
        ],
        [
         "1595849206765391880",
         "I 💙 BOOBIES",
         "diablojr73",
         "rt zanaek_ i don t give a damn bout thanksgiving",
         "59",
         "Houston, TX",
         "None",
         "Thu Nov 24 18:37:54 +0000 2022"
        ],
        [
         "1595849206798786560",
         "Kevin Bryan",
         "kevinbryansplac",
         "happy thanksgiving thanksgiving thanksgivingday happythanksgiving",
         "78",
         "None",
         "None",
         "Thu Nov 24 18:37:55 +0000 2022"
        ],
        [
         "1595849206769516548",
         "Jazz ♥",
         "_ImWhatYouNeed",
         "probably too early in the day to say this but i m definitely tryna show my thanksgiving gratitude to somebody son at the end of the day",
         "258",
         "None",
         "None",
         "Thu Nov 24 18:37:54 +0000 2022"
        ],
        [
         "1595849205897101315",
         "Gamecock Men's Basketball",
         "GamecockMBB",
         "wishing everyone a great thanksgiving with family and friends today see y all tomorrow at p m gamecocks",
         "72473",
         "Columbia, SC",
         "None",
         "Thu Nov 24 18:37:54 +0000 2022"
        ],
        [
         "1595849203279863808",
         "NetVoiX",
         "netvoix",
         "thanksgiving time to feel grateful and appreciate all the blessings netvoix team wishes you a happy thanksgivi",
         "39",
         "Weston, FL",
         "None",
         "Thu Nov 24 18:37:54 +0000 2022"
        ],
        [
         "1595849206828126208",
         "El Jefe204",
         "ElJefe2041",
         "you too",
         "30",
         "None",
         "None",
         "Thu Nov 24 18:37:55 +0000 2022"
        ],
        [
         "1595849206870454274",
         "murishani047",
         "murishani047",
         "as a fellow old person i will always support you lol",
         "68",
         "Columbia, MO",
         "None",
         "Thu Nov 24 18:37:55 +0000 2022"
        ],
        [
         "1595849207167954944",
         "layla",
         "lilyschien",
         "rt davidlimbaugh the lord is at hand do not be anxious about anything but in everything by prayer and supplication with thanksgiving le",
         "49",
         "None",
         "None",
         "Thu Nov 24 18:37:55 +0000 2022"
        ],
        [
         "1595849206467543042",
         "🥵AvatarIzzy🐀",
         "AvatarIzzy",
         "happy thanksgiving to those who celebrate i will likely be streaming later if you need a place to hang out",
         "785",
         "your mom",
         "None",
         "Thu Nov 24 18:37:54 +0000 2022"
        ],
        [
         "1595849206937554944",
         "🇺🇸🏳️‍🌈Pauline⚛️🇺🇦💉🌻😷✊🏾#Boilermaker",
         "PACPurdue96",
         "rt rexchapman there is no unskilled labor happy thanksgiving thread",
         "1710",
         "Oregon, USA",
         "None",
         "Thu Nov 24 18:37:55 +0000 2022"
        ],
        [
         "1595849207180500992",
         "Chris S",
         "bullfeathers138",
         "rt thisiskyler happy thanksgiving",
         "154",
         "San Diego, CA",
         "None",
         "Thu Nov 24 18:37:55 +0000 2022"
        ],
        [
         "1595849206714859520",
         "Vero",
         "verowiz",
         "rt mrwilin if your family starts arguing on thanksgiving please go on live so we can all hear it",
         "215",
         "None",
         "None",
         "Thu Nov 24 18:37:54 +0000 2022"
        ],
        [
         "1595849207268532224",
         "Ant",
         "ZeroKirby",
         "sophiespaghett happy thanksgiving",
         "653",
         "Califorina",
         "None",
         "Thu Nov 24 18:37:55 +0000 2022"
        ],
        [
         "1595849207180853248",
         "Schnicolas77",
         "schnicolas77",
         "thankful for all you silly peeps this year has been another wild one but i couldn t have gone through it without e",
         "20",
         "None",
         "None",
         "Thu Nov 24 18:37:55 +0000 2022"
        ],
        [
         "1595849207512203264",
         "Eleven / イレブン",
         "irebunxy",
         "rt vizmedia get together with your family and celebrate another year of love and gratitude this thanksgiving via black clover",
         "514",
         "Pro Crab Game Player",
         "None",
         "Thu Nov 24 18:37:55 +0000 2022"
        ],
        [
         "1595849207067336708",
         "Tim Flood",
         "timlflood",
         "done i hope you have a very happy thanksgiving my friend",
         "7202",
         "Kentucky, USA",
         "None",
         "Thu Nov 24 18:37:55 +0000 2022"
        ],
        [
         "1595849207662813184",
         "🔞Azura.Das.Kanji🔞🔜🚗👍",
         "AzuraDasKanji",
         "rt fluffyinnocence cubs don t forget to tell your caretakers that you re thankful for them today especially the ones who are on diaper",
         "756",
         "Utah, USA",
         "None",
         "Thu Nov 24 18:37:55 +0000 2022"
        ],
        [
         "1595849207528701953",
         "John Leask",
         "johnleask",
         "amazing to watch a pfizer ad pushing vaccinations and boosters followed by a bud light ad at least one of them ha",
         "1122",
         "Texas, USA",
         "None",
         "Thu Nov 24 18:37:55 +0000 2022"
        ],
        [
         "1595849207574822914",
         "kimberlee.eth",
         "pasteltonesss",
         "gm amp happy thanksgiving everyone",
         "3341",
         "None",
         "None",
         "Thu Nov 24 18:37:55 +0000 2022"
        ],
        [
         "1595849207285415937",
         "foodgospel.org 🥘",
         "FoodGospelORG",
         "when did thanksgiving go from giving thanks to a gluttonous fork sport i regret n o t h i n g",
         "353",
         "s p a c e s h i p  EARTH 🌎",
         "None",
         "Thu Nov 24 18:37:55 +0000 2022"
        ],
        [
         "1595849207704870912",
         "NASCAR Superman",
         "NASCARSuperman",
         "sir_loinof happy thanksgiving mr beef",
         "7724",
         "None",
         "None",
         "Thu Nov 24 18:37:55 +0000 2022"
        ],
        [
         "1595849207671234560",
         "SQ",
         "swaveyquis",
         "i love u happy thanksgiving",
         "2337",
         "None",
         "None",
         "Thu Nov 24 18:37:55 +0000 2022"
        ],
        [
         "1595849207843373056",
         "Dr Marceli K. Król",
         "PfpEdu",
         "rt statedept happy thanksgiving today we share gratitude for our colleagues partners allies and friends around the world",
         "132",
         "Warszawa, Polska",
         "None",
         "Thu Nov 24 18:37:55 +0000 2022"
        ],
        [
         "1595849207981776896",
         "José Martins",
         "snklterry",
         "rt streetfighter happy thanksgiving take a break from the fight and spend it with your family and friends and food of course",
         "15",
         "Manaus-AM-Brasil",
         "None",
         "Thu Nov 24 18:37:55 +0000 2022"
        ],
        [
         "1595849208078413824",
         "Michael F Ozaki MD",
         "brontyman",
         "rt kyrstensinema this story brings me joy every year i m so happy for year",
         "30055",
         "Southern California",
         "None",
         "Thu Nov 24 18:37:55 +0000 2022"
        ],
        [
         "1595849207373512705",
         "Kim Sullivan Birkner",
         "ThismyBentley",
         "have a grateful thanksgiving",
         "7",
         "None",
         "None",
         "Thu Nov 24 18:37:55 +0000 2022"
        ],
        [
         "1595849208069775362",
         "Nondescript Bystander 👤",
         "redactedhuman",
         "rt johnedeaton on this thanksgiving i m thankful for many things including this tweet",
         "1065",
         "United States",
         "None",
         "Thu Nov 24 18:37:55 +0000 2022"
        ],
        [
         "1595849209583964161",
         "TwoThree",
         "thatstwothree",
         "rt inkyjohnson this is the day that the lord has made so let us rejoice and be glad in it happy thanksgiving to each of you i hope y",
         "769",
         "None",
         "None",
         "Thu Nov 24 18:37:55 +0000 2022"
        ],
        [
         "1595849209739186176",
         "sgtspartan",
         "sgtspartan1",
         "rt dealvibes deals are selling quick today quick reminder that if you are interested in any deal to check out immediately more often th",
         "143",
         "None",
         "None",
         "Thu Nov 24 18:37:55 +0000 2022"
        ],
        [
         "1595849209659416576",
         "Corey Tyson, ChFC®",
         "NWcoreyTyson",
         "rt wfmgstl happy thanksgiving from the wfmg family",
         "161",
         "St Louis, MO",
         "None",
         "Thu Nov 24 18:37:55 +0000 2022"
        ],
        [
         "1595849209714024448",
         "RegenalArmourVO | Has Voice, Will Travel",
         "RegArmVO",
         "rt greatcheshire knives out is a thanksgiving movie because it s got a primarily brown cool toned color palette it takes place in fall",
         "1076",
         "Whatzittooya, USA",
         "None",
         "Thu Nov 24 18:37:55 +0000 2022"
        ],
        [
         "1595849209814876161",
         "PhyllisA",
         "phyllisa99998",
         "rt sodakd dems this thanksgiving we are once more reminded of just how much we appreciate you our candidates volunteers voters and",
         "328",
         "Sioux Falls, SD",
         "None",
         "Thu Nov 24 18:37:55 +0000 2022"
        ],
        [
         "1595849209793634304",
         "Karl McMillen",
         "KarlMcmillen",
         "rt armendarizdis it s thanksgiving and there are still states counting votes in america are we still a first world country",
         "13",
         "None",
         "None",
         "Thu Nov 24 18:37:55 +0000 2022"
        ],
        [
         "1595849209877565441",
         "TOMORROW",
         "jaymclovin__",
         "rt shannonsharpeee wallo promised to take ladies on a shopping spree at target for thanksgiving but didn t know it s closed for thanks",
         "568",
         "None",
         "None",
         "Thu Nov 24 18:37:55 +0000 2022"
        ],
        [
         "1595849209856524291",
         "Anthonyy",
         "Clipperant1012",
         "rt loahaddian happy thanksgiving clippernation",
         "538",
         "None",
         "None",
         "Thu Nov 24 18:37:55 +0000 2022"
        ],
        [
         "1595849209873399808",
         "Andy P",
         "andyp421",
         "braydencreation happy thanksgiving",
         "9",
         "None",
         "None",
         "Thu Nov 24 18:37:55 +0000 2022"
        ],
        [
         "1595849209906749440",
         "Mig Morales",
         "MigMorales4",
         "occupydemocrats happy thanksgiving",
         "621",
         "Anaheim, CA",
         "None",
         "Thu Nov 24 18:37:55 +0000 2022"
        ],
        [
         "1595849210036994050",
         "Loose turnip",
         "looseturnip",
         "rt harddrivemag geno s aunt at thanksgiving keeps suggesting he apply to be in smash bros",
         "186",
         "United Kingdom",
         "None",
         "Thu Nov 24 18:37:55 +0000 2022"
        ],
        [
         "1595849210007535618",
         "MFAM bubbie627",
         "BUBBIE627",
         "rt averagejoewo happy thanksgiving to everyone except the people that gas up cranberry sauce",
         "402",
         "Keansburg, NJ",
         "None",
         "Thu Nov 24 18:37:55 +0000 2022"
        ],
        [
         "1595849210045292552",
         "Kibat Hayelom",
         "KibatTigraweyti",
         "rt iweti_al brothers sisters amp freedom fighter we wishing you hope joy peace good health favor amp love on this thanksgiving day w",
         "11957",
         "None",
         "None",
         "Thu Nov 24 18:37:55 +0000 2022"
        ],
        [
         "1595849210087219201",
         "Destanee",
         "thekidspams_01",
         "rt notkartinbanks nobody aunties in the kitchen for thanksgiving",
         "898",
         "Larry Fisherman’s boat.",
         "None",
         "Thu Nov 24 18:37:55 +0000 2022"
        ],
        [
         "1595849210142023681",
         "JackTokio",
         "TurtleTokio",
         "rt grasshopper_en happy thanksgiving from ghm to anyone out there celebrating it i couldn t think of any actual thanksgiving reference",
         "18",
         "At the edge of Space probably",
         "None",
         "Thu Nov 24 18:37:55 +0000 2022"
        ],
        [
         "1595849210171379712",
         "Amy Young🍊🇺🇲🍊",
         "AmyYoung113",
         "rt mtgreenee happy thanksgiving",
         "58",
         "None",
         "None",
         "Thu Nov 24 18:37:55 +0000 2022"
        ],
        [
         "1595849210116669442",
         "Eric Samways",
         "eric_samways",
         "hey check out my cool thanksgiving turkey that profile pic of mine is tint colorant floating in a gallon of",
         "8",
         "None",
         "None",
         "Thu Nov 24 18:37:55 +0000 2022"
        ],
        [
         "1595849210125258752",
         "SoSDiablo",
         "SoSDiablo",
         "happy thanksgiving friends i appreciate and am thankful for all of you",
         "1058",
         "United States",
         "None",
         "Thu Nov 24 18:37:55 +0000 2022"
        ],
        [
         "1595849210313990144",
         "almost genius.",
         "_LetMeRap",
         "rt ballislife kyrie i don t particularly celebrate thanksgiving but anybody getting together with their families blessings to all you",
         "453",
         "AmeriKKKa.",
         "None",
         "Thu Nov 24 18:37:55 +0000 2022"
        ],
        [
         "1595849210217177089",
         "Britta",
         "oxymoronassoc",
         "shxhbwhsvsgcs the goddamn onion garlic celery i got yelled at about earlier this morning for being too loud sauting",
         "519",
         "California, USA",
         "None",
         "Thu Nov 24 18:37:55 +0000 2022"
        ],
        [
         "1595849210469154816",
         "Jeff Todd",
         "jefftodd1204",
         "rt super ssports nothing says it s thanksgiving and i ve burned all the bridges with my family quite like this extravagant feast",
         "100",
         "None",
         "None",
         "Thu Nov 24 18:37:55 +0000 2022"
        ],
        [
         "1595849210443677696",
         "Mega Swampert",
         "MegaSwampert4",
         "rt ruggeryv happy thanksgiving here is some meat if you hungry",
         "80",
         "None",
         "None",
         "Thu Nov 24 18:37:55 +0000 2022"
        ],
        [
         "1595849209529667584",
         "Gregory Tillery / A Morning Cup of Grace!",
         "GregoryTillery1",
         "happy thanksgving happythanksgiving happythanksgiving thanksgiving holiday holidays jesus love",
         "354",
         "None",
         "None",
         "Thu Nov 24 18:37:55 +0000 2022"
        ],
        [
         "1595849210351362048",
         "Puurrr of all trades🃏",
         "puurrrito",
         "rt quinobequin listen to my bro annawaon the son of tall oak weeden speak truth about what this holiday means for so many of us whatev",
         "224",
         "United States",
         "None",
         "Thu Nov 24 18:37:55 +0000 2022"
        ],
        [
         "1595849210645352448",
         "LittleFirefly",
         "1005_Firefly",
         "rt usaxiaozhanxfx happy thanksgiving to all xfx enjoy the day xiaozhan",
         "219",
         "None",
         "None",
         "Thu Nov 24 18:37:55 +0000 2022"
        ],
        [
         "1595849210683068416",
         "kellyann",
         "Zdragonfly",
         "rt mtgreenee happy thanksgiving",
         "180",
         "Connecticut, USA",
         "None",
         "Thu Nov 24 18:37:55 +0000 2022"
        ],
        [
         "1595849210686996486",
         "EnergySpeakss",
         "energyspeakss",
         "this thanksgiving i m thankful for where i am in life all it took was a change of perspective to make it all better",
         "92",
         "None",
         "None",
         "Thu Nov 24 18:37:55 +0000 2022"
        ],
        [
         "1595849210594824194",
         "Jessa Eliades 🇮🇹🇭🇷🇬🇷🎗",
         "xorunnerxo",
         "rt sopranosworld your family at thanksgiving asking why you re still single",
         "192",
         "None",
         "None",
         "Thu Nov 24 18:37:55 +0000 2022"
        ],
        [
         "1595849210825691136",
         "the antihero riss",
         "marissatweeting",
         "minda it s one thing to acknowledge something isn t your fave as i m not super in love with thanksgiving food",
         "1390",
         "Kansas City",
         "None",
         "Thu Nov 24 18:37:55 +0000 2022"
        ],
        [
         "1595849210737442816",
         "SΞAN",
         "SeanJohn1313",
         "happy thanksgiving",
         "2311",
         "Dallas, TX",
         "None",
         "Thu Nov 24 18:37:55 +0000 2022"
        ],
        [
         "1595849210934722560",
         "MsD",
         "JosephDianeDuB1",
         "rt realdeancain happy thanksgiving all",
         "748",
         "Northern California",
         "None",
         "Thu Nov 24 18:37:55 +0000 2022"
        ],
        [
         "1595849210858971139",
         "𝒸𝒾𝓇𝑒𝓃𝒶♛",
         "Cirenaaaaa",
         "rt weedthotss me high asf at thanksgiving dinner tryna act normal around my family",
         "1098",
         "tianna",
         "None",
         "Thu Nov 24 18:37:55 +0000 2022"
        ],
        [
         "1595849211006062592",
         "lex✨",
         "lexzeppelin_",
         "not me having pizza rolls and coffee for breakfast at noon on thanksgiving",
         "2650",
         "Colorado, USA",
         "None",
         "Thu Nov 24 18:37:56 +0000 2022"
        ],
        [
         "1595849211072827392",
         "Bennett",
         "_bennettm_",
         "rt tesla happy thanksgiving thanks to the tesla team owners and fans for helping us accelerate the world s transition to sustainable",
         "2112",
         "Bay Area",
         "None",
         "Thu Nov 24 18:37:56 +0000 2022"
        ],
        [
         "1595849211072741376",
         "Spicoli",
         "Roll_MeOneBitch",
         "rt barstoolsports happy thanksgiving hit the music",
         "413",
         "San Tan Valley, AZ",
         "None",
         "Thu Nov 24 18:37:56 +0000 2022"
        ],
        [
         "1595849211131592712",
         "Briana Resendez",
         "resendez_briana",
         "rt michelleobama i hope everyone has a wonderful day filled with love gratitude and a whole lot of great food from our family to yours",
         "2964",
         "San Antonio, TX",
         "None",
         "Thu Nov 24 18:37:56 +0000 2022"
        ],
        [
         "1595849211152580609",
         "Skeeno",
         "Local199",
         "rt returnofthesac happy thanksgiving to big brain individuals like local and myself we got in the gym every day this week possibly",
         "415",
         "None",
         "None",
         "Thu Nov 24 18:37:56 +0000 2022"
        ],
        [
         "1595849211077136386",
         "Ore_on_dis😶",
         "Hoe_lar_mi",
         "trialxtreme happy thanksgiving",
         "471",
         "vahalla",
         "None",
         "Thu Nov 24 18:37:56 +0000 2022"
        ],
        [
         "1595849211291275264",
         "artizinil",
         "splattershot_jr",
         "rt erininthemorn cisgender people you have my full blessing to ruin thanksgiving for family members that make transphobic comments misg",
         "30",
         "Not Here",
         "None",
         "Thu Nov 24 18:37:56 +0000 2022"
        ],
        [
         "1595849211291074561",
         "Jake Corbin",
         "JakeCorbin",
         "rt yellowjacketsfb when it s a core value it just makes sense to practice on thanksgiving goldstandard stingem",
         "2722",
         "None",
         "None",
         "Thu Nov 24 18:37:56 +0000 2022"
        ],
        [
         "1595849210720550915",
         "Chip D’AO",
         "chipskylarp",
         "xraceralt xqtpie andy you simply can t bet against this guy on thanksgiving",
         "266",
         "Out Here",
         "None",
         "Thu Nov 24 18:37:55 +0000 2022"
        ],
        [
         "1595849211127504897",
         "🥇Goldenashton.US",
         "Goldenashtonus",
         "thanksgiving hello everybody i hope you guys are having a great thanksgiving",
         "1259",
         "Fort Worth, TX",
         "None",
         "Thu Nov 24 18:37:56 +0000 2022"
        ],
        [
         "1595849211362394113",
         "ML",
         "MarylouKash",
         "johnrich may god bless your family and especially these sweet babies as far your haters go sorry for them just",
         "20",
         "None",
         "None",
         "Thu Nov 24 18:37:56 +0000 2022"
        ],
        [
         "1595849211584475136",
         "Robert Bueno",
         "justlikethat95",
         "rt drewgmackie did you know bob s burgers is the only sitcom in the history of the planet to do a bisexual themed thanksgiving episode a",
         "305",
         "Fullerton, CA",
         "None",
         "Thu Nov 24 18:37:56 +0000 2022"
        ],
        [
         "1595849211517362176",
         "ayla",
         "aylansmith",
         "rt aylansmith to donate to farmworkers in gratitude for the food we have on our plates tomorrow and every other day",
         "565",
         "Los Angeles, CA",
         "None",
         "Thu Nov 24 18:37:56 +0000 2022"
        ],
        [
         "1595849211639013376",
         "NJ🎒",
         "NickJohnson_100",
         "rt etanthomas they know kyrie irving doesn t celebrate thanksgiving and they know exactly why because he has explained his connection t",
         "426",
         "Chipotle📍",
         "None",
         "Thu Nov 24 18:37:56 +0000 2022"
        ],
        [
         "1595849211794587648",
         "eunie's da buss",
         "lusynthia_",
         "rt streetfighter happy thanksgiving take a break from the fight and spend it with your family and friends and food of course",
         "182",
         "hell with various distractions",
         "None",
         "Thu Nov 24 18:37:56 +0000 2022"
        ],
        [
         "1595849211765051393",
         "Prego Liv ♡︎",
         "BlackWidowMILF",
         "rt goddessharley happy thanksgiving show me how thankful you are harleyyqueen follow my main harleyyqueen",
         "214413",
         "top 0.7%",
         "None",
         "Thu Nov 24 18:37:56 +0000 2022"
        ],
        [
         "1595849211731484673",
         "Halenor",
         "Halenor65",
         "docbrownlloyd happy thanksgiving mr lloyd",
         "0",
         "None",
         "None",
         "Thu Nov 24 18:37:56 +0000 2022"
        ],
        [
         "1595849211752357888",
         "Jeanette Griffin",
         "JnetteDan1001",
         "rt elonmusk have a great thanksgiving",
         "9",
         "Houston, TX",
         "None",
         "Thu Nov 24 18:37:56 +0000 2022"
        ],
        [
         "1595849213832740867",
         "Mike",
         "Mike_Hartman_3",
         "rt hurtsyivania bounty bowl thanksgiving eagles cowboys",
         "679",
         "South Jersey, USA",
         "None",
         "Thu Nov 24 18:37:56 +0000 2022"
        ],
        [
         "1595849213782507521",
         "Pretty Little Kavin",
         "kavin_b",
         "rt nemanjayvr bob s burgers did the best thanksgiving turkey scene of all time",
         "973",
         "New York, NY",
         "None",
         "Thu Nov 24 18:37:56 +0000 2022"
        ],
        [
         "1595849213044314112",
         "FrankInThaLou",
         "FrankInThaLou",
         "thenooner click here for today s comic humor comics funny thanksgiving",
         "967",
         "Saint Louis, MO",
         "None",
         "Thu Nov 24 18:37:56 +0000 2022"
        ],
        [
         "1595849213916901376",
         "Dan",
         "Valeria67773700",
         "tnx for reward",
         "62",
         "Bulgaria",
         "None",
         "Thu Nov 24 18:37:56 +0000 2022"
        ],
        [
         "1595849213845315585",
         "Sophie Meisel",
         "SophieMeisel3",
         "rt kuhoops happy thanksgiving everyone",
         "370",
         "South Padre Island | Austin",
         "None",
         "Thu Nov 24 18:37:56 +0000 2022"
        ],
        [
         "1595849213979631626",
         "Alan Bayles",
         "Albay3037",
         "rt author_s_miller perfect time for a thanksgiving writerslift drop those links books music poetry blogs articles podcasts webs",
         "6217",
         "Northern Ireland",
         "None",
         "Thu Nov 24 18:37:56 +0000 2022"
        ],
        [
         "1595849213283553280",
         "Emerald Grown Exotics",
         "EmeraldGrow",
         "happy thanksgiving have an amazing day from our family to yours",
         "198",
         "Humboldt",
         "None",
         "Thu Nov 24 18:37:56 +0000 2022"
        ],
        [
         "1595849214097063936",
         "Olga Silva",
         "OlgaSil23064005",
         "rt netflix how wednesday addams celebrates thanksgiving",
         "217",
         "None",
         "None",
         "Thu Nov 24 18:37:56 +0000 2022"
        ],
        [
         "1595849214273400832",
         "ruben",
         "angelCookies209",
         "rt sidneysummers_x happy thanksgiving have a slice of peach cobbler",
         "128",
         "None",
         "None",
         "Thu Nov 24 18:37:56 +0000 2022"
        ],
        [
         "1595849214273392640",
         "JR",
         "DnsJr03",
         "rt secondjams happy thanksgiving yall",
         "490",
         "None",
         "None",
         "Thu Nov 24 18:37:56 +0000 2022"
        ],
        [
         "1595849214126424065",
         "Aharon Bensimon",
         "AharonBensimon",
         "mikeerdp claykoryn howyoudrouin cartz nhl because canadian thanksgiving is nowhere close to as big as the american thanksgiving is",
         "179",
         "Montréal, Québec",
         "None",
         "Thu Nov 24 18:37:56 +0000 2022"
        ],
        [
         "1595849214076096512",
         "Sonny Carton",
         "scartonradio",
         "rt breidenfehoko this is disgusting all of y all owe me a plate in my locker tomorrow extra scoop of mac love my guys happy thanksgi",
         "3204",
         "Miami, FL",
         "None",
         "Thu Nov 24 18:37:56 +0000 2022"
        ],
        [
         "1595849214319529984",
         "Proud Citizen🇺🇸",
         "ProudCitizen7",
         "rt glockfordfiles happy thanksgiving",
         "130",
         "None",
         "None",
         "Thu Nov 24 18:37:56 +0000 2022"
        ],
        [
         "1595849214390853634",
         "alazay🪅",
         "floressalazay",
         "happy thanksgiving thankful for all the hot girls liking my tweet",
         "40",
         "California, USA",
         "None",
         "Thu Nov 24 18:37:56 +0000 2022"
        ],
        [
         "1595849213631352832",
         "RichieRich/Cents 🦁👑",
         "RRcents",
         "won this mftmkkus aidrop from superplastic thank you for the special gift on thanksgiving big shout",
         "3036",
         "Fort Lauderdale, FL/ NJ / NYC",
         "None",
         "Thu Nov 24 18:37:56 +0000 2022"
        ],
        [
         "1595849214529265664",
         "MIZ",
         "bdj41",
         "danitapeda mizzoufootball happy thanksgiving danita",
         "168",
         "Argyle, TX",
         "None",
         "Thu Nov 24 18:37:56 +0000 2022"
        ],
        [
         "1595849214562533378",
         "Ray",
         "RayBarbone1313r",
         "rt protectthefaith happy thanksgiving to all my friends in the usa may you soon be free of the biden tyranny",
         "34",
         "New York, USA",
         "None",
         "Thu Nov 24 18:37:56 +0000 2022"
        ],
        [
         "1595849214533271552",
         "Villain Era Begins... now.✌🏾",
         "cypheroftyr",
         "rt kingscowhiskey winning thanksgiving a tutorial",
         "48662",
         "Chicago, IL",
         "None",
         "Thu Nov 24 18:37:56 +0000 2022"
        ],
        [
         "1595849214617178114",
         "Patty Querry",
         "QuerryPatty",
         "judgejeanine happy thanksgiving to you",
         "18",
         "None",
         "None",
         "Thu Nov 24 18:37:56 +0000 2022"
        ],
        [
         "1595849214600290306",
         "奉仕",
         "ItstheRoc112",
         "rt pbsimpulse house of half black is wild lmaoooo",
         "1350",
         "Your mother's Chocha",
         "None",
         "Thu Nov 24 18:37:56 +0000 2022"
        ],
        [
         "1595849214927732736",
         "Jem",
         "jemthebread",
         "rt robuxboss thanksgiving giveaway picking random followers each winner gets robux giftcard must be following to join tag a",
         "25",
         "Discord: Jem#8522",
         "None",
         "Thu Nov 24 18:37:56 +0000 2022"
        ],
        [
         "1595849214562557953",
         "JenKovalov.eth💎 #CHECKMATE 👑♟",
         "jenkovalov",
         "floridagoldrea happy thanksgiving larena",
         "14091",
         "Grand Rapids, MI",
         "None",
         "Thu Nov 24 18:37:56 +0000 2022"
        ],
        [
         "1595849215003049985",
         "Yuumi 💦(Face On OF)",
         "MissYuuumi",
         "rt jayhexxx do you wanna play with me while my family is over for thanksgiving dm me for off sessions right now",
         "186374",
         "➪➪➪",
         "None",
         "Thu Nov 24 18:37:56 +0000 2022"
        ],
        [
         "1595849215087112193",
         "mosaic",
         "tomah04855386",
         "rt barstoolsports happy thanksgiving",
         "37",
         "None",
         "None",
         "Thu Nov 24 18:37:56 +0000 2022"
        ],
        [
         "1595849215095472129",
         "Quasia🤸🏾",
         "Quasiaaaa_",
         "rt braylon y all dressing up for thanksgiving",
         "863",
         "Work",
         "None",
         "Thu Nov 24 18:37:56 +0000 2022"
        ],
        [
         "1595849215024201728",
         "God Emperor Dingle",
         "TheDirtyDingle",
         "mage_leader happy thanksgiving mage hope you re having a good one sir",
         "50",
         "None",
         "None",
         "Thu Nov 24 18:37:56 +0000 2022"
        ],
        [
         "1595849215196160000",
         "Big Warble",
         "BigWarble",
         "rt greatm sfm happy thanksgiving everyone i m not cool enough to have anything to do today so instead how about you share and promote y",
         "7",
         "None",
         "None",
         "Thu Nov 24 18:37:57 +0000 2022"
        ],
        [
         "1595849214499627016",
         "MG",
         "damuamir",
         "happy thanksgiving i m thankful to be able to live my truth transisbeautiful tmoc ftm transman",
         "556",
         "None",
         "None",
         "Thu Nov 24 18:37:56 +0000 2022"
        ],
        [
         "1595849214482841606",
         "Eimhear Ó Dálaigh",
         "OEimhear",
         "happy thanksgiving to all my friends and family in the usa big hugs and kisses from ireland",
         "10433",
         "Dublin City, Ireland",
         "None",
         "Thu Nov 24 18:37:56 +0000 2022"
        ],
        [
         "1595849215275859970",
         "Mansi💜 ⁷afobangfo💙 👨‍🚀 Indigo (semi-ia) ✨🌸",
         "dalyoratannies",
         "rt spotify our favorite thanksgiving side dish that has the juice spotifywrapped",
         "309",
         "Bangtan's Heart",
         "None",
         "Thu Nov 24 18:37:57 +0000 2022"
        ],
        [
         "1595849215267155968",
         "thailynn💄",
         "baptizedinroses",
         "rt sanrio thankful for friends tag a bestie thanksgiving",
         "84",
         "♓︎☼⋄♍︎☾⋄ ♋︎↑",
         "None",
         "Thu Nov 24 18:37:57 +0000 2022"
        ],
        [
         "1595849215024005123",
         "BG Joe E. Ramirez, Jr. '79, USA (Ret.)",
         "AggieVPRamirez",
         "best wishes to all for a happy thanksgiving may your day be filled with blessings today and every day happy tha",
         "755",
         "Texas A&M University",
         "None",
         "Thu Nov 24 18:37:56 +0000 2022"
        ],
        [
         "1595849215292350466",
         "keeping advent fast fr this time какюс 🍞 🍷🌹",
         "dsaorthocaucus",
         "rtaylor doing a mini thanksgiving for just my fam tomorrow gonna be tofurky mexican street corn balsamic g",
         "1399",
         "None",
         "None",
         "Thu Nov 24 18:37:57 +0000 2022"
        ],
        [
         "1595849215527174144",
         ".kuwabailey//G.U.",
         "pelicantpark",
         "i love how there s pok mon and dragon ball floats at the thanksgiving parade every year you know american icons pikachu and goku",
         "1421",
         "Mac Anu/Los Angeles",
         "None",
         "Thu Nov 24 18:37:57 +0000 2022"
        ],
        [
         "1595849215598526468",
         "shaq",
         "shaq_tonio",
         "rt firsttake stephenasmith s top five thanksgiving games vikings defeat cowboys dolphins defeat cowboys eag",
         "23",
         "None",
         "None",
         "Thu Nov 24 18:37:57 +0000 2022"
        ],
        [
         "1595849214495723520",
         "@frances , BeauArlen, SoldierBoy, Dean Winchester",
         "frances35752595",
         "nina ty so much nina happy thanksgiving to you as well",
         "580",
         "None",
         "None",
         "Thu Nov 24 18:37:56 +0000 2022"
        ],
        [
         "1595849215682678785",
         "Unveiled Philly",
         "Unveiled76",
         "rt potus may god bless america s service members and their families this thanksgiving and always",
         "3761",
         "Philadelphia, PA",
         "None",
         "Thu Nov 24 18:37:57 +0000 2022"
        ],
        [
         "1595849215619764224",
         "D.K. Uzoukwu",
         "DKuzNY",
         "okay this year s thanksgiving might have some of that rock in it cuz what",
         "1470",
         "West Hollywood, Los Angeles",
         "None",
         "Thu Nov 24 18:37:57 +0000 2022"
        ],
        [
         "1595849215732850690",
         "Kat",
         "Katywantsyou",
         "loving all the thanksgiving scents going on in the house right now",
         "1439",
         "Massachusetts, USA",
         "None",
         "Thu Nov 24 18:37:57 +0000 2022"
        ],
        [
         "1595849215577653248",
         "Crow Waffle",
         "Crowwaffle",
         "rt foxfeather happy thanksgiving from our flock to yours i know this is a super tumultuous time right now i m so thankful to you and",
         "125",
         "The void",
         "None",
         "Thu Nov 24 18:37:57 +0000 2022"
        ],
        [
         "1595849215657254913",
         "Drain “The Cock” Johnson",
         "BurgessBoston",
         "rt xrmbrownx happy thanksgiving to all hope youre all sniffing and making pp",
         "191",
         "None",
         "None",
         "Thu Nov 24 18:37:57 +0000 2022"
        ],
        [
         "1595849215821086720",
         "Cynthia 🌺",
         "cynthiaann22",
         "amen",
         "244",
         "None",
         "None",
         "Thu Nov 24 18:37:57 +0000 2022"
        ],
        [
         "1595849215795761153",
         "Ashley is PRO-Choice ☮️ ✨♥️🌱🌏🥁🌈🕶🐝🌊✨",
         "KuckelmanAshley",
         "rt resistersis a thanksgiving for you to enjoy",
         "46595",
         "Des Moines, IA (Ankeny)",
         "None",
         "Thu Nov 24 18:37:57 +0000 2022"
        ],
        [
         "1595849215913390080",
         "O.Shutt",
         "O_Shutt7",
         "rt rap happy thanksgiving",
         "64",
         "None",
         "None",
         "Thu Nov 24 18:37:57 +0000 2022"
        ],
        [
         "1595849215913197575",
         "3:16",
         "GetLoussss",
         "for thanksgiving track suit comfy gt gt gt gt gt casual",
         "245",
         "Chicago, IL",
         "None",
         "Thu Nov 24 18:37:57 +0000 2022"
        ],
        [
         "1595849215875469315",
         "KnoF",
         "knowles_florida",
         "cliftonaduncan same to you happy thanksgiving",
         "7",
         "None",
         "None",
         "Thu Nov 24 18:37:57 +0000 2022"
        ],
        [
         "1595849215749640193",
         "Danny’s Hot (And Not-So-Hot) Takes",
         "DanGuy96",
         "rt artdben happy thanksgiving and if you aren t american eat something delicious",
         "1643",
         "Louisiana",
         "None",
         "Thu Nov 24 18:37:57 +0000 2022"
        ],
        [
         "1595849215904808965",
         "X",
         "sweatyweathrman",
         "every thanksgiving revolves around me trying to give my siblings a good and varied taste in media and every year i",
         "150",
         "The Rat Nest in your House",
         "None",
         "Thu Nov 24 18:37:57 +0000 2022"
        ],
        [
         "1595849216030658566",
         "Dante Guarneri",
         "danteguarneri",
         "how did they not rig the schedule to have usa play on thanksgiving",
         "492",
         "Los Angeles, CA",
         "None",
         "Thu Nov 24 18:37:57 +0000 2022"
        ],
        [
         "1595849216131477504",
         "Brian J Flanagan",
         "bjflanagan",
         "rt paultx happy thanksgiving folks",
         "8499",
         "Far Periphery",
         "None",
         "Thu Nov 24 18:37:57 +0000 2022"
        ],
        [
         "1595849217934647296",
         "Wrestling Fans Incite Podcast",
         "WFIncitePodcast",
         "rt realchrissays happy thanksgiving to all who are observing today may your day be a day of only positive family interactions i m perso",
         "1538",
         "Clearfield, UT",
         "None",
         "Thu Nov 24 18:37:57 +0000 2022"
        ],
        [
         "1595849217964220417",
         "Ron",
         "RonNoelJr1",
         "itzzzmad hey hey happy thanksgiving to you and your family we are thankful for family and friends",
         "29",
         "None",
         "None",
         "Thu Nov 24 18:37:57 +0000 2022"
        ],
        [
         "1595849217968316418",
         "girl who cat",
         "katielowercase",
         "rt passtheyaoi happy transgendered thanksgiving make sure to be giving to the transgendereds in your life",
         "174",
         "@kqct@quiet.horse, cohost/kqct",
         "None",
         "Thu Nov 24 18:37:57 +0000 2022"
        ],
        [
         "1595849218006081537",
         "JD",
         "gogettertrey",
         "only black mfs",
         "100",
         "Houston, TX",
         "None",
         "Thu Nov 24 18:37:57 +0000 2022"
        ],
        [
         "1595849218224279554",
         "Kevchup",
         "kevnlam",
         "rt pokemon what we re thankful for eevee pikachu and you hope you enjoyed the macys thanksgiving day parade trainers macy",
         "56",
         "Florida",
         "None",
         "Thu Nov 24 18:37:57 +0000 2022"
        ],
        [
         "1595849218312527874",
         "Homo01000",
         "homo01000",
         "rt andrewdelta happy thanksgiving who wants to get stuffed",
         "423",
         "None",
         "None",
         "Thu Nov 24 18:37:57 +0000 2022"
        ],
        [
         "1595849217477468160",
         "Melon Usk (nonpareilody)",
         "sin_nombro",
         "happy thanksgiving from the city of st francis",
         "241",
         "None",
         "None",
         "Thu Nov 24 18:37:57 +0000 2022"
        ],
        [
         "1595849218261909504",
         "Now. Not now. Now.",
         "sammypants2000",
         "is this not cannibalism",
         "40",
         "Up yours!",
         "None",
         "Thu Nov 24 18:37:57 +0000 2022"
        ],
        [
         "1595849218295414784",
         "Kevin_Kimball",
         "KimballinDad_3",
         "happy thanksgiving to all of the callistothegame family more week",
         "526",
         "Danville, CA",
         "None",
         "Thu Nov 24 18:37:57 +0000 2022"
        ],
        [
         "1595849218106617858",
         "Marcus Jones Enthusiastic 6-4",
         "_justinknapp16",
         "happy thanksgiving everyone hope everyone has a great day with friends and family go pats",
         "38",
         "Washington, USA",
         "None",
         "Thu Nov 24 18:37:57 +0000 2022"
        ],
        [
         "1595849217570123777",
         "Ronald McDonald House Charities of Idaho",
         "RMHIdaho",
         "from all of us at ronald mcdonald house charities of idaho to you happy thanksgiving rmhcidaho",
         "2247",
         "Boise, Idaho",
         "None",
         "Thu Nov 24 18:37:57 +0000 2022"
        ],
        [
         "1595849217557274629",
         "BingetownTV Pod 🎬🍿",
         "bingetowntv",
         "happy thanksgiving to all who celebrate from us at bingetown we are so thankful for all of our listeners and eve",
         "1427",
         "Bingetown",
         "None",
         "Thu Nov 24 18:37:57 +0000 2022"
        ],
        [
         "1595849218521956358",
         "Jason Zok",
         "jason_zok",
         "rt czok thank you for the thanksgiving wishes always thankful happy thanksgiving petersndsu ndsufootball",
         "4",
         "None",
         "None",
         "Thu Nov 24 18:37:57 +0000 2022"
        ],
        [
         "1595849218635321350",
         "Bark54",
         "kemling_becky",
         "rt rolandfortexas i am grateful to share thanksgiving with my wife and our beautiful daughters but today there are families in uvald",
         "736",
         "None",
         "None",
         "Thu Nov 24 18:37:57 +0000 2022"
        ],
        [
         "1595849218719387648",
         "richard ferraina",
         "RFerraina29",
         "rt dl_thehunt happy thanksgiving from our family to yours",
         "282",
         "None",
         "None",
         "Thu Nov 24 18:37:57 +0000 2022"
        ],
        [
         "1595849218693939203",
         "Bishop",
         "Nole1617",
         "dobrienatl happy thanksgiving and thank you for all you do",
         "90",
         "None",
         "None",
         "Thu Nov 24 18:37:57 +0000 2022"
        ],
        [
         "1595849218744369152",
         "Salvador Mondragon",
         "sal_mondragon",
         "rt willscharf happy thanksgiving no human counsel hath devised nor hath any mortal hand worked out these great things they are the g",
         "43",
         "None",
         "None",
         "Thu Nov 24 18:37:57 +0000 2022"
        ],
        [
         "1595849219008770050",
         "Greg",
         "gwiss",
         "rt internethippo people on this app pausing their usual unpleasantness to say happy thanksgiving that s how you know they re not truly d",
         "14042",
         "Colorado, USA",
         "None",
         "Thu Nov 24 18:37:57 +0000 2022"
        ],
        [
         "1595849218060591105",
         "Ebontis",
         "Ebontis",
         "happy thanksgiving if you don t have an iceshakerbottle and some advancedgg this is a great way to pick one up a",
         "4167",
         "Dallas, TX",
         "None",
         "Thu Nov 24 18:37:57 +0000 2022"
        ],
        [
         "1595849218891055106",
         "lex",
         "strvmin",
         "rt earthydoll yall dont get tired of acting like black people have thanksgiving gatherings to be like yasss i love colonialism",
         "1546",
         "joons crib",
         "None",
         "Thu Nov 24 18:37:57 +0000 2022"
        ],
        [
         "1595849218295472131",
         "Bristo (0.9% OF)",
         "Hungodey",
         "happy thanksgiving sub to enjoy this cock",
         "29117",
         "Los Angeles, CA",
         "None",
         "Thu Nov 24 18:37:57 +0000 2022"
        ],
        [
         "1595849219000115206",
         "Sora ※ || semi-ia",
         "sorakh_13",
         "nariscyno happy thanksgiving to u too even we don t celebrate it here",
         "706",
         "he/him 22 ita/eng",
         "None",
         "Thu Nov 24 18:37:57 +0000 2022"
        ],
        [
         "1595849219080065025",
         "Bill",
         "goatee63",
         "rt holocaustmuseum holocaust survivors rae goldfarb and her mother dina celebrated their first thanksgiving a week after arriving in th",
         "91",
         "San Diego",
         "None",
         "Thu Nov 24 18:37:57 +0000 2022"
        ],
        [
         "1595849219159756800",
         "Desire5000",
         "desire5000",
         "rt xabbyrossx it s almost thanksgiving and no one has stuffed me someone fix that please",
         "425322",
         "Atlanta",
         "None",
         "Thu Nov 24 18:37:57 +0000 2022"
        ],
        [
         "1595849217699880962",
         "Whiting Bands",
         "WhitingBands",
         "happy thanksgiving from the band and choir pictures from last nights game and bandsgiving we had a great group of",
         "223",
         "Whiting, Indiana",
         "None",
         "Thu Nov 24 18:37:57 +0000 2022"
        ],
        [
         "1595849219205730306",
         "Sad Boy",
         "rmhooks_94",
         "rt thefestiveowl on repeat today happy thanksgiving",
         "1316",
         "Metro Detroit Michigan, USA",
         "None",
         "Thu Nov 24 18:37:57 +0000 2022"
        ],
        [
         "1595849219004301315",
         "Chris",
         "OmgChrisDuke",
         "happy thanksgiving everyone i don t wait for special days or anything to show everyone my love but i love all my f",
         "172",
         "the blue room",
         "None",
         "Thu Nov 24 18:37:57 +0000 2022"
        ],
        [
         "1595849219402698752",
         "Marsha",
         "Whippenz",
         "daviddavidlaure david thanks so very much for sharing happy thanksgiving marsha",
         "67308",
         "San Francisco/East Bay Hills",
         "None",
         "Thu Nov 24 18:37:58 +0000 2022"
        ],
        [
         "1595849219490840582",
         "Taylor Gunner | Top 0.08%💕",
         "ItsTaylorGunner",
         "angelmistress happy thanksgiving",
         "91472",
         "Southern California",
         "None",
         "Thu Nov 24 18:37:58 +0000 2022"
        ],
        [
         "1595849219621150720",
         "Queen Kuuipo",
         "KuuipoQueen",
         "rt arwensharpreads year happy thanksgiving friendsgiving love life pc great community audio asmr female mug full of hugs",
         "101",
         "None",
         "None",
         "Thu Nov 24 18:37:58 +0000 2022"
        ],
        [
         "1595849219595964416",
         "Jemarqus Mckenzie",
         "JemarqusM",
         "zelinavegawwe happy thanksgiving love to hear that",
         "9",
         "None",
         "None",
         "Thu Nov 24 18:37:58 +0000 2022"
        ],
        [
         "1595849219734229001",
         "Orbros",
         "DrOrbros",
         "rt az_brittney yrs ago on t day i was so hungry bc i spent all my money on drugs my mom ended up bringing me some leftovers i ll nev",
         "1689",
         "None",
         "None",
         "Thu Nov 24 18:37:58 +0000 2022"
        ],
        [
         "1595849219549630466",
         "Gia Marcelletti",
         "Gia_Sumetra",
         "happy thanksgiving thanksgiving mixedkids thai japanese italian irish",
         "18",
         "New Jersey, USA",
         "None",
         "Thu Nov 24 18:37:58 +0000 2022"
        ],
        [
         "1595849218836791297",
         "AbodA",
         "abodeble",
         "happy thanksgiving and to all a good soup",
         "1",
         "None",
         "None",
         "Thu Nov 24 18:37:57 +0000 2022"
        ],
        [
         "1595849219797319681",
         "shriya🌹×͜× PROUD OF LOUIS",
         "cliffordmebf",
         "rt goidenaffairs happy thanksgiving from niall horan",
         "4741",
         "im on the roof",
         "None",
         "Thu Nov 24 18:37:58 +0000 2022"
        ],
        [
         "1595849219818004480",
         "Prego Liv ♡︎",
         "BlackWidowMILF",
         "rt harleyyqueen happy thanksgiving show me how thankful you are how bad do you wish you were stuffing me harleyyqueen ht",
         "214413",
         "top 0.7%",
         "None",
         "Thu Nov 24 18:37:58 +0000 2022"
        ],
        [
         "1595849219767955456",
         "BAWS MAKA",
         "bossmackalini1",
         "lira_galore_ happy thanksgiving",
         "319",
         "UNITED STATES",
         "None",
         "Thu Nov 24 18:37:58 +0000 2022"
        ],
        [
         "1595849219893776384",
         "NJ Gallegos loves Costco 🎃🥧",
         "DrSpooky_ER",
         "wesleymenard happy thanksgiving love you my friend",
         "15026",
         "None",
         "None",
         "Thu Nov 24 18:37:58 +0000 2022"
        ],
        [
         "1595849218861801472",
         "shooter mcgavin",
         "gavin__cole",
         "happy thanksgiving skol",
         "561",
         "None",
         "None",
         "Thu Nov 24 18:37:57 +0000 2022"
        ],
        [
         "1595849219822456832",
         "Seasonal Affective Drafting",
         "draftsaredaft",
         "the lack of testing and approval columns is appalling",
         "85",
         "None",
         "None",
         "Thu Nov 24 18:37:58 +0000 2022"
        ],
        [
         "1595849219939917824",
         "💜Indigoᴮᴱ⁷RM💜",
         "mehsaw",
         "rt lorettab happy thanksgiving bts_twt amp army family i love you all myuniverse",
         "439",
         "In d 💜 of my BEMOJIKEN'S",
         "None",
         "Thu Nov 24 18:37:58 +0000 2022"
        ],
        [
         "1595849219872813057",
         "Viiru The Cat & Kismet ☮️🇺🇦",
         "kissanelamaa",
         "gibsonthekitty happy thanksgiving for you i don t think dad even remembers it s the thanksgiving he hasn t real",
         "7066",
         "Finland",
         "None",
         "Thu Nov 24 18:37:58 +0000 2022"
        ],
        [
         "1595849219889561600",
         "basamyousif",
         "basamyousif",
         "rt tesla happy thanksgiving thanks to the tesla team owners and fans for helping us accelerate the world s transition to sustainable",
         "25",
         "None",
         "None",
         "Thu Nov 24 18:37:58 +0000 2022"
        ],
        [
         "1595849219931357185",
         "The Wrestling Clan",
         "TheWrestleClan",
         "rt _andreweverett happy thanksgiving",
         "1148",
         "None",
         "None",
         "Thu Nov 24 18:37:58 +0000 2022"
        ],
        [
         "1595849219939926016",
         "louis benardo",
         "alydar09",
         "paulacweston happy thanksgiving hang in",
         "106",
         "Upstate,ny",
         "None",
         "Thu Nov 24 18:37:58 +0000 2022"
        ],
        [
         "1595849220019347458",
         "Noah",
         "U_AlreadyNoah",
         "rt madflavor happy thanksgiving you savages much love to your families",
         "660",
         "Chicago, IL",
         "None",
         "Thu Nov 24 18:37:58 +0000 2022"
        ],
        [
         "1595849219990069258",
         "c00chie mane 💞",
         "kennessy_milan",
         "rt realmainfeeling thanksgiving be trash now cause grandmas be ain t enough pain in that mac amp cheese",
         "1129",
         "NY",
         "None",
         "Thu Nov 24 18:37:58 +0000 2022"
        ],
        [
         "1595849220082106369",
         "Colonel Kurtz",
         "EHess67",
         "rt realdailywire libs eating thanksgiving dinner like",
         "72",
         "None",
         "None",
         "Thu Nov 24 18:37:58 +0000 2022"
        ],
        [
         "1595849220094820354",
         "Mrs.Joanne M. Fortier",
         "FortierMrs",
         "keep up soon your turn remember me i m cheerleader for you my love of michigan doll your my choice now",
         "622",
         "United States",
         "None",
         "Thu Nov 24 18:37:58 +0000 2022"
        ],
        [
         "1595849220187074565",
         "Christene",
         "pilottierney",
         "rt waynedupreeshow a holiday message from joe thanksgiving",
         "582",
         "None",
         "None",
         "Thu Nov 24 18:37:58 +0000 2022"
        ],
        [
         "1595849222162628609",
         "Wyatt Gunner",
         "WyattGunner3",
         "rt bennyjohnson the joyless succubus left reminds you that thanksgiving is actually bad ok such unhappy freaks could you imagine ha",
         "15",
         "None",
         "None",
         "Thu Nov 24 18:37:58 +0000 2022"
        ],
        [
         "1595849221936394240",
         "𝕭𝖎𝖌 𝕶𝖊𝖓𝖓𝖞",
         "BigKennyGaming",
         "happy thanksgiving whos ready for some amazing ham stuffing turkey and black friday sales make sure you t",
         "1024",
         "Stockton, CA",
         "None",
         "Thu Nov 24 18:37:58 +0000 2022"
        ],
        [
         "1595849222255169537",
         "Franko🛸",
         "NotoriousSMB",
         "rt yahoosportsnfl stefon diggs made this the best thanksgiving ever for this young fan via nfl",
         "298",
         "Van City C-Town",
         "None",
         "Thu Nov 24 18:37:58 +0000 2022"
        ],
        [
         "1595849222204850176",
         "hawk 🪶 staunch ch. 139 apologist",
         "parasiticyeager",
         "rt dailyalucardcv happy thanksgiving adrianalucardtepes alucard castlevanianetflix castlevania",
         "992",
         "None",
         "None",
         "Thu Nov 24 18:37:58 +0000 2022"
        ],
        [
         "1595849222263230464",
         "Rod Brooks",
         "rodbrooks_qh",
         "sportsanthony she bout to hit y all with the edward fortyhands happy thanksgiving brother",
         "1916",
         "None",
         "None",
         "Thu Nov 24 18:37:58 +0000 2022"
        ],
        [
         "1595849222208868356",
         "🔥ChefDom👨🏻‍🍳",
         "11ChefDom",
         "saints i gotchu and i still hadn t forgot about that griot bro i bought me a new crock pot the other da",
         "134",
         "Space",
         "None",
         "Thu Nov 24 18:37:58 +0000 2022"
        ],
        [
         "1595849222301306880",
         "Dr. Ben Winston",
         "BUSA_Winston",
         "rt fischerbusa happy thanksgiving from the department of commerce we are thankful for business owners the rising economy and our amazi",
         "1",
         "None",
         "None",
         "Thu Nov 24 18:37:58 +0000 2022"
        ],
        [
         "1595849222393561088",
         "Anja Schmidt",
         "AnjaSch50549695",
         "michelleobama barackobama happy thanksgiving to you and your family",
         "177",
         "None",
         "None",
         "Thu Nov 24 18:37:58 +0000 2022"
        ],
        [
         "1595849222489784321",
         "James R. Thompson",
         "JamesRThompson2",
         "rt jingles ronfilipkowski jamesrthompson happy thanksgiving to everyone except the gop traitors and seditionists go back to russi",
         "16095",
         "Las Vegas, NV. From Phoenix",
         "None",
         "Thu Nov 24 18:37:58 +0000 2022"
        ],
        [
         "1595849222506545152",
         "Stacey Platt",
         "BG_Swimmer",
         "rt zionsvillegolf happy thanksgiving to all our eagle golf families we are truly blessed with great players parents and coaches p",
         "114",
         "Carmel, IN",
         "None",
         "Thu Nov 24 18:37:58 +0000 2022"
        ],
        [
         "1595849222577954817",
         "SD",
         "StupiDucker",
         "rt michaelvogel i m proud to report that i made all these rolls for thanksgiving dinner for the family with a solid reduction in fl",
         "3962",
         "U.S.A.",
         "None",
         "Thu Nov 24 18:37:58 +0000 2022"
        ],
        [
         "1595849222792048640",
         "lori p",
         "Callmecheekau",
         "rt kelleyashbypaul rand and i wish you an abundant thanksgiving filled with family friends and feasting we are blessed and grateful to",
         "4",
         "None",
         "None",
         "Thu Nov 24 18:37:58 +0000 2022"
        ],
        [
         "1595849222904954882",
         "Catal Hadid",
         "catulmija",
         "rt popculture s the gossip girl thanksgiving episode where everyone got exposed while whatcha say by jason derulo is playing that s h",
         "341",
         "None",
         "None",
         "Thu Nov 24 18:37:58 +0000 2022"
        ],
        [
         "1595849222888521728",
         "Lex🐘",
         "alexiimonet",
         "maybe i would care more about thanksgiving if my granny was here everybody dressing nasty and i m not in the mood",
         "540",
         "Sc: Lexiipretty",
         "None",
         "Thu Nov 24 18:37:58 +0000 2022"
        ],
        [
         "1595849222976286721",
         "iris ✵",
         "decayediris",
         "cloviscringe im p decent just nervous for thanksgiving",
         "116",
         "✮bmi 16.1 | cw 91 lbs/41 kgs✮",
         "None",
         "Thu Nov 24 18:37:58 +0000 2022"
        ],
        [
         "1595849223009976322",
         "Avisai Giron",
         "GironAvisai",
         "rt iamderrickyoung thanksgiving giveaway sorry for the late post all you have to do is follow me retweet like the post then",
         "86",
         "Venezuela",
         "None",
         "Thu Nov 24 18:37:58 +0000 2022"
        ],
        [
         "1595849223051874305",
         "𝕮𝖍𝖆𝖘𝖊 💎",
         "PacersWRLD",
         "rt nscgriffin happy thanksgiving everyone i am doing a dollar gift card of your choice giveaway to enter follow like rt com",
         "1437",
         "None",
         "None",
         "Thu Nov 24 18:37:58 +0000 2022"
        ],
        [
         "1595849222179495939",
         "Kevin M",
         "BayouPhilosophy",
         "happy thanksgiving from km and june the dog dogsoftwittter neworleans",
         "9109",
         "New Orleans, Louisiana",
         "None",
         "Thu Nov 24 18:37:58 +0000 2022"
        ],
        [
         "1595849222997397507",
         "augh",
         "aughreal",
         "rt nonbatnary m thankful for you and i had a great turkey day hope you did too hope you a te plenty of turkey hope you had plenty of s",
         "678",
         "b: kindly_gator p: dook_spook",
         "None",
         "Thu Nov 24 18:37:58 +0000 2022"
        ],
        [
         "1595849223165050882",
         "my penis shaft is strong like the oaktree",
         "ohdontdothattt",
         "rt patriciaheaton a little laugh for you tweatons ahead of the holiday everybodylovesraymond thanksgiving debrabarone",
         "661",
         "None",
         "None",
         "Thu Nov 24 18:37:58 +0000 2022"
        ],
        [
         "1595849222166904836",
         "John Brown",
         "JohnBro71037942",
         "happy thanksgiving to all my fellow miracle miramonroexxx fans we all love you mira let her know",
         "46",
         "United States",
         "None",
         "Thu Nov 24 18:37:58 +0000 2022"
        ],
        [
         "1595849223005691908",
         "Grandma Cookie 🍪",
         "MhamoCookie",
         "rt alroker so much to be thankful for on the thanksgiving day leaving the hospital and home for thanksgivingdinner",
         "3908",
         "None",
         "None",
         "Thu Nov 24 18:37:58 +0000 2022"
        ],
        [
         "1595849223123116033",
         "Leonard Grunstein",
         "LenGrunstein",
         "rt lengrunstein honestreporting bluegreenberg gil_hoffman happy thanksgiving it is a very special day in our family when we all came",
         "7161",
         "New Jersey",
         "None",
         "Thu Nov 24 18:37:58 +0000 2022"
        ],
        [
         "1595849223148290051",
         "michele Ann",
         "sigh56",
         "today is my b day its of the most beautiful day s i have been given in yrs sky usually looks like dirty dis",
         "4291",
         "New York",
         "None",
         "Thu Nov 24 18:37:58 +0000 2022"
        ],
        [
         "1595849222007709697",
         "🪐.",
         "itsrealpinkk",
         "happy thanksgiving",
         "2490",
         "None",
         "None",
         "Thu Nov 24 18:37:58 +0000 2022"
        ],
        [
         "1595849223232454656",
         "nelson arellano",
         "nelsonarellano",
         "thanksgiving is not your holiday bitch shut up i m getting pay to drink and eat",
         "316",
         "Brooklyn, NY",
         "None",
         "Thu Nov 24 18:37:58 +0000 2022"
        ],
        [
         "1595849223404228611",
         "👀👀",
         "Lee90kb",
         "rt xxxconrad stuff me for thanksgiving me i taste better",
         "84",
         "Florida",
         "None",
         "Thu Nov 24 18:37:58 +0000 2022"
        ],
        [
         "1595849223450370049",
         "Zeynep/ fan account",
         "lorensedittr",
         "rt iamlorengray happy thanksgiving my lovelies i m so thankful for you every single day forever be safe eat well amp enjoy today with you",
         "37",
         "None",
         "None",
         "Thu Nov 24 18:37:58 +0000 2022"
        ],
        [
         "1595849223416983552",
         "Bob Moore",
         "BobMooreNews",
         "rt r_andradefranco first thanksgiving on what s now the us happened just north of rio grande in san elizario texas in spanish c",
         "37774",
         "El Paso, TX",
         "None",
         "Thu Nov 24 18:37:58 +0000 2022"
        ],
        [
         "1595849223479914496",
         "BigPissFag",
         "Mandrinker",
         "happy u s thanksgiving to those who celebrate spare a thought for those who have to work today stay safe and eat sensibly lol sirs",
         "4981",
         "Spokane, WA",
         "None",
         "Thu Nov 24 18:37:58 +0000 2022"
        ],
        [
         "1595849223517487109",
         "Coach G",
         "CoachGroneqb",
         "rt wgranchfootball happy thanksgiving to all of our families past and present enjoy the day",
         "1447",
         "Wesley Chapel, FL",
         "None",
         "Thu Nov 24 18:37:58 +0000 2022"
        ],
        [
         "1595849223626715136",
         "Fresno State Creative Writing",
         "FresnoStateMFA",
         "rt poetsorg the forest is its own thanksgiving david st john thanksgiving",
         "1952",
         "Fresno, CA",
         "None",
         "Thu Nov 24 18:37:59 +0000 2022"
        ],
        [
         "1595849223643484160",
         "joshua leclair",
         "joshualeclair1",
         "happy thanksgiving long beach airport lgbairport",
         "29",
         "San Diego",
         "None",
         "Thu Nov 24 18:37:59 +0000 2022"
        ],
        [
         "1595849223714791424",
         "J🥺",
         "jackyquirarte",
         "rt barackobama one of my favorite white house traditions was telling thanksgiving jokes which at least i thought were funny here s a",
         "2",
         "None",
         "None",
         "Thu Nov 24 18:37:59 +0000 2022"
        ],
        [
         "1595849223773233152",
         "Goldie (taylors version) LA 8/3",
         "snailnamedgrape",
         "rt netflix how wednesday addams celebrates thanksgiving",
         "305",
         "Any/all | minor",
         "None",
         "Thu Nov 24 18:37:59 +0000 2022"
        ],
        [
         "1595849222489866242",
         "Michelle Moore",
         "wabi_sabi",
         "happy thanksgiving beautiful day grateful for abundant blessings and laughing as always at my wonderful husband",
         "1153",
         "DC & RVA, but GA is Home",
         "None",
         "Thu Nov 24 18:37:58 +0000 2022"
        ],
        [
         "1595849223815462912",
         "merry mae",
         "CreamforConcern",
         "rt weedlord_boner we re going back in time to the first thanksgiving to get soggy cat off the menu",
         "97",
         "None",
         "None",
         "Thu Nov 24 18:37:59 +0000 2022"
        ],
        [
         "1595849223869984768",
         "The Naked HodLer 1:1 🛡⚔⚜",
         "Delaroche0",
         "ppmctweets happy thanksgiving pp amp fam",
         "1860",
         "Antarctica",
         "None",
         "Thu Nov 24 18:37:59 +0000 2022"
        ],
        [
         "1595849223878184961",
         "TruthDaddyNYC #EraseTrump 🇺🇦",
         "truthdaddynyc",
         "rt frankfigliuzzi not today let s give it a rest happy thanksgiving",
         "139",
         "Brooklyn, NY",
         "None",
         "Thu Nov 24 18:37:59 +0000 2022"
        ],
        [
         "1595849223899168768",
         "JMM",
         "JMM4256",
         "rt michaeljknowles pov you are that uncle",
         "19",
         "Texas, USA",
         "None",
         "Thu Nov 24 18:37:59 +0000 2022"
        ],
        [
         "1595849224058728449",
         "Kizzy 🦇🔊🍼🚨",
         "kizzy070",
         "rt layer xyz what are you grateful for this thanksgiving let us know below show your gratitude in our holiday quest and mint a speci",
         "285",
         "Nigeria",
         "None",
         "Thu Nov 24 18:37:59 +0000 2022"
        ],
        [
         "1595849224016510977",
         "Panacea",
         "GrossSauce",
         "door dash ads are funny the only thanksgiving with fam you need is your doordash driver",
         "307",
         "Austin, TX",
         "None",
         "Thu Nov 24 18:37:59 +0000 2022"
        ],
        [
         "1595849224133828613",
         "Vicky 🌊",
         "SDISBEAUTIFUL1",
         "andreas happy thanksgiving andrea",
         "7944",
         "San Diego, CA",
         "None",
         "Thu Nov 24 18:37:59 +0000 2022"
        ],
        [
         "1595849224083673089",
         "Dennis Lynn Rima",
         "Calrima",
         "_melly_boo happy thanksgiving lil boo thanks for always being considerate",
         "49",
         "None",
         "None",
         "Thu Nov 24 18:37:59 +0000 2022"
        ],
        [
         "1595849224108785667",
         "azu 🏠",
         "hestmptress",
         "rt harry_styles i m incredibly thankful for so much this year i hope everyone is staying safe and being good to each other happy thanks",
         "412",
         "she/her",
         "None",
         "Thu Nov 24 18:37:59 +0000 2022"
        ],
        [
         "1595849224234496000",
         "🇺🇸Leonard 😇Vega🇺🇸",
         "vega_leonard",
         "rt taylorwane happy thanksgiving",
         "406",
         "Pico Rivera, CA",
         "None",
         "Thu Nov 24 18:37:59 +0000 2022"
        ],
        [
         "1595849224209457152",
         "grace",
         "srryabouturego",
         "rt mrwilin if your family starts arguing on thanksgiving please go on live so we can all hear it",
         "101",
         "None",
         "None",
         "Thu Nov 24 18:37:59 +0000 2022"
        ],
        [
         "1595849224217837569",
         "Katie B",
         "goudabest",
         "rt getbentsaggy happy thanksgiving xox",
         "25",
         "PA by way of WV",
         "None",
         "Thu Nov 24 18:37:59 +0000 2022"
        ],
        [
         "1595849224276484096",
         "Juvenile Johnny",
         "T1DJohnny",
         "aviatorslv happy thanksgiving",
         "1264",
         "None",
         "None",
         "Thu Nov 24 18:37:59 +0000 2022"
        ],
        [
         "1595849224330977282",
         "KEEPEMDRY",
         "keepemdry",
         "rt kylekulinski happy thanksgiving to all and a very happy bday to the lovely amp brilliant krystalball thanks for putting up with me",
         "20",
         "Chicago | CDMX",
         "None",
         "Thu Nov 24 18:37:59 +0000 2022"
        ],
        [
         "1595849226378153985",
         "jo xoce martix",
         "jo_martix",
         "rt nikkibenz happy thanksgiving i won t cook but i ll clean",
         "615",
         "None",
         "None",
         "Thu Nov 24 18:37:59 +0000 2022"
        ],
        [
         "1595849226432675840",
         "LucaTheAstronaut/wizard KOZMONAUTS MINTING LIVE 🚀",
         "lucatheastrona1",
         "rt kpleezee collazopitt youtube craigklee rogertriminio damienmilliby charles_s_bar richard kleekaieth ditto fam klee",
         "8278",
         "Exzidia",
         "None",
         "Thu Nov 24 18:37:59 +0000 2022"
        ],
        [
         "1595849223945474049",
         "TheRealPotatoIAS",
         "TheRPotatoIAS",
         "happy thanksgiving guys enjoy your day and do something to bless others today enjoy your day and be sure to smile",
         "5",
         "Florida",
         "None",
         "Thu Nov 24 18:37:59 +0000 2022"
        ],
        [
         "1595849225723691009",
         "CrazyRedReploid",
         "CrazyRedReploid",
         "happy thanksgiving everyone",
         "545",
         "None",
         "None",
         "Thu Nov 24 18:37:59 +0000 2022"
        ],
        [
         "1595849226432438277",
         "SLJ",
         "SLJ07940986",
         "rt diamondnflad a nflallday thanksgiving premium pack giveaway like and retweet this post follow diamondnflad amp nflallday",
         "13",
         "None",
         "None",
         "Thu Nov 24 18:37:59 +0000 2022"
        ],
        [
         "1595849226470170624",
         "✝️Rambling Rose",
         "RubyCha29",
         "ezraefrat happy thanksgiving",
         "947",
         "None",
         "None",
         "Thu Nov 24 18:37:59 +0000 2022"
        ],
        [
         "1595849226474336256",
         "Pakitacabeza",
         "Pakitacabeza5",
         "rt damien_x_ this thanksgiving i m thankful for all these sexy men making my trip to brazil so incredibly special",
         "265",
         "None",
         "None",
         "Thu Nov 24 18:37:59 +0000 2022"
        ],
        [
         "1595849226507919361",
         "Victor Ocean",
         "VictorOcean2",
         "rt peterobi it was an immense pleasure to personally attend bishop paulinus ezeokafor s th birthday and thanksgiving in awka po",
         "3957",
         "None",
         "None",
         "Thu Nov 24 18:37:59 +0000 2022"
        ],
        [
         "1595849226679885826",
         "mOmO LbrD #zkRock🪨 (💙,🧡)🛸🌘0614.stark",
         "mOmO_LbrD",
         "rt layer xyz what are you grateful for this thanksgiving let us know below show your gratitude in our holiday quest and mint a speci",
         "49",
         "None",
         "None",
         "Thu Nov 24 18:37:59 +0000 2022"
        ],
        [
         "1595849226491232259",
         "σf 🎥😈 яσуαℓмfнιgниєѕѕ",
         "RoyalMfHighness",
         "thanksgiving special enter royals playhouse for access to exclusive pictures and videos",
         "113",
         "United States",
         "None",
         "Thu Nov 24 18:37:59 +0000 2022"
        ],
        [
         "1595849226726133761",
         "Tyler",
         "_Tyler_Holcombe",
         "americanriot_ happy thanksgiving man",
         "23",
         "None",
         "None",
         "Thu Nov 24 18:37:59 +0000 2022"
        ],
        [
         "1595849226663170053",
         "LorellYan",
         "LorellYan1900",
         "rt barackobama wishing everyone a happy thanksgiving as we celebrate let s give thanks for all the blessings in our lives and give back",
         "3649",
         "None",
         "None",
         "Thu Nov 24 18:37:59 +0000 2022"
        ],
        [
         "1595849226684190722",
         "Mac Anderson",
         "Macormick_",
         "rt mlb_memes walking back into the kitchen to get my th plate of thanksgiving food",
         "218",
         "Houston, TX",
         "None",
         "Thu Nov 24 18:37:59 +0000 2022"
        ],
        [
         "1595849226747056132",
         "Freon Musk",
         "8trip_",
         "rt ufwupdates as you gather with friends and family this thanksgiving think about the farm workers who contributed to each dish tell us",
         "264",
         "he/him",
         "None",
         "Thu Nov 24 18:37:59 +0000 2022"
        ],
        [
         "1595849226776244224",
         "KOLDNews",
         "KOLDNews",
         "rt gvfdpio from our family to yours happy thanksgiving day",
         "93259",
         "Tucson, AZ",
         "None",
         "Thu Nov 24 18:37:59 +0000 2022"
        ],
        [
         "1595849226918952963",
         "UTA ROEMMERMANN",
         "roemmermann",
         "p_bischetti tres cher pat happy thanksgiving to you too in strasbourg enjoy your moments of beauty and peace",
         "1650",
         "NORTHERN GERMANY",
         "None",
         "Thu Nov 24 18:37:59 +0000 2022"
        ],
        [
         "1595849226797326339",
         "ellie 🐄",
         "elliedemmy",
         "best part of thanksgiving",
         "279",
         "17",
         "None",
         "Thu Nov 24 18:37:59 +0000 2022"
        ],
        [
         "1595849226847911936",
         "Landa",
         "thegreatlapanda",
         "rt thetonychimel happy thanksgiving to everyone enjoy the day maybe even order a cameo chimeo",
         "204",
         "None",
         "None",
         "Thu Nov 24 18:37:59 +0000 2022"
        ],
        [
         "1595849226965159940",
         "Gwen Stevenson",
         "GwenSte54880039",
         "rt stephen me betty and my amazing son who now owns the world the day before thanksgiving ehhhh ten years ago don t hold me",
         "320",
         "Baton Rouge, LA",
         "None",
         "Thu Nov 24 18:37:59 +0000 2022"
        ],
        [
         "1595849227019730945",
         "Leah Cheshier",
         "LeahCheshier",
         "rt jimfree grateful this thanksgiving for our artemis team every single person who made artemis i s launch a success those working r",
         "23359",
         "Houston, TX",
         "None",
         "Thu Nov 24 18:37:59 +0000 2022"
        ],
        [
         "1595849226398978052",
         "let’s go brandon (ball)",
         "ball_wire",
         "happy thanksgiving freaks",
         "256",
         "Chicago / Boston",
         "None",
         "Thu Nov 24 18:37:59 +0000 2022"
        ],
        [
         "1595849227082633221",
         "MIKE JAMZ",
         "djmikejamz",
         "why tf do the lions get thanksgiving every year",
         "251",
         "Chicago, IL",
         "None",
         "Thu Nov 24 18:37:59 +0000 2022"
        ],
        [
         "1595849227099324417",
         "Pewter & Red 24/7",
         "PewterRed24_7",
         "jskeet espnfantasy i m saying espnfantasy bout to start a bunch of unnecessary problems on thanksgiving",
         "11",
         "Tampa, FL",
         "None",
         "Thu Nov 24 18:37:59 +0000 2022"
        ],
        [
         "1595849226398867462",
         "uni",
         "dmaorgs",
         "if peopke dont stop saying happy thanksgiving to me im going to d",
         "172",
         "doll it pup ghost idol",
         null,
         null
        ],
        [
         "white tme perisex 15",
         null,
         null,
         null,
         null,
         null,
         null,
         null
        ],
        [
         "transneutral lesbian",
         null,
         null,
         null,
         null,
         null,
         null,
         null
        ],
        [
         "adhdtistic did syshost",
         "None",
         "Thu Nov 24 18:37:59 +0000 2022",
         null,
         null,
         null,
         null,
         null
        ],
        [
         "1595849227191873536",
         "Flywheel | 00069.eth",
         "flywheelfund",
         "jpegprez happy thanksgiving",
         "10221",
         "None",
         "None",
         "Thu Nov 24 18:37:59 +0000 2022"
        ],
        [
         "1595849227346796544",
         "Will you go to lunch",
         "catcha_22",
         "rt zaleskiluke joe biden is your president donald trump is a filthy lying traitor happy thanksgiving",
         "533",
         "Florence, Tuscany",
         "None",
         "Thu Nov 24 18:37:59 +0000 2022"
        ],
        [
         "1595849227350990855",
         "Princess Price",
         "BrendaP47936640",
         "rt barackobama one of my favorite white house traditions was telling thanksgiving jokes which at least i thought were funny here s a",
         "13",
         "None",
         "None",
         "Thu Nov 24 18:37:59 +0000 2022"
        ],
        [
         "1595849227334131714",
         "Indian_Artwork",
         "conquistador_k",
         "s meone_u_know hoping for a miracle on thanksgiving presenting first blackfriday sale on nft nfts are availa",
         "58",
         "New Delhi, India",
         "None",
         "Thu Nov 24 18:37:59 +0000 2022"
        ],
        [
         "1595849227539996672",
         "I drink and I sew things 🍷✨",
         "Perkunavis",
         "rt getbentsaggy happy thanksgiving xox",
         "451",
         "None",
         "None",
         "Thu Nov 24 18:37:59 +0000 2022"
        ],
        [
         "1595849227652956160",
         "Kim Salpietra",
         "KASalpi",
         "rt elonmusk have a great thanksgiving",
         "17",
         "None",
         "None",
         "Thu Nov 24 18:37:59 +0000 2022"
        ],
        [
         "1595849227766226952",
         "XZ",
         "XZdrafts",
         "xchrispatrick happy thanksgiving",
         "49",
         "Forever",
         "None",
         "Thu Nov 24 18:38:00 +0000 2022"
        ],
        [
         "1595849227825029120",
         "Liam",
         "LiamHawksfan",
         "rt nscgriffin happy thanksgiving everyone i am doing a dollar gift card of your choice giveaway to enter follow like rt com",
         "1325",
         "None",
         "None",
         "Thu Nov 24 18:38:00 +0000 2022"
        ],
        [
         "1595849228034756610",
         "Bearxican",
         "noclue2994",
         "rt habibimoee happy thanksgiving loves",
         "147",
         "CDMX",
         "None",
         "Thu Nov 24 18:38:00 +0000 2022"
        ],
        [
         "1595849228152197120",
         "OnePieceFan",
         "OnePiec34601152",
         "rt _srpelo_ i was watching the mokey s thanksgiving episode and i forgot how insanely dumb it is i miss making mokey",
         "2",
         "None",
         "None",
         "Thu Nov 24 18:38:00 +0000 2022"
        ],
        [
         "1595849228215255040",
         "Kerisz",
         "Kerisz1",
         "rt nzxt happy thanksgiving from nzxt reply with for a chance to win a goodie box stuffed with plenty of surprises",
         "2",
         "None",
         "None",
         "Thu Nov 24 18:38:00 +0000 2022"
        ],
        [
         "1595849228143714308",
         "🇺🇸 ULTRA MAGA Shane 🇺🇸",
         "coondog420",
         "rt immeme happy thanksgiving",
         "287",
         "Kentucky, USA",
         "None",
         "Thu Nov 24 18:38:00 +0000 2022"
        ],
        [
         "1595849228370481152",
         "Crystal4Kamala - Proud Democrat",
         "crystal4obama",
         "rt thenatldogshow happy thanksgiving today s the day catch the national dog show on nbc from pm pm",
         "4640",
         "Internet",
         "None",
         "Thu Nov 24 18:38:00 +0000 2022"
        ],
        [
         "1595849228298997762",
         "Scott Casey Gale",
         "DunkinDonutsNo1",
         "rt governorva my message on this thanksgiving day",
         "831",
         "McHenry, IL",
         "None",
         "Thu Nov 24 18:38:00 +0000 2022"
        ],
        [
         "1595849228215001096",
         "BLACK LIVES MATTER!!🌹🚀",
         "GoldenBoiDeeja",
         "luxxtheeicon jakedmika liketems i m not saying anything else because you said what my last point was going to be",
         "322",
         "Bella Noche",
         "None",
         "Thu Nov 24 18:38:00 +0000 2022"
        ],
        [
         "1595849228508594176",
         "Skylar Baker-Jordan",
         "SkylarJordan",
         "rt ukinchicago a lot has changed in the years since the mayflower but one thing remains the same we re thankful for the frien",
         "6449",
         "Johnson City, TN",
         "None",
         "Thu Nov 24 18:38:00 +0000 2022"
        ],
        [
         "1595849228529856512",
         "$harty",
         "SkylerOmg",
         "thanksgiving is just government mandated family time",
         "331",
         "International house of pain",
         "None",
         "Thu Nov 24 18:38:00 +0000 2022"
        ],
        [
         "1595849228622123013",
         "Hope 🙏❤️",
         "TigrayYordi",
         "rt milash_weldu_ brothers sisters amp freedom fighter we wishing you hope joy peace good health favor amp love on this thanksgiving",
         "928",
         "None",
         "None",
         "Thu Nov 24 18:38:00 +0000 2022"
        ],
        [
         "1595849228492079105",
         "👑King Slaya⚔️",
         "TruuGawd",
         "kyrie a better man than me",
         "1112",
         "BBU Alum 😈",
         "None",
         "Thu Nov 24 18:38:00 +0000 2022"
        ],
        [
         "1595849228496130049",
         "Laurice",
         "badgalreecy",
         "as a brit i have thanksgiving fomo",
         "189",
         "None",
         "None",
         "Thu Nov 24 18:38:00 +0000 2022"
        ],
        [
         "1595849228554829830",
         "nico !",
         "retroswifties",
         "to spread positivity on the timeline tag people you re grateful for this thanksgiving lt",
         "789",
         "she/they",
         "None",
         "Thu Nov 24 18:38:00 +0000 2022"
        ],
        [
         "1595849227237838849",
         "Saint Viator Athletics 🦁",
         "ViatorAthletics",
         "happy thanksgiving from viatorathletics we are blessed for your support amp mentorship of our student athletes thro",
         "3042",
         "Arlington Heights, IL",
         "None",
         "Thu Nov 24 18:37:59 +0000 2022"
        ],
        [
         "1595849228768743425",
         "PvtRyan",
         "PvtRyan312",
         "betrugg happy thanksgiving",
         "302",
         "New York, NY",
         "None",
         "Thu Nov 24 18:38:00 +0000 2022"
        ],
        [
         "1595849228768620544",
         "Mighty",
         "M1GHTIESTS",
         "happy thanksgiving",
         "4",
         "Somewhere",
         "None",
         "Thu Nov 24 18:38:00 +0000 2022"
        ],
        [
         "1595849228789592064",
         "Real Salt Lake",
         "realsaltlake",
         "tis the season of giving to celebrate thanksgiving we joined thanksgivingsh to deliver meals to families in the slc area",
         "168222",
         "America First Field",
         "None",
         "Thu Nov 24 18:38:00 +0000 2022"
        ],
        [
         "1595849228869423104",
         "ABBEY MET PARX",
         "GL00MB0YSEAS0N",
         "rt discussingfilm the wimpy kid and grogu balloons at macy s thanksgiving parade via wimpykid",
         "3711",
         "Any Pronouns 19",
         "None",
         "Thu Nov 24 18:38:00 +0000 2022"
        ],
        [
         "1595849230840922112",
         "Eric B. Fuller",
         "EricBFuller",
         "rt realjameswoods happy thanksgiving",
         "5283",
         "San Diego, CA",
         "None",
         "Thu Nov 24 18:38:00 +0000 2022"
        ],
        [
         "1595849230731464705",
         "ワールドニュース of ビジネス/株式/FX/仮想通貨",
         "money_and_biz_",
         "[bloomberg] this thanksgiving it might be wise to avoid talk of crypto",
         "462",
         "None",
         "None",
         "Thu Nov 24 18:38:00 +0000 2022"
        ],
        [
         "1595849230660210689",
         "Gary Stevenson",
         "mrdowntown805",
         "rt michaeljknowles pov you are that uncle",
         "3",
         "Paso Robles, CA",
         "None",
         "Thu Nov 24 18:38:00 +0000 2022"
        ],
        [
         "1595849230429884417",
         "OnchainShufflers | Public Mint LIVE",
         "ShufflersNFT",
         "gm and happy holiday what s the best match with thanksgiving dinner the fifaworldcup might be a good choi",
         "5245",
         "Metaverse",
         "None",
         "Thu Nov 24 18:38:00 +0000 2022"
        ],
        [
         "1595849230979039234",
         "M H aus A",
         "greizer",
         "rt adamtotscomix this comic has made its way to right wing accounts so of course i m being inundated with comments like this also gettin",
         "268",
         "Germany",
         "None",
         "Thu Nov 24 18:38:00 +0000 2022"
        ],
        [
         "1595849230878445568",
         "Ujjal BD 007",
         "ujjalbd0",
         "done one of the best project all task complete moshiurbnb arifhos shakibbd imrulkoyes",
         "183",
         "Khamis Mushait, Kingdom of Sau",
         "None",
         "Thu Nov 24 18:38:00 +0000 2022"
        ],
        [
         "1595849231243350017",
         "GleeshyyySlickAss🧘🏾‍♂️👹",
         "RealGleeshyyy",
         "rt vada_fly they prolly in my mentions upset in my mentions go to hell on thanksgiving",
         "603",
         "None",
         "None",
         "Thu Nov 24 18:38:00 +0000 2022"
        ],
        [
         "1595849231184674816",
         "Tyran",
         "Tyran71092637",
         "itssjustp happy thanksgiving",
         "553",
         "Texas, USA",
         "None",
         "Thu Nov 24 18:38:00 +0000 2022"
        ],
        [
         "1595849231125708804",
         "Mar Vista Voice",
         "marvistavoice",
         "rt acekatana no tv feature for all the groups who do this every day when the cameras aren t rolling tho",
         "1535",
         "Mar Vista, Los Angeles",
         "None",
         "Thu Nov 24 18:38:00 +0000 2022"
        ],
        [
         "1595849231407140864",
         "Chip Vescio",
         "ChipVescio",
         "rt catturd can t wait to dig into thanksgiving dinner tomorrow in joe biden s america",
         "1023",
         "None",
         "None",
         "Thu Nov 24 18:38:00 +0000 2022"
        ],
        [
         "1595849231419555840",
         "Jan Batten ✍️ 🇺🇦 🌻",
         "janjan2892",
         "rt victorshi i know this platform can often feel dark amp toxic amp scary but i ll always be grateful for all of you your support your",
         "2185",
         "None",
         "None",
         "Thu Nov 24 18:38:00 +0000 2022"
        ],
        [
         "1595849231511977984",
         "James Carter",
         "BIGGUCCIJOHNNY",
         "rt madi_thebaddie hell is so hot",
         "1526",
         "None",
         "None",
         "Thu Nov 24 18:38:00 +0000 2022"
        ],
        [
         "1595849230572478465",
         "Elizabeth O'Neal 💖 Heart of the Family",
         "eliz_oneal",
         "wishing you a very happy thanksgiving may your day be filled with family blessings and gratitude thanksgiving",
         "4729",
         "Santa Barbara",
         "None",
         "Thu Nov 24 18:38:00 +0000 2022"
        ],
        [
         "1595849231524368385",
         "Gordy_Kegs",
         "gordy_kegs",
         "darthiefabulous happy thanksgiving wishing you a speedy recovery",
         "1672",
         "None",
         "None",
         "Thu Nov 24 18:38:00 +0000 2022"
        ],
        [
         "1595849231633330178",
         "Oh Hi Mark",
         "ColoradosMark",
         "rt drsimonegold i am thankful to be living in a constitutional republic may god bless america on this thanksgiving day",
         "810",
         "Colorado, USA",
         "None",
         "Thu Nov 24 18:38:00 +0000 2022"
        ],
        [
         "1595849231570534400",
         "Aileen",
         "aileentotheleft",
         "when you have no thanksgiving plans so you fall into a black hole of online black friday sales someone stop me",
         "547",
         "Orange County, CA",
         "None",
         "Thu Nov 24 18:38:00 +0000 2022"
        ],
        [
         "1595849231746666496",
         "NWACHUKWU UCHECHUKWU",
         "GUNMONK",
         "happy thanksgiving friends bon appetit",
         "9708",
         "Lagos",
         "None",
         "Thu Nov 24 18:38:00 +0000 2022"
        ],
        [
         "1595849232077840384",
         "JimBurke21",
         "J9164366533",
         "rt kaleegood happy thanksgiving everyone",
         "1648",
         "Newport Beach, CA",
         "None",
         "Thu Nov 24 18:38:01 +0000 2022"
        ],
        [
         "1595849232015101952",
         "stanjross 🩺",
         "stanjross",
         "rt champsanders happy thanksgiving y all what s three mandatory things on y all s plate",
         "1408",
         "Ada, OK",
         "None",
         "Thu Nov 24 18:38:01 +0000 2022"
        ],
        [
         "1595849232015151104",
         "Im Deb",
         "_Lynnnnnnnnnn",
         "you can t expect nothing else from a norf nigga",
         "596",
         "Philly",
         "None",
         "Thu Nov 24 18:38:01 +0000 2022"
        ],
        [
         "1595849232157736960",
         "Alana.K.Asby",
         "Alana_K_Asby",
         "standing at prayer with the family remembering my mother seeing my son help his little brother read his portio",
         "54",
         "Midwest America",
         "None",
         "Thu Nov 24 18:38:01 +0000 2022"
        ],
        [
         "1595849232216358916",
         "BOMBIMAN #UCRM",
         "DUBLADORSHINEE2",
         "rt _srpelo_ i was watching the mokey s thanksgiving episode and i forgot how insanely dumb it is i miss making mokey",
         "645",
         "canalzito de fandub merda ai",
         "None",
         "Thu Nov 24 18:38:01 +0000 2022"
        ],
        [
         "1595849231163871232",
         "Dear God",
         "DearGodPosts",
         "happy thanksgiving everyone",
         "185",
         "None",
         "None",
         "Thu Nov 24 18:38:00 +0000 2022"
        ],
        [
         "1595849232350695424",
         "pushpulljlm",
         "pushandpulljlm",
         "rt omgno trump i wish everyone a happy thanksgiving however you clebrate wherever you are amp regardless of who you re with it s a wond",
         "1713",
         "North Carolina, USA",
         "None",
         "Thu Nov 24 18:38:01 +0000 2022"
        ],
        [
         "1595849232443133954",
         "Rene Reyes",
         "Jaksonic5678",
         "rt _srpelo_ i was watching the mokey s thanksgiving episode and i forgot how insanely dumb it is i miss making mokey",
         "731",
         "California, USA",
         "None",
         "Thu Nov 24 18:38:01 +0000 2022"
        ],
        [
         "1595849232442859522",
         "17DISH",
         "17DISH",
         "rt hillaryclinton wishing you and yours a happy and delicious thanksgiving",
         "7132",
         "None",
         "None",
         "Thu Nov 24 18:38:01 +0000 2022"
        ],
        [
         "1595849232434479106",
         "T.",
         "SavannaGirlXO",
         "donaldjtrumpjr it s thanksgiving no one wants to see this crap on their timeline miserable",
         "98",
         "None",
         "None",
         "Thu Nov 24 18:38:01 +0000 2022"
        ],
        [
         "1595849232417800197",
         "Mike",
         "mschaefer164",
         "rt h omelonsugar happy thanksgiving who s giving me a stuffing",
         "1832",
         "None",
         "None",
         "Thu Nov 24 18:38:01 +0000 2022"
        ],
        [
         "1595849232551927809",
         "The Robert Morrison",
         "rs_morrison",
         "zo happer pca mashed potatoes and apple crisp",
         "754",
         "Rock Hill, SC",
         "None",
         "Thu Nov 24 18:38:01 +0000 2022"
        ],
        [
         "1595849232619114498",
         "Ambitious_Dream_904",
         "lildrejohnson",
         "rt ballislife kyrie i don t particularly celebrate thanksgiving but anybody getting together with their families blessings to all you",
         "908",
         "None",
         "None",
         "Thu Nov 24 18:38:01 +0000 2022"
        ],
        [
         "1595849232854179842",
         "Charlie26",
         "CharlieCo26",
         "blumczynska happy thanksgiving",
         "186",
         "Winnipeg, Manitoba Canada",
         "None",
         "Thu Nov 24 18:38:01 +0000 2022"
        ],
        [
         "1595849232988127232",
         "AnDaghdha",
         "TuathDeEriu",
         "rt willockhammemes what is killary cooking for thanksgiving",
         "15",
         "Ireland",
         "None",
         "Thu Nov 24 18:38:01 +0000 2022"
        ],
        [
         "1595849232526761987",
         "AdelArcticWolf",
         "AdelArcticWolf",
         "foxmarley happy thanksgiving marley let s play a thanksgiving game",
         "19",
         "Canada",
         "None",
         "Thu Nov 24 18:38:01 +0000 2022"
        ],
        [
         "1595849233072066560",
         "Kaitlyn Kilgour",
         "kaitlyn_kilgour",
         "happy american thanksgiving to all my american friends hope you get to spend time with loved ones",
         "733",
         "Listowel, Ont",
         "None",
         "Thu Nov 24 18:38:01 +0000 2022"
        ],
        [
         "1595849232136957952",
         "Anna H",
         "annalouise79",
         "scott_olson happy thanksgiving scott",
         "1711",
         "A town called Malice",
         "None",
         "Thu Nov 24 18:38:01 +0000 2022"
        ],
        [
         "1595849233239867392",
         "Kevin 😵‍💫",
         "kevsveryown",
         "rt famousdex happy thanksgiving y all be safe an enjoy yourself with your family",
         "1360",
         "Nashville, TN",
         "None",
         "Thu Nov 24 18:38:01 +0000 2022"
        ],
        [
         "1595849232623104000",
         "Mark Connolly",
         "MarkCon62681586",
         "cher happy thanksgiving",
         "17",
         "None",
         "None",
         "Thu Nov 24 18:38:01 +0000 2022"
        ],
        [
         "1595849233248174081",
         "Hᴇᴀᴠᴇɴʟʏ Dᴇᴍᴏɴ",
         "HimStillOvaThr",
         "rt nfl stefondiggs brought this buffalobills fan on the field to have a catch with him best thanksgiving ever bufvsdet",
         "858",
         "Louisiana",
         "None",
         "Thu Nov 24 18:38:01 +0000 2022"
        ],
        [
         "1595849233176969284",
         "JJ",
         "Johnny_dramaPA",
         "mintybets happy thanksgiving minty",
         "400",
         "Ocean City, NJ",
         "None",
         "Thu Nov 24 18:38:01 +0000 2022"
        ],
        [
         "1595849233248272384",
         "(((Tom Adams))) 💙 👇🏿⚡⚡👇🏿",
         "TomAdam42241521",
         "rt govrondesantis caseydesantis and i wish everyone a happy thanksgiving every floridian should take a moment today to give thanks for",
         "55",
         "Some Where, This Awesome PLACE",
         "None",
         "Thu Nov 24 18:38:01 +0000 2022"
        ],
        [
         "1595849232417947648",
         "Lisa",
         "Alisa661162051",
         "happy thanksgiving to all of you thanks to our parents taught me sincerity and courtesy thanks to my uncle it w",
         "28",
         "Los Angeles, USA.",
         "None",
         "Thu Nov 24 18:38:01 +0000 2022"
        ],
        [
         "1595849233520795649",
         "@Jim_Swarts",
         "JimSwarts1001",
         "rt realjameswoods happy thanksgiving",
         "21",
         "Manhattan, KS",
         "None",
         "Thu Nov 24 18:38:01 +0000 2022"
        ],
        [
         "1595849233650835460",
         "Larry Valo",
         "diggerdog99",
         "rt teampelosi as americans cherish our thanksgiving blessings and express our gratitude for one another i say to all of you thank you",
         "471",
         "None",
         "None",
         "Thu Nov 24 18:38:01 +0000 2022"
        ],
        [
         "1595849232543813632",
         "Inland Northwest Group",
         "509homes",
         "happy thanksgiving from the inland nw group we re thankful for our clients who choose us for their real estate n",
         "25",
         "Washington, USA",
         "None",
         "Thu Nov 24 18:38:01 +0000 2022"
        ],
        [
         "1595849233781125120",
         "juan summit 🫡",
         "passionfru1ty",
         "it feels amazing not waking up hungover on thanksgiving",
         "2136",
         "Austin, TX",
         "None",
         "Thu Nov 24 18:38:01 +0000 2022"
        ],
        [
         "1595849233961472000",
         "nativetweet",
         "N8TVTweet",
         "rt barstoolsports happy thanksgiving",
         "111",
         "Alberta Canada",
         "None",
         "Thu Nov 24 18:38:01 +0000 2022"
        ],
        [
         "1595849233743101953",
         "The Carolina Faithful",
         "cockyfaithful",
         "would you rather be around your high class family or low class family at thanksgiving",
         "2114",
         "South Carolina, USA",
         "None",
         "Thu Nov 24 18:38:01 +0000 2022"
        ],
        [
         "1595849232832921601",
         "GlxyVrtx",
         "GlxyVrtx",
         "happy thanksgiving to you all very thankful to all my friends you know who you are i apologize for not communica",
         "330",
         "None",
         "None",
         "Thu Nov 24 18:38:01 +0000 2022"
        ],
        [
         "1595849234045026304",
         "Ken Wilmesherr",
         "KenWilmesherr1",
         "coachdougbrady god bless you and your family happy thanksgiving coach",
         "1547",
         "None",
         "None",
         "Thu Nov 24 18:38:01 +0000 2022"
        ],
        [
         "1595849232774475776",
         "The Boulevard of Chicago",
         "blvdofchicago",
         "happy thanksgiving from all of us at the boulevard",
         "35",
         "Chicago, IL",
         "None",
         "Thu Nov 24 18:38:01 +0000 2022"
        ],
        [
         "1595849234842255360",
         "KY",
         "Freyth180",
         "rt barackobama one of my favorite white house traditions was telling thanksgiving jokes which at least i thought were funny here s a",
         "38",
         "None",
         "None",
         "Thu Nov 24 18:38:01 +0000 2022"
        ],
        [
         "1595849234665725953",
         "JoeyBK The 1st🇵🇷🇿🇦🗽",
         "JoeyD_718",
         "rt etanthomas they know kyrie irving doesn t celebrate thanksgiving and they know exactly why because he has explained his connection t",
         "112",
         "Los Angeles, CA / Brooklyn, NY",
         "None",
         "Thu Nov 24 18:38:01 +0000 2022"
        ],
        [
         "1595849234816827395",
         "Volodymyr Stefak",
         "StefakVolodymyr",
         "rt anyatrades this is what happens if you eat too much turkey please don t make the same mistake happy thanksgiving",
         "9",
         "None",
         "None",
         "Thu Nov 24 18:38:01 +0000 2022"
        ],
        [
         "1595849234774986759",
         "blump ",
         "blumpgood",
         "for thanksgiving i m thankful for bobby kevin and ofc jalen wilson",
         "6047",
         "None",
         "None",
         "Thu Nov 24 18:38:01 +0000 2022"
        ],
        [
         "1595849234959536131",
         "Aaron | Bevo",
         "soIitarydreams",
         "rt longhornnetwork what s your favorite thanksgiving tradition and why is it watching justin tucker s game winning fg against the aggies",
         "12",
         "Texas",
         "None",
         "Thu Nov 24 18:38:01 +0000 2022"
        ],
        [
         "1595849234946965509",
         "Roll 🏳️‍⚧️ 🆖",
         "numbdropbc",
         "rt _srpelo_ i was watching the mokey s thanksgiving episode and i forgot how insanely dumb it is i miss making mokey",
         "56",
         "Break City",
         "None",
         "Thu Nov 24 18:38:01 +0000 2022"
        ],
        [
         "1595849235026640896",
         "Arcturus Brandir Hawkins",
         "DeltaHawkins22",
         "saltyalyx the people of twitter knew what they wanted for thanksgiving",
         "2",
         "None",
         "None",
         "Thu Nov 24 18:38:01 +0000 2022"
        ],
        [
         "1595849235181756425",
         "joker | onlyfans is $3!!!",
         "TricxJoker",
         "rt tiffanybabe happy thanksgiving",
         "42487",
         "United Kingdom",
         "None",
         "Thu Nov 24 18:38:01 +0000 2022"
        ],
        [
         "1595849234804252672",
         "Oliveto",
         "MooreOliveto",
         "happy thanksgiving from all of us at moore oliveto mooreoliveto happythanksgiving givethanks turkeyday",
         "114",
         "Moore, OK",
         "None",
         "Thu Nov 24 18:38:01 +0000 2022"
        ],
        [
         "1595849235345379330",
         "emilie IS SEEING TAYLOR ON TOUR",
         "loveherronn",
         "rt loganhenderson wishing you a happy thanksgiving with your family friends and loved ones so damn thankful for all of youz",
         "557",
         "Frederick, MD",
         "None",
         "Thu Nov 24 18:38:01 +0000 2022"
        ],
        [
         "1595849235211386880",
         "Crawdaddy",
         "Crawdad76268324",
         "rt sak_shoes what it s a holiday happy thanksgiving everyone",
         "809",
         "Yeah nice try Stalker!",
         "None",
         "Thu Nov 24 18:38:01 +0000 2022"
        ],
        [
         "1595849235387121664",
         "Aleister Ejazi",
         "ejazi_aleister",
         "rt drspooky_er happy thanksgiving i m thankful for lots of things especially my twitter fam my wife and boys and shots of jason momoa",
         "34",
         "None",
         "None",
         "Thu Nov 24 18:38:01 +0000 2022"
        ],
        [
         "1595849234993274881",
         "HannaC",
         "HannaC40703604",
         "thanksgiving cooking vibes",
         "0",
         "USA/Canada",
         "None",
         "Thu Nov 24 18:38:01 +0000 2022"
        ],
        [
         "1595849235512975361",
         "DrrDenise",
         "DrrDenise",
         "rt bosnerdley happy thanksgiving thank you rush limbaugh for gifting america the real story of thanksgiving which had been lost to hi",
         "1577",
         "None",
         "None",
         "Thu Nov 24 18:38:01 +0000 2022"
        ],
        [
         "1595849232119906304",
         "Smash This Podcast",
         "SmashThisPod",
         "happy thanksgiving all blackfridaydeals a great time to get some stp merch save in the stp shop includ",
         "1976",
         "Wisconsin, USA",
         "None",
         "Thu Nov 24 18:38:01 +0000 2022"
        ],
        [
         "1595849235471155201",
         "cena 🧀",
         "cena_ok",
         "happy thanksgiving everyone let s all eat some good food watch football and just enjoy the day",
         "89",
         "None",
         "None",
         "Thu Nov 24 18:38:01 +0000 2022"
        ],
        [
         "1595849235781791745",
         "thailynn💄",
         "baptizedinroses",
         "rt popculture s the gossip girl thanksgiving episode where everyone got exposed while whatcha say by jason derulo is playing that s h",
         "84",
         "♓︎☼⋄♍︎☾⋄ ♋︎↑",
         "None",
         "Thu Nov 24 18:38:01 +0000 2022"
        ],
        [
         "1595849235630620674",
         "Ghayas Muhammad",
         "GhayasM73",
         "rt independent lemurs enjoy thanksgiving feast at chicago zoo",
         "1144",
         "Karachi, Pakistan",
         "None",
         "Thu Nov 24 18:38:01 +0000 2022"
        ],
        [
         "1595849235710320645",
         "Dar",
         "OnlyUtd",
         "rt davemcnamee me at thanksgiving dinner explaining to my gfs family who hasbullah is",
         "0",
         "None",
         "None",
         "Thu Nov 24 18:38:01 +0000 2022"
        ],
        [
         "1595849235769032707",
         "Angel River",
         "biomanzilla",
         "rt mrt on this thanksgiving day i am blessed grateful and thankful that s why i am so happy to be a blessing to others jesus said it",
         "45",
         "Fun City",
         "None",
         "Thu Nov 24 18:38:01 +0000 2022"
        ],
        [
         "1595849235882479618",
         "CanD",
         "Sweet_Can_D",
         "rt _srpelo_ i was watching the mokey s thanksgiving episode and i forgot how insanely dumb it is i miss making mokey",
         "256",
         "None",
         "None",
         "Thu Nov 24 18:38:01 +0000 2022"
        ],
        [
         "1595849235873808386",
         "Julie ♡",
         "toloveLfromVine",
         "rt hellokitty happy thanksgiving tag someone you re thankful for",
         "512",
         "New York, NY",
         "None",
         "Thu Nov 24 18:38:01 +0000 2022"
        ],
        [
         "1595849235853103104",
         "Mike Hampton",
         "MikeHam32590868",
         "carrolltontxpd i just want to say to all happy thanksgiving carrollton please be safe do not drink and drive",
         "12",
         "None",
         "None",
         "Thu Nov 24 18:38:01 +0000 2022"
        ],
        [
         "1595849235794219010",
         "The Wild And Wondeful World Of Jerry Glanville",
         "JasonWVanBuren",
         "baseballchickie happy thanksgiving",
         "590",
         "Cleveland, TN",
         "None",
         "Thu Nov 24 18:38:01 +0000 2022"
        ],
        [
         "1595849235991494656",
         "❄️ ThePublicAccount ❄️",
         "naegi__love",
         "rt etikamemories happy thanksgiving",
         "213",
         "they / bi",
         "None",
         "Thu Nov 24 18:38:01 +0000 2022"
        ],
        [
         "1595849235957780487",
         "penchantζ",
         "penchantzz",
         "happy thanksgiving and happy holidays everyone",
         "1351",
         "None",
         "None",
         "Thu Nov 24 18:38:01 +0000 2022"
        ],
        [
         "1595849236020695047",
         "UCHE",
         "NBA_1908",
         "rt peterobi it was an immense pleasure to personally attend bishop paulinus ezeokafor s th birthday and thanksgiving in awka po",
         "657",
         "Worldwide 🌍",
         "None",
         "Thu Nov 24 18:38:01 +0000 2022"
        ],
        [
         "1595849236175650816",
         "Petra Meyer 😺🌎🇺🇸 🇬🇧 🇩🇪 🇺🇦✝️✡️",
         "petrameyerx",
         "rpsagainsttrump pumpkin for thanksgiving apple for the rest of the year",
         "1750",
         "None",
         "None",
         "Thu Nov 24 18:38:02 +0000 2022"
        ],
        [
         "1595849235169165313",
         "Commerce Σigmas🤘🏾",
         "Commerce_Sigmas",
         "we wish everyone a happy thanksgiving pbs gomab tamuc",
         "1758",
         "Texas A&M University-Commerce",
         "None",
         "Thu Nov 24 18:38:01 +0000 2022"
        ],
        [
         "1595849236167495681",
         "Mia 🖤",
         "sincerelymiac",
         "bringing my granny home for thanksgiving grateful for her everyday",
         "96",
         "None",
         "None",
         "Thu Nov 24 18:38:02 +0000 2022"
        ],
        [
         "1595849236268158977",
         "Rational Thinker ~",
         "Rational119",
         "wonyuge yummy happy thanksgiving to you amp yours",
         "407",
         "None",
         "None",
         "Thu Nov 24 18:38:02 +0000 2022"
        ],
        [
         "1595849236033290241",
         "Kenny",
         "kenny_too_many",
         "happy thanksgiving to you and yours",
         "831",
         "Rhode Island, USA",
         "None",
         "Thu Nov 24 18:38:01 +0000 2022"
        ],
        [
         "1595849236255543297",
         "Dantheman79",
         "DannybarH1",
         "rt locolizardz happy thanksgiving to all web hbar and loco americans",
         "117",
         "None",
         "None",
         "Thu Nov 24 18:38:02 +0000 2022"
        ],
        [
         "1595849236410560513",
         "DPGDevourer",
         "butler_devante",
         "rt mercanthonytv thanksgiving this year is starting with a flight to miami i like the way this is going hyped for art basel coming u",
         "590",
         "None",
         "None",
         "Thu Nov 24 18:38:02 +0000 2022"
        ],
        [
         "1595849236381409280",
         "Alexandre F",
         "alexandre2927",
         "rt speakerpelosi from my family to yours happy thanksgiving",
         "1553",
         "Paris, France",
         "None",
         "Thu Nov 24 18:38:02 +0000 2022"
        ],
        [
         "1595849236423262208",
         "Jack Walker",
         "JackWal81682040",
         "rt coachqgray happy thanksgiving today isn t just about the food and deserts it s about giving thanks for what god has given us the abi",
         "98",
         "None",
         "None",
         "Thu Nov 24 18:38:02 +0000 2022"
        ],
        [
         "1595849236435931138",
         "Nolo",
         "Nolonra",
         "whatchagot say lol i feel ya i am cooking for thanksgiving and got side tracked with rm i am like shit how do i",
         "4",
         "None",
         "None",
         "Thu Nov 24 18:38:02 +0000 2022"
        ],
        [
         "1595849236565970945",
         "emily (cold 🍁👩‍❤️‍💋‍👩🏳️‍⚧️)",
         "sportswithem",
         "living in louisiana and being on twitter has made me more skeptical of how thanksgiving is going to go",
         "249",
         "Baton Rouge, LA",
         "None",
         "Thu Nov 24 18:38:02 +0000 2022"
        ],
        [
         "1595849236679204864",
         "pet",
         "shybear1005",
         "rt mistressmolly a thanksgiving flash",
         "1023",
         "Florida",
         "None",
         "Thu Nov 24 18:38:02 +0000 2022"
        ],
        [
         "1595849236737916928",
         "Ben Owen 🇺🇸",
         "hrkbenowen",
         "rt hrkbenowen what s your favorite pie on thanksgiving",
         "174565",
         "None",
         "None",
         "Thu Nov 24 18:38:02 +0000 2022"
        ],
        [
         "1595849236586930178",
         "cade",
         "sir_cade",
         "operation turnkey turkey was a success nd year if not cooking a thing at thanksgiving catered is the move",
         "1142",
         "Newnan, GA",
         "None",
         "Thu Nov 24 18:38:02 +0000 2022"
        ],
        [
         "1595849236914270208",
         "Blumenauer's Bowtie",
         "BlumiesBowtie",
         "happy thanksgiving i have a puppy chow with one ingredient increased just for you",
         "82",
         "None",
         "None",
         "Thu Nov 24 18:38:02 +0000 2022"
        ],
        [
         "1595849236826193920",
         "ً",
         "heartsantidote",
         "aaron tveit u will always be famous",
         "4857",
         "20 they",
         "None",
         "Thu Nov 24 18:38:02 +0000 2022"
        ],
        [
         "1595849237090082816",
         "Avirati",
         "Avirati_",
         "rt sadiabts happy thanksgiving to all i m thankful for bts for these precious men who brings comfort and such joy to my life grat",
         "32",
         "Boraland",
         "None",
         "Thu Nov 24 18:38:02 +0000 2022"
        ],
        [
         "1595849237174312960",
         "Érick d'Orion",
         "ErickDorion",
         "rt normalcomposers b la bart k chugging a beer with his family happy thanksgiving",
         "257",
         "Montréal, Québec",
         "None",
         "Thu Nov 24 18:38:02 +0000 2022"
        ],
        [
         "1595849237106925570",
         "DASEFACE 🎭",
         "backflipDase",
         "have a blessed thanksgiving everyone",
         "601",
         "SOMEWHERE",
         "None",
         "Thu Nov 24 18:38:02 +0000 2022"
        ],
        [
         "1595849237018775552",
         "francisco",
         "novafucks",
         "rt chixtape thanksgiving was a success",
         "437",
         "LA",
         "None",
         "Thu Nov 24 18:38:02 +0000 2022"
        ],
        [
         "1595849237308252161",
         "Jason Bourne CIA",
         "bourne_cia",
         "mettechr happy thanksgiving mette",
         "2789",
         "Behind you.",
         "None",
         "Thu Nov 24 18:38:02 +0000 2022"
        ],
        [
         "1595849237186678784",
         "Tibou",
         "Tibou33969029",
         "in truth massacres disease amp american indian tribal politics are what shaped the pilgrim",
         "4249",
         "None",
         "None",
         "Thu Nov 24 18:38:02 +0000 2022"
        ],
        [
         "1595849237262176256",
         "Dans Hat",
         "dans_hat",
         "rt yesimhotinthis my family personally does not celebrate thanksgiving but we do take advantage of sale turkeys and time off to get toge",
         "263",
         "None",
         "None",
         "Thu Nov 24 18:38:02 +0000 2022"
        ],
        [
         "1595849238994636800",
         "Lewd Group \\ 🟡 /",
         "lewdgr0up",
         "i m gonna be offline for a loong time because of thanksgiving so yeah",
         "117",
         "Everywhere",
         "None",
         "Thu Nov 24 18:38:02 +0000 2022"
        ],
        [
         "1595849239053348864",
         "LittleFirefly",
         "1005_Firefly",
         "rt hokukiss usaxiaozhanxfx thank you usaxiaozhanxfx happy thanksgiving to everyone so much to be grateful for especially our famil",
         "219",
         "None",
         "None",
         "Thu Nov 24 18:38:02 +0000 2022"
        ],
        [
         "1595849238986084355",
         "✨ Selenerrrs_MUA 🌒🤍",
         "omg_selenaa",
         "rt thahumorguy me on thanksgiving when my family starts asking me about my love life career and future",
         "577",
         "None",
         "None",
         "Thu Nov 24 18:38:02 +0000 2022"
        ],
        [
         "1595849239313121281",
         "Vasia 💜♌️",
         "klaxo",
         "rt kekerawasf tomorrow is thanksgiving next is christmas then a whole new year these months are really flying by i pray b",
         "68",
         "Toronto, Ontario",
         "None",
         "Thu Nov 24 18:38:02 +0000 2022"
        ],
        [
         "1595849239279566849",
         "Guerdy Jean Louis",
         "jeanlouisguerdy",
         "happy thanksgiving to all be safe and enjoy to the fullest",
         "11",
         "New York, USA",
         "None",
         "Thu Nov 24 18:38:02 +0000 2022"
        ],
        [
         "1595849239346585601",
         "Cory Michelman",
         "CoryMichelman",
         "coachdmcconnell happy thanksgiving coach",
         "216",
         "None",
         "None",
         "Thu Nov 24 18:38:02 +0000 2022"
        ],
        [
         "1595849239489564673",
         "April Shorty",
         "April_Shorty_",
         "rt deb happy thanksgiving i m thankful for philately friends from around the globe thanksgiving",
         "879",
         "USA",
         "None",
         "Thu Nov 24 18:38:02 +0000 2022"
        ],
        [
         "1595849239413792777",
         "The Smith Factor",
         "KeithSmith14590",
         "graphiteone happy thanksgiving to the graphite one team",
         "328",
         "New York, USA",
         "None",
         "Thu Nov 24 18:38:02 +0000 2022"
        ],
        [
         "1595849239220846595",
         "Jeff Is In Texas",
         "JeffIsInTexas",
         "my sisters place has directv who has blocked the local fox affiliate because negotiations so we may not be about t",
         "1135",
         "The Crap Part of Texas",
         "None",
         "Thu Nov 24 18:38:02 +0000 2022"
        ],
        [
         "1595849239325818885",
         "Richard McGee 🇺🇸🇺🇦",
         "Richard01368677",
         "rt senmarkkelly today i hope everyone is able to gather with their loved ones there are many things to be grateful for and it s a great",
         "293",
         "St Louis, MO",
         "None",
         "Thu Nov 24 18:38:02 +0000 2022"
        ],
        [
         "1595849239468425222",
         "C McTel",
         "SMctel",
         "rt travistritt happy thanksgiving i hope you all enjoy the holiday and get to spend it with family and friends",
         "448",
         "None",
         "None",
         "Thu Nov 24 18:38:02 +0000 2022"
        ],
        [
         "1595849239623774208",
         "FederviehFanatic",
         "DDietz13",
         "rt zachbraff in case this is my last post on here happy thanksgiving from my family to yours",
         "29",
         "None",
         "None",
         "Thu Nov 24 18:38:02 +0000 2022"
        ],
        [
         "1595849239011422209",
         "Stefan Hajdukovich",
         "smhajduke",
         "happy thanksgiving",
         "10",
         "None",
         "None",
         "Thu Nov 24 18:38:02 +0000 2022"
        ],
        [
         "1595849239489290246",
         "emilie IS SEEING TAYLOR ON TOUR",
         "loveherronn",
         "rt ebenofficial happy thanksgiving everyone can t explain how thankful i am for all of you and the blessings you ve added to my life",
         "557",
         "Frederick, MD",
         "None",
         "Thu Nov 24 18:38:02 +0000 2022"
        ],
        [
         "1595849239019814913",
         "Ethan",
         "EthanSVG",
         "susannahoffs happy thanksgiving to you and your family",
         "1232",
         "None",
         "None",
         "Thu Nov 24 18:38:02 +0000 2022"
        ],
        [
         "1595849239657070593",
         "Sanders Ekanepi",
         "ekanepi",
         "lynn have an absolutely wonderful and happy thanksgiving",
         "79",
         "None",
         "None",
         "Thu Nov 24 18:38:02 +0000 2022"
        ],
        [
         "1595849239707504641",
         "Raymonde",
         "RaymondeWinkle3",
         "rt militarycooi happy thanksgiving to all who serve we are grateful for all that you do",
         "220",
         "None",
         "None",
         "Thu Nov 24 18:38:02 +0000 2022"
        ],
        [
         "1595849239854202882",
         "DrVegapunk.eth (💙,🧡) |Gladiator XVIII ∞",
         "sotirakisoeo",
         "rt buddabearsnft happy thanksgiving to all the budda ful bears who celebrate turkey day get that extra plate ready make sure there s",
         "905",
         "None",
         "None",
         "Thu Nov 24 18:38:02 +0000 2022"
        ],
        [
         "1595849239849947136",
         "Mary 💙",
         "SweetMaryBecky",
         "rt joncoopertweets what s your favorite thanksgiving pie",
         "8602",
         "None",
         "None",
         "Thu Nov 24 18:38:02 +0000 2022"
        ],
        [
         "1595849239766106117",
         "🇺🇸❤️Follow back Patriots ✨💙🇺🇸🗽",
         "MakeupByOne",
         "these are the states where thanksgiving dinner will be most and least expensive this year",
         "3374",
         "USA",
         "None",
         "Thu Nov 24 18:38:02 +0000 2022"
        ],
        [
         "1595849239829020672",
         "DeeD",
         "Doree1414",
         "rt antman i can t wait till friday so i can read all the tweets from liberals who had a meltdown over celebrating thanksgiving",
         "181",
         "None",
         "None",
         "Thu Nov 24 18:38:02 +0000 2022"
        ],
        [
         "1595849240085172224",
         "natalie smith",
         "smogger1",
         "rt officialjaskoyt happy thanksgiving i m thankful for this amazing community and all the times we ve spent together thank you for a",
         "100",
         "Liverpool",
         "None",
         "Thu Nov 24 18:38:02 +0000 2022"
        ],
        [
         "1595849240126816256",
         "Rabu Alejandro",
         "OliverReino",
         "rt rauwalejandro happy thanksgiving hombre del a o with gqmexico gqmagazine",
         "7403",
         "Barcelona, España",
         "None",
         "Thu Nov 24 18:38:02 +0000 2022"
        ],
        [
         "1595849240298881024",
         "Cryptodifra",
         "ikoflank89",
         "rt naten thankful to be in kas and chng on this thanksgiving",
         "69",
         "None",
         "None",
         "Thu Nov 24 18:38:02 +0000 2022"
        ],
        [
         "1595849240261050370",
         "Yung Reznov.",
         "Its_gio25",
         "rt madflavor happy thanksgiving you savages much love to your families",
         "1189",
         "Houston, TX",
         "None",
         "Thu Nov 24 18:38:02 +0000 2022"
        ],
        [
         "1595849240378773504",
         "Nickster48",
         "Nickster482",
         "rt thewatchful ne may not be a full thanksgiving feast but still its has turkey lol a nice turkey and briee sandwich with some baked pot",
         "1020",
         "Edmonton, Alberta",
         "None",
         "Thu Nov 24 18:38:03 +0000 2022"
        ],
        [
         "1595849240214994944",
         "Raquel Garcia",
         "RaquelGarcia182",
         "thank you happy thanksgiving blessings to you and your beautiful family",
         "237",
         "None",
         "None",
         "Thu Nov 24 18:38:02 +0000 2022"
        ],
        [
         "1595849240453971976",
         "TOPDROPS",
         "nbatopdrops",
         "rt nflallday happy thanksgiving from all of us at nflallday icymi we re giving you a chance to win signed footballs from rsherma",
         "1658",
         "None",
         "None",
         "Thu Nov 24 18:38:03 +0000 2022"
        ],
        [
         "1595849240596684803",
         "Destiny",
         "_destriv",
         "lmfao working on thanksgiving is giving me lonely vibes this is so stupid",
         "941",
         "Massachusetts, USA",
         "None",
         "Thu Nov 24 18:38:03 +0000 2022"
        ],
        [
         "1595849240659791872",
         "Brenda Schein🦖",
         "Brenda_Schein",
         "rt malachaisfate in honor of thanksgiving i m bringing this iconic mon el scene back onto your timelines",
         "90",
         "Gramado, Brasil",
         "None",
         "Thu Nov 24 18:38:03 +0000 2022"
        ],
        [
         "1595849240861085696",
         "Scream of The Butterfly",
         "odetomedusa",
         "rt yyyetii odetomedusa still needing help if you can spare anything today especially if you have the means to help please do this is",
         "14252",
         "through the emptiness",
         "None",
         "Thu Nov 24 18:38:03 +0000 2022"
        ],
        [
         "1595849240848338952",
         "c",
         "iloveyouxoxs",
         "rt popculture s the gossip girl thanksgiving episode where everyone got exposed while whatcha say by jason derulo is playing that s h",
         "339",
         "✈️",
         "None",
         "Thu Nov 24 18:38:03 +0000 2022"
        ],
        [
         "1595849240886099968",
         "Ed Garcia V.",
         "EdVvr99",
         "rt vp from our family to yours happy thanksgiving",
         "10",
         "None",
         "None",
         "Thu Nov 24 18:38:03 +0000 2022"
        ],
        [
         "1595849240944812034",
         "Epiphany 👩‍🚀",
         "Epiphan97646595",
         "katchtaebear happy thanksgiving",
         "227",
         "None",
         "None",
         "Thu Nov 24 18:38:03 +0000 2022"
        ],
        [
         "1595849241142128641",
         "Mr Miyagi",
         "WhoDatMiyagi",
         "itslyonking happy thanksgiving brotha enjoy the refuel day",
         "1472",
         "Cardboard Box",
         "None",
         "Thu Nov 24 18:38:03 +0000 2022"
        ],
        [
         "1595849241011920896",
         "ghost of arden",
         "ardenossium",
         "charliejuststop pulling out the envy video essay at the thanksgiving table",
         "785",
         "@edenseraphim",
         "None",
         "Thu Nov 24 18:38:03 +0000 2022"
        ],
        [
         "1595849239577460736",
         "OpTic Lunchbox",
         "Lunchbox",
         "happy thanksgiving everyone this year im thankful for my family friends and the greenwall and for thanksgivi",
         "49896",
         "Illinois",
         "None",
         "Thu Nov 24 18:38:02 +0000 2022"
        ],
        [
         "1595849240127082496",
         "Steve Sullivan",
         "sully7777",
         "old is tackling thanksgiving like it s baz and ranchino are in columbia hog reports at pm and pm on",
         "37419",
         "arkansas",
         "None",
         "Thu Nov 24 18:38:02 +0000 2022"
        ],
        [
         "1595849241288933376",
         "David Swiss",
         "DSwizzleDude",
         "rt stevenbeschloss i am grateful for all the good people here the caring people the people who yearn to make the world a better place",
         "11",
         "None",
         "None",
         "Thu Nov 24 18:38:03 +0000 2022"
        ],
        [
         "1595849240428814339",
         "AllanD",
         "PapaAtsuover",
         "life can be so tough but there s always something to be thankful for happy thanksgiving everyone",
         "6218",
         "None",
         "None",
         "Thu Nov 24 18:38:03 +0000 2022"
        ],
        [
         "1595849241129373696",
         "🎀 ULTINEET 🔜 Install 2022",
         "ultineet",
         "happy thanksgiving to all my moots who celebrate it yay",
         "6570",
         "Finland",
         "None",
         "Thu Nov 24 18:38:03 +0000 2022"
        ],
        [
         "1595849241225748480",
         "jess",
         "jessahjoestar",
         "rt pokemon what we re thankful for eevee pikachu and you hope you enjoyed the macys thanksgiving day parade trainers macy",
         "2",
         "None",
         "None",
         "Thu Nov 24 18:38:03 +0000 2022"
        ],
        [
         "1595849241183899648",
         "William Ceballos",
         "William33619200",
         "wonderful actress",
         "2519",
         "None",
         "None",
         "Thu Nov 24 18:38:03 +0000 2022"
        ],
        [
         "1595849240831459328",
         "Beth S.",
         "ilovemygirls04",
         "therealeveplumb happy thanksgiving to you and your family",
         "978",
         "Michigan, USA",
         "None",
         "Thu Nov 24 18:38:03 +0000 2022"
        ],
        [
         "1595849241431543808",
         "'Docta D' Daryl Johnson",
         "ThaRealDoctaD",
         "rt aewliquid happy thanksgiving to all my amazing peeps i m so thankful that everything that has happened this year so many changes and",
         "903",
         "Maryland, USA",
         "None",
         "Thu Nov 24 18:38:03 +0000 2022"
        ],
        [
         "1595849241288736772",
         "Kiernan McClelland",
         "canuckonaut",
         "happy thursday to all the space policy wonks down south",
         "95",
         "Ottawa, Canada",
         "None",
         "Thu Nov 24 18:38:03 +0000 2022"
        ],
        [
         "1595849241527783431",
         "CameronF305",
         "CameronF305",
         "thankful for you all thankful to be alive happy thanksgiving everyone",
         "495",
         "www.cameronf305.com",
         "None",
         "Thu Nov 24 18:38:03 +0000 2022"
        ],
        [
         "1595849241271975941",
         "Auroner",
         "Usuario83426382",
         "rt brfootball thanksgiving day switzerland vs cameroon uruguay vs south korea portugal vs ghana brazil vs serbia let s eat",
         "8",
         "None",
         "None",
         "Thu Nov 24 18:38:03 +0000 2022"
        ],
        [
         "1595849241590730753",
         "Hottakes",
         "hottakesmitch",
         "trying to ruin my thanksgiving at",
         "27",
         "None",
         "None",
         "Thu Nov 24 18:38:03 +0000 2022"
        ],
        [
         "1595849241662033920",
         "أبورؤس عبدالكاشف 🇯🇴🇰🇼🇶🇦🇸🇦🇾🇪🇦🇪🇧🇭🇴🇲",
         "Aburooslibya",
         "rt tesla happy thanksgiving thanks to the tesla team owners and fans for helping us accelerate the world s transition to sustainable",
         "1163",
         "Murree, Pakistan  🇵🇰",
         "None",
         "Thu Nov 24 18:38:03 +0000 2022"
        ],
        [
         "1595849243259985922",
         "Democracy, not fascism.",
         "thecitizeNY",
         "rt dashdobrofsky only in america does tucker carlson get to celebrate thanksgiving in his mansion after he spent the last year hawking me",
         "3830",
         "New York City",
         "None",
         "Thu Nov 24 18:38:03 +0000 2022"
        ],
        [
         "1595849243121668096",
         "Mos",
         "mosballin",
         "still streaming come say happy thanksgiving",
         "24519",
         "Cairo, Egypt",
         "None",
         "Thu Nov 24 18:38:03 +0000 2022"
        ],
        [
         "1595849243306196995",
         "KPÒMO MARKET.",
         "KpomoM",
         "rt peterobi it was an immense pleasure to personally attend bishop paulinus ezeokafor s th birthday and thanksgiving in awka po",
         "721",
         "None",
         "None",
         "Thu Nov 24 18:38:03 +0000 2022"
        ],
        [
         "1595849243356696576",
         "Robyn Bean",
         "robynlbn",
         "laurenboebert you are out in so that brings me the most happiness of all on this day of thanksgiving",
         "208",
         "Portland, Oregon",
         "None",
         "Thu Nov 24 18:38:03 +0000 2022"
        ],
        [
         "1595849242538840066",
         "Notneeow",
         "jeffreywebb1221",
         "karmenkiiz happy thanksgiving karmen glad to have you as a friend",
         "477",
         "Bourbon Co., KY",
         "None",
         "Thu Nov 24 18:38:03 +0000 2022"
        ],
        [
         "1595849243289427971",
         "Scott Goode",
         "ScottGo69899995",
         "rt txtoezz happy thanksgiving thankful for all of you",
         "654",
         "None",
         "None",
         "Thu Nov 24 18:38:03 +0000 2022"
        ],
        [
         "1595849243432030208",
         "adélaïde motte",
         "adelaidemotte15",
         "lots to be grateful for this year happy thanksgiving to all",
         "18",
         "mamaroneck NY",
         "None",
         "Thu Nov 24 18:38:03 +0000 2022"
        ],
        [
         "1595849243558023168",
         "Kristina Katzen",
         "ktawakatzen",
         "claudialily happy thanksgiving",
         "922",
         "Washington, USA",
         "None",
         "Thu Nov 24 18:38:03 +0000 2022"
        ],
        [
         "1595849243339669507",
         "DSpazz",
         "DevinSpann",
         "rt x_hems happy turkey day everyone please enjoy the following senior byufootball players as thanksgiving dishes a thread",
         "666",
         "Utah",
         "None",
         "Thu Nov 24 18:38:03 +0000 2022"
        ],
        [
         "1595849243545190400",
         "OLEИA🍭",
         "01olena_",
         "rt rauwalejandro happy thanksgiving hombre del a o with gqmexico gqmagazine",
         "480",
         "None",
         "None",
         "Thu Nov 24 18:38:03 +0000 2022"
        ],
        [
         "1595849243666825217",
         "WAGMI Bot",
         "bbugs_WAGMI_bot",
         "rt rxzeberry gm happy thanksgiving really glad to be here and to have met so many amazing people in the space let s be sure to help",
         "220",
         "None",
         "None",
         "Thu Nov 24 18:38:03 +0000 2022"
        ],
        [
         "1595849243557859328",
         "Jubei95",
         "Jubei9595",
         "kimmumewtv happy thanksgiving kimmie",
         "11",
         "None",
         "None",
         "Thu Nov 24 18:38:03 +0000 2022"
        ],
        [
         "1595849243713044484",
         "mau",
         "mgarciaxd",
         "rt themuppets from our family to yours wishing you a happy thanksgiving with bellies full of food homes full of friends and family and",
         "380",
         "San Antonio, TX",
         "None",
         "Thu Nov 24 18:38:03 +0000 2022"
        ],
        [
         "1595849243713060865",
         "🕸",
         "isaiahweb_",
         "rt xxxtentacion for those of you that get to spend this thanksgiving with your family or friends appreciate them while you can life onl",
         "144",
         "dtx",
         "None",
         "Thu Nov 24 18:38:03 +0000 2022"
        ],
        [
         "1595849243771949056",
         "cat caterson",
         "2tweetnot2tweet",
         "generalbrnovich it s not a good thanksgiving for all those in arizona that had their votes lost i m guessing t",
         "11",
         "None",
         "None",
         "Thu Nov 24 18:38:03 +0000 2022"
        ],
        [
         "1595849244036022273",
         "ℓαу 🍁",
         "geezlais",
         "a hallmark classic",
         "2602",
         "All Up In Your Mind",
         "None",
         "Thu Nov 24 18:38:03 +0000 2022"
        ],
        [
         "1595849244136640512",
         "𝒮𝒾𝓁𝓁𝓎 ℬ𝒾𝓁𝓁𝓎",
         "sunflowersluut",
         "rt sunflowersluut mamamelonz happy thanksgiving from my tiddies",
         "2706",
         "Far Far Away",
         "None",
         "Thu Nov 24 18:38:03 +0000 2022"
        ],
        [
         "1595849244010758147",
         "Bishop Chatard Trojan Horse",
         "BCHSTrojanHorse",
         "let s go trojans only more days until the state championships trojanfamily trojanpride letsgo letsride",
         "134",
         "Indianapolis, IN",
         "None",
         "Thu Nov 24 18:38:03 +0000 2022"
        ],
        [
         "1595849244224913409",
         "MallocTpoc",
         "MallocTpoc",
         "ksorbs thank you happy thanksgiving to you too",
         "10",
         "Florida, USA",
         "None",
         "Thu Nov 24 18:38:03 +0000 2022"
        ],
        [
         "1595849243243253764",
         "☁️🫧Tara🫧☁️",
         "XLittleTeaX",
         "happy thanksgiving from my puppy babies olive and pickles",
         "1101",
         "She/her",
         "None",
         "Thu Nov 24 18:38:03 +0000 2022"
        ],
        [
         "1595849244241526786",
         "jakob",
         "saltyspruce",
         "telephone wire is a thanksgiving song",
         "442",
         "he/him | 23",
         "None",
         "Thu Nov 24 18:38:03 +0000 2022"
        ],
        [
         "1595849244467830784",
         "Alex Leong",
         "AlexFunko1982",
         "rt originalfunko happy thanksgiving what are you thankful for today funko thanksgiving",
         "155",
         "Singapore",
         "None",
         "Thu Nov 24 18:38:03 +0000 2022"
        ],
        [
         "1595849243457355776",
         "𝔽𝕠𝕣𝕥𝕚𝕤𝕤𝕚𝕞𝕠𝕟𝕒",
         "Fortissimona",
         "happy thanksgiving from my first wedgewaddle roc",
         "1103",
         "Rochester, NY",
         "None",
         "Thu Nov 24 18:38:03 +0000 2022"
        ],
        [
         "1595849244568682497",
         "USAMom",
         "KerriAr23197523",
         "rt drsimonegold i am thankful to be living in a constitutional republic may god bless america on this thanksgiving day",
         "27",
         "Florida, USA",
         "None",
         "Thu Nov 24 18:38:04 +0000 2022"
        ],
        [
         "1595849244560490496",
         "Megan Bottazzi",
         "BottazziMegan",
         "omg ghost face is ready for pie thanksgiving ghostface pumpkinpie readyforthanksgiving loveit",
         "10",
         "None",
         "None",
         "Thu Nov 24 18:38:04 +0000 2022"
        ],
        [
         "1595849244702920705",
         "٩٨٤.eth | greendiamond.eth",
         "ARIKEBULART",
         "rt ministerofnfts sbf stole over a billion dollars from over a million people and is still able to celebrate thanksgiving with his family",
         "1861",
         "EARTH",
         "None",
         "Thu Nov 24 18:38:04 +0000 2022"
        ],
        [
         "1595849244694704129",
         "2/10 🤘🏽💙❕",
         "dee__ski",
         "they put that in there",
         "941",
         "Cleveland, OH",
         "None",
         "Thu Nov 24 18:38:04 +0000 2022"
        ],
        [
         "1595849244837044225",
         "The Tupelo Flash",
         "The_TupeloFlash",
         "iambarninghard ur kinda of cute too for a scumbag happy thanksgiving",
         "274",
         "None",
         "None",
         "Thu Nov 24 18:38:04 +0000 2022"
        ],
        [
         "1595849244790906886",
         "Bizzi",
         "bizzimomma2",
         "rt cary_elwes have a blessed thanksgiving this holiday please consider giving generously to these non profits who help native americans",
         "2320",
         "Detroit, Michigan",
         "None",
         "Thu Nov 24 18:38:04 +0000 2022"
        ],
        [
         "1595849244996505601",
         "Mrandell (💙,🧡)",
         "Mrandell7",
         "rt layer xyz what are you grateful for this thanksgiving let us know below show your gratitude in our holiday quest and mint a speci",
         "91",
         "None",
         "None",
         "Thu Nov 24 18:38:04 +0000 2022"
        ],
        [
         "1595849244723875840",
         "democrat no more 🍊",
         "WalkFromDems",
         "pnjaban happy thanksgiving",
         "4582",
         "USA",
         "None",
         "Thu Nov 24 18:38:04 +0000 2022"
        ],
        [
         "1595849245403537408",
         "CaramelMochaFrappé",
         "____uhhh__Kyra",
         "cooking thanksgiving dinner is hard i just worked a hour shift",
         "779",
         "Maryland, USA",
         "None",
         "Thu Nov 24 18:38:04 +0000 2022"
        ],
        [
         "1595849244292026368",
         "molly graham",
         "MGraham340",
         "happy thanksgiving cant wait to eat all of the delicious stuffing",
         "490",
         "Bethel, AK",
         "None",
         "Thu Nov 24 18:38:03 +0000 2022"
        ],
        [
         "1595849245168377859",
         "🌵☀️⚫️🔺🟡⚪️☀️🌵",
         "DangerBonesA",
         "ejeancarroll fritsv happy thanksgiving",
         "5049",
         "Phoenix, AZ",
         "None",
         "Thu Nov 24 18:38:04 +0000 2022"
        ],
        [
         "1595849245394886656",
         "harlz",
         "harlzautry",
         "showed up to thanksgiving so high that i m a cartoon character",
         "153",
         "Hate city",
         "None",
         "Thu Nov 24 18:38:04 +0000 2022"
        ],
        [
         "1595849245411938304",
         "🌿Nikki B✨AMELIA DAY💙💋",
         "mrs_sniper9904",
         "rt cary_elwes have a blessed thanksgiving this holiday please consider giving generously to these non profits who help native americans",
         "611",
         "28 : minors dni",
         "None",
         "Thu Nov 24 18:38:04 +0000 2022"
        ],
        [
         "1595849245352935427",
         "Steph Strad Justify Arro Jack C Melvie Mary Baaeed",
         "stephqjustified",
         "browch happy thanksgiving",
         "892",
         "Lexington, KY",
         "None",
         "Thu Nov 24 18:38:04 +0000 2022"
        ],
        [
         "1595849245353025543",
         "Lena Caruso #Hanian",
         "montanaisthebes",
         "rt paultx just saw the coca cola thanksgiving commercial and had to step outside so the family couldn t see me cry well done coca co",
         "9300",
         "None",
         "None",
         "Thu Nov 24 18:38:04 +0000 2022"
        ],
        [
         "1595849245566722048",
         "nftschangedme",
         "dloading25_8",
         "rt weedthotss me high asf at thanksgiving dinner tryna act normal around my family",
         "259",
         "None",
         "None",
         "Thu Nov 24 18:38:04 +0000 2022"
        ],
        [
         "1595849245898072065",
         "Neilson Argueta",
         "argueta_neilson",
         "rt barackobama wishing everyone a happy thanksgiving as we celebrate let s give thanks for all the blessings in our lives and give back",
         "39",
         "None",
         "None",
         "Thu Nov 24 18:38:04 +0000 2022"
        ],
        [
         "1595849245797584896",
         "🔞Saveydro🔞",
         "SaveydroMDP",
         "rt saveydromdp this is the thanksgiving liberals want",
         "781",
         "USA",
         "None",
         "Thu Nov 24 18:38:04 +0000 2022"
        ],
        [
         "1595849245961388032",
         "hair eater",
         "schizoidfujo",
         "rt hyponogomy cookin up for thanksgiving",
         "612",
         "19 any/all prns name is gee",
         "None",
         "Thu Nov 24 18:38:04 +0000 2022"
        ],
        [
         "1595849245902442498",
         "B",
         "hoohg_",
         "rt weedthotss me high asf at thanksgiving dinner tryna act normal around my family",
         "133",
         "The 305",
         "None",
         "Thu Nov 24 18:38:04 +0000 2022"
        ],
        [
         "1595849245973565441",
         "The Silent Hill Collector",
         "SH_Collection82",
         "rt chemi_ro happy thanksgiving guys",
         "6076",
         "Silent Hill",
         "None",
         "Thu Nov 24 18:38:04 +0000 2022"
        ],
        [
         "1595849246003331073",
         "Mello🌑",
         "Mellolilo__",
         "rt cowboycats happy thanksgiving",
         "297",
         "👁",
         "None",
         "Thu Nov 24 18:38:04 +0000 2022"
        ],
        [
         "1595849246150135808",
         "Sun Tzu",
         "GG_SunTzu",
         "rt drdisrespect happy thanksgiving champs i pitched am to elon this morning while flying on my private jet i ll keep you updated",
         "610",
         "None",
         "None",
         "Thu Nov 24 18:38:04 +0000 2022"
        ],
        [
         "1595849246086938630",
         "Lex",
         "Lex_Talley",
         "thank god i m free this year to spend this time with my family last year i was eating ramen for thanksgiving dinn",
         "633",
         "My world",
         "None",
         "Thu Nov 24 18:38:04 +0000 2022"
        ],
        [
         "1595849246258991109",
         "🔞🇨🇵 DJ MARTIN's 🇨🇵🔞",
         "DJPewwe82",
         "rt damien_x_ this thanksgiving i m thankful for all these sexy men making my trip to brazil so incredibly special",
         "310",
         "Midi-Pyrénées, France",
         "None",
         "Thu Nov 24 18:38:04 +0000 2022"
        ],
        [
         "1595849246070407168",
         "WCSPropertySolutions",
         "WCSPropertySoln",
         "here s a short message from our ceo maurice sims for thanksgiving day happy thanksgiving day to everybody from wc",
         "32",
         "Colorado, USA",
         "None",
         "Thu Nov 24 18:38:04 +0000 2022"
        ],
        [
         "1595849246082830340",
         "Ruth",
         "RecRuth",
         "rt caslernoel imagine being the richest man in the world and spending your day trying to f ck with people on twitter because you think it",
         "399",
         "None",
         "None",
         "Thu Nov 24 18:38:04 +0000 2022"
        ],
        [
         "1595849247362289664",
         "Yung Tunechi",
         "YungTunechiYT",
         "rt lj_era happy thanksgiving to everyone and their love ones btw",
         "294",
         "Tennessee, USA",
         "None",
         "Thu Nov 24 18:38:04 +0000 2022"
        ],
        [
         "1595849247332737028",
         "Diosdado Pasamonte",
         "dpasamonte",
         "ampbcrp happy thanksgiving",
         "1366",
         "San Antonio, TX",
         "None",
         "Thu Nov 24 18:38:04 +0000 2022"
        ],
        [
         "1595849247433302018",
         "mr non fungible",
         "mrnonplungable",
         "primpker happy thanksgiving",
         "818",
         "Dont understand the question",
         "None",
         "Thu Nov 24 18:38:04 +0000 2022"
        ],
        [
         "1595849247554826240",
         "paolaxyvette",
         "paolaxyvette",
         "rt thahumorguy me on thanksgiving when my family starts asking me about my love life career and future",
         "16",
         "Valley center, CA",
         "None",
         "Thu Nov 24 18:38:04 +0000 2022"
        ],
        [
         "1595849247592783877",
         "“The Buns Of Steel” J Fowler",
         "JBuns31",
         "buns fact the buns does not celebrate thanksgiving",
         "924",
         "The Steel Factory",
         "None",
         "Thu Nov 24 18:38:04 +0000 2022"
        ],
        [
         "1595849247714381826",
         "Donnie 👑",
         "ThereIsNoTop",
         "rt basedlinkie happy thanksgiving to the whole apepe fam enjoy your time with those you love rareapepeyc rayc zayc thanksgiving r",
         "4114",
         "Pond",
         "None",
         "Thu Nov 24 18:38:04 +0000 2022"
        ],
        [
         "1595849247890591746",
         "Denise Kitzen",
         "DeniseKitzen",
         "halleberry happy thanksgiving",
         "42",
         "None",
         "None",
         "Thu Nov 24 18:38:04 +0000 2022"
        ],
        [
         "1595849248142393344",
         "Nick Perbix for MVP (7-5-1)",
         "Starstruck9186",
         "rt inside_the_rink nhl jersey giveaway alert this thanksgiving we re so thankful we re going to give one of you something for free an",
         "345",
         "Florida, USA",
         "None",
         "Thu Nov 24 18:38:04 +0000 2022"
        ],
        [
         "1595849245445300227",
         "Whitney",
         "Wwhitneyterrell",
         "macys thanksgiving day parade",
         "0",
         "None",
         "None",
         "Thu Nov 24 18:38:04 +0000 2022"
        ],
        [
         "1595849248171782144",
         "zoe 🦋",
         "seaofstone",
         "rt samueldeats happy thanksgiving may your wall turkey be juicy and recover your health castlevania",
         "65",
         "🇵🇭",
         "None",
         "Thu Nov 24 18:38:04 +0000 2022"
        ],
        [
         "1595849247618134016",
         "Sage 👩‍🍳• (fan acct)",
         "chahun_nfia",
         "happy thanksgiving if you celebrate it in any way eat good foods and remember the day lt",
         "44",
         "None",
         "None",
         "Thu Nov 24 18:38:04 +0000 2022"
        ],
        [
         "1595849248335171586",
         "Tianna⚰🦇🐈‍⬛",
         "Skellingbones",
         "rt themuppets from our family to yours wishing you a happy thanksgiving with bellies full of food homes full of friends and family and",
         "17",
         "None",
         "None",
         "Thu Nov 24 18:38:04 +0000 2022"
        ],
        [
         "1595849248536502275",
         "Rocio Miranda 🌻🇺🇦",
         "rocmir1",
         "rt nytimes the story of the first thanksgiving as most americans have been taught is not exactly accurate",
         "1279",
         "None",
         "None",
         "Thu Nov 24 18:38:04 +0000 2022"
        ],
        [
         "1595849248670908417",
         "Anime Day",
         "AnimeDay10",
         "rt zolafullmovie watch detroit lions vs buffalo bills live stream tv channel online footballnfllive lions vs bill",
         "1",
         "None",
         "None",
         "Thu Nov 24 18:38:04 +0000 2022"
        ],
        [
         "1595849248654127105",
         "Danielle Blocks Bigots",
         "DanielleGembala",
         "rt nkjemisin kindle daily deal for thanksgiving",
         "1680",
         "None",
         "None",
         "Thu Nov 24 18:38:04 +0000 2022"
        ],
        [
         "1595849248737673216",
         "Zhavia (they/them)",
         "CXRPSE_BXNNY",
         "witchybeez thanksgiving miracle wooooottttt",
         "85",
         "None",
         "None",
         "Thu Nov 24 18:38:05 +0000 2022"
        ],
        [
         "1595849248024977408",
         "SwaglessT-Boy🐀",
         "das_uberchicken",
         "happy thanksgiving more like happy thanks taking be sure to stuff your bottoms okay boys",
         "236",
         "Los Angeles, CA",
         "None",
         "Thu Nov 24 18:38:04 +0000 2022"
        ],
        [
         "1595849248863551491",
         "Zey",
         "ZeTeamZ",
         "rt ace laura_ mil_vet wenmama kjeffpalmer lauria patrioteddv flight faith petriot delictum jagsg ps",
         "7388",
         "None",
         "None",
         "Thu Nov 24 18:38:05 +0000 2022"
        ],
        [
         "1595849248943538176",
         "Faby d'Isigny",
         "faby71",
         "rt bunnycartoons happy thanksgiving thanksgiving turkey cartoon comic gaycartoon humour artist",
         "372",
         "Strasbourg",
         "None",
         "Thu Nov 24 18:38:05 +0000 2022"
        ],
        [
         "1595849248863559680",
         "jack brancatelli 🐀",
         "jackbranca",
         "rt barackobama one of my favorite white house traditions was telling thanksgiving jokes which at least i thought were funny here s a",
         "1911",
         "butthole of the world",
         "None",
         "Thu Nov 24 18:38:05 +0000 2022"
        ],
        [
         "1595849248947724288",
         "@heatherhoney18",
         "Heather39977321",
         "dawnpieper happy thanksgiving",
         "615",
         "Gorham, ME",
         "None",
         "Thu Nov 24 18:38:05 +0000 2022"
        ],
        [
         "1595849248674746374",
         "Fox Trending",
         "foxtrendingcom",
         "turkey giveaway today near me free food thanksgiving dinner handed out on south side of chicago in dixmoor",
         "10",
         "LA, California",
         "None",
         "Thu Nov 24 18:38:04 +0000 2022"
        ],
        [
         "1595849248947720192",
         "NJ🎒",
         "NickJohnson_100",
         "rt ballislife kyrie i don t particularly celebrate thanksgiving but anybody getting together with their families blessings to all you",
         "426",
         "Chipotle📍",
         "None",
         "Thu Nov 24 18:38:05 +0000 2022"
        ],
        [
         "1595849248884621312",
         "lea",
         "nenezuku",
         "happy thanksgiving",
         "281",
         "they",
         "None",
         "Thu Nov 24 18:38:05 +0000 2022"
        ],
        [
         "1595849248322584578",
         "ander",
         "andrmillr",
         "happy thanksgiving i am thankful for myself",
         "91",
         "liv.t",
         "None",
         "Thu Nov 24 18:38:04 +0000 2022"
        ],
        [
         "1595849248922341376",
         "Broadway Joe",
         "Joe_Martin13",
         "rt kendrickperkins just knocked down my first thanksgiving plate got about more to go don t judge me and carry the hell on",
         "1489",
         "New Jersey Nets",
         "None",
         "Thu Nov 24 18:38:05 +0000 2022"
        ],
        [
         "1595849249027235842",
         "Kenya Robinson (Lana Reign's Bestest Minion)",
         "KenyaTheMinion",
         "rt neilbelieves the godfather there s nothing like watching my favorite family movie on thanksgiving",
         "133",
         "North Carolina, USA",
         "None",
         "Thu Nov 24 18:38:05 +0000 2022"
        ],
        [
         "1595849248993583104",
         "Willie 🇺🇸",
         "LivingWillie",
         "rt alfranken me and the grandkids and our annual thanksgiving screening of judgement at nuremberg",
         "25164",
         "Nashville, TN",
         "None",
         "Thu Nov 24 18:38:05 +0000 2022"
        ],
        [
         "1595849249027137540",
         "Heretic King",
         "HereticKGaming",
         "i hope you all have a happy thanksgiving and i will see you all tomorrow",
         "588",
         "None",
         "None",
         "Thu Nov 24 18:38:05 +0000 2022"
        ],
        [
         "1595849248997711872",
         "mr. not okay",
         "sh_tasin",
         "rt makeemsayuuuuh feels like thanksgiving because that s some amazing stuffing alexistaex",
         "19",
         "Bangladesh",
         "None",
         "Thu Nov 24 18:38:05 +0000 2022"
        ],
        [
         "1595849249111298048",
         "Renae Adams",
         "RenaeAd69310486",
         "rt shirlm happy thanksgiving leo terrell and yes the greatest country on earth for sure i m proud to call myself an ame",
         "605",
         "None",
         "None",
         "Thu Nov 24 18:38:05 +0000 2022"
        ],
        [
         "1595849249287462916",
         "ScottyMcShotty",
         "ScottyMcShotty",
         "rt scott_malin lucia celebrates thanksgiving",
         "230",
         "None",
         "None",
         "Thu Nov 24 18:38:05 +0000 2022"
        ],
        [
         "1595849248918175747",
         "variableoning",
         "Brady33696389",
         "happy thanksgiving everyone i m thankful for all my twitter mutuals heh and my playstation",
         "6",
         "Popeyes",
         "None",
         "Thu Nov 24 18:38:05 +0000 2022"
        ],
        [
         "1595849249383747584",
         "Wellington Pereira Pereira",
         "Welling53905808",
         "rt badmillyoniaa happy thanksgiving come eat",
         "9",
         "None",
         "None",
         "Thu Nov 24 18:38:05 +0000 2022"
        ],
        [
         "1595849249266204674",
         "Lisa Bowden",
         "LisaBow09179485",
         "blackvaultcom dod_aaro thank u john happy thanksgiving",
         "1358",
         "None",
         "None",
         "Thu Nov 24 18:38:05 +0000 2022"
        ],
        [
         "1595849249350090755",
         "Smyles",
         "duke_smyles",
         "rt weedthotss me high asf at thanksgiving dinner tryna act normal around my family",
         "2177",
         "South Coast",
         "None",
         "Thu Nov 24 18:38:05 +0000 2022"
        ],
        [
         "1595849249509580801",
         "Natsumi 💪🏼",
         "TheHomeRunWoman",
         "rt samueldeats happy thanksgiving may your wall turkey be juicy and recover your health castlevania",
         "55",
         "Sumida-ku, Tokyo",
         "None",
         "Thu Nov 24 18:38:05 +0000 2022"
        ],
        [
         "1595849249484591104",
         "ILOVEMYBOYFRIENDDD",
         "ilyilyilyc",
         "omg i want to have a little thanksgiving with just us two and then we make a bunch of tiny dishes bc its just for us d",
         "0",
         "None",
         "None",
         "Thu Nov 24 18:38:05 +0000 2022"
        ],
        [
         "1595849249635569664",
         "Rita_0314",
         "Sato_2001_",
         "rt alban_knox happy thanksgiving",
         "15",
         "台灣",
         "None",
         "Thu Nov 24 18:38:05 +0000 2022"
        ],
        [
         "1595849249530552320",
         "#Fishing for Equality!!! ✊🏾🎣🐟",
         "Dalocoengineer",
         "rt marla_vous i look at today as an opportunity to be w friends amp family and to acknowledge the things for which i am grateful howeve",
         "5855",
         "U.S.A",
         "None",
         "Thu Nov 24 18:38:05 +0000 2022"
        ],
        [
         "1595849249643708416",
         "depressed Cavs fan",
         "jaynmotion",
         "rt bleacherreport you tryna set me up no matter what i answer i give social media gonna clown me so no comment zion williamson re",
         "24",
         "None",
         "None",
         "Thu Nov 24 18:38:05 +0000 2022"
        ],
        [
         "1595849249689767937",
         "Rosa Bell",
         "Lyzbeth125",
         "rt joshshapiropa as you join with family and friends this thanksgiving know how grateful my family and i are for you happy thanksgivin",
         "144",
         "None",
         "None",
         "Thu Nov 24 18:38:05 +0000 2022"
        ],
        [
         "1595849249765625856",
         "Héctor Iván Bernal Montalvo",
         "bernal_montalvo",
         "rt miamichaelaj happy thanksgiving im here for desert",
         "86",
         "None",
         "None",
         "Thu Nov 24 18:38:05 +0000 2022"
        ],
        [
         "1595849247760736256",
         "brassavalanche",
         "brassavalanche",
         "happy thanksgiving from all of us at brass avalanche our gratitude today is thinking about the thousands of skiers",
         "35",
         "None",
         "None",
         "Thu Nov 24 18:38:04 +0000 2022"
        ],
        [
         "1595849249815658496",
         "Jordan Gauna",
         "JordanGaunaaa",
         "rd year in a row of waking up with a hangover on thanksgiving does that make it tradition",
         "102",
         "Texas, USA",
         "None",
         "Thu Nov 24 18:38:05 +0000 2022"
        ],
        [
         "1595849249966944257",
         "Ghayas Muhammad",
         "GhayasM73",
         "rt tmz this thanksgiving tmz is thankful for these viral moments",
         "1144",
         "Karachi, Pakistan",
         "None",
         "Thu Nov 24 18:38:05 +0000 2022"
        ],
        [
         "1595849249857617930",
         "Yazzar",
         "Yazzar11",
         "rt weedthotss me high asf at thanksgiving dinner tryna act normal around my family",
         "23",
         "None",
         "None",
         "Thu Nov 24 18:38:05 +0000 2022"
        ],
        [
         "1595849249949978624",
         "Charlie",
         "chuckd81977",
         "avanetr happy thanksgiving to you too sweetheart i hope you have a wonderful day",
         "109",
         "Kingsland, GA",
         "None",
         "Thu Nov 24 18:38:05 +0000 2022"
        ],
        [
         "1595849249983696896",
         "JuanHUNDRED",
         "dreamchasers1_",
         "wait whaaaaaaa lmao",
         "544",
         "Long Beach, CA",
         "None",
         "Thu Nov 24 18:38:05 +0000 2022"
        ],
        [
         "1595849250294099968",
         "✨✨Ellie✨✨",
         "EllieRN7371",
         "pnjaban happy thanksgiving harmeet",
         "637",
         "None",
         "None",
         "Thu Nov 24 18:38:05 +0000 2022"
        ],
        [
         "1595849251644669952",
         "Michael Vogel",
         "MichaelVogel1",
         "rt mcdadstuff friendly reminder to just go ahead and put that tums bottle out on the thanksgiving table",
         "1571",
         "Brooklyn Park, MN",
         "None",
         "Thu Nov 24 18:38:05 +0000 2022"
        ],
        [
         "1595849250834980867",
         "bailey",
         "wisco_hippie",
         "the best kind of thanksgiving",
         "35",
         "Wisconsin",
         "None",
         "Thu Nov 24 18:38:05 +0000 2022"
        ],
        [
         "1595849251631685632",
         "Roxana Sato",
         "RoxanaSato",
         "rt joncoopertweets happy thanksgiving to everyone except kari lake",
         "1752",
         "Toronto, Canada",
         "None",
         "Thu Nov 24 18:38:05 +0000 2022"
        ],
        [
         "1595849251661168640",
         "Matt Howell",
         "Howell1_4",
         "rt nfl_memes there was nothing better than john madden on thanksgiving",
         "256",
         "Albion, NY",
         "None",
         "Thu Nov 24 18:38:05 +0000 2022"
        ],
        [
         "1595849251892125697",
         "Mandalorian Patriot",
         "SpartanPatriot2",
         "rt bidensfinechina keithmalinak happy thanksgiving bud",
         "237",
         "None",
         "None",
         "Thu Nov 24 18:38:05 +0000 2022"
        ],
        [
         "1595849251955027968",
         "DB",
         "Lona1islandgirl",
         "rt oprahdaily happy thanksgiving from our family to yours",
         "217",
         "None",
         "None",
         "Thu Nov 24 18:38:05 +0000 2022"
        ],
        [
         "1595849251895971840",
         "Professor Plum",
         "professorplum_",
         "starting off thanksgiving strong by dancing in my kitchen listening to you re on your own kid on repeat",
         "213",
         "Los Angeles, CA",
         "None",
         "Thu Nov 24 18:38:05 +0000 2022"
        ],
        [
         "1595849251976007680",
         "𝑷𝐎𝐂𝐇𝐈𝐓𝐀 .",
         "WOOFDEVIL",
         "for real that would be awesome then we could like share but only a little",
         "94",
         "mdni .",
         "None",
         "Thu Nov 24 18:38:05 +0000 2022"
        ],
        [
         "1595849252080873473",
         "Tony Fabris",
         "TFabris",
         "rt ask_aubry happy thanksgiving and remember to forget the marijuana",
         "519",
         "Seattle, Washington",
         "None",
         "Thu Nov 24 18:38:05 +0000 2022"
        ],
        [
         "1595849251476889600",
         "Nancy Nieves",
         "maya3n_n",
         "ancientaliens happy thanksgiving ancientaliens",
         "267",
         "Caracas -Venezuela",
         "None",
         "Thu Nov 24 18:38:05 +0000 2022"
        ],
        [
         "1595849252131201024",
         "shahbaz khan",
         "ShazKhan87",
         "rt polkacity the polkacity team wishes everyone a very happy thanksgiving polkacity turkey polc metaverse crypto nft metachai",
         "59",
         "Global",
         "None",
         "Thu Nov 24 18:38:05 +0000 2022"
        ],
        [
         "1595849252181536770",
         "YTTTV_Arrow_WaterishTiger41 #AnimationIsFilm",
         "JoshFortnite8",
         "rt goldballs happy thanksgiving cheers to all the free birds fans the movie where two turkeys go back in time to the first thanksgiv",
         "1042",
         "🇨🇦Twitch: WaterishTiger41",
         "None",
         "Thu Nov 24 18:38:05 +0000 2022"
        ],
        [
         "1595849252236058625",
         "TaShawn N. Matthews",
         "TaShawnMatthews",
         "wayforward the river city girls enjoying their thanksgiving this year",
         "388",
         "Virginia, USA",
         "None",
         "Thu Nov 24 18:38:05 +0000 2022"
        ],
        [
         "1595849252235886594",
         "Soph Isherwood",
         "SophIsherwood",
         "rt uscpsc happy thanksgiving eve",
         "354",
         "England, United Kingdom",
         "None",
         "Thu Nov 24 18:38:05 +0000 2022"
        ],
        [
         "1595849252462272513",
         "Cass",
         "cassaaanovaa",
         "rt mrwilin if your family starts arguing on thanksgiving please go on live so we can all hear it",
         "398",
         "NYC",
         "None",
         "Thu Nov 24 18:38:05 +0000 2022"
        ],
        [
         "1595849251908730882",
         "Tricia Johnsen",
         "TriciaJohnsen",
         "pitcher yes",
         "13",
         "None",
         "None",
         "Thu Nov 24 18:38:05 +0000 2022"
        ],
        [
         "1595849252479066112",
         "Skip Cook 🇷🇺",
         "Data_Coach",
         "rt alexbruesewitz this thanksgiving i am not thankful for rino mitch mcconnell mitch mcconnell blew senate races in az amp nv to help get",
         "156",
         "Tulsa, Billings, Maumelle, AR",
         "None",
         "Thu Nov 24 18:38:05 +0000 2022"
        ],
        [
         "1595849252315566086",
         "The Tap Room at 1617",
         "1617taproom",
         "happy thanksgiving from your friends at taproom itsfluid",
         "18",
         "None",
         "None",
         "Thu Nov 24 18:38:05 +0000 2022"
        ],
        [
         "1595849251925344256",
         "St. Louis Park ShowPlace ICON",
         "ICONMinneapolis",
         "thankful for our showplaceicon theatre amp kitchen teams and guests tell us how are you spending the holiday let",
         "132",
         "St. Louis Park, MN",
         "None",
         "Thu Nov 24 18:38:05 +0000 2022"
        ],
        [
         "1595849252378447877",
         "True",
         "true_thingss",
         "rt joytoywarhammer have a happy and healthy thanksgiving warhammercommunity warhammer k",
         "19",
         "None",
         "None",
         "Thu Nov 24 18:38:05 +0000 2022"
        ],
        [
         "1595849252575612933",
         "Kara Dawne Zemel - she/her",
         "karazattack",
         "rt ndncollective we remind our indigenous relatives that today our traditional values of ceremony gratitude and deep relationships to f",
         "199",
         "Where the streets have no name",
         "None",
         "Thu Nov 24 18:38:05 +0000 2022"
        ],
        [
         "1595849252617715712",
         "m1racl ◉-◉¬",
         "m1racl_eth",
         "rt justfivelines happy thanksgiving fam let the five lines black friday sweep begin any l purchased on secondary in the next d",
         "1974",
         "where the jpgs are",
         "None",
         "Thu Nov 24 18:38:05 +0000 2022"
        ],
        [
         "1595849252814594048",
         "Mick",
         "micklvscambs",
         "rt macfarlanenews happy thanksgiving from all of us",
         "84",
         "Cambridge",
         "None",
         "Thu Nov 24 18:38:05 +0000 2022"
        ],
        [
         "1595849252885991424",
         "Apollo",
         "criticalview84",
         "rt basednewdadsoon dance like no one is watching sing like no one is listening love like you ve never been hurt and fuck like a goddam",
         "232",
         "None",
         "None",
         "Thu Nov 24 18:38:05 +0000 2022"
        ],
        [
         "1595849252814610433",
         "Jo",
         "jo_as_in_joke",
         "rt liv_agar this user s stock price has gone down in the last days",
         "30",
         "None",
         "None",
         "Thu Nov 24 18:38:05 +0000 2022"
        ],
        [
         "1595849253041147904",
         "Angela Chammas",
         "angela_chammas",
         "rt reverendwarnock happy thanksgiving folks wishing you a wonderful time with your family and friends",
         "917",
         "Chicago Area",
         "None",
         "Thu Nov 24 18:38:06 +0000 2022"
        ],
        [
         "1595849253095514114",
         "77KEYG7N💌🏰",
         "77keyg7n",
         "i am thankful for everyone in my life everyday is thanksgiving",
         "457",
         "bi 16 she/they/he",
         "None",
         "Thu Nov 24 18:38:06 +0000 2022"
        ],
        [
         "1595849253183623168",
         "Let Spirit Guide You through this UpSiDeDOwN wOrLd",
         "ChrisBellucci58",
         "brianroemmele best wishes and a very happy thanksgiving to you sir",
         "1313",
         "Someplace safe I hope",
         "None",
         "Thu Nov 24 18:38:06 +0000 2022"
        ],
        [
         "1595849252831625216",
         "Guadalupe Alvarado Sanchez Ponce",
         "LupeSPonce3",
         "jim_jordan like i tweeted gopleader once you stop voting against potus s agenda to help all the american peop",
         "1442",
         "United States",
         "None",
         "Thu Nov 24 18:38:05 +0000 2022"
        ],
        [
         "1595849252714221569",
         "India Currents",
         "IndiaCurrents",
         "india currents wishes you and your loved ones a very happy thanksgiving holiday",
         "1683",
         "California",
         "None",
         "Thu Nov 24 18:38:05 +0000 2022"
        ],
        [
         "1595849252760059904",
         "A.wordsmith",
         "Awordsmith",
         "happy thanksgiving from a wordsmith to you happyholidays",
         "1046",
         "Portland, Oregon",
         "None",
         "Thu Nov 24 18:38:05 +0000 2022"
        ],
        [
         "1595849253410471936",
         "WeStillLoveEtikaIn2020s",
         "MicMec24",
         "rt jamalhinton to answer all your questions yes thanksgiving year is planned out see you guys thursday",
         "76",
         "The Infinite Tsukuyomi",
         "None",
         "Thu Nov 24 18:38:06 +0000 2022"
        ],
        [
         "1595849253255262208",
         "Greg Brian",
         "Gregoriancant",
         "that s thanksgiving in a nutshell or pie tin thank you for all you ve done and it s been more than a little uns",
         "782",
         "Oregon, USA",
         "None",
         "Thu Nov 24 18:38:06 +0000 2022"
        ],
        [
         "1595849253309521921",
         "The Midster😎🏈🏀📲",
         "Middie_Parker",
         "rt nfl_memes there was nothing better than john madden on thanksgiving",
         "122",
         "None",
         "None",
         "Thu Nov 24 18:38:06 +0000 2022"
        ],
        [
         "1595849252630036486",
         "LifeSkills, Inc.",
         "LifeSkillsInc1",
         "whether you choose to spend today with family friends or indulging in self care we wish you a very happy thanksgi",
         "980",
         "Bowling Green, KY",
         "None",
         "Thu Nov 24 18:38:05 +0000 2022"
        ],
        [
         "1595849253414477824",
         "Lee Horton",
         "_Lee_H",
         "happy thanksgiving to you yes you even you",
         "1133",
         "Lewiston-Auburn, Maine",
         "None",
         "Thu Nov 24 18:38:06 +0000 2022"
        ],
        [
         "1595849253439537153",
         "Cherilyn Young 💙💛",
         "cherilyntx",
         "rt mnateshyamalan it is time once again all hail the thanksgiving tube",
         "4283",
         "Austin & Pflugerville, Texas",
         "None",
         "Thu Nov 24 18:38:06 +0000 2022"
        ],
        [
         "1595849252940513289",
         "Visuals by Impulse",
         "VBI",
         "happy thanksgiving from your friends at vbi",
         "75154",
         "Everywhere 🌏",
         "None",
         "Thu Nov 24 18:38:06 +0000 2022"
        ],
        [
         "1595849252629991424",
         "Bowling Green Works",
         "bgkyworks",
         "happy thanksgiving we re sending warm wishes of gratitude and joy as we embrace the holiday season",
         "244",
         "Bowling Green, KY",
         "None",
         "Thu Nov 24 18:38:05 +0000 2022"
        ],
        [
         "1595849253636964352",
         "God of Muzz: Ragnarok",
         "The_muzz1",
         "rt neebsofficial thanks for coming out to our stream last week as a reminder no stream today have a wonderful thanksgiving doodle",
         "1079",
         "None",
         "None",
         "Thu Nov 24 18:38:06 +0000 2022"
        ],
        [
         "1595849252017963009",
         "jay !🫂💞",
         "Mr_B4gg_4_B1t3h",
         "thanksgiving media",
         "519",
         "Houston, TX",
         "None",
         "Thu Nov 24 18:38:05 +0000 2022"
        ],
        [
         "1595849253687296000",
         "NFTsBreezy🥃",
         "NFTsBreezy",
         "rt theuncannyclub happy thanksgiving happy thanksgiving to all those who celebrate much love from the uncanny family stayuncanny",
         "38821",
         "United States",
         "None",
         "Thu Nov 24 18:38:06 +0000 2022"
        ],
        [
         "1595849253674307584",
         "seximation",
         "seximation_com",
         "rt creamnadia happy thanksgiving everyone",
         "324",
         "None",
         "None",
         "Thu Nov 24 18:38:06 +0000 2022"
        ],
        [
         "1595849253699686404",
         "EJM",
         "DerLeblosAutor",
         "rt ciubmoss first thanksgiving cooking alone anyway phone is about to die ttyl",
         "39",
         "Massachusetts, USA",
         "None",
         "Thu Nov 24 18:38:06 +0000 2022"
        ],
        [
         "1595849253272031232",
         "Bendix Arena",
         "BendixArena",
         "today we re grateful for handheld gaming happy thanksgiving from us at bendix",
         "566",
         "South Bend, Indiana",
         "None",
         "Thu Nov 24 18:38:06 +0000 2022"
        ],
        [
         "1595849253876039680",
         "Brainiac",
         "maushte_",
         "rt weedthotss me high asf at thanksgiving dinner tryna act normal around my family",
         "1176",
         "Kenya",
         "None",
         "Thu Nov 24 18:38:06 +0000 2022"
        ],
        [
         "1595849254064513024",
         "🎄 haw yee",
         "AquaBllu3",
         "rt shadesokami for this thanksgiving here are the group pictures for my st anniversary in the fandom alongside those who were real",
         "340",
         "None",
         "None",
         "Thu Nov 24 18:38:06 +0000 2022"
        ],
        [
         "1595849254240944128",
         "elly",
         "haikuinspring",
         "rt sandibachom santa honestly there s nothing like the macy s thanksgiving day parade happy thanksgiving everybody except for elon",
         "110",
         "None",
         "None",
         "Thu Nov 24 18:38:06 +0000 2022"
        ],
        [
         "1595849253909315587",
         "Jo-Ann Dillenschneider",
         "JoAnnDillensch2",
         "abbottcampaign you should just say happy thanksgiving and not blame the president of the united states it s global",
         "9",
         "None",
         "None",
         "Thu Nov 24 18:38:06 +0000 2022"
        ],
        [
         "1595849254324834304",
         "Channel 10.29 | 🍰 B-Day 10/29 🍰",
         "realdealdemtv",
         "rt discussingfilm the wimpy kid and grogu balloons at macy s thanksgiving parade via wimpykid",
         "166",
         "He/Him DEMOLGIA HQ 🏳️‍🌈",
         "None",
         "Thu Nov 24 18:38:06 +0000 2022"
        ],
        [
         "1595849255792828418",
         "#1 Kawhi fan",
         "HerbertEnjoyer",
         "cmon",
         "12",
         "None",
         "None",
         "Thu Nov 24 18:38:06 +0000 2022"
        ],
        [
         "1595849255758897157",
         "MoneyMakingJay",
         "_Jay_dela",
         "threw down my warm up plate of tamales i m already in full thanksgiving form",
         "188",
         "Las Vegas, NV",
         "None",
         "Thu Nov 24 18:38:06 +0000 2022"
        ],
        [
         "1595849255788371968",
         "John",
         "FPScuf",
         "ssymtex happy thanksgiving jordan",
         "322",
         "Livin' Lowkey",
         "None",
         "Thu Nov 24 18:38:06 +0000 2022"
        ],
        [
         "1595849255847182339",
         "Zak King",
         "DesertKinger6",
         "rt super ssports nothing says it s thanksgiving and i ve burned all the bridges with my family quite like this extravagant feast",
         "67",
         "None",
         "None",
         "Thu Nov 24 18:38:06 +0000 2022"
        ],
        [
         "1595849255310094336",
         "Rez_Lizard",
         "Rez_Lizard",
         "happy thanksgiving america",
         "5514",
         "SENM",
         "None",
         "Thu Nov 24 18:38:06 +0000 2022"
        ],
        [
         "1595849256044462080",
         "BurstofKay",
         "BurstofKay",
         "austinnalluh burstofkay happy thanksgiving",
         "45",
         "Tacoma, WA",
         "None",
         "Thu Nov 24 18:38:06 +0000 2022"
        ],
        [
         "1595849255759273984",
         "virna rodriguez",
         "virnashamari",
         "happy thanksgiving to everyone greatfulandblessed thanksgiving familyof creatingmemories connecticut",
         "27",
         "florida",
         "None",
         "Thu Nov 24 18:38:06 +0000 2022"
        ],
        [
         "1595849256010539008",
         "Sikubis",
         "Sikubis2",
         "rt bnbchain a happy thanksgiving to our bnb fam with a thriving ecosystem and a dedicated community that continues to build web w",
         "489",
         "None",
         "None",
         "Thu Nov 24 18:38:06 +0000 2022"
        ],
        [
         "1595849255914176513",
         "kat₀ in shambles",
         "m6xey",
         "yea bc then i could buy myself tickets",
         "3085",
         "she / her , 17",
         "None",
         "Thu Nov 24 18:38:06 +0000 2022"
        ],
        [
         "1595849256077852675",
         "Dev",
         "somechumpmark",
         "rt womenswrestli happy thanksgiving besties",
         "52",
         "None",
         "None",
         "Thu Nov 24 18:38:06 +0000 2022"
        ],
        [
         "1595849256081956864",
         "Dr. Matthias Beier",
         "MatthiasBeier",
         "revdrbowen happy thanksgiving",
         "4516",
         "Indiana, USA",
         "None",
         "Thu Nov 24 18:38:06 +0000 2022"
        ],
        [
         "1595849256102944768",
         "mars🌟",
         "starrymars__",
         "thanksgiving is literally the most triggering time of the year",
         "267",
         "South Carolina, USA",
         "None",
         "Thu Nov 24 18:38:06 +0000 2022"
        ],
        [
         "1595849256128204800",
         "Gay Encarnacao",
         "EncarnacaoGay",
         "rt tudordixon happy thanksgiving what a year we ve had i am so thankful for all of you you gave me the opportunity to be a voice for s",
         "215",
         "None",
         "None",
         "Thu Nov 24 18:38:06 +0000 2022"
        ],
        [
         "1595849256430350336",
         "she’s such a fucking lady.",
         "malwher",
         "rt leo repro anti capitalism is essential for decolonization because i hear people object to eliminating thanksgiving because they need t",
         "492",
         "Atlanta, Atlanta",
         "None",
         "Thu Nov 24 18:38:06 +0000 2022"
        ],
        [
         "1595849256501653504",
         "James Woollard",
         "BritVoxUS",
         "thanksgiving for introverts be like we have guests coming over today for me",
         "1862",
         "Seattle, WA",
         "None",
         "Thu Nov 24 18:38:06 +0000 2022"
        ],
        [
         "1595849256489082880",
         "Nate",
         "Nate65660535",
         "angryjoeshow happy thanksgiving to you",
         "60",
         "None",
         "None",
         "Thu Nov 24 18:38:06 +0000 2022"
        ],
        [
         "1595849256727896067",
         "specter the unchained",
         "laurentinatxt",
         "happy thanksgiving revs up chainsaw get in the oven",
         "520",
         "ya mum's house",
         "None",
         "Thu Nov 24 18:38:06 +0000 2022"
        ],
        [
         "1595849256690122759",
         "Kwende Madu",
         "suprabuddha",
         "rt coco_anise happy thanksgiving",
         "833",
         "Russellville Al",
         "None",
         "Thu Nov 24 18:38:06 +0000 2022"
        ],
        [
         "1595849256774107139",
         "Lakeisha",
         "KekeAnxiety",
         "rt nluch lea michele opening the macys thanksgiving day parade singing don t rain on my parade is the glee reference i didn t know i ne",
         "10",
         "None",
         "None",
         "Thu Nov 24 18:38:06 +0000 2022"
        ],
        [
         "1595849256870502400",
         "Max Dk 🇫🇷🇺🇦🇪🇺",
         "DekeyzerMax",
         "rt gerashchenko_en i think after our victory we will also have a thanksgiving day in ukraine a special day of gratitude to all our alli",
         "18",
         "None",
         "None",
         "Thu Nov 24 18:38:06 +0000 2022"
        ],
        [
         "1595849256845262849",
         "Alma Lucia",
         "almaluc1a",
         "rt whotfisjovana only thing i m serving this thanksgiving is cunt",
         "63",
         "None",
         "None",
         "Thu Nov 24 18:38:06 +0000 2022"
        ],
        [
         "1595849257000792065",
         "Kaitlyn",
         "kaitlynxomarie",
         "rt nictothemarie babe wake up there s a football game at the jonas brothers thanksgiving concert",
         "266",
         "None",
         "None",
         "Thu Nov 24 18:38:06 +0000 2022"
        ],
        [
         "1595849256983732230",
         "Sonicgamercd",
         "ForestDave16",
         "zoehobz happy thanksgiving zoe",
         "507",
         "Berthierville, Québec",
         "None",
         "Thu Nov 24 18:38:06 +0000 2022"
        ],
        [
         "1595849257030144001",
         "K.O 🇹🇹🇺🇸",
         "NYTRO1690",
         "rt johnkruk happy thanksgiving to all the wwe superstars for keeping me entertained this off season",
         "320",
         "Suplex County , Brookyn ny",
         "None",
         "Thu Nov 24 18:38:06 +0000 2022"
        ],
        [
         "1595849257021489152",
         "Matt Wilson",
         "mattwilson145",
         "rt hellyvalentine happy thanksgiving thank you for all your support time for presents let s collect and for one mo",
         "173",
         "None",
         "None",
         "Thu Nov 24 18:38:06 +0000 2022"
        ],
        [
         "1595849256711208964",
         "kydabadde$t💰",
         "kydabadde",
         "rt damnjiggaa thanksgiving is so depressing when you have a broken family",
         "18",
         "None",
         "None",
         "Thu Nov 24 18:38:06 +0000 2022"
        ],
        [
         "1595849255641837568",
         "J3ANN3-MARI3 🐾",
         "NHCountryGal",
         "happy thanksgiving grateful for what i do have brokeceliacthanksgiving",
         "833",
         "New Hampshire, USA",
         "None",
         "Thu Nov 24 18:38:06 +0000 2022"
        ],
        [
         "1595849257101266948",
         "Dan",
         "DriveMeMild",
         "rt adamcarollashow happy thanksgiving friends we love you and are so thankful to have you",
         "622",
         "My area code begins with a 7",
         "None",
         "Thu Nov 24 18:38:06 +0000 2022"
        ],
        [
         "1595849257126354946",
         "Protect Ourselves",
         "ProtectOurselv",
         "happy thanksgiving everyone remember your traditions hold them dear and stay vigilant thankgod thanksgiving turkey americanpride",
         "0",
         "Washington, DC",
         "None",
         "Thu Nov 24 18:38:07 +0000 2022"
        ],
        [
         "1595849256937611264",
         "Wayne Jacobs",
         "waynejacobs777",
         "happy thanksgiving to all my american friends",
         "3633",
         "London (UK)",
         "None",
         "Thu Nov 24 18:38:06 +0000 2022"
        ],
        [
         "1595849257319555072",
         "Trrlwd 🔞",
         "trrlwd",
         "rt coubalty instead of turkey for thanksgiving how about some",
         "530",
         "None",
         "None",
         "Thu Nov 24 18:38:07 +0000 2022"
        ],
        [
         "1595849257256460290",
         "#1 Hurts Fan",
         "Anthony60957284",
         "rt ronfilipkowski presidential candidate donald trump s thanksgiving message to america as of pm est",
         "1180",
         "Dacula, GA",
         "None",
         "Thu Nov 24 18:38:07 +0000 2022"
        ],
        [
         "1595849257294368769",
         "You can’t order democracy like it’s instacart",
         "GregProops",
         "antjcm happy thanksgiving",
         "150296",
         "#BidenHarris2020",
         "None",
         "Thu Nov 24 18:38:07 +0000 2022"
        ],
        [
         "1595849257453494272",
         "F.N.F SHAYYY🖕🏿🤪👐🏽",
         "ShaylahMarie__",
         "rt mixedmjj so many things to be thankful for happy thanksgiving",
         "1052",
         "Indiana, USA",
         "None",
         "Thu Nov 24 18:38:07 +0000 2022"
        ],
        [
         "1595849256962760704",
         "Yoohoo #WitchFromMercury",
         "AlanDraculla",
         "rt yuumei_art happy thanksgiving may all your food swim right into your mouth like these taiyaki",
         "110",
         "Celeste Mountain",
         "None",
         "Thu Nov 24 18:38:06 +0000 2022"
        ],
        [
         "1595849257461977091",
         "Steph Strad Justify Arro Jack C Melvie Mary Baaeed",
         "stephqjustified",
         "rt browch i don t think she s ever fully forgiven me for this one gt happy thanksgiving gopoego voodoomamajuju",
         "892",
         "Lexington, KY",
         "None",
         "Thu Nov 24 18:38:07 +0000 2022"
        ],
        [
         "1595849257256460291",
         "Foodie( 44 POTUS & FLOTUS 4 ever)",
         "samartini10",
         "rt kennymack happy thanksgiving and as we do every year a psa leave that recipe you saw on food network at home",
         "976",
         "None",
         "None",
         "Thu Nov 24 18:38:07 +0000 2022"
        ],
        [
         "1595849257617354757",
         "tay",
         "taylorxdani",
         "rt mrwilin if your family starts arguing on thanksgiving please go on live so we can all hear it",
         "493",
         "None",
         "None",
         "Thu Nov 24 18:38:07 +0000 2022"
        ],
        [
         "1595849257516498951",
         "Joe Blake",
         "jbalt63",
         "turkey",
         "1866",
         "None",
         "None",
         "Thu Nov 24 18:38:07 +0000 2022"
        ],
        [
         "1595849257357131777",
         "StreetLeague72",
         "StreetLeague72",
         "happy thanksgiving just wanna shoutout those im thankful for i don t know where i would be without you people i",
         "283",
         "Arizona",
         "None",
         "Thu Nov 24 18:38:07 +0000 2022"
        ],
        [
         "1595849257478934528",
         "Janine Hook, J.D. #HandMarkedPaperBallots",
         "janinelhook",
         "i m sorry you were left out by your family that s not a good feeling but it s not you it s them you are a spec",
         "1933",
         "Vancouver/Ridgefield WA",
         "None",
         "Thu Nov 24 18:38:07 +0000 2022"
        ],
        [
         "1595849257764151296",
         "Kae",
         "Krunkanomics",
         "happy thanksgiving y all i m grateful for twitter",
         "1019",
         "...",
         "None",
         "Thu Nov 24 18:38:07 +0000 2022"
        ],
        [
         "1595849257856425984",
         "patriot",
         "patriot58455027",
         "rt tesla happy thanksgiving thanks to the tesla team owners and fans for helping us accelerate the world s transition to sustainable",
         "22",
         "None",
         "None",
         "Thu Nov 24 18:38:07 +0000 2022"
        ],
        [
         "1595849257390854145",
         "haley",
         "mockingjaays",
         "happy thanksgiving i am thankful for this",
         "7373",
         "she/her • 21",
         "None",
         "Thu Nov 24 18:38:07 +0000 2022"
        ],
        [
         "1595849257927716865",
         "Meg🕊",
         "MegsAnEgg",
         "pregaming thanksgiving w cody and noels podcast lol",
         "1400",
         "Ohio, USA",
         "None",
         "Thu Nov 24 18:38:07 +0000 2022"
        ],
        [
         "1595849257982070790",
         "Jose🥶🇩🇴",
         "youngslink",
         "rt kburton_ happy thanksgiving to whoever make the mac and cheese today",
         "40",
         "Pluto",
         "None",
         "Thu Nov 24 18:38:07 +0000 2022"
        ],
        [
         "1595849258078535689",
         "Bad Bwe Bobby",
         "Bobby_Bukowski",
         "rt israel for all of you who are stressed about making thanksgiving dinner consider yourselves lucky we do it every friday night hap",
         "112",
         "Across The Pond",
         "None",
         "Thu Nov 24 18:38:07 +0000 2022"
        ],
        [
         "1595849258191978498",
         "Ted Emery",
         "Ted_Emery2",
         "joncoopertweets yes i hope everyone has a happy thanksgiving",
         "15",
         "None",
         "None",
         "Thu Nov 24 18:38:07 +0000 2022"
        ],
        [
         "1595849258292461570",
         "Debbie",
         "DebraMoutray",
         "rt funder if an election denier was at your thanksgiving would you confront them with the fact trump lost i would",
         "455",
         "None",
         "None",
         "Thu Nov 24 18:38:07 +0000 2022"
        ],
        [
         "1595849258485551104",
         "NIP SIRAK",
         "NipSirak",
         "happy thanksgiving thankful for everything and i hope everyone has a blessed day",
         "161",
         "I don't even know",
         "None",
         "Thu Nov 24 18:38:07 +0000 2022"
        ],
        [
         "1595849259890659328",
         "Andrew 🇺🇦🕊️",
         "PastaGut",
         "rt diebytheblade imagine leaving tage thompson off this graphic couldn t be me",
         "697",
         "Rochester, NY",
         "None",
         "Thu Nov 24 18:38:07 +0000 2022"
        ],
        [
         "1595849259819089921",
         "Hitman",
         "Hitman_CLT",
         "happy thanksgiving coach grateful to have you at depaul godemons",
         "3212",
         "Charlotte, NC",
         "None",
         "Thu Nov 24 18:38:07 +0000 2022"
        ],
        [
         "1595849259240550400",
         "#CherRocks🌈🥰💙👄#SawyerFrdrxrocks. BOY GEORGE👄",
         "_WILLIAMCHER",
         "cher happy thanksgiving cher and fam",
         "17235",
         "Kentucky, USA",
         "None",
         "Thu Nov 24 18:38:07 +0000 2022"
        ],
        [
         "1595849259903078400",
         "Bun",
         "SadoBunni",
         "rt rico_and_lyrik ass looking like a thanksgiving meal who wanna a serving st first people get to watch me get stuffed like a t",
         "3906",
         "None",
         "None",
         "Thu Nov 24 18:38:07 +0000 2022"
        ],
        [
         "1595849259970084864",
         "iggy",
         "iggy_234",
         "rt chiefs thankful for our chiefs family happy thanksgiving chiefs kingdom",
         "36",
         "None",
         "None",
         "Thu Nov 24 18:38:07 +0000 2022"
        ],
        [
         "1595849260083314693",
         "KroNos The Great™",
         "KronostheGreat_",
         "rt stacymagagirl happy thanksgiving you turkeys",
         "1274",
         "United States🇺🇲",
         "None",
         "Thu Nov 24 18:38:07 +0000 2022"
        ],
        [
         "1595849259508801537",
         "CedaCash",
         "CedaCash",
         "i walk in the kitchen grab some quick bites then zip out the way thankful thanksgiving thanksgivingday kang",
         "27574",
         "Brooklyn, NY",
         "None",
         "Thu Nov 24 18:38:07 +0000 2022"
        ],
        [
         "1595849260196859905",
         "DEELSEE",
         "DEELSEE1",
         "rt chefjoseandres tbt to november one of my favorite thanksgiving visits to colbertlateshow even though stephenathome and i had",
         "73",
         "None",
         "None",
         "Thu Nov 24 18:38:07 +0000 2022"
        ],
        [
         "1595849260066643968",
         "Bekki S Bearheart",
         "BekkiSBearheart",
         "rt occupydemocrats happy thanksgiving retweet if you re thankful that joe biden is president instead of donald trump",
         "92",
         "Ithaca, NY",
         "None",
         "Thu Nov 24 18:38:07 +0000 2022"
        ],
        [
         "1595849260141973504",
         "R A ' R A U W 🥷",
         "Frank2ble_r11",
         "rt rauwalejandro happy thanksgiving hombre del a o with gqmexico gqmagazine",
         "313",
         "Monterrey, Nuevo León",
         "None",
         "Thu Nov 24 18:38:07 +0000 2022"
        ],
        [
         "1595849260146348038",
         "Prophet Of Truth.",
         "ProphetOfTruth0",
         "rt calebsdume those people don t know he s about to eat them please someone tell them oh my god",
         "190",
         "high charity",
         "None",
         "Thu Nov 24 18:38:07 +0000 2022"
        ],
        [
         "1595849260246900736",
         "Side Hoe #3",
         "moregayinside",
         "rt boobiesonfire happy thanksgiving i am thankful for the scab on my head",
         "56",
         "None",
         "None",
         "Thu Nov 24 18:38:07 +0000 2022"
        ],
        [
         "1595849260368506881",
         "ShikaTV | #______ Shika | DeTox Shika",
         "RealShikaTV",
         "rt fucksmitty happy thanksgiving thankful for all the friends amp connections i ve made on here you guys are the real mvps",
         "1601",
         "Sacramento, CA",
         "None",
         "Thu Nov 24 18:38:07 +0000 2022"
        ],
        [
         "1595849259190030343",
         "Sir. Silk Shekels",
         "__Macksimum",
         "thanksgiving things",
         "383",
         "NJ",
         "None",
         "Thu Nov 24 18:38:07 +0000 2022"
        ],
        [
         "1595849260477579266",
         "Javvy Bing 🇵🇷 🌊🏄🤌🏽",
         "javvybing27",
         "rt etanthomas ballislife they know kyrie irving doesn t celebrate thanksgiving and they know exactly why because he has explained his",
         "239",
         "San Juan, PR",
         "None",
         "Thu Nov 24 18:38:07 +0000 2022"
        ],
        [
         "1595849260158914564",
         "AL",
         "al_0403",
         "happy thanksgiving y all thankful for every fucking thing that i have rn",
         "799",
         "Illinois, USA",
         "None",
         "Thu Nov 24 18:38:07 +0000 2022"
        ],
        [
         "1595849260540592128",
         "Almes Bridges",
         "AlmesBridges",
         "rt occupydemocrats happy thanksgiving retweet if you re thankful that joe biden is president instead of donald trump",
         "0",
         "None",
         "None",
         "Thu Nov 24 18:38:07 +0000 2022"
        ],
        [
         "1595849260548952064",
         "Gold_EryThanG.sol™️ #DogeClub #PAYC #RAYC $SAMO",
         "FlipLowTheMotto",
         "rt dogeclub_nft a special greeting of thanksgiving time to express our sincere appreciation for your support and company happythanksgi",
         "2442",
         "In Your Head, Rent Free",
         "None",
         "Thu Nov 24 18:38:07 +0000 2022"
        ],
        [
         "1595849260590940161",
         "Yaw_Gent",
         "dtee_89",
         "rt joycemeyer father help me to realize that thanksgiving is more than just a day on the calendar i am grateful for all you have done i",
         "1108",
         "None",
         "None",
         "Thu Nov 24 18:38:07 +0000 2022"
        ],
        [
         "1595849260716937216",
         "lucy 🌮",
         "loopyy_____",
         "rt txnaughtynurse happy thanksgiving having a discount on my spicy site all weekend long",
         "354129",
         "Top 2.2%",
         "None",
         "Thu Nov 24 18:38:07 +0000 2022"
        ],
        [
         "1595849260783865856",
         "Daniel Curtsinger",
         "Curty1973",
         "rt vjplatinum time to share the love i m going to giveaway cards to lucky winners on black friday process is simple follow rt a",
         "39",
         "Bayfield, Co",
         "None",
         "Thu Nov 24 18:38:07 +0000 2022"
        ],
        [
         "1595849260691558400",
         "Matty",
         "matty444d",
         "rt realjameswoods happy thanksgiving",
         "40",
         "Birkenhead, England",
         "None",
         "Thu Nov 24 18:38:07 +0000 2022"
        ],
        [
         "1595849260267966467",
         "Rank One Sport",
         "rank1sport",
         "thank you to all of our amazing rank one family whether you re a student coach parent director trainer or that",
         "842",
         "Addison, TX",
         "None",
         "Thu Nov 24 18:38:07 +0000 2022"
        ],
        [
         "1595849260842778624",
         "Sparkplug Football",
         "SparkplugFB",
         "rt adedamola_ajani thank you for the thanksgiving greetings martin_miami_hc coachkoehler coachjpatton",
         "1135",
         "Speedway, Indiana",
         "None",
         "Thu Nov 24 18:38:07 +0000 2022"
        ],
        [
         "1595849260703981568",
         "jmendoza333",
         "jmendoza33311",
         "short legs are not attractive not ur fault ur barely over feet but long legs with curves are super attractive",
         "3",
         "None",
         "None",
         "Thu Nov 24 18:38:07 +0000 2022"
        ],
        [
         "1595849260884701184",
         "Ashley is PRO-Choice ☮️ ✨♥️🌱🌏🥁🌈🕶🐝🌊✨",
         "KuckelmanAshley",
         "rt maura_resister good morning wishing you all a happy thanksgiving",
         "46599",
         "Des Moines, IA (Ankeny)",
         "None",
         "Thu Nov 24 18:38:07 +0000 2022"
        ],
        [
         "1595849260805017600",
         "Dr. Harry Hypotenuse",
         "DrHarryHypot",
         "rt paulrudnickny on thanksgiving let s remember the slaughter of so much innocent polyester in the name of republican casual wear",
         "717",
         "New York, USA",
         "None",
         "Thu Nov 24 18:38:07 +0000 2022"
        ],
        [
         "1595849260846747648",
         "Andres A. Aguilar ",
         "Andres_hoez15",
         "for thanksgiving i hope my family doesnt ask me about my life just pass the tequila bottle",
         "192",
         "None",
         "None",
         "Thu Nov 24 18:38:07 +0000 2022"
        ],
        [
         "1595849260741922822",
         "strange in proportion",
         "DietrichKelley",
         "rt vintagefantasy_ happy thanksgiving turkey whores",
         "234",
         "Pittsburgh, PA",
         "None",
         "Thu Nov 24 18:38:07 +0000 2022"
        ],
        [
         "1595849260330897408",
         "Rob McMullen",
         "mcmulle1",
         "rt grizzlygisela while we don t celebrate thanksgiving in the netherlands i d like to express my gratitude to the families of missing lo",
         "1667",
         "Aurora, MN",
         "None",
         "Thu Nov 24 18:38:07 +0000 2022"
        ],
        [
         "1595849260100116480",
         "Likula04",
         "cu44272876",
         "rt toeianimation live super saiyan blue goku is flying at the th macy s thanksgiving parade happy thanksgiving everyone thanks",
         "110",
         "None",
         "None",
         "Thu Nov 24 18:38:07 +0000 2022"
        ],
        [
         "1595849261110812672",
         "Ben Jackson 🦃🌽✝️🏈",
         "BenAGoodLife",
         "rt angelblancoarts the thanksgiving parade is coming and there s the balloons with a few familiar faces benagoodlife lukethekang",
         "762",
         "California, USA",
         "None",
         "Thu Nov 24 18:38:07 +0000 2022"
        ],
        [
         "1595849261178294272",
         "ava",
         "ava__23",
         "rt popculture s the gossip girl thanksgiving episode where everyone got exposed while whatcha say by jason derulo is playing that s h",
         "124",
         "None",
         "None",
         "Thu Nov 24 18:38:07 +0000 2022"
        ],
        [
         "1595849260985098241",
         "Craig Rozniecki",
         "CraigRozniecki",
         "it just wouldn t be thanksgiving without herschel walker talking about erections and tony romo drawing them",
         "124573",
         "Columbus, OH",
         "None",
         "Thu Nov 24 18:38:07 +0000 2022"
        ],
        [
         "1595849260938952709",
         "Revel",
         "Revel7272Daniel",
         "rt babygravy democracy is the government handing out sheets of official regime talking points to crush dissent at family gatherings",
         "4069",
         "None",
         "None",
         "Thu Nov 24 18:38:07 +0000 2022"
        ],
        [
         "1595849261165547521",
         "Viesta",
         "ViestaFlorida",
         "rt karilakewarroom have a wonderful thanksgiving arizona we love you",
         "1525",
         "Florida, USA",
         "None",
         "Thu Nov 24 18:38:07 +0000 2022"
        ],
        [
         "1595849261219921920",
         "SuzyQ.🌻💙🌊",
         "suzyqjordan",
         "rt tg wishing you and your family a happy thanksgiving grateful to all of you for your kindness your humor and your friendship",
         "4331",
         "PNW",
         "None",
         "Thu Nov 24 18:38:07 +0000 2022"
        ],
        [
         "1595849261144481795",
         "Gumbo Aficionado",
         "RayThachosen1",
         "charmingcharlay bruh i woke up with it on my mind like coffee and pie me please i really thought my family was t",
         "1955",
         "Ain't N.O. tellin",
         "None",
         "Thu Nov 24 18:38:07 +0000 2022"
        ],
        [
         "1595849261211652097",
         "Kurt Schlichter",
         "KurtSchlichter",
         "doommonger",
         "455154",
         "Manhattan Beach CA",
         "None",
         "Thu Nov 24 18:38:07 +0000 2022"
        ],
        [
         "1595849261547151362",
         "Mark Kuru Herdzik",
         "TalismanKuru",
         "rt mcu_direct happy thanksgiving",
         "23",
         "United Kingdom",
         "None",
         "Thu Nov 24 18:38:08 +0000 2022"
        ],
        [
         "1595849261555634178",
         "Beast Guy",
         "Gweencer",
         "you can t arrest me it s thanksgiving",
         "92",
         "Europe",
         "None",
         "Thu Nov 24 18:38:08 +0000 2022"
        ],
        [
         "1595849261366870017",
         "BushWick Bill ⭐️🌙",
         "MaadEthnic",
         "look at y all tryna piss people off",
         "647",
         "In The Mix",
         "None",
         "Thu Nov 24 18:38:08 +0000 2022"
        ],
        [
         "1595849261299957760",
         "Alaturka News",
         "alaturkanews",
         "what to expect for the last minute thanksgiving travel rush gma",
         "205",
         "Los Angeles, CA",
         "None",
         "Thu Nov 24 18:38:07 +0000 2022"
        ],
        [
         "1595849261761318912",
         "Nolan Broderick",
         "Fwsamorah",
         "rt luhifootball from the crusader football family to yours we wish you a safe and happy thanksgiving we appreciate all the amazing sup",
         "13",
         "Uniondale, NY",
         "None",
         "Thu Nov 24 18:38:08 +0000 2022"
        ],
        [
         "1595849261689626624",
         "AZBubba",
         "azbubba2004",
         "rt azcardinals what food do you wish was served at thanksgiving seatgeek x cardscam",
         "37",
         "None",
         "None",
         "Thu Nov 24 18:38:08 +0000 2022"
        ],
        [
         "1595849261719191552",
         "MP",
         "MP03173771",
         "rt herschelwalker wishing everyone a happy and blessed thanksgiving",
         "71",
         "None",
         "None",
         "Thu Nov 24 18:38:08 +0000 2022"
        ],
        [
         "1595849261929095169",
         "Barbara (just me and the cats!)",
         "norwest",
         "rt snotzthecat happy thanksgiving",
         "378",
         "Los Angeles",
         "None",
         "Thu Nov 24 18:38:08 +0000 2022"
        ],
        [
         "1595849261895356418",
         "Douglas Diamond",
         "DougDiamond71",
         "rt pnjaban every thanksgiving i m thankful my parents brought me amp my brother to america for a free life i m also thankful that clients",
         "31",
         "San Antonio, TX",
         "None",
         "Thu Nov 24 18:38:08 +0000 2022"
        ],
        [
         "1595849261861818369",
         "Waiting On Walker",
         "scho525",
         "rt sharpfootball nothing today will top this thanksgiving moment",
         "418",
         "Colonie, NY",
         "None",
         "Thu Nov 24 18:38:08 +0000 2022"
        ],
        [
         "1595849261979422720",
         "Devin Owen",
         "dohorrorfan95",
         "rt terrifierfilm happy thanksgiving to everyone celebrating today dinner is served terrifier style",
         "12",
         "None",
         "None",
         "Thu Nov 24 18:38:08 +0000 2022"
        ],
        [
         "1595849264214822912",
         "Neeraj Batra",
         "NeerajB23867326",
         "senschumer thanks mr schumer wishing you and your family a happy thanksgiving have a fabulous day",
         "100",
         "None",
         "None",
         "Thu Nov 24 18:38:08 +0000 2022"
        ],
        [
         "1595849264231481344",
         "Ashton",
         "ashton2yummy",
         "rt javy ier happy thanksgiving anyone wanna feast on this latino bi teen nsfw rt rt happythanksgiving",
         "801",
         "Texas, USA",
         "None",
         "Thu Nov 24 18:38:08 +0000 2022"
        ],
        [
         "1595849263380062210",
         "daisyface flow",
         "daisyfaceflow",
         "happy thanksgiving travel notice",
         "138",
         "Boston, MA",
         "None",
         "Thu Nov 24 18:38:08 +0000 2022"
        ],
        [
         "1595849264256671744",
         "Andre Walker",
         "awalker2334",
         "happy thanksgiving",
         "378",
         "None",
         "None",
         "Thu Nov 24 18:38:08 +0000 2022"
        ],
        [
         "1595849264302899200",
         "krista",
         "keyocean",
         "rt ufwupdates there would be no thanksgiving feast without farmworkers we re thankful to the consumers who are mindful of the hands that",
         "1674",
         "Colorado, USA",
         "None",
         "Thu Nov 24 18:38:08 +0000 2022"
        ],
        [
         "1595849264516648961",
         "andrea IS SEEING TAYLOR JULY 15🌙💫⭐️",
         "andreasversion",
         "rt damnjiggaa thanksgiving is so depressing when you have a broken family",
         "726",
         "None",
         "None",
         "Thu Nov 24 18:38:08 +0000 2022"
        ],
        [
         "1595849261383663616",
         "Chris Burnette 🏆",
         "BernieDawg",
         "a lot riding on momma s gravy gettin thicker quicker we starving thanksgiving",
         "2689",
         "Georgia, USA",
         "None",
         "Thu Nov 24 18:38:08 +0000 2022"
        ],
        [
         "1595849264546156544",
         "Chief Vera Bumpers",
         "bumpers_v",
         "artacevedo chief happy thanksgiving to you and family",
         "796",
         "None",
         "None",
         "Thu Nov 24 18:38:08 +0000 2022"
        ],
        [
         "1595849264650981379",
         "Lovely",
         "LovelyNeonPanda",
         "rt yuumei_art happy thanksgiving may all your food swim right into your mouth like these taiyaki",
         "145",
         "New Jersey",
         "None",
         "Thu Nov 24 18:38:08 +0000 2022"
        ],
        [
         "1595849264676020224",
         "Godozer",
         "JayGoDozer",
         "rt lebatardshow happy thanksgiving",
         "43",
         "None",
         "None",
         "Thu Nov 24 18:38:08 +0000 2022"
        ],
        [
         "1595849264487284737",
         "lily.network/@millenomi — cohost.org/millenomi",
         "millenomi",
         "rt quinobequin listen to my bro annawaon the son of tall oak weeden speak truth about what this holiday means for so many of us whatev",
         "229",
         "None",
         "None",
         "Thu Nov 24 18:38:08 +0000 2022"
        ],
        [
         "1595849264818978816",
         "ChesterHayes 🎄🎁❄️",
         "Spencersmate28",
         "rt damienthelion_ my perfect thanksgiving feast is goldeyboiad s tasty butt you can tell just how much i love eating it by how hard i",
         "162",
         "None",
         "None",
         "Thu Nov 24 18:38:08 +0000 2022"
        ],
        [
         "1595849264697049090",
         "SEVANNA KOI",
         "sevannakoi_",
         "my fav part of thanksgiving is going to all my ppls houses and then having a plate for me",
         "981",
         "htx",
         "None",
         "Thu Nov 24 18:38:08 +0000 2022"
        ],
        [
         "1595849264323764228",
         "Truthoverdishonesty",
         "Nigelj08223326",
         "rt nigelj thanksgiving in a world with so much negativity look around there s much to be thankful for through the eyes of chil",
         "681",
         "None",
         "None",
         "Thu Nov 24 18:38:08 +0000 2022"
        ],
        [
         "1595849264835567616",
         "💚🍃J420N 🍃💚",
         "JasonKi13810697",
         "rt mommasboymushu it feels like sunday but it s thanksgivingday happy thanksgiving twitter family there are many things to be than",
         "475",
         "None",
         "None",
         "Thu Nov 24 18:38:08 +0000 2022"
        ],
        [
         "1595849264928030720",
         "KnightInRustyArmor",
         "KnightInRustyOR",
         "happy thanksgiving to all of you especially q and mrs q we love you both dearly and lift you up constantly",
         "6",
         "None",
         "None",
         "Thu Nov 24 18:38:08 +0000 2022"
        ],
        [
         "1595849264990912512",
         "CABBAC 🎮🎬🖥️",
         "OfficialCABBAC",
         "happy thanksgiving to everyone in america i m thankful that americans have a day where they can be thankful",
         "252",
         "In Limbo",
         "None",
         "Thu Nov 24 18:38:08 +0000 2022"
        ],
        [
         "1595849265066250240",
         "Chase",
         "ch4seeeee",
         "rt juneinmonaco gobble gobble gobblin up this dick of off for thanksgiving thankful for you guys",
         "60",
         "None",
         "None",
         "Thu Nov 24 18:38:08 +0000 2022"
        ],
        [
         "1595849265183870977",
         "Victor",
         "Vic14011",
         "rt occupydemocrats happy thanksgiving retweet if you re thankful that joe biden is president instead of donald trump",
         "33",
         "None",
         "None",
         "Thu Nov 24 18:38:08 +0000 2022"
        ],
        [
         "1595849265133355009",
         "Jamie Doke 💙💙💙💙",
         "RusssellJamie",
         "nebraskangooner happy thanksgiving thanks for the chance",
         "1089",
         "Summerville, SC",
         "None",
         "Thu Nov 24 18:38:08 +0000 2022"
        ],
        [
         "1595849265066147842",
         "NAY",
         "naydanielsss",
         "rt _d pop somebody said sharp ass greens",
         "177",
         "None",
         "None",
         "Thu Nov 24 18:38:08 +0000 2022"
        ],
        [
         "1595849263745056772",
         "IndianMeteorSociety",
         "indian_meteor",
         "tony_battista gvstarshockey tastytrade solid congrats to vinny great way to start thanksgiving",
         "131",
         "Caddo Gap, AR",
         "None",
         "Thu Nov 24 18:38:08 +0000 2022"
        ],
        [
         "1595849265175314436",
         "Ceelow.eth",
         "Hustle_loz",
         "alienfrens happy thanksgiving",
         "2198",
         "The Metaverse",
         "None",
         "Thu Nov 24 18:38:08 +0000 2022"
        ],
        [
         "1595849265330675712",
         "fiscer🇮🇱🇮🇱🇺🇸🇺🇸",
         "Mac25650119",
         "rt papitrumpo happy thanksgiving thankyou",
         "1633",
         "neverland",
         "None",
         "Thu Nov 24 18:38:08 +0000 2022"
        ],
        [
         "1595849265230016512",
         "Northwest Guilford Football",
         "nwestfootball",
         "happy thanksgiving wishing you all a wonderful thanksgiving day spent with family and friends your vikings",
         "1984",
         "Greensboro, NC",
         "{'type': 'Point', 'coordinates': [36.154335, -79.95298]}",
         "Thu Nov 24 18:38:08 +0000 2022"
        ],
        [
         "1595849265573683200",
         "Will Shouse",
         "authrill24",
         "rt asburyeagles happy thanksgiving chronicles give thanks to the lord for he is good his faithful love endures forever ht",
         "2474",
         "Wilmore, KY",
         "None",
         "Thu Nov 24 18:38:09 +0000 2022"
        ],
        [
         "1595849265737338882",
         "Y T F R E E 💸💣🏧",
         "ATM_YOUNGTIM",
         "rt kendrickperkins just knocked down my first thanksgiving plate got about more to go don t judge me and carry the hell on",
         "521",
         "Tookie World",
         "None",
         "Thu Nov 24 18:38:09 +0000 2022"
        ],
        [
         "1595849265468694528",
         "MizukiArts 🌙 (Stream Hiatus)",
         "mizuki_shinobi4",
         "heyo heyo happy thanksgiving everyone",
         "418",
         "Inglewood, CA",
         "None",
         "Thu Nov 24 18:38:08 +0000 2022"
        ],
        [
         "1595849265808449537",
         "CANnibal Quadfather 🏳️‍🌈",
         "MatthwDayton",
         "i hope on this thanksgiving day you are thankful for final fantasy",
         "23337",
         "tikotk: cannibal127",
         "None",
         "Thu Nov 24 18:38:09 +0000 2022"
        ],
        [
         "1595849265435365376",
         "Senostar 🦕",
         "senostarcrypto",
         "champtgram happy thanksgiving",
         "478",
         "St Petersburg, FL",
         "None",
         "Thu Nov 24 18:38:08 +0000 2022"
        ],
        [
         "1595849265280319489",
         "NFT Secure Title",
         "nftsecuretitle",
         "this thanksgiving remember to be thankful for your home giving you a sense of security and comfort every time you",
         "3",
         "None",
         "None",
         "Thu Nov 24 18:38:08 +0000 2022"
        ],
        [
         "1595849265988919296",
         "Logans Place 🕊⚖💫",
         "Logans_Place2B",
         "mlma beautiful photo happy thanksgiving",
         "532",
         "Inner Space.",
         "None",
         "Thu Nov 24 18:38:09 +0000 2022"
        ],
        [
         "1595849265506668548",
         "Warren Allen Toyer III",
         "_therealillness",
         "brawlerreal happy thanksgiving",
         "73",
         "East Hemet, CA",
         "None",
         "Thu Nov 24 18:38:08 +0000 2022"
        ],
        [
         "1595849266211295236",
         "prof.cakes",
         "CakesProf",
         "filledwithurine my cousins came in after a walk talking about thst and i thought they were naming the indians at the first thanksgiving",
         "6",
         "None",
         "None",
         "Thu Nov 24 18:38:09 +0000 2022"
        ],
        [
         "1595849266328928257",
         "mek’des/መቅደስ 🖤",
         "mekdesehaile",
         "rt ufwupdates as you shop and prepare your thanksgiving meals we d like you to know a little more about the work behind the ingredients",
         "830",
         "Los Angeles, CA",
         "None",
         "Thu Nov 24 18:38:09 +0000 2022"
        ],
        [
         "1595849266211467264",
         "Gabriella",
         "gaabycpm12",
         "mi novio celebrando thanksgiving i m grateful for have this big tits",
         "163",
         "None",
         "None",
         "Thu Nov 24 18:38:09 +0000 2022"
        ],
        [
         "1595849265318092802",
         "Mr. Mustard #SainTrain (CEO of Peanut Butter)",
         "hildasthighs",
         "the virgin thanksgiving turkey vs the chad thanksgiving kielbasa",
         "885",
         "Sterling Heights, MI",
         "None",
         "Thu Nov 24 18:38:08 +0000 2022"
        ],
        [
         "1595849266471522305",
         "Jason McHuff",
         "rosecitytransit",
         "rt lostoregon a couple of options for a thanksgiving meal in at the red lion motor inn or the thunderbird motor inn back when prin",
         "682",
         "Portland, Oregon",
         "None",
         "Thu Nov 24 18:38:09 +0000 2022"
        ],
        [
         "1595849266429313025",
         "Bulldog Bulletin",
         "BHSBulletin348",
         "rt usd from all us at baldwin usd have a happy thanksgiving baldwinbuilt",
         "184",
         "Baldwin City, KS",
         "None",
         "Thu Nov 24 18:38:09 +0000 2022"
        ],
        [
         "1595849266072780805",
         "Valeria Rios",
         "Vare90967747",
         "happy thanksgiving hernando_ms",
         "0",
         "El Paso, TX",
         "None",
         "Thu Nov 24 18:38:09 +0000 2022"
        ],
        [
         "1595849266555232256",
         "Erik ❄️ 🦃",
         "TheRoyaleMedia",
         "rt rhainonme happy thanksgiving",
         "232",
         "New York",
         "None",
         "Thu Nov 24 18:38:09 +0000 2022"
        ],
        [
         "1595849266601562112",
         "Mystical Kvng",
         "KvngMystical",
         "rt deesonastey happy thanksgiving sale",
         "418",
         "None",
         "None",
         "Thu Nov 24 18:38:09 +0000 2022"
        ],
        [
         "1595849266563616771",
         "Vampireknight",
         "vampireknight",
         "rt nypost thanksgiving day fire at bronx apartment claims two lives",
         "1084",
         "Buckeye, AZ",
         "None",
         "Thu Nov 24 18:38:09 +0000 2022"
        ],
        [
         "1595849266601263111",
         "Jacquaniese",
         "_missjaye",
         "so many of us are contributing real dishes to this year s thanksgiving i love that for us",
         "1699",
         "Atlanta, GA",
         "None",
         "Thu Nov 24 18:38:09 +0000 2022"
        ],
        [
         "1595849266634727425",
         "@parnell424milano 🌠3💔🦈💙🌠🇺🇸",
         "parnell424mila3",
         "rt venicechamber happy thanksgiving from all of us at the venice chamber of commerce we are grateful for our community members local bu",
         "159",
         "Santa Monica, CA 🎸",
         "None",
         "Thu Nov 24 18:38:09 +0000 2022"
        ],
        [
         "1595849266672680963",
         "Sassy Ass Cindy",
         "CindyKendrick11",
         "happy thanksgiving to you too",
         "120215",
         "None",
         "None",
         "Thu Nov 24 18:38:09 +0000 2022"
        ],
        [
         "1595849266807058432",
         "Ranandit Chanda",
         "ranandit",
         "rt sakuraverse_fun thanksgiving rewards sakuraverse brings you thanksgiving rewards come and let s accelerate the world s tra",
         "139",
         "700084",
         "None",
         "Thu Nov 24 18:38:09 +0000 2022"
        ],
        [
         "1595849266718806016",
         "calif6native☀️🌈✡️😷💙💛🏳️‍⚧️",
         "calif6native",
         "rt rtruszkowski yes yes i m wearing this shirt to do my last minute thanksgiving shopping it s not nearly as offensive as seeing fello",
         "366",
         "Proud Native Californian",
         "None",
         "Thu Nov 24 18:38:09 +0000 2022"
        ],
        [
         "1595849266978775043",
         "Chrissy Mo 💕",
         "Chrissy_Mo",
         "happy birthday amp thanksgiving coolasdq",
         "1593",
         "None",
         "None",
         "Thu Nov 24 18:38:09 +0000 2022"
        ],
        [
         "1595849267088093184",
         "brian",
         "BatyHOF",
         "rt kendrickperkins just knocked down my first thanksgiving plate got about more to go don t judge me and carry the hell on",
         "816",
         "None",
         "None",
         "Thu Nov 24 18:38:09 +0000 2022"
        ],
        [
         "1595849268279087111",
         "vjlyons",
         "vjlyons",
         "mahorstman happy thanksgiving mark and to your family and the mt team",
         "21",
         "Outside of Philadelphia, PA",
         "None",
         "Thu Nov 24 18:38:09 +0000 2022"
        ],
        [
         "1595849268258021377",
         "skulltrot",
         "skulltrot",
         "why are my sisters making me watch jersey shore on thanksgiving",
         "723",
         "they/them | 18",
         "None",
         "Thu Nov 24 18:38:09 +0000 2022"
        ],
        [
         "1595849268429959168",
         "Lonnie Bass",
         "LonnieBass17",
         "rt tesla happy thanksgiving thanks to the tesla team owners and fans for helping us accelerate the world s transition to sustainable",
         "1",
         "None",
         "None",
         "Thu Nov 24 18:38:09 +0000 2022"
        ],
        [
         "1595849268308459520",
         "Alpen Apriandi",
         "AlpenApriandi",
         "rt sakuraverse_fun thanksgiving rewards sakuraverse brings you thanksgiving rewards come and let s accelerate the world s tra",
         "91",
         "None",
         "None",
         "Thu Nov 24 18:38:09 +0000 2022"
        ],
        [
         "1595849268493000706",
         "Laura Lormand Guinn",
         "lel1973",
         "rt elonmusk have a great thanksgiving",
         "47",
         "None",
         "None",
         "Thu Nov 24 18:38:09 +0000 2022"
        ],
        [
         "1595849268400881664",
         "🌿🔎Kyubey74🔎🌿",
         "Kyubeykat74",
         "rt coubalty instead of turkey for thanksgiving how about some",
         "20",
         "None",
         "None",
         "Thu Nov 24 18:38:09 +0000 2022"
        ],
        [
         "1595849268467847170",
         "Piper the Mama Wolf",
         "PipersAdventure",
         "happy thanksgiving to all that are celebrating remember to give food time to cool a lil before smashing",
         "1238",
         "USA",
         "None",
         "Thu Nov 24 18:38:09 +0000 2022"
        ],
        [
         "1595849268471992320",
         "Venkat Williams",
         "Venkatwill",
         "rt the_ironsheik happy thanksgiving to all my american fans except that piece of shit hulk hogan you can go fuck yourself forever",
         "255",
         "None",
         "None",
         "Thu Nov 24 18:38:09 +0000 2022"
        ],
        [
         "1595849267155009539",
         "Boyah J. Farah",
         "Boyahfarah",
         "her voice her beauty her caring her bravery unmatched don t we need reporters to with hearts like",
         "728",
         "Boston",
         "None",
         "Thu Nov 24 18:38:09 +0000 2022"
        ],
        [
         "1595849268765806593",
         "Dr K Ⓜ️Ⓜ️",
         "rdknowles2010",
         "rt alfranken me and the grandkids and our annual thanksgiving screening of judgement at nuremberg",
         "1377",
         "in the woods, way up north",
         "None",
         "Thu Nov 24 18:38:09 +0000 2022"
        ],
        [
         "1595849267071311872",
         "amy",
         "doodles4love",
         "happy thanksgiving for your info life is better with a dog it is a proven fact dogs improve your wellbeing we j",
         "40",
         "Idaho, USA",
         "None",
         "Thu Nov 24 18:38:09 +0000 2022"
        ],
        [
         "1595849268996505600",
         "pangfollow ng mga ka-follow follow",
         "PangfollowF",
         "rt robsmithonline i m at the grocery store guy in front of me buying a ham he s priced out and was about to put it back i decided to pu",
         "41",
         "None",
         "None",
         "Thu Nov 24 18:38:09 +0000 2022"
        ],
        [
         "1595849268866142208",
         "LEGGOGOGO‼️",
         "Leggotunglei",
         "on this thanksgiving day i am deeply thankful to be an american",
         "369",
         "Hong Kong, HK",
         "None",
         "Thu Nov 24 18:38:09 +0000 2022"
        ],
        [
         "1595849268887166978",
         "Lucky Erikpierce",
         "erikpierce8",
         "rt tmv_crypto thanksgiving nd giveaway of to enter like follow me rt comment tmv_crypto bitcoin liteco",
         "50",
         "United States",
         "None",
         "Thu Nov 24 18:38:09 +0000 2022"
        ],
        [
         "1595849268958416896",
         "Brad",
         "Bradlcp380",
         "rt catturd good morning to everyone and happy thanksgiving",
         "9919",
         "Arizona",
         "None",
         "Thu Nov 24 18:38:09 +0000 2022"
        ],
        [
         "1595849269097148416",
         "J Grawrock",
         "jgrawrock",
         "degree and sunny on thanksgiving sure why not",
         "1162",
         "Los Angeles, CA",
         "None",
         "Thu Nov 24 18:38:09 +0000 2022"
        ],
        [
         "1595849269134909441",
         "mike",
         "mike85447124",
         "rt ctbecker again crazy snag and score from bobby was trying to stay off twitter on thanksgiving but i can t resist great moment for",
         "213",
         "None",
         "None",
         "Thu Nov 24 18:38:09 +0000 2022"
        ],
        [
         "1595849269122154499",
         "El Majin Uub",
         "elbabyle",
         "rt spookygothloser my cousins at thanksgiving tryna tell me they about to go smoke",
         "340",
         "Playboy Mansion",
         "None",
         "Thu Nov 24 18:38:09 +0000 2022"
        ],
        [
         "1595849269285916673",
         "Tammie Ann Creative 🎨🇺🇸🐈‍⬛📚🌶 🎮",
         "TammieACreative",
         "rt justin_hart years ago the first thanksgiving my th great grandfather edward doty was on the mayflower a feisty spirit got h",
         "16986",
         "World of Whimsy",
         "None",
         "Thu Nov 24 18:38:09 +0000 2022"
        ],
        [
         "1595849269080203265",
         "John Murphy",
         "jmurphy6691",
         "happy thanksgiving to all wrhs students and staff",
         "47",
         "None",
         "None",
         "Thu Nov 24 18:38:09 +0000 2022"
        ],
        [
         "1595849269226897409",
         "Charlie.ε ♛👑☻",
         "0xcharliee",
         "everything_sol mfers who aint also thankful on thanksgiving",
         "1007",
         "Metaverse",
         "None",
         "Thu Nov 24 18:38:09 +0000 2022"
        ],
        [
         "1595849269319462912",
         "Marz🐉",
         "LotuszWater",
         "rt dustinpoirier yall soft bruh happy thanksgiving",
         "51",
         "Astro",
         "None",
         "Thu Nov 24 18:38:09 +0000 2022"
        ],
        [
         "1595849269214339075",
         "Amalur",
         "Amalur60229896",
         "rt potus from the biden family to all of yours happy thanksgiving this holiday we celebrate all that brings us together grounded in",
         "654",
         "None",
         "None",
         "Thu Nov 24 18:38:09 +0000 2022"
        ],
        [
         "1595849269294301185",
         "Xavier",
         "XavierRegia22",
         "rt realjameswoods happy thanksgiving",
         "195",
         "USA 🇺🇸",
         "None",
         "Thu Nov 24 18:38:09 +0000 2022"
        ],
        [
         "1595849267691884552",
         "Aleigha",
         "aleighagazer1",
         "vikings kevoc happy thanksgiving everyone enjoy today go vikings u guys got this vikings r so that s s",
         "58",
         "Omaha, NE",
         "None",
         "Thu Nov 24 18:38:09 +0000 2022"
        ],
        [
         "1595849269445099523",
         "Daniel",
         "Daniel06896559",
         "synthionmusic happy thanksgiving synthion",
         "72",
         "Caguas, Puerto Rico",
         "None",
         "Thu Nov 24 18:38:09 +0000 2022"
        ],
        [
         "1595849269415759874",
         "ZURGPOSTING 😈👽🤖(gritsandbrits)",
         "GritsandB",
         "rt powerrangersday macy s thanksgiving parade powerrangers",
         "290",
         "None",
         "None",
         "Thu Nov 24 18:38:09 +0000 2022"
        ],
        [
         "1595849269096976390",
         "Jason PARODY ACCOUNT",
         "BBCStudJason",
         "spending thanksgiving with my wife moongurl_parody",
         "98",
         "None",
         "None",
         "Thu Nov 24 18:38:09 +0000 2022"
        ],
        [
         "1595849269067628544",
         "Jovanni 🇵🇷",
         "jovanniii_",
         "rt cameronwolfe what an awesome moment for this kid and dope for stefon taking time out of his pregame workout to make a family s holida",
         "360",
         "Hawaii, USA",
         "None",
         "Thu Nov 24 18:38:09 +0000 2022"
        ],
        [
         "1595849269138833412",
         "Josh Randall",
         "JR1242005",
         "rt johnnyrandle happy thanksgiving y all let s go skol vikings nfllegacy",
         "2",
         "None",
         "None",
         "Thu Nov 24 18:38:09 +0000 2022"
        ],
        [
         "1595849269495349248",
         "correct in the coincidental way",
         "gregorysomethin",
         "this is the funniest thing i ve seen all week",
         "803",
         "I get it in Ohio",
         "None",
         "Thu Nov 24 18:38:09 +0000 2022"
        ],
        [
         "1595849269600215043",
         "Galactika | A Legend Never Dies 🎗",
         "TheNerdTrooper",
         "rt kaijunewsoutlet happy thanksgiving everyone",
         "17",
         "TECHNOBLADE NEVER DIES",
         "None",
         "Thu Nov 24 18:38:09 +0000 2022"
        ],
        [
         "1595849269818593280",
         "Jeff Michaud ",
         "cometaj2",
         "rt zubymusic happy thanksgiving to my american friends and followers",
         "1494",
         "None",
         "None",
         "Thu Nov 24 18:38:10 +0000 2022"
        ],
        [
         "1595849269440925697",
         "David Brzezon",
         "DaveBrz",
         "crackerbarrel is full menu or limited thanksgiving meals only today eating in",
         "128",
         "None",
         "None",
         "Thu Nov 24 18:38:09 +0000 2022"
        ],
        [
         "1595849269772226560",
         "Conor",
         "ConorTargaryen",
         "rt alexiaraye thanksgiving ootd first time posting this yep",
         "155",
         "Fruit Cove, FL",
         "None",
         "Thu Nov 24 18:38:10 +0000 2022"
        ],
        [
         "1595849269793235007",
         "MFAM bubbie627",
         "BUBBIE627",
         "rt timthetatman happy thanksgiving from our family to yours god bless y all",
         "402",
         "Keansburg, NJ",
         "None",
         "Thu Nov 24 18:38:10 +0000 2022"
        ],
        [
         "1595849269638041600",
         "BlueCheese (Failed NNN)",
         "TwoBlue4Cheeses",
         "rt akfamilyhome happy thanksgiving",
         "67",
         "None",
         "None",
         "Thu Nov 24 18:38:09 +0000 2022"
        ],
        [
         "1595849269793144832",
         "sak pasé?",
         "motinhas_",
         "rt dbshype goku takes the flight at macy s thanksgiving day parade in nyc",
         "50",
         "Lisboa, Portugal",
         "None",
         "Thu Nov 24 18:38:10 +0000 2022"
        ],
        [
         "1595849269885472769",
         "IsaacMLdev",
         "IsaacMlDev",
         "rt alexxubyte thanksgiving giveaway signed books vol vol free passes to the online course contains content of vol vol",
         "20",
         "None",
         "None",
         "Thu Nov 24 18:38:10 +0000 2022"
        ],
        [
         "1595849269860245505",
         "Rixe",
         "jomadafacka",
         "it s mad early big dog",
         "78",
         "None",
         "None",
         "Thu Nov 24 18:38:10 +0000 2022"
        ],
        [
         "1595849269856051203",
         "Michael Karp",
         "d8d8_",
         "clandestine_om and the happiest of thanksgiving to you one of the most entertaining twitterers on here",
         "1681",
         "Greenwich Village NY",
         "None",
         "Thu Nov 24 18:38:10 +0000 2022"
        ],
        [
         "1595849269759582213",
         "Flavio",
         "Flavio29241431",
         "rt papitrumpo happy thanksgiving thankyou",
         "145",
         "None",
         "None",
         "Thu Nov 24 18:38:10 +0000 2022"
        ],
        [
         "1595849270082424832",
         "American Mexican",
         "ChicanosforMAGA",
         "rt realjameswoods happy thanksgiving",
         "35",
         "Yuma, AZ",
         "None",
         "Thu Nov 24 18:38:10 +0000 2022"
        ],
        [
         "1595849270154113024",
         "andrew ☆",
         "awhaeri",
         "rt calsuccubus the restriction after thanksgiving boutta go crazy",
         "192",
         "༺ 48.5 kgs 180 cm  ༘ 16 ࿐˚⁎⋆",
         "None",
         "Thu Nov 24 18:38:10 +0000 2022"
        ],
        [
         "1595849270371950595",
         "Liyah",
         "thereeLiyahgooo",
         "rt mixedmjj so many things to be thankful for happy thanksgiving",
         "1372",
         "None",
         "None",
         "Thu Nov 24 18:38:10 +0000 2022"
        ],
        [
         "1595849270195798016",
         "Cod",
         "CoddMas",
         "happy thanksgiving family",
         "2414",
         "Hoboken, NJ",
         "None",
         "Thu Nov 24 18:38:10 +0000 2022"
        ],
        [
         "1595849269650546688",
         "Ounces",
         "ouncesmi",
         "happy thanksgiving from the the ounces family we would like to give thanks to everybody who has supported us this",
         "29",
         "Sturgis, Michigan",
         "None",
         "Thu Nov 24 18:38:09 +0000 2022"
        ]
       ],
       "datasetInfos": [],
       "dbfsResultPath": null,
       "isJsonSchema": true,
       "metadata": {},
       "overflow": true,
       "plotOptions": {
        "customPlotOptions": {},
        "displayType": "table",
        "pivotAggregation": null,
        "pivotColumns": null,
        "xColumns": null,
        "yColumns": null
       },
       "removedWidgets": [],
       "schema": [
        {
         "metadata": "{}",
         "name": "id",
         "type": "\"string\""
        },
        {
         "metadata": "{}",
         "name": "name",
         "type": "\"string\""
        },
        {
         "metadata": "{}",
         "name": "username",
         "type": "\"string\""
        },
        {
         "metadata": "{}",
         "name": "tweet",
         "type": "\"string\""
        },
        {
         "metadata": "{}",
         "name": "followers_count",
         "type": "\"string\""
        },
        {
         "metadata": "{}",
         "name": "location",
         "type": "\"string\""
        },
        {
         "metadata": "{}",
         "name": "geo",
         "type": "\"string\""
        },
        {
         "metadata": "{}",
         "name": "created_at",
         "type": "\"string\""
        }
       ],
       "type": "table"
      }
     },
     "output_type": "display_data"
    }
   ],
   "source": [
    "import pyspark.sql.functions as F\n",
    "tweets_clean = tweets_2.withColumn('tweet', F.regexp_replace('tweet', r\"http\\S+\", \"\")) \\\n",
    "                    .withColumn('tweet', F.regexp_replace('tweet', r\"[^a-zA-z]\", \" \")) \\\n",
    "                    .withColumn('tweet', F.regexp_replace('tweet', r\"\\s+\", \" \")) \\\n",
    "                    .withColumn('tweet', F.lower('tweet')) \\\n",
    "                    .withColumn('tweet', F.trim('tweet')) \n",
    "display(tweets_clean)"
   ]
  },
  {
   "cell_type": "code",
   "execution_count": 0,
   "metadata": {
    "application/vnd.databricks.v1+cell": {
     "cellMetadata": {},
     "inputWidgets": {},
     "nuid": "9c31bd43-ec2c-436f-b9f0-1630fe347210",
     "showTitle": false,
     "title": ""
    }
   },
   "outputs": [
    {
     "data": {
      "text/plain": [
       "+--------------------+----+--------------------+-----+---------------+--------+----+----------+\n",
       "|                  id|name|            username|tweet|followers_count|location| geo|created_at|\n",
       "+--------------------+----+--------------------+-----+---------------+--------+----+----------+\n",
       "|white tme perisex 15|null|                null| null|           null|    null|null|      null|\n",
       "|transneutral lesbian|null|                null| null|           null|    null|null|      null|\n",
       "|adhdtistic did sy...|None|Thu Nov 24 18:37:...| null|           null|    null|null|      null|\n",
       "|🚫ANTI-ZETA. ANTI...|null|                null| null|           null|    null|null|      null|\n",
       "|⚠️FICTION AFFECTS...|null|                null| null|           null|    null|null|      null|\n",
       "+--------------------+----+--------------------+-----+---------------+--------+----+----------+\n",
       "only showing top 5 rows\n",
       "\n"
      ]
     },
     "metadata": {
      "application/vnd.databricks.v1+output": {
       "addedWidgets": {},
       "arguments": {},
       "data": "+--------------------+----+--------------------+-----+---------------+--------+----+----------+\n|                  id|name|            username|tweet|followers_count|location| geo|created_at|\n+--------------------+----+--------------------+-----+---------------+--------+----+----------+\n|white tme perisex 15|null|                null| null|           null|    null|null|      null|\n|transneutral lesbian|null|                null| null|           null|    null|null|      null|\n|adhdtistic did sy...|None|Thu Nov 24 18:37:...| null|           null|    null|null|      null|\n|🚫ANTI-ZETA. ANTI...|null|                null| null|           null|    null|null|      null|\n|⚠️FICTION AFFECTS...|null|                null| null|           null|    null|null|      null|\n+--------------------+----+--------------------+-----+---------------+--------+----+----------+\nonly showing top 5 rows\n\n",
       "datasetInfos": [],
       "metadata": {},
       "removedWidgets": [],
       "type": "ansi"
      }
     },
     "output_type": "display_data"
    }
   ],
   "source": [
    "from pyspark.sql.functions import col\n",
    "\n",
    "tweets_clean.filter(col('tweet').isNull()).show(5)"
   ]
  },
  {
   "cell_type": "code",
   "execution_count": 0,
   "metadata": {
    "application/vnd.databricks.v1+cell": {
     "cellMetadata": {},
     "inputWidgets": {},
     "nuid": "b0bb9731-ce26-4072-b6e9-7a35961d7361",
     "showTitle": false,
     "title": ""
    }
   },
   "outputs": [],
   "source": [
    "tweets_notnull = tweets_clean.filter(col('tweet').isNotNull())"
   ]
  },
  {
   "cell_type": "code",
   "execution_count": 0,
   "metadata": {
    "application/vnd.databricks.v1+cell": {
     "cellMetadata": {},
     "inputWidgets": {},
     "nuid": "0b1e9351-0ae0-407d-9320-e492b38a66c9",
     "showTitle": false,
     "title": ""
    }
   },
   "outputs": [],
   "source": [
    "from pyspark.sql.functions import udf \n",
    "from pyspark.sql.functions import *\n",
    "from pyspark.sql.types import *\n",
    "from pyspark.sql import functions as F\n",
    "from textblob import TextBlob"
   ]
  },
  {
   "cell_type": "code",
   "execution_count": 0,
   "metadata": {
    "application/vnd.databricks.v1+cell": {
     "cellMetadata": {},
     "inputWidgets": {},
     "nuid": "a7e8b009-ae47-45db-a6d6-86d879bbf17f",
     "showTitle": false,
     "title": ""
    }
   },
   "outputs": [],
   "source": [
    "def get_sentiment(text):\n",
    "    sentiment = TextBlob(text).sentiment.polarity\n",
    "    if sentiment > 0:\n",
    "        return 'positive'\n",
    "    elif sentiment < 0:\n",
    "        return 'negative'\n",
    "    else:\n",
    "        return 'neutral'"
   ]
  },
  {
   "cell_type": "code",
   "execution_count": 0,
   "metadata": {
    "application/vnd.databricks.v1+cell": {
     "cellMetadata": {},
     "inputWidgets": {},
     "nuid": "52990ba4-3462-430f-a539-24f0d36fc08c",
     "showTitle": false,
     "title": ""
    }
   },
   "outputs": [
    {
     "data": {
      "text/plain": [
       "Out[11]: Column<'tweet'>"
      ]
     },
     "metadata": {
      "application/vnd.databricks.v1+output": {
       "addedWidgets": {},
       "arguments": {},
       "data": "Out[11]: Column<'tweet'>",
       "datasetInfos": [],
       "metadata": {},
       "removedWidgets": [],
       "type": "ansi"
      }
     },
     "output_type": "display_data"
    }
   ],
   "source": [
    "getsentiment = F.udf(lambda x: get_sentiment(x))\n",
    "\n",
    "tweets_sentiment = tweets_notnull.withColumn('sentiment', getsentiment('tweet'))\n",
    "tweets_notnull['tweet']"
   ]
  },
  {
   "cell_type": "code",
   "execution_count": 0,
   "metadata": {
    "application/vnd.databricks.v1+cell": {
     "cellMetadata": {},
     "inputWidgets": {},
     "nuid": "3ee06841-eca5-4d99-a483-5b6150fd4e9b",
     "showTitle": false,
     "title": ""
    }
   },
   "outputs": [
    {
     "data": {
      "text/plain": [
       "Accuracy Score: 0.9844\n",
       "ROC-AUC: 0.9844\n"
      ]
     },
     "metadata": {
      "application/vnd.databricks.v1+output": {
       "addedWidgets": {},
       "arguments": {},
       "data": "Accuracy Score: 0.9844\nROC-AUC: 0.9844\n",
       "datasetInfos": [],
       "metadata": {},
       "removedWidgets": [],
       "type": "ansi"
      }
     },
     "output_type": "display_data"
    }
   ],
   "source": [
    "from pyspark.ml.feature import VectorAssembler, StopWordsRemover, HashingTF, IDF, Tokenizer, StringIndexer, CountVectorizer\n",
    "from pyspark.ml.classification import LogisticRegression\n",
    "from pyspark.ml import Pipeline\n",
    "from pyspark.ml.evaluation import MulticlassClassificationEvaluator\n",
    "\n",
    "# Use 90% cases for training, 10% cases for testing\n",
    "train, test = tweets_sentiment.randomSplit([0.9, 0.1], seed=20200819)\n",
    "\n",
    "# Create transformers for the ML pipeline\n",
    "tokenizer = Tokenizer(inputCol=\"tweet\", outputCol=\"tokens\")\n",
    "stopword_remover = StopWordsRemover(inputCol=\"tokens\", outputCol=\"filtered\")\n",
    "cv = CountVectorizer(vocabSize=2**16, inputCol=\"filtered\", outputCol='cv')\n",
    "idf = IDF(inputCol='cv', outputCol=\"1gram_idf\", minDocFreq=5) #minDocFreq: remove sparse terms\n",
    "assembler = VectorAssembler(inputCols=[\"1gram_idf\"], outputCol=\"features\")\n",
    "label_encoder= StringIndexer(inputCol = \"sentiment\", outputCol = \"label\")\n",
    "lr = LogisticRegression(maxIter=100)\n",
    "pipeline = Pipeline(stages=[tokenizer, stopword_remover, cv, idf, assembler, label_encoder, lr])\n",
    "\n",
    "pipeline_model = pipeline.fit(train)\n",
    "predictions = pipeline_model.transform(test)\n",
    "\n",
    "evaluator = MulticlassClassificationEvaluator(predictionCol=\"prediction\")\n",
    "accuracy = predictions.filter(predictions.label == predictions.prediction).count() / float(test.count())\n",
    "roc_auc = evaluator.evaluate(predictions)\n",
    "\n",
    "print(\"Accuracy Score: {0:.4f}\".format(accuracy))\n",
    "print(\"ROC-AUC: {0:.4f}\".format(roc_auc))"
   ]
  },
  {
   "cell_type": "code",
   "execution_count": 0,
   "metadata": {
    "application/vnd.databricks.v1+cell": {
     "cellMetadata": {},
     "inputWidgets": {},
     "nuid": "913103ad-ba9a-4bbe-91c8-02544c7e2589",
     "showTitle": false,
     "title": ""
    }
   },
   "outputs": [],
   "source": [
    "predictions_with_year = predictions_clean.withColumn('year', split(predictions_clean['created_at'], ' ').getItem(5))"
   ]
  },
  {
   "cell_type": "code",
   "execution_count": 0,
   "metadata": {
    "application/vnd.databricks.v1+cell": {
     "cellMetadata": {},
     "inputWidgets": {},
     "nuid": "f285797e-3b08-4245-aa4d-7c40abd9cc82",
     "showTitle": false,
     "title": ""
    }
   },
   "outputs": [],
   "source": [
    "from pyspark.sql.functions import col\n",
    "filterDF =  predictions.select(col('filtered'), col('sentiment'))"
   ]
  },
  {
   "cell_type": "code",
   "execution_count": 0,
   "metadata": {
    "application/vnd.databricks.v1+cell": {
     "cellMetadata": {},
     "inputWidgets": {},
     "nuid": "b6e94951-3f30-4348-9ad6-bc1811faad51",
     "showTitle": false,
     "title": ""
    }
   },
   "outputs": [
    {
     "data": {
      "text/plain": [
       "root\n",
       " |-- sentiment: string (nullable = true)\n",
       " |-- col: string (nullable = true)\n",
       "\n",
       "+---------+------------+\n",
       "|sentiment|         col|\n",
       "+---------+------------+\n",
       "| positive|        ohhh|\n",
       "| positive|        yeah|\n",
       "| positive|         got|\n",
       "| positive|       happy|\n",
       "| positive|thanksgiving|\n",
       "| positive|    favorite|\n",
       "| positive|        beer|\n",
       "| positive|       maker|\n",
       "|  neutral|      please|\n",
       "|  neutral|      please|\n",
       "|  neutral|  pleaseeeee|\n",
       "|  neutral|      future|\n",
       "|  neutral|     husband|\n",
       "|  neutral|        make|\n",
       "|  neutral|         run|\n",
       "|  neutral|           k|\n",
       "|  neutral|thanksgiving|\n",
       "|  neutral|     morning|\n",
       "|  neutral|         beg|\n",
       "| positive|          rt|\n",
       "+---------+------------+\n",
       "only showing top 20 rows\n",
       "\n"
      ]
     },
     "metadata": {
      "application/vnd.databricks.v1+output": {
       "addedWidgets": {},
       "arguments": {},
       "data": "root\n |-- sentiment: string (nullable = true)\n |-- col: string (nullable = true)\n\n+---------+------------+\n|sentiment|         col|\n+---------+------------+\n| positive|        ohhh|\n| positive|        yeah|\n| positive|         got|\n| positive|       happy|\n| positive|thanksgiving|\n| positive|    favorite|\n| positive|        beer|\n| positive|       maker|\n|  neutral|      please|\n|  neutral|      please|\n|  neutral|  pleaseeeee|\n|  neutral|      future|\n|  neutral|     husband|\n|  neutral|        make|\n|  neutral|         run|\n|  neutral|           k|\n|  neutral|thanksgiving|\n|  neutral|     morning|\n|  neutral|         beg|\n| positive|          rt|\n+---------+------------+\nonly showing top 20 rows\n\n",
       "datasetInfos": [],
       "metadata": {},
       "removedWidgets": [],
       "type": "ansi"
      }
     },
     "output_type": "display_data"
    }
   ],
   "source": [
    "from pyspark.sql.functions import explode\n",
    "df2 = filterDF.select(filterDF.sentiment, explode(filterDF.filtered))\n",
    "df2.printSchema()\n",
    "df2.show()"
   ]
  },
  {
   "cell_type": "code",
   "execution_count": 0,
   "metadata": {
    "application/vnd.databricks.v1+cell": {
     "cellMetadata": {},
     "inputWidgets": {},
     "nuid": "577fea4a-30a8-4799-a46e-47a437b72c83",
     "showTitle": false,
     "title": ""
    }
   },
   "outputs": [],
   "source": [
    "predictions_write =  predictions_with_year.select(col('tweet'),col('followers_count'), col('location'), col('created_at'), col('sentiment'), col('label'), col('prediction'), col('year'))"
   ]
  },
  {
   "cell_type": "code",
   "execution_count": 0,
   "metadata": {
    "application/vnd.databricks.v1+cell": {
     "cellMetadata": {},
     "inputWidgets": {},
     "nuid": "043106f7-6a7b-493c-bd73-d05fb7910038",
     "showTitle": false,
     "title": ""
    }
   },
   "outputs": [],
   "source": [
    "(predictions_write.write                       # Our DataFrameWriter\n",
    "  .option(\"header\", \"false\")\n",
    "  .option(\"delimiter\", \"|\")\n",
    "  .csv('/mnt/my_bucket/weclouddata/tweets.csv')               # Write DataFrame to csv files\n",
    ")"
   ]
  },
  {
   "cell_type": "code",
   "execution_count": 0,
   "metadata": {
    "application/vnd.databricks.v1+cell": {
     "cellMetadata": {},
     "inputWidgets": {},
     "nuid": "1bc546c9-62ea-48c4-975d-68f59b6096b1",
     "showTitle": false,
     "title": ""
    }
   },
   "outputs": [],
   "source": [
    "(df2.write                       # Our DataFrameWriter\n",
    "  .option(\"header\", \"false\")\n",
    "  .option(\"delimiter\", \"|\")\n",
    "  .csv('/mnt/my_bucket/weclouddata/words.csv')               # Write DataFrame to csv files\n",
    ")"
   ]
  }
 ],
 "metadata": {
  "application/vnd.databricks.v1+notebook": {
   "dashboards": [],
   "language": "python",
   "notebookMetadata": {
    "pythonIndentUnit": 4
   },
   "notebookName": "1",
   "notebookOrigID": 1237470213573188,
   "widgets": {}
  },
  "kernelspec": {
   "display_name": "Python 3 (ipykernel)",
   "language": "python",
   "name": "python3"
  },
  "language_info": {
   "codemirror_mode": {
    "name": "ipython",
    "version": 3
   },
   "file_extension": ".py",
   "mimetype": "text/x-python",
   "name": "python",
   "nbconvert_exporter": "python",
   "pygments_lexer": "ipython3",
   "version": "3.9.12"
  }
 },
 "nbformat": 4,
 "nbformat_minor": 1
}
