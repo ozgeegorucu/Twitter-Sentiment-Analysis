{
 "cells": [
  {
   "cell_type": "code",
   "execution_count": 0,
   "metadata": {
    "application/vnd.databricks.v1+cell": {
     "cellMetadata": {},
     "inputWidgets": {},
     "nuid": "7188a354-9dba-4cc6-b8dc-c1a41dfbb31f",
     "showTitle": false,
     "title": ""
    }
   },
   "outputs": [],
   "source": [
    "def mount_s3_bucket(access_key, secret_key, bucket_name, mount_folder):\n",
    "  ACCESS_KEY_ID = access_key\n",
    "  SECRET_ACCESS_KEY = secret_key\n",
    "  ENCODED_SECRET_KEY = SECRET_ACCESS_KEY.replace(\"/\", \"%2F\")\n",
    "\n",
    "  print (\"Mounting\", bucket_name)\n",
    "\n",
    "  try:\n",
    "    # Unmount the data in case it was already mounted.\n",
    "    dbutils.fs.unmount(\"/mnt/%s\" % mount_folder)\n",
    "    \n",
    "  except:\n",
    "    # If it fails to unmount it most likely wasn't mounted in the first place\n",
    "    print (\"Directory not unmounted: \", mount_folder)\n",
    "    \n",
    "  finally:\n",
    "    # Lastly, mount our bucket.\n",
    "    dbutils.fs.mount(\"s3a://%s:%s@%s\" % (ACCESS_KEY_ID, ENCODED_SECRET_KEY, bucket_name), \"/mnt/%s\" % mount_folder)\n",
    "    #dbutils.fs.mount(\"s3a://\"+ ACCESS_KEY_ID + \":\" + ENCODED_SECRET_KEY + \"@\" + bucket_name, mount_folder)\n",
    "    print (\"The bucket\", bucket_name, \"was mounted to\", mount_folder, \"\\n\")\n",
    "    \n",
    "# Set AWS programmatic access credentials\n",
    "ACCESS_KEY = \"xx\"\n",
    "SECRET_ACCESS_KEY = \"xx\""
   ]
  },
  {
   "cell_type": "code",
   "execution_count": 0,
   "metadata": {
    "application/vnd.databricks.v1+cell": {
     "cellMetadata": {},
     "inputWidgets": {},
     "nuid": "a35da77a-5952-493e-b010-8b6421f616c5",
     "showTitle": false,
     "title": ""
    }
   },
   "outputs": [
    {
     "data": {
      "text/plain": [
       "Mounting weclouddata/twitter\n",
       "/mnt/data has been unmounted.\n",
       "The bucket weclouddata/twitter was mounted to data \n",
       "\n"
      ]
     },
     "metadata": {
      "application/vnd.databricks.v1+output": {
       "addedWidgets": {},
       "arguments": {},
       "data": "Mounting weclouddata/twitter\n/mnt/data has been unmounted.\nThe bucket weclouddata/twitter was mounted to data \n\n",
       "datasetInfos": [],
       "metadata": {},
       "removedWidgets": [],
       "type": "ansi"
      }
     },
     "output_type": "display_data"
    }
   ],
   "source": [
    "mount_s3_bucket(ACCESS_KEY, SECRET_ACCESS_KEY, 'weclouddata/twitter', 'data')"
   ]
  },
  {
   "cell_type": "code",
   "execution_count": 0,
   "metadata": {
    "application/vnd.databricks.v1+cell": {
     "cellMetadata": {},
     "inputWidgets": {},
     "nuid": "87030118-6418-4e6f-bf3d-b88f3b89c1d1",
     "showTitle": false,
     "title": ""
    }
   },
   "outputs": [
    {
     "data": {
      "text/html": [
       "<style scoped>\n",
       "  .table-result-container {\n",
       "    max-height: 300px;\n",
       "    overflow: auto;\n",
       "  }\n",
       "  table, th, td {\n",
       "    border: 1px solid black;\n",
       "    border-collapse: collapse;\n",
       "  }\n",
       "  th, td {\n",
       "    padding: 5px;\n",
       "  }\n",
       "  th {\n",
       "    text-align: left;\n",
       "  }\n",
       "</style><div class='table-result-container'><table class='table-result'><thead style='background-color: white'><tr><th>path</th><th>name</th><th>size</th><th>modificationTime</th></tr></thead><tbody><tr><td>dbfs:/mnt/data/AI/</td><td>AI/</td><td>0</td><td>0</td></tr><tr><td>dbfs:/mnt/data/BankofCanada/</td><td>BankofCanada/</td><td>0</td><td>0</td></tr><tr><td>dbfs:/mnt/data/BlackFriday/</td><td>BlackFriday/</td><td>0</td><td>0</td></tr><tr><td>dbfs:/mnt/data/CERB/</td><td>CERB/</td><td>0</td><td>0</td></tr><tr><td>dbfs:/mnt/data/CSIS/</td><td>CSIS/</td><td>0</td><td>0</td></tr><tr><td>dbfs:/mnt/data/CanadaHousing/</td><td>CanadaHousing/</td><td>0</td><td>0</td></tr><tr><td>dbfs:/mnt/data/ElonMusk/</td><td>ElonMusk/</td><td>0</td><td>0</td></tr><tr><td>dbfs:/mnt/data/Flames/</td><td>Flames/</td><td>0</td><td>0</td></tr><tr><td>dbfs:/mnt/data/Inflation/</td><td>Inflation/</td><td>0</td><td>0</td></tr><tr><td>dbfs:/mnt/data/Interest_rate/</td><td>Interest_rate/</td><td>0</td><td>0</td></tr><tr><td>dbfs:/mnt/data/Iran/</td><td>Iran/</td><td>0</td><td>0</td></tr><tr><td>dbfs:/mnt/data/MTA/</td><td>MTA/</td><td>0</td><td>0</td></tr><tr><td>dbfs:/mnt/data/StudentLoanRelief/</td><td>StudentLoanRelief/</td><td>0</td><td>0</td></tr><tr><td>dbfs:/mnt/data/WorldCup/</td><td>WorldCup/</td><td>0</td><td>0</td></tr><tr><td>dbfs:/mnt/data/cancer/</td><td>cancer/</td><td>0</td><td>0</td></tr><tr><td>dbfs:/mnt/data/greenbelt/</td><td>greenbelt/</td><td>0</td><td>0</td></tr><tr><td>dbfs:/mnt/data/thanksgiving/</td><td>thanksgiving/</td><td>0</td><td>0</td></tr><tr><td>dbfs:/mnt/data/twitter/</td><td>twitter/</td><td>0</td><td>0</td></tr><tr><td>dbfs:/mnt/data/wecan/</td><td>wecan/</td><td>0</td><td>0</td></tr></tbody></table></div>"
      ]
     },
     "metadata": {
      "application/vnd.databricks.v1+output": {
       "addedWidgets": {},
       "aggData": [],
       "aggError": "",
       "aggOverflow": false,
       "aggSchema": [],
       "aggSeriesLimitReached": false,
       "aggType": "",
       "arguments": {},
       "columnCustomDisplayInfos": {},
       "data": [
        [
         "dbfs:/mnt/data/AI/",
         "AI/",
         0,
         0
        ],
        [
         "dbfs:/mnt/data/BankofCanada/",
         "BankofCanada/",
         0,
         0
        ],
        [
         "dbfs:/mnt/data/BlackFriday/",
         "BlackFriday/",
         0,
         0
        ],
        [
         "dbfs:/mnt/data/CERB/",
         "CERB/",
         0,
         0
        ],
        [
         "dbfs:/mnt/data/CSIS/",
         "CSIS/",
         0,
         0
        ],
        [
         "dbfs:/mnt/data/CanadaHousing/",
         "CanadaHousing/",
         0,
         0
        ],
        [
         "dbfs:/mnt/data/ElonMusk/",
         "ElonMusk/",
         0,
         0
        ],
        [
         "dbfs:/mnt/data/Flames/",
         "Flames/",
         0,
         0
        ],
        [
         "dbfs:/mnt/data/Inflation/",
         "Inflation/",
         0,
         0
        ],
        [
         "dbfs:/mnt/data/Interest_rate/",
         "Interest_rate/",
         0,
         0
        ],
        [
         "dbfs:/mnt/data/Iran/",
         "Iran/",
         0,
         0
        ],
        [
         "dbfs:/mnt/data/MTA/",
         "MTA/",
         0,
         0
        ],
        [
         "dbfs:/mnt/data/StudentLoanRelief/",
         "StudentLoanRelief/",
         0,
         0
        ],
        [
         "dbfs:/mnt/data/WorldCup/",
         "WorldCup/",
         0,
         0
        ],
        [
         "dbfs:/mnt/data/cancer/",
         "cancer/",
         0,
         0
        ],
        [
         "dbfs:/mnt/data/greenbelt/",
         "greenbelt/",
         0,
         0
        ],
        [
         "dbfs:/mnt/data/thanksgiving/",
         "thanksgiving/",
         0,
         0
        ],
        [
         "dbfs:/mnt/data/twitter/",
         "twitter/",
         0,
         0
        ],
        [
         "dbfs:/mnt/data/wecan/",
         "wecan/",
         0,
         0
        ]
       ],
       "datasetInfos": [],
       "dbfsResultPath": null,
       "isJsonSchema": true,
       "metadata": {
        "isDbfsCommandResult": false
       },
       "overflow": false,
       "plotOptions": {
        "customPlotOptions": {},
        "displayType": "table",
        "pivotAggregation": null,
        "pivotColumns": null,
        "xColumns": null,
        "yColumns": null
       },
       "removedWidgets": [],
       "schema": [
        {
         "metadata": "{}",
         "name": "path",
         "type": "\"string\""
        },
        {
         "metadata": "{}",
         "name": "name",
         "type": "\"string\""
        },
        {
         "metadata": "{}",
         "name": "size",
         "type": "\"long\""
        },
        {
         "metadata": "{}",
         "name": "modificationTime",
         "type": "\"long\""
        }
       ],
       "type": "table"
      }
     },
     "output_type": "display_data"
    }
   ],
   "source": [
    "%fs ls /mnt/data/"
   ]
  },
  {
   "cell_type": "code",
   "execution_count": 0,
   "metadata": {
    "application/vnd.databricks.v1+cell": {
     "cellMetadata": {},
     "inputWidgets": {},
     "nuid": "6f45e586-0b4e-49d6-8516-f407497cdda7",
     "showTitle": false,
     "title": ""
    }
   },
   "outputs": [
    {
     "data": {
      "text/html": [
       "<style scoped>\n",
       "  .table-result-container {\n",
       "    max-height: 300px;\n",
       "    overflow: auto;\n",
       "  }\n",
       "  table, th, td {\n",
       "    border: 1px solid black;\n",
       "    border-collapse: collapse;\n",
       "  }\n",
       "  th, td {\n",
       "    padding: 5px;\n",
       "  }\n",
       "  th {\n",
       "    text-align: left;\n",
       "  }\n",
       "</style><div class='table-result-container'><table class='table-result'><thead style='background-color: white'><tr><th>path</th><th>name</th><th>size</th><th>modificationTime</th></tr></thead><tbody><tr><td>dbfs:/mnt/data/thanksgiving/2022/11/24/</td><td>24/</td><td>0</td><td>0</td></tr><tr><td>dbfs:/mnt/data/thanksgiving/2022/11/25/</td><td>25/</td><td>0</td><td>0</td></tr><tr><td>dbfs:/mnt/data/thanksgiving/2022/11/26/</td><td>26/</td><td>0</td><td>0</td></tr><tr><td>dbfs:/mnt/data/thanksgiving/2022/11/27/</td><td>27/</td><td>0</td><td>0</td></tr><tr><td>dbfs:/mnt/data/thanksgiving/2022/11/28/</td><td>28/</td><td>0</td><td>0</td></tr><tr><td>dbfs:/mnt/data/thanksgiving/2022/11/29/</td><td>29/</td><td>0</td><td>0</td></tr><tr><td>dbfs:/mnt/data/thanksgiving/2022/11/30/</td><td>30/</td><td>0</td><td>0</td></tr></tbody></table></div>"
      ]
     },
     "metadata": {
      "application/vnd.databricks.v1+output": {
       "addedWidgets": {},
       "aggData": [],
       "aggError": "",
       "aggOverflow": false,
       "aggSchema": [],
       "aggSeriesLimitReached": false,
       "aggType": "",
       "arguments": {},
       "columnCustomDisplayInfos": {},
       "data": [
        [
         "dbfs:/mnt/data/thanksgiving/2022/11/24/",
         "24/",
         0,
         0
        ],
        [
         "dbfs:/mnt/data/thanksgiving/2022/11/25/",
         "25/",
         0,
         0
        ],
        [
         "dbfs:/mnt/data/thanksgiving/2022/11/26/",
         "26/",
         0,
         0
        ],
        [
         "dbfs:/mnt/data/thanksgiving/2022/11/27/",
         "27/",
         0,
         0
        ],
        [
         "dbfs:/mnt/data/thanksgiving/2022/11/28/",
         "28/",
         0,
         0
        ],
        [
         "dbfs:/mnt/data/thanksgiving/2022/11/29/",
         "29/",
         0,
         0
        ],
        [
         "dbfs:/mnt/data/thanksgiving/2022/11/30/",
         "30/",
         0,
         0
        ]
       ],
       "datasetInfos": [],
       "dbfsResultPath": null,
       "isJsonSchema": true,
       "metadata": {
        "isDbfsCommandResult": false
       },
       "overflow": false,
       "plotOptions": {
        "customPlotOptions": {},
        "displayType": "table",
        "pivotAggregation": null,
        "pivotColumns": null,
        "xColumns": null,
        "yColumns": null
       },
       "removedWidgets": [],
       "schema": [
        {
         "metadata": "{}",
         "name": "path",
         "type": "\"string\""
        },
        {
         "metadata": "{}",
         "name": "name",
         "type": "\"string\""
        },
        {
         "metadata": "{}",
         "name": "size",
         "type": "\"long\""
        },
        {
         "metadata": "{}",
         "name": "modificationTime",
         "type": "\"long\""
        }
       ],
       "type": "table"
      }
     },
     "output_type": "display_data"
    }
   ],
   "source": [
    "%fs ls /mnt/data/thanksgiving/2022/11"
   ]
  },
  {
   "cell_type": "code",
   "execution_count": 0,
   "metadata": {
    "application/vnd.databricks.v1+cell": {
     "cellMetadata": {},
     "inputWidgets": {},
     "nuid": "7c66cb5b-61dd-43ad-969c-a3d3cb171fa3",
     "showTitle": false,
     "title": ""
    }
   },
   "outputs": [],
   "source": [
    "# data/topic/year/month/day/hour/files\n",
    "\n",
    "filePath = '/mnt/data/thanksgiving/*/*/*/*/*'"
   ]
  },
  {
   "cell_type": "code",
   "execution_count": 0,
   "metadata": {
    "application/vnd.databricks.v1+cell": {
     "cellMetadata": {},
     "inputWidgets": {},
     "nuid": "5acc10d5-1b38-47a0-bed5-4cbbe1be54a6",
     "showTitle": false,
     "title": ""
    }
   },
   "outputs": [],
   "source": [
    "from pyspark.sql import SparkSession"
   ]
  },
  {
   "cell_type": "code",
   "execution_count": 0,
   "metadata": {
    "application/vnd.databricks.v1+cell": {
     "cellMetadata": {},
     "inputWidgets": {},
     "nuid": "5ce877cb-3fc9-4251-aba8-d80e85944423",
     "showTitle": false,
     "title": ""
    }
   },
   "outputs": [
    {
     "data": {
      "text/plain": [
       "Session created\n"
      ]
     },
     "metadata": {
      "application/vnd.databricks.v1+output": {
       "addedWidgets": {},
       "arguments": {},
       "data": "Session created\n",
       "datasetInfos": [],
       "metadata": {},
       "removedWidgets": [],
       "type": "ansi"
      }
     },
     "output_type": "display_data"
    }
   ],
   "source": [
    "spark = (SparkSession\n",
    "        .builder\n",
    "        .appName('example')\n",
    "        .getOrCreate())\n",
    "print('Session created')"
   ]
  },
  {
   "cell_type": "code",
   "execution_count": 0,
   "metadata": {
    "application/vnd.databricks.v1+cell": {
     "cellMetadata": {},
     "inputWidgets": {},
     "nuid": "9479cd44-e4e4-4e0b-b1e9-2391837ddeea",
     "showTitle": false,
     "title": ""
    }
   },
   "outputs": [],
   "source": [
    "sc = spark.sparkContext"
   ]
  },
  {
   "cell_type": "code",
   "execution_count": 0,
   "metadata": {
    "application/vnd.databricks.v1+cell": {
     "cellMetadata": {},
     "inputWidgets": {},
     "nuid": "4c57abfb-959b-4be4-a0f5-16dfad867af8",
     "showTitle": false,
     "title": ""
    }
   },
   "outputs": [],
   "source": [
    "from pyspark.sql.types import StructType, StructField, StringType\n",
    "\n",
    "schema = StructType([\n",
    "    StructField('id', StringType(), True),\n",
    "    StructField('name', StringType(), True),\n",
    "    StructField('username', StringType(), True),\n",
    "    StructField('tweet', StringType(), True),\n",
    "    StructField('followers_count', StringType(), True),\n",
    "    StructField('location', StringType(), True),\n",
    "    StructField('geo', StringType(), True),\n",
    "    StructField('created_at', StringType(), True)\n",
    "])"
   ]
  },
  {
   "cell_type": "code",
   "execution_count": 0,
   "metadata": {
    "application/vnd.databricks.v1+cell": {
     "cellMetadata": {},
     "inputWidgets": {},
     "nuid": "69ba5ed6-881a-4798-8659-a50df527278a",
     "showTitle": false,
     "title": ""
    }
   },
   "outputs": [],
   "source": [
    "thanksgiving_ozge = (spark.read.schema(schema).option('delimiter','\\t').csv(filePath))"
   ]
  },
  {
   "cell_type": "code",
   "execution_count": 0,
   "metadata": {
    "application/vnd.databricks.v1+cell": {
     "cellMetadata": {},
     "inputWidgets": {},
     "nuid": "0cb95ee3-8842-4ade-83ba-6d25d8c30ea1",
     "showTitle": false,
     "title": ""
    }
   },
   "outputs": [
    {
     "data": {
      "text/html": [
       "<style scoped>\n",
       "  .table-result-container {\n",
       "    max-height: 300px;\n",
       "    overflow: auto;\n",
       "  }\n",
       "  table, th, td {\n",
       "    border: 1px solid black;\n",
       "    border-collapse: collapse;\n",
       "  }\n",
       "  th, td {\n",
       "    padding: 5px;\n",
       "  }\n",
       "  th {\n",
       "    text-align: left;\n",
       "  }\n",
       "</style><div class='table-result-container'><table class='table-result'><thead style='background-color: white'><tr><th>id</th><th>name</th><th>username</th><th>tweet</th><th>followers_count</th><th>location</th><th>geo</th><th>created_at</th></tr></thead><tbody><tr><td>1595849188629446657</td><td>Truth</td><td>enchantedtruth</td><td>@RepMTG I've been vaccinated 4x's. I've gotten a flu vax also. I've never been sick. Some side effects from the sho… https://t.co/2AtPCT3OTZ</td><td>188</td><td>None</td><td>None</td><td>Thu Nov 24 18:37:50 +0000 2022</td></tr><tr><td>1595849188595552257</td><td>Purple Monkey in a Submarine a.k.a. Ray Ray</td><td>aduron</td><td>@ajtourville @elonmusk @karaswisher Can’t you do something more productive on Thanksgiving besides mocking people?</td><td>442</td><td>San Jose CA</td><td>None</td><td>Thu Nov 24 18:37:50 +0000 2022</td></tr><tr><td>1595849188763308032</td><td>porn</td><td>Porndaddy1827</td><td>RT @hungjockgavin: happy thanksgiving sluts 🦃 https://t.co/mV5dARbP0U</td><td>132</td><td>None</td><td>None</td><td>Thu Nov 24 18:37:50 +0000 2022</td></tr><tr><td>1595849188847198208</td><td>Soy Martin Martinez 🇲🇽🇯🇴🎸🇨🇳🇨🇺🇷🇺🇸🇾</td><td>Chano19521</td><td>RT @PaulSorrentino3: yo @AOC 11000 kids in cages wish you a happy thanksgiving 🍁</td><td>1726</td><td>Playas de Rosarito, Baja Calif</td><td>None</td><td>Thu Nov 24 18:37:50 +0000 2022</td></tr><tr><td>1595849188859944960</td><td>Enemy Of The State</td><td>TheRealBLee30</td><td>RT @NBA_NewYork: Happy Thanksgiving  Be thankful your Knicks have improved https://t.co/6UenP3dSbH</td><td>790</td><td>Universe City, 212..Wheelz Up</td><td>None</td><td>Thu Nov 24 18:37:50 +0000 2022</td></tr><tr><td>1595849188226506755</td><td>Mike H2O..</td><td>MiguelH05358319</td><td>@Dbacks Happy Thanksgiving..🦃 https://t.co/TKtQV79SfA</td><td>603</td><td>Phoenix, AZ</td><td>None</td><td>Thu Nov 24 18:37:50 +0000 2022</td></tr><tr><td>1595849189002461186</td><td>moshi's_BlackBeard</td><td>MoshiBlackbeard</td><td>RT @PlayCODNews: Happy Thanksgiving ❤️</td><td>255</td><td>None</td><td>None</td><td>Thu Nov 24 18:37:50 +0000 2022</td></tr><tr><td>1595849189032103936</td><td>Kathy Dove</td><td>movie_gal_10</td><td>RT @mikef3825: @titletownusa73 Happy Thanksgiving James and all the cool music kids! https://t.co/OYvWROxfRy</td><td>5025</td><td>Las Vegas, NV</td><td>None</td><td>Thu Nov 24 18:37:50 +0000 2022</td></tr><tr><td>1595849189010849795</td><td>William mcsher</td><td>McsheeWilliam</td><td>RT @KingsleyCortes: Remember the Native Americans this Thanksgiving https://t.co/MijfhO6FjU</td><td>356</td><td>None</td><td>None</td><td>Thu Nov 24 18:37:50 +0000 2022</td></tr><tr><td>1595849188411064323</td><td>LordofScarlett</td><td>Scarlettismine</td><td>@LetsTalkVampi May I please offer you my man @LetsTalkVampi some cake this Thanksgiving? https://t.co/qq19nPkz5Y</td><td>39</td><td>None</td><td>None</td><td>Thu Nov 24 18:37:50 +0000 2022</td></tr></tbody></table></div>"
      ]
     },
     "metadata": {
      "application/vnd.databricks.v1+output": {
       "addedWidgets": {},
       "aggData": [],
       "aggError": "",
       "aggOverflow": false,
       "aggSchema": [],
       "aggSeriesLimitReached": false,
       "aggType": "",
       "arguments": {},
       "columnCustomDisplayInfos": {},
       "data": [
        [
         "1595849188629446657",
         "Truth",
         "enchantedtruth",
         "@RepMTG I've been vaccinated 4x's. I've gotten a flu vax also. I've never been sick. Some side effects from the sho… https://t.co/2AtPCT3OTZ",
         "188",
         "None",
         "None",
         "Thu Nov 24 18:37:50 +0000 2022"
        ],
        [
         "1595849188595552257",
         "Purple Monkey in a Submarine a.k.a. Ray Ray",
         "aduron",
         "@ajtourville @elonmusk @karaswisher Can’t you do something more productive on Thanksgiving besides mocking people?",
         "442",
         "San Jose CA",
         "None",
         "Thu Nov 24 18:37:50 +0000 2022"
        ],
        [
         "1595849188763308032",
         "porn",
         "Porndaddy1827",
         "RT @hungjockgavin: happy thanksgiving sluts 🦃 https://t.co/mV5dARbP0U",
         "132",
         "None",
         "None",
         "Thu Nov 24 18:37:50 +0000 2022"
        ],
        [
         "1595849188847198208",
         "Soy Martin Martinez 🇲🇽🇯🇴🎸🇨🇳🇨🇺🇷🇺🇸🇾",
         "Chano19521",
         "RT @PaulSorrentino3: yo @AOC 11000 kids in cages wish you a happy thanksgiving 🍁",
         "1726",
         "Playas de Rosarito, Baja Calif",
         "None",
         "Thu Nov 24 18:37:50 +0000 2022"
        ],
        [
         "1595849188859944960",
         "Enemy Of The State",
         "TheRealBLee30",
         "RT @NBA_NewYork: Happy Thanksgiving  Be thankful your Knicks have improved https://t.co/6UenP3dSbH",
         "790",
         "Universe City, 212..Wheelz Up",
         "None",
         "Thu Nov 24 18:37:50 +0000 2022"
        ],
        [
         "1595849188226506755",
         "Mike H2O..",
         "MiguelH05358319",
         "@Dbacks Happy Thanksgiving..🦃 https://t.co/TKtQV79SfA",
         "603",
         "Phoenix, AZ",
         "None",
         "Thu Nov 24 18:37:50 +0000 2022"
        ],
        [
         "1595849189002461186",
         "moshi's_BlackBeard",
         "MoshiBlackbeard",
         "RT @PlayCODNews: Happy Thanksgiving ❤️",
         "255",
         "None",
         "None",
         "Thu Nov 24 18:37:50 +0000 2022"
        ],
        [
         "1595849189032103936",
         "Kathy Dove",
         "movie_gal_10",
         "RT @mikef3825: @titletownusa73 Happy Thanksgiving James and all the cool music kids! https://t.co/OYvWROxfRy",
         "5025",
         "Las Vegas, NV",
         "None",
         "Thu Nov 24 18:37:50 +0000 2022"
        ],
        [
         "1595849189010849795",
         "William mcsher",
         "McsheeWilliam",
         "RT @KingsleyCortes: Remember the Native Americans this Thanksgiving https://t.co/MijfhO6FjU",
         "356",
         "None",
         "None",
         "Thu Nov 24 18:37:50 +0000 2022"
        ],
        [
         "1595849188411064323",
         "LordofScarlett",
         "Scarlettismine",
         "@LetsTalkVampi May I please offer you my man @LetsTalkVampi some cake this Thanksgiving? https://t.co/qq19nPkz5Y",
         "39",
         "None",
         "None",
         "Thu Nov 24 18:37:50 +0000 2022"
        ]
       ],
       "datasetInfos": [],
       "dbfsResultPath": null,
       "isJsonSchema": true,
       "metadata": {},
       "overflow": false,
       "plotOptions": {
        "customPlotOptions": {},
        "displayType": "table",
        "pivotAggregation": null,
        "pivotColumns": null,
        "xColumns": null,
        "yColumns": null
       },
       "removedWidgets": [],
       "schema": [
        {
         "metadata": "{}",
         "name": "id",
         "type": "\"string\""
        },
        {
         "metadata": "{}",
         "name": "name",
         "type": "\"string\""
        },
        {
         "metadata": "{}",
         "name": "username",
         "type": "\"string\""
        },
        {
         "metadata": "{}",
         "name": "tweet",
         "type": "\"string\""
        },
        {
         "metadata": "{}",
         "name": "followers_count",
         "type": "\"string\""
        },
        {
         "metadata": "{}",
         "name": "location",
         "type": "\"string\""
        },
        {
         "metadata": "{}",
         "name": "geo",
         "type": "\"string\""
        },
        {
         "metadata": "{}",
         "name": "created_at",
         "type": "\"string\""
        }
       ],
       "type": "table"
      }
     },
     "output_type": "display_data"
    }
   ],
   "source": [
    "display(thanksgiving_ozge.take(10))"
   ]
  },
  {
   "cell_type": "code",
   "execution_count": 0,
   "metadata": {
    "application/vnd.databricks.v1+cell": {
     "cellMetadata": {},
     "inputWidgets": {},
     "nuid": "8b83b632-b869-4172-8c23-058611e8f6d0",
     "showTitle": false,
     "title": ""
    }
   },
   "outputs": [
    {
     "data": {
      "text/plain": [
       "Out[14]: 4459365"
      ]
     },
     "metadata": {
      "application/vnd.databricks.v1+output": {
       "addedWidgets": {},
       "arguments": {},
       "data": "Out[14]: 4459365",
       "datasetInfos": [],
       "metadata": {},
       "removedWidgets": [],
       "type": "ansi"
      }
     },
     "output_type": "display_data"
    }
   ],
   "source": [
    "thanksgiving_ozge.count()"
   ]
  },
  {
   "cell_type": "code",
   "execution_count": 0,
   "metadata": {
    "application/vnd.databricks.v1+cell": {
     "cellMetadata": {},
     "inputWidgets": {},
     "nuid": "7ed71245-dda0-44eb-85d5-00776bea0d76",
     "showTitle": false,
     "title": ""
    }
   },
   "outputs": [
    {
     "data": {
      "text/plain": [
       "Mounting ptb2-ozge\n",
       "Directory not unmounted:  my_bucket\n",
       "The bucket ptb2-ozge was mounted to my_bucket \n",
       "\n"
      ]
     },
     "metadata": {
      "application/vnd.databricks.v1+output": {
       "addedWidgets": {},
       "arguments": {},
       "data": "Mounting ptb2-ozge\nDirectory not unmounted:  my_bucket\nThe bucket ptb2-ozge was mounted to my_bucket \n\n",
       "datasetInfos": [],
       "metadata": {},
       "removedWidgets": [],
       "type": "ansi"
      }
     },
     "output_type": "display_data"
    }
   ],
   "source": [
    "mount_s3_bucket(ACCESS_KEY, SECRET_ACCESS_KEY, 'ptb2-ozge', 'my_bucket')"
   ]
  },
  {
   "cell_type": "code",
   "execution_count": 0,
   "metadata": {
    "application/vnd.databricks.v1+cell": {
     "cellMetadata": {},
     "inputWidgets": {},
     "nuid": "00984ebc-8ac1-4cd8-92a5-92e6bc8dc23d",
     "showTitle": false,
     "title": ""
    }
   },
   "outputs": [],
   "source": [
    "thanksgiving_ozge.write.option('header','true').csv('/mnt/my_bucket/weclouddata/thanksgiving_ozge.csv')"
   ]
  },
  {
   "cell_type": "code",
   "execution_count": 0,
   "metadata": {
    "application/vnd.databricks.v1+cell": {
     "cellMetadata": {},
     "inputWidgets": {},
     "nuid": "802945b0-97e3-4f94-acf5-2e617f3c42dc",
     "showTitle": false,
     "title": ""
    }
   },
   "outputs": [],
   "source": []
  }
 ],
 "metadata": {
  "application/vnd.databricks.v1+notebook": {
   "dashboards": [],
   "language": "python",
   "notebookMetadata": {
    "mostRecentlyExecutedCommandWithImplicitDF": {
     "commandId": 2979412187995463,
     "dataframes": [
      "_sqldf"
     ]
    },
    "pythonIndentUnit": 4
   },
   "notebookName": "1-mount twitter data",
   "notebookOrigID": 2979412187995459,
   "widgets": {}
  },
  "kernelspec": {
   "display_name": "Python 3 (ipykernel)",
   "language": "python",
   "name": "python3"
  },
  "language_info": {
   "codemirror_mode": {
    "name": "ipython",
    "version": 3
   },
   "file_extension": ".py",
   "mimetype": "text/x-python",
   "name": "python",
   "nbconvert_exporter": "python",
   "pygments_lexer": "ipython3",
   "version": "3.9.12"
  }
 },
 "nbformat": 4,
 "nbformat_minor": 1
}
